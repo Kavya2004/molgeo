{
  "cells": [
    {
      "cell_type": "markdown",
      "metadata": {
        "id": "view-in-github",
        "colab_type": "text"
      },
      "source": [
        "<a href=\"https://colab.research.google.com/github/Kavya2004/molgeo/blob/main/GNN_Shapes.ipynb\" target=\"_parent\"><img src=\"https://colab.research.google.com/assets/colab-badge.svg\" alt=\"Open In Colab\"/></a>"
      ]
    },
    {
      "cell_type": "code",
      "execution_count": 1,
      "metadata": {
        "colab": {
          "base_uri": "https://localhost:8080/"
        },
        "id": "becOLMJ42Z5w",
        "outputId": "e88244bf-b568-4b18-d1c3-f0245fdc63a6"
      },
      "outputs": [
        {
          "output_type": "stream",
          "name": "stdout",
          "text": [
            "Mounted at /content/drive\n"
          ]
        }
      ],
      "source": [
        "from google.colab import drive\n",
        "drive.mount('/content/drive')"
      ]
    },
    {
      "cell_type": "code",
      "execution_count": null,
      "metadata": {
        "colab": {
          "base_uri": "https://localhost:8080/"
        },
        "collapsed": true,
        "id": "cJj6pS9G4JQ9",
        "outputId": "1d0edcae-3f83-4d57-e2d9-1b9a232934e6"
      },
      "outputs": [
        {
          "output_type": "stream",
          "name": "stdout",
          "text": [
            "Requirement already satisfied: torch in /usr/local/lib/python3.11/dist-packages (2.6.0+cu124)\n",
            "Collecting torch-geometric\n",
            "  Downloading torch_geometric-2.6.1-py3-none-any.whl.metadata (63 kB)\n",
            "\u001b[2K     \u001b[90m━━━━━━━━━━━━━━━━━━━━━━━━━━━━━━━━━━━━━━━━\u001b[0m \u001b[32m63.1/63.1 kB\u001b[0m \u001b[31m2.5 MB/s\u001b[0m eta \u001b[36m0:00:00\u001b[0m\n",
            "\u001b[?25hCollecting rdkit-pypi\n",
            "  Downloading rdkit_pypi-2022.9.5-cp311-cp311-manylinux_2_17_x86_64.manylinux2014_x86_64.whl.metadata (3.9 kB)\n",
            "Requirement already satisfied: pandas in /usr/local/lib/python3.11/dist-packages (2.2.2)\n",
            "Requirement already satisfied: numpy in /usr/local/lib/python3.11/dist-packages (2.0.2)\n",
            "Requirement already satisfied: networkx in /usr/local/lib/python3.11/dist-packages (3.4.2)\n",
            "Requirement already satisfied: filelock in /usr/local/lib/python3.11/dist-packages (from torch) (3.18.0)\n",
            "Requirement already satisfied: typing-extensions>=4.10.0 in /usr/local/lib/python3.11/dist-packages (from torch) (4.12.2)\n",
            "Requirement already satisfied: jinja2 in /usr/local/lib/python3.11/dist-packages (from torch) (3.1.6)\n",
            "Requirement already satisfied: fsspec in /usr/local/lib/python3.11/dist-packages (from torch) (2025.3.0)\n",
            "Collecting nvidia-cuda-nvrtc-cu12==12.4.127 (from torch)\n",
            "  Downloading nvidia_cuda_nvrtc_cu12-12.4.127-py3-none-manylinux2014_x86_64.whl.metadata (1.5 kB)\n",
            "Collecting nvidia-cuda-runtime-cu12==12.4.127 (from torch)\n",
            "  Downloading nvidia_cuda_runtime_cu12-12.4.127-py3-none-manylinux2014_x86_64.whl.metadata (1.5 kB)\n",
            "Collecting nvidia-cuda-cupti-cu12==12.4.127 (from torch)\n",
            "  Downloading nvidia_cuda_cupti_cu12-12.4.127-py3-none-manylinux2014_x86_64.whl.metadata (1.6 kB)\n",
            "Collecting nvidia-cudnn-cu12==9.1.0.70 (from torch)\n",
            "  Downloading nvidia_cudnn_cu12-9.1.0.70-py3-none-manylinux2014_x86_64.whl.metadata (1.6 kB)\n",
            "Collecting nvidia-cublas-cu12==12.4.5.8 (from torch)\n",
            "  Downloading nvidia_cublas_cu12-12.4.5.8-py3-none-manylinux2014_x86_64.whl.metadata (1.5 kB)\n",
            "Collecting nvidia-cufft-cu12==11.2.1.3 (from torch)\n",
            "  Downloading nvidia_cufft_cu12-11.2.1.3-py3-none-manylinux2014_x86_64.whl.metadata (1.5 kB)\n",
            "Collecting nvidia-curand-cu12==10.3.5.147 (from torch)\n",
            "  Downloading nvidia_curand_cu12-10.3.5.147-py3-none-manylinux2014_x86_64.whl.metadata (1.5 kB)\n",
            "Collecting nvidia-cusolver-cu12==11.6.1.9 (from torch)\n",
            "  Downloading nvidia_cusolver_cu12-11.6.1.9-py3-none-manylinux2014_x86_64.whl.metadata (1.6 kB)\n",
            "Collecting nvidia-cusparse-cu12==12.3.1.170 (from torch)\n",
            "  Downloading nvidia_cusparse_cu12-12.3.1.170-py3-none-manylinux2014_x86_64.whl.metadata (1.6 kB)\n",
            "Requirement already satisfied: nvidia-cusparselt-cu12==0.6.2 in /usr/local/lib/python3.11/dist-packages (from torch) (0.6.2)\n",
            "Requirement already satisfied: nvidia-nccl-cu12==2.21.5 in /usr/local/lib/python3.11/dist-packages (from torch) (2.21.5)\n",
            "Requirement already satisfied: nvidia-nvtx-cu12==12.4.127 in /usr/local/lib/python3.11/dist-packages (from torch) (12.4.127)\n",
            "Collecting nvidia-nvjitlink-cu12==12.4.127 (from torch)\n",
            "  Downloading nvidia_nvjitlink_cu12-12.4.127-py3-none-manylinux2014_x86_64.whl.metadata (1.5 kB)\n",
            "Requirement already satisfied: triton==3.2.0 in /usr/local/lib/python3.11/dist-packages (from torch) (3.2.0)\n",
            "Requirement already satisfied: sympy==1.13.1 in /usr/local/lib/python3.11/dist-packages (from torch) (1.13.1)\n",
            "Requirement already satisfied: mpmath<1.4,>=1.1.0 in /usr/local/lib/python3.11/dist-packages (from sympy==1.13.1->torch) (1.3.0)\n",
            "Requirement already satisfied: aiohttp in /usr/local/lib/python3.11/dist-packages (from torch-geometric) (3.11.14)\n",
            "Requirement already satisfied: psutil>=5.8.0 in /usr/local/lib/python3.11/dist-packages (from torch-geometric) (5.9.5)\n",
            "Requirement already satisfied: pyparsing in /usr/local/lib/python3.11/dist-packages (from torch-geometric) (3.2.1)\n",
            "Requirement already satisfied: requests in /usr/local/lib/python3.11/dist-packages (from torch-geometric) (2.32.3)\n",
            "Requirement already satisfied: tqdm in /usr/local/lib/python3.11/dist-packages (from torch-geometric) (4.67.1)\n",
            "Requirement already satisfied: Pillow in /usr/local/lib/python3.11/dist-packages (from rdkit-pypi) (11.1.0)\n",
            "Requirement already satisfied: python-dateutil>=2.8.2 in /usr/local/lib/python3.11/dist-packages (from pandas) (2.8.2)\n",
            "Requirement already satisfied: pytz>=2020.1 in /usr/local/lib/python3.11/dist-packages (from pandas) (2025.1)\n",
            "Requirement already satisfied: tzdata>=2022.7 in /usr/local/lib/python3.11/dist-packages (from pandas) (2025.1)\n",
            "Requirement already satisfied: six>=1.5 in /usr/local/lib/python3.11/dist-packages (from python-dateutil>=2.8.2->pandas) (1.17.0)\n",
            "Requirement already satisfied: aiohappyeyeballs>=2.3.0 in /usr/local/lib/python3.11/dist-packages (from aiohttp->torch-geometric) (2.6.1)\n",
            "Requirement already satisfied: aiosignal>=1.1.2 in /usr/local/lib/python3.11/dist-packages (from aiohttp->torch-geometric) (1.3.2)\n",
            "Requirement already satisfied: attrs>=17.3.0 in /usr/local/lib/python3.11/dist-packages (from aiohttp->torch-geometric) (25.3.0)\n",
            "Requirement already satisfied: frozenlist>=1.1.1 in /usr/local/lib/python3.11/dist-packages (from aiohttp->torch-geometric) (1.5.0)\n",
            "Requirement already satisfied: multidict<7.0,>=4.5 in /usr/local/lib/python3.11/dist-packages (from aiohttp->torch-geometric) (6.2.0)\n",
            "Requirement already satisfied: propcache>=0.2.0 in /usr/local/lib/python3.11/dist-packages (from aiohttp->torch-geometric) (0.3.0)\n",
            "Requirement already satisfied: yarl<2.0,>=1.17.0 in /usr/local/lib/python3.11/dist-packages (from aiohttp->torch-geometric) (1.18.3)\n",
            "Requirement already satisfied: MarkupSafe>=2.0 in /usr/local/lib/python3.11/dist-packages (from jinja2->torch) (3.0.2)\n",
            "Requirement already satisfied: charset-normalizer<4,>=2 in /usr/local/lib/python3.11/dist-packages (from requests->torch-geometric) (3.4.1)\n",
            "Requirement already satisfied: idna<4,>=2.5 in /usr/local/lib/python3.11/dist-packages (from requests->torch-geometric) (3.10)\n",
            "Requirement already satisfied: urllib3<3,>=1.21.1 in /usr/local/lib/python3.11/dist-packages (from requests->torch-geometric) (2.3.0)\n",
            "Requirement already satisfied: certifi>=2017.4.17 in /usr/local/lib/python3.11/dist-packages (from requests->torch-geometric) (2025.1.31)\n",
            "Downloading nvidia_cublas_cu12-12.4.5.8-py3-none-manylinux2014_x86_64.whl (363.4 MB)\n",
            "\u001b[2K   \u001b[90m━━━━━━━━━━━━━━━━━━━━━━━━━━━━━━━━━━━━━━━━\u001b[0m \u001b[32m363.4/363.4 MB\u001b[0m \u001b[31m1.3 MB/s\u001b[0m eta \u001b[36m0:00:00\u001b[0m\n",
            "\u001b[?25hDownloading nvidia_cuda_cupti_cu12-12.4.127-py3-none-manylinux2014_x86_64.whl (13.8 MB)\n",
            "\u001b[2K   \u001b[90m━━━━━━━━━━━━━━━━━━━━━━━━━━━━━━━━━━━━━━━━\u001b[0m \u001b[32m13.8/13.8 MB\u001b[0m \u001b[31m82.9 MB/s\u001b[0m eta \u001b[36m0:00:00\u001b[0m\n",
            "\u001b[?25hDownloading nvidia_cuda_nvrtc_cu12-12.4.127-py3-none-manylinux2014_x86_64.whl (24.6 MB)\n",
            "\u001b[2K   \u001b[90m━━━━━━━━━━━━━━━━━━━━━━━━━━━━━━━━━━━━━━━━\u001b[0m \u001b[32m24.6/24.6 MB\u001b[0m \u001b[31m72.6 MB/s\u001b[0m eta \u001b[36m0:00:00\u001b[0m\n",
            "\u001b[?25hDownloading nvidia_cuda_runtime_cu12-12.4.127-py3-none-manylinux2014_x86_64.whl (883 kB)\n",
            "\u001b[2K   \u001b[90m━━━━━━━━━━━━━━━━━━━━━━━━━━━━━━━━━━━━━━━━\u001b[0m \u001b[32m883.7/883.7 kB\u001b[0m \u001b[31m43.4 MB/s\u001b[0m eta \u001b[36m0:00:00\u001b[0m\n",
            "\u001b[?25hDownloading nvidia_cudnn_cu12-9.1.0.70-py3-none-manylinux2014_x86_64.whl (664.8 MB)\n",
            "\u001b[2K   \u001b[90m━━━━━━━━━━━━━━━━━━━━━━━━━━━━━━━━━━━━━━━━\u001b[0m \u001b[32m664.8/664.8 MB\u001b[0m \u001b[31m811.5 kB/s\u001b[0m eta \u001b[36m0:00:00\u001b[0m\n",
            "\u001b[?25hDownloading nvidia_cufft_cu12-11.2.1.3-py3-none-manylinux2014_x86_64.whl (211.5 MB)\n",
            "\u001b[2K   \u001b[90m━━━━━━━━━━━━━━━━━━━━━━━━━━━━━━━━━━━━━━━━\u001b[0m \u001b[32m211.5/211.5 MB\u001b[0m \u001b[31m5.3 MB/s\u001b[0m eta \u001b[36m0:00:00\u001b[0m\n",
            "\u001b[?25hDownloading nvidia_curand_cu12-10.3.5.147-py3-none-manylinux2014_x86_64.whl (56.3 MB)\n",
            "\u001b[2K   \u001b[90m━━━━━━━━━━━━━━━━━━━━━━━━━━━━━━━━━━━━━━━━\u001b[0m \u001b[32m56.3/56.3 MB\u001b[0m \u001b[31m10.8 MB/s\u001b[0m eta \u001b[36m0:00:00\u001b[0m\n",
            "\u001b[?25hDownloading nvidia_cusolver_cu12-11.6.1.9-py3-none-manylinux2014_x86_64.whl (127.9 MB)\n",
            "\u001b[2K   \u001b[90m━━━━━━━━━━━━━━━━━━━━━━━━━━━━━━━━━━━━━━━━\u001b[0m \u001b[32m127.9/127.9 MB\u001b[0m \u001b[31m5.7 MB/s\u001b[0m eta \u001b[36m0:00:00\u001b[0m\n",
            "\u001b[?25hDownloading nvidia_cusparse_cu12-12.3.1.170-py3-none-manylinux2014_x86_64.whl (207.5 MB)\n",
            "\u001b[2K   \u001b[90m━━━━━━━━━━━━━━━━━━━━━━━━━━━━━━━━━━━━━━━━\u001b[0m \u001b[32m207.5/207.5 MB\u001b[0m \u001b[31m5.4 MB/s\u001b[0m eta \u001b[36m0:00:00\u001b[0m\n",
            "\u001b[?25hDownloading nvidia_nvjitlink_cu12-12.4.127-py3-none-manylinux2014_x86_64.whl (21.1 MB)\n",
            "\u001b[2K   \u001b[90m━━━━━━━━━━━━━━━━━━━━━━━━━━━━━━━━━━━━━━━━\u001b[0m \u001b[32m21.1/21.1 MB\u001b[0m \u001b[31m31.6 MB/s\u001b[0m eta \u001b[36m0:00:00\u001b[0m\n",
            "\u001b[?25hDownloading torch_geometric-2.6.1-py3-none-any.whl (1.1 MB)\n",
            "\u001b[2K   \u001b[90m━━━━━━━━━━━━━━━━━━━━━━━━━━━━━━━━━━━━━━━━\u001b[0m \u001b[32m1.1/1.1 MB\u001b[0m \u001b[31m58.6 MB/s\u001b[0m eta \u001b[36m0:00:00\u001b[0m\n",
            "\u001b[?25hDownloading rdkit_pypi-2022.9.5-cp311-cp311-manylinux_2_17_x86_64.manylinux2014_x86_64.whl (29.4 MB)\n",
            "\u001b[2K   \u001b[90m━━━━━━━━━━━━━━━━━━━━━━━━━━━━━━━━━━━━━━━━\u001b[0m \u001b[32m29.4/29.4 MB\u001b[0m \u001b[31m26.0 MB/s\u001b[0m eta \u001b[36m0:00:00\u001b[0m\n",
            "\u001b[?25hInstalling collected packages: rdkit-pypi, nvidia-nvjitlink-cu12, nvidia-curand-cu12, nvidia-cufft-cu12, nvidia-cuda-runtime-cu12, nvidia-cuda-nvrtc-cu12, nvidia-cuda-cupti-cu12, nvidia-cublas-cu12, nvidia-cusparse-cu12, nvidia-cudnn-cu12, torch-geometric, nvidia-cusolver-cu12\n",
            "  Attempting uninstall: nvidia-nvjitlink-cu12\n",
            "    Found existing installation: nvidia-nvjitlink-cu12 12.5.82\n",
            "    Uninstalling nvidia-nvjitlink-cu12-12.5.82:\n",
            "      Successfully uninstalled nvidia-nvjitlink-cu12-12.5.82\n",
            "  Attempting uninstall: nvidia-curand-cu12\n",
            "    Found existing installation: nvidia-curand-cu12 10.3.6.82\n",
            "    Uninstalling nvidia-curand-cu12-10.3.6.82:\n",
            "      Successfully uninstalled nvidia-curand-cu12-10.3.6.82\n",
            "  Attempting uninstall: nvidia-cufft-cu12\n",
            "    Found existing installation: nvidia-cufft-cu12 11.2.3.61\n",
            "    Uninstalling nvidia-cufft-cu12-11.2.3.61:\n",
            "      Successfully uninstalled nvidia-cufft-cu12-11.2.3.61\n",
            "  Attempting uninstall: nvidia-cuda-runtime-cu12\n",
            "    Found existing installation: nvidia-cuda-runtime-cu12 12.5.82\n",
            "    Uninstalling nvidia-cuda-runtime-cu12-12.5.82:\n",
            "      Successfully uninstalled nvidia-cuda-runtime-cu12-12.5.82\n",
            "  Attempting uninstall: nvidia-cuda-nvrtc-cu12\n",
            "    Found existing installation: nvidia-cuda-nvrtc-cu12 12.5.82\n",
            "    Uninstalling nvidia-cuda-nvrtc-cu12-12.5.82:\n",
            "      Successfully uninstalled nvidia-cuda-nvrtc-cu12-12.5.82\n",
            "  Attempting uninstall: nvidia-cuda-cupti-cu12\n",
            "    Found existing installation: nvidia-cuda-cupti-cu12 12.5.82\n",
            "    Uninstalling nvidia-cuda-cupti-cu12-12.5.82:\n",
            "      Successfully uninstalled nvidia-cuda-cupti-cu12-12.5.82\n",
            "  Attempting uninstall: nvidia-cublas-cu12\n",
            "    Found existing installation: nvidia-cublas-cu12 12.5.3.2\n",
            "    Uninstalling nvidia-cublas-cu12-12.5.3.2:\n",
            "      Successfully uninstalled nvidia-cublas-cu12-12.5.3.2\n",
            "  Attempting uninstall: nvidia-cusparse-cu12\n",
            "    Found existing installation: nvidia-cusparse-cu12 12.5.1.3\n",
            "    Uninstalling nvidia-cusparse-cu12-12.5.1.3:\n",
            "      Successfully uninstalled nvidia-cusparse-cu12-12.5.1.3\n",
            "  Attempting uninstall: nvidia-cudnn-cu12\n",
            "    Found existing installation: nvidia-cudnn-cu12 9.3.0.75\n",
            "    Uninstalling nvidia-cudnn-cu12-9.3.0.75:\n",
            "      Successfully uninstalled nvidia-cudnn-cu12-9.3.0.75\n",
            "  Attempting uninstall: nvidia-cusolver-cu12\n",
            "    Found existing installation: nvidia-cusolver-cu12 11.6.3.83\n",
            "    Uninstalling nvidia-cusolver-cu12-11.6.3.83:\n",
            "      Successfully uninstalled nvidia-cusolver-cu12-11.6.3.83\n",
            "Successfully installed nvidia-cublas-cu12-12.4.5.8 nvidia-cuda-cupti-cu12-12.4.127 nvidia-cuda-nvrtc-cu12-12.4.127 nvidia-cuda-runtime-cu12-12.4.127 nvidia-cudnn-cu12-9.1.0.70 nvidia-cufft-cu12-11.2.1.3 nvidia-curand-cu12-10.3.5.147 nvidia-cusolver-cu12-11.6.1.9 nvidia-cusparse-cu12-12.3.1.170 nvidia-nvjitlink-cu12-12.4.127 rdkit-pypi-2022.9.5 torch-geometric-2.6.1\n"
          ]
        }
      ],
      "source": [
        "!pip install torch torch-geometric rdkit-pypi pandas numpy networkx"
      ]
    },
    {
      "cell_type": "code",
      "execution_count": null,
      "metadata": {
        "colab": {
          "base_uri": "https://localhost:8080/"
        },
        "id": "WSgIhWa142Jg",
        "outputId": "3c8ac4ee-4f08-40ee-d708-6898f92a3d91"
      },
      "outputs": [
        {
          "output_type": "stream",
          "name": "stdout",
          "text": [
            "False\n"
          ]
        }
      ],
      "source": [
        "import torch\n",
        "print(torch.cuda.is_available()) #connect to gpu"
      ]
    },
    {
      "cell_type": "code",
      "execution_count": null,
      "metadata": {
        "colab": {
          "base_uri": "https://localhost:8080/"
        },
        "id": "vrJBBrx849ix",
        "outputId": "32f6f7aa-6680-495d-9e8e-aae736be90f5"
      },
      "outputs": [
        {
          "output_type": "stream",
          "name": "stdout",
          "text": [
            "   Unnamed: 0   refcode  ligand_index  eleccount  hapticity  h2-Benzene  \\\n",
            "0           0  AACANI11             0         10          0           0   \n",
            "1           1  AACANI11             1        122          0           0   \n",
            "2           2    AAZDCO             0         23          0           0   \n",
            "3           3    AAZDCO             1         23          0           0   \n",
            "4           4    AAZDCO             2         98          0           0   \n",
            "\n",
            "   h4-Benzene  h2-Butadiene  h5-Cp  h3-Cp  ...  metal_totcharge  number  row  \\\n",
            "0           0             0      0      0  ...                2      28    4   \n",
            "1           0             0      0      0  ...                2      28    4   \n",
            "2           0             0      0      0  ...                3      27    4   \n",
            "3           0             0      0      0  ...                3      27    4   \n",
            "4           0             0      0      0  ...                3      27    4   \n",
            "\n",
            "   group  valence_electrons  valence_to_donate  s_unfilled  p_unfilled  \\\n",
            "0     10                 10                  8           0           0   \n",
            "1     10                 10                  8           0           0   \n",
            "2      9                  9                  9           0           0   \n",
            "3      9                  9                  9           0           0   \n",
            "4      9                  9                  9           0           0   \n",
            "\n",
            "   d_unfilled    geometry  \n",
            "0           2  pyramid_sq  \n",
            "1           2  pyramid_sq  \n",
            "2           3  octahedral  \n",
            "3           3  octahedral  \n",
            "4           3  octahedral  \n",
            "\n",
            "[5 rows x 393 columns]\n",
            "(82880, 393)\n"
          ]
        }
      ],
      "source": [
        "import pandas as pd\n",
        "data_path = '/content/drive/MyDrive/ligand_metal_with_labels_clean2.csv'\n",
        "data = pd.read_csv(data_path, encoding='utf-8')\n",
        "print(data.head())\n",
        "print(data.shape)"
      ]
    },
    {
      "cell_type": "code",
      "execution_count": null,
      "metadata": {
        "colab": {
          "base_uri": "https://localhost:8080/"
        },
        "id": "25YG-ai589HI",
        "outputId": "c0b02cc5-0ebf-48d7-9f7c-1f07d558352d"
      },
      "outputs": [
        {
          "output_type": "stream",
          "name": "stdout",
          "text": [
            "Unnamed: 0           0\n",
            "refcode              0\n",
            "ligand_index         0\n",
            "eleccount            0\n",
            "hapticity            0\n",
            "                    ..\n",
            "valence_to_donate    0\n",
            "s_unfilled           0\n",
            "p_unfilled           0\n",
            "d_unfilled           0\n",
            "geometry             0\n",
            "Length: 393, dtype: int64\n",
            "0\n"
          ]
        }
      ],
      "source": [
        "print(data.isnull().sum())\n",
        "print(data.duplicated().sum())"
      ]
    },
    {
      "cell_type": "code",
      "execution_count": null,
      "metadata": {
        "colab": {
          "base_uri": "https://localhost:8080/"
        },
        "id": "96VX8VQVqkxx",
        "outputId": "75ce7620-9e51-4909-8ae3-985362eed626"
      },
      "outputs": [
        {
          "output_type": "stream",
          "name": "stdout",
          "text": [
            "Index(['Unnamed: 0', 'refcode', 'ligand_index', 'eleccount', 'hapticity',\n",
            "       'h2-Benzene', 'h4-Benzene', 'h2-Butadiene', 'h5-Cp', 'h3-Cp',\n",
            "       ...\n",
            "       'metal_totcharge', 'number', 'row', 'group', 'valence_electrons',\n",
            "       'valence_to_donate', 's_unfilled', 'p_unfilled', 'd_unfilled',\n",
            "       'geometry'],\n",
            "      dtype='object', length=393)\n"
          ]
        }
      ],
      "source": [
        "print(data.columns)"
      ]
    },
    {
      "cell_type": "code",
      "execution_count": null,
      "metadata": {
        "colab": {
          "base_uri": "https://localhost:8080/"
        },
        "id": "ITvKWCZnvHdy",
        "outputId": "01c169cc-5f3a-477d-876f-244b40156eb2"
      },
      "outputs": [
        {
          "output_type": "stream",
          "name": "stdout",
          "text": [
            "Mounted at /content/drive\n",
            "Original dataset shape: (82880, 393)\n",
            "Original dataset columns: ['Unnamed: 0', 'refcode', 'ligand_index', 'eleccount', 'hapticity', 'h2-Benzene', 'h4-Benzene', 'h2-Butadiene', 'h5-Cp', 'h3-Cp', 'h4-Butadiene', 'h4-Enone', 'h6-Benzene', 'h3-Allyl', 'natoms', 'numH', 'lig_totmconnec', 'lig_totconnec', 'lig_totcharge', 'ABC', 'ABCGG', 'nAcid', 'nBase', 'nAromAtom', 'nAromBond', 'nAtom', 'nHeavyAtom', 'nSpiro', 'nBridgehead', 'nHetero', 'nH', 'nB', 'nC', 'nN', 'nO', 'nS', 'nP', 'nF', 'nCl', 'nBr', 'nI', 'nX', 'BalabanJ', 'BertzCT', 'nBonds', 'nBondsO', 'nBondsS', 'nBondsD', 'nBondsT', 'nBondsA', 'nBondsM', 'nBondsKS', 'nBondsKD', 'C1SP1', 'C2SP1', 'C1SP2', 'C2SP2', 'C3SP2', 'C1SP3', 'C2SP3', 'C3SP3', 'C4SP3', 'FCSP3', 'SZ', 'Sm', 'Sv', 'Sse', 'Spe', 'Sare', 'Sp', 'Si', 'MZ', 'Mm', 'Mv', 'Mse', 'Mpe', 'Mare', 'Mp', 'Mi', 'SpAbs_D', 'SpMax_D', 'SpDiam_D', 'SpAD_D', 'SpMAD_D', 'LogEE_D', 'VE1_D', 'VE2_D', 'VE3_D', 'VR1_D', 'VR2_D', 'ECIndex', 'fragCpx', 'fMF', 'nHBAcc', 'nHBDon', 'Lipinski', 'GhoseFilter', 'FilterItLogS', 'VMcGowan', 'LabuteASA', 'PEOE_VSA1', 'PEOE_VSA2', 'PEOE_VSA3', 'PEOE_VSA4', 'PEOE_VSA5', 'PEOE_VSA6', 'PEOE_VSA7', 'PEOE_VSA8', 'PEOE_VSA9', 'PEOE_VSA10', 'PEOE_VSA11', 'PEOE_VSA12', 'PEOE_VSA13', 'SMR_VSA1', 'SMR_VSA2', 'SMR_VSA3', 'SMR_VSA4', 'SMR_VSA5', 'SMR_VSA6', 'SMR_VSA7', 'SMR_VSA8', 'SMR_VSA9', 'SlogP_VSA1', 'SlogP_VSA2', 'SlogP_VSA3', 'SlogP_VSA4', 'SlogP_VSA5', 'SlogP_VSA6', 'SlogP_VSA7', 'SlogP_VSA8', 'SlogP_VSA9', 'SlogP_VSA10', 'SlogP_VSA11', 'EState_VSA1', 'EState_VSA2', 'EState_VSA3', 'EState_VSA4', 'EState_VSA5', 'EState_VSA6', 'EState_VSA7', 'EState_VSA8', 'EState_VSA9', 'EState_VSA10', 'VSA_EState1', 'VSA_EState2', 'VSA_EState3', 'VSA_EState4', 'VSA_EState5', 'VSA_EState6', 'VSA_EState7', 'VSA_EState8', 'VSA_EState9', 'MID', 'AMID', 'MID_h', 'AMID_h', 'MID_C', 'AMID_C', 'MID_N', 'AMID_N', 'MID_O', 'AMID_O', 'MID_X', 'AMID_X', 'MPC2', 'MPC3', 'MPC4', 'MPC5', 'MPC6', 'MPC7', 'MPC8', 'MPC9', 'MPC10', 'TMPC10', 'piPC1', 'piPC2', 'piPC3', 'piPC4', 'piPC5', 'piPC6', 'piPC7', 'piPC8', 'piPC9', 'piPC10', 'TpiPC10', 'apol', 'bpol', 'nRing', 'n3Ring', 'n4Ring', 'n5Ring', 'n6Ring', 'n7Ring', 'n8Ring', 'n9Ring', 'n10Ring', 'n11Ring', 'n12Ring', 'nG12Ring', 'nHRing', 'n3HRing', 'n4HRing', 'n5HRing', 'n6HRing', 'n7HRing', 'n8HRing', 'n9HRing', 'n10HRing', 'n11HRing', 'n12HRing', 'nG12HRing', 'naRing', 'n3aRing', 'n4aRing', 'n5aRing', 'n6aRing', 'n7aRing', 'n8aRing', 'n9aRing', 'n10aRing', 'n11aRing', 'n12aRing', 'nG12aRing', 'naHRing', 'n3aHRing', 'n4aHRing', 'n5aHRing', 'n6aHRing', 'n7aHRing', 'n8aHRing', 'n9aHRing', 'n10aHRing', 'n11aHRing', 'n12aHRing', 'nG12aHRing', 'nARing', 'n3ARing', 'n4ARing', 'n5ARing', 'n6ARing', 'n7ARing', 'n8ARing', 'n9ARing', 'n10ARing', 'n11ARing', 'n12ARing', 'nG12ARing', 'nAHRing', 'n3AHRing', 'n4AHRing', 'n5AHRing', 'n6AHRing', 'n7AHRing', 'n8AHRing', 'n9AHRing', 'n10AHRing', 'n11AHRing', 'n12AHRing', 'nG12AHRing', 'nFRing', 'n4FRing', 'n5FRing', 'n6FRing', 'n7FRing', 'n8FRing', 'n9FRing', 'n10FRing', 'n11FRing', 'n12FRing', 'nG12FRing', 'nFHRing', 'n4FHRing', 'n5FHRing', 'n6FHRing', 'n7FHRing', 'n8FHRing', 'n9FHRing', 'n10FHRing', 'n11FHRing', 'n12FHRing', 'nG12FHRing', 'nFaRing', 'n4FaRing', 'n5FaRing', 'n6FaRing', 'n7FaRing', 'n8FaRing', 'n9FaRing', 'n10FaRing', 'n11FaRing', 'n12FaRing', 'nG12FaRing', 'nFaHRing', 'n4FaHRing', 'n5FaHRing', 'n6FaHRing', 'n7FaHRing', 'n8FaHRing', 'n9FaHRing', 'n10FaHRing', 'n11FaHRing', 'n12FaHRing', 'nG12FaHRing', 'nFARing', 'n4FARing', 'n5FARing', 'n6FARing', 'n7FARing', 'n8FARing', 'n9FARing', 'n10FARing', 'n11FARing', 'n12FARing', 'nG12FARing', 'nFAHRing', 'n4FAHRing', 'n5FAHRing', 'n6FAHRing', 'n7FAHRing', 'n8FAHRing', 'n9FAHRing', 'n10FAHRing', 'n11FAHRing', 'n12FAHRing', 'nG12FAHRing', 'nRot', 'RotRatio', 'SLogP', 'SMR', 'TopoPSA(NO)', 'TopoPSA', 'GGI1', 'GGI2', 'GGI3', 'GGI4', 'GGI5', 'GGI6', 'GGI7', 'GGI8', 'GGI9', 'GGI10', 'JGI1', 'JGI2', 'JGI3', 'JGI4', 'JGI5', 'JGI6', 'JGI7', 'JGI8', 'JGI9', 'JGI10', 'JGT10', 'Diameter', 'Radius', 'MWC01', 'MWC02', 'MWC03', 'MWC04', 'MWC05', 'MWC06', 'MWC07', 'MWC08', 'MWC09', 'MWC10', 'TMWC10', 'SRW02', 'SRW03', 'SRW04', 'SRW05', 'SRW06', 'SRW07', 'SRW08', 'SRW09', 'SRW10', 'TSRW10', 'MW', 'AMW', 'WPath', 'WPol', 'Zagreb1', 'Zagreb2', 'radii', 'metal_totmconnec', 'metal_totcharge', 'number', 'row', 'group', 'valence_electrons', 'valence_to_donate', 's_unfilled', 'p_unfilled', 'd_unfilled', 'geometry']\n",
            "First 5 rows of original dataset:\n",
            "   Unnamed: 0   refcode  ligand_index  eleccount  hapticity  h2-Benzene  \\\n",
            "0           0  AACANI11             0         10          0           0   \n",
            "1           1  AACANI11             1        122          0           0   \n",
            "2           2    AAZDCO             0         23          0           0   \n",
            "3           3    AAZDCO             1         23          0           0   \n",
            "4           4    AAZDCO             2         98          0           0   \n",
            "\n",
            "   h4-Benzene  h2-Butadiene  h5-Cp  h3-Cp  ...  metal_totcharge  number  row  \\\n",
            "0           0             0      0      0  ...                2      28    4   \n",
            "1           0             0      0      0  ...                2      28    4   \n",
            "2           0             0      0      0  ...                3      27    4   \n",
            "3           0             0      0      0  ...                3      27    4   \n",
            "4           0             0      0      0  ...                3      27    4   \n",
            "\n",
            "   group  valence_electrons  valence_to_donate  s_unfilled  p_unfilled  \\\n",
            "0     10                 10                  8           0           0   \n",
            "1     10                 10                  8           0           0   \n",
            "2      9                  9                  9           0           0   \n",
            "3      9                  9                  9           0           0   \n",
            "4      9                  9                  9           0           0   \n",
            "\n",
            "   d_unfilled    geometry  \n",
            "0           2  pyramid_sq  \n",
            "1           2  pyramid_sq  \n",
            "2           3  octahedral  \n",
            "3           3  octahedral  \n",
            "4           3  octahedral  \n",
            "\n",
            "[5 rows x 393 columns]\n",
            "Missing values per column:\n",
            "Unnamed: 0           0\n",
            "refcode              0\n",
            "ligand_index         0\n",
            "eleccount            0\n",
            "hapticity            0\n",
            "                    ..\n",
            "valence_to_donate    0\n",
            "s_unfilled           0\n",
            "p_unfilled           0\n",
            "d_unfilled           0\n",
            "geometry             0\n",
            "Length: 393, dtype: int64\n",
            "\n",
            "Refcode column exists: True\n",
            "Ligand_index column exists: True\n",
            "\n",
            "Shape after minimal cleaning (keeping refcode, ligand_index): (82880, 393)\n",
            "Unique refcodes after minimal cleaning: 26979\n"
          ]
        }
      ],
      "source": [
        "# Mount Google Drive (ensure access)\n",
        "from google.colab import drive\n",
        "drive.mount('/content/drive', force_remount=True)\n",
        "\n",
        "# Load the CSV and inspect its content\n",
        "import pandas as pd\n",
        "data_path = '/content/drive/MyDrive/ligand_metal_with_labels_clean2.csv'\n",
        "try:\n",
        "    original_data = pd.read_csv(data_path, encoding='utf-8')\n",
        "    print(\"Original dataset shape:\", original_data.shape)\n",
        "    print(\"Original dataset columns:\", original_data.columns.tolist())\n",
        "    print(\"First 5 rows of original dataset:\")\n",
        "    print(original_data.head())\n",
        "    print(\"Missing values per column:\")\n",
        "    print(original_data.isnull().sum())\n",
        "except FileNotFoundError:\n",
        "    print(f\"File not found at {data_path}. Check if the file exists in Google Drive.\")\n",
        "except Exception as e:\n",
        "    print(f\"Error loading file: {e}\")\n",
        "\n",
        "# Check if refcode and ligand_index exist\n",
        "print(\"\\nRefcode column exists:\", 'refcode' in original_data.columns)\n",
        "print(\"Ligand_index column exists:\", 'ligand_index' in original_data.columns)\n",
        "\n",
        "# Verify data isn’t empty after basic loading (no cleaning yet)\n",
        "if original_data.empty:\n",
        "    print(\"DataFrame is empty. Possible reasons:\")\n",
        "    print(\"- File is empty or corrupted.\")\n",
        "    print(\"- Path is incorrect (check /content/drive/MyDrive/ligand_metal_with_labels_clean2.csv).\")\n",
        "    print(\"- Encoding or delimiter issues (e.g., try encoding='latin1' or sep=';').\")\n",
        "else:\n",
        "    # Apply minimal cleaning to identify data loss\n",
        "    cleaned_data = original_data.dropna(subset=['refcode', 'ligand_index'])  # Drop only if these are NaN\n",
        "    print(\"\\nShape after minimal cleaning (keeping refcode, ligand_index):\", cleaned_data.shape)\n",
        "    print(\"Unique refcodes after minimal cleaning:\", len(cleaned_data['refcode'].unique()))"
      ]
    },
    {
      "cell_type": "code",
      "execution_count": null,
      "metadata": {
        "colab": {
          "base_uri": "https://localhost:8080/"
        },
        "id": "FmGw0aLlxLk_",
        "outputId": "0a7c9df2-d94f-4206-e3ea-9ed43c759340"
      },
      "outputs": [
        {
          "output_type": "stream",
          "name": "stdout",
          "text": [
            "\n",
            "Verifying derived features:\n",
            "Ligand_SMILES exists: False\n",
            "Ligand_Fingerprint exists: False\n",
            "Coordination_Number exists: False\n",
            "Metal_Atomic_Number exists: False\n",
            "Metal_d_Electrons exists: False\n"
          ]
        }
      ],
      "source": [
        "print(\"\\nVerifying derived features:\")\n",
        "print(\"Ligand_SMILES exists:\", 'Ligand_SMILES' in data.columns)\n",
        "print(\"Ligand_Fingerprint exists:\", 'Ligand_Fingerprint' in data.columns)\n",
        "print(\"Coordination_Number exists:\", 'Coordination_Number' in data.columns)\n",
        "print(\"Metal_Atomic_Number exists:\", 'Metal_Atomic_Number' in data.columns)\n",
        "print(\"Metal_d_Electrons exists:\", 'Metal_d_Electrons' in data.columns)"
      ]
    },
    {
      "cell_type": "code",
      "execution_count": null,
      "metadata": {
        "colab": {
          "base_uri": "https://localhost:8080/"
        },
        "id": "NK9lZlNUvwgJ",
        "outputId": "c3be466e-9b2d-42cd-a3ed-2894afe25677"
      },
      "outputs": [
        {
          "output_type": "stream",
          "name": "stdout",
          "text": [
            "['Unnamed: 0', 'refcode', 'ligand_index', 'eleccount', 'hapticity', 'h2-Benzene', 'h4-Benzene', 'h2-Butadiene', 'h5-Cp', 'h3-Cp', 'h4-Butadiene', 'h4-Enone', 'h6-Benzene', 'h3-Allyl', 'natoms', 'numH', 'lig_totmconnec', 'lig_totconnec', 'lig_totcharge', 'ABC', 'ABCGG', 'nAcid', 'nBase', 'nAromAtom', 'nAromBond', 'nAtom', 'nHeavyAtom', 'nSpiro', 'nBridgehead', 'nHetero', 'nH', 'nB', 'nC', 'nN', 'nO', 'nS', 'nP', 'nF', 'nCl', 'nBr', 'nI', 'nX', 'BalabanJ', 'BertzCT', 'nBonds', 'nBondsO', 'nBondsS', 'nBondsD', 'nBondsT', 'nBondsA', 'nBondsM', 'nBondsKS', 'nBondsKD', 'C1SP1', 'C2SP1', 'C1SP2', 'C2SP2', 'C3SP2', 'C1SP3', 'C2SP3', 'C3SP3', 'C4SP3', 'FCSP3', 'SZ', 'Sm', 'Sv', 'Sse', 'Spe', 'Sare', 'Sp', 'Si', 'MZ', 'Mm', 'Mv', 'Mse', 'Mpe', 'Mare', 'Mp', 'Mi', 'SpAbs_D', 'SpMax_D', 'SpDiam_D', 'SpAD_D', 'SpMAD_D', 'LogEE_D', 'VE1_D', 'VE2_D', 'VE3_D', 'VR1_D', 'VR2_D', 'ECIndex', 'fragCpx', 'fMF', 'nHBAcc', 'nHBDon', 'Lipinski', 'GhoseFilter', 'FilterItLogS', 'VMcGowan', 'LabuteASA', 'PEOE_VSA1', 'PEOE_VSA2', 'PEOE_VSA3', 'PEOE_VSA4', 'PEOE_VSA5', 'PEOE_VSA6', 'PEOE_VSA7', 'PEOE_VSA8', 'PEOE_VSA9', 'PEOE_VSA10', 'PEOE_VSA11', 'PEOE_VSA12', 'PEOE_VSA13', 'SMR_VSA1', 'SMR_VSA2', 'SMR_VSA3', 'SMR_VSA4', 'SMR_VSA5', 'SMR_VSA6', 'SMR_VSA7', 'SMR_VSA8', 'SMR_VSA9', 'SlogP_VSA1', 'SlogP_VSA2', 'SlogP_VSA3', 'SlogP_VSA4', 'SlogP_VSA5', 'SlogP_VSA6', 'SlogP_VSA7', 'SlogP_VSA8', 'SlogP_VSA9', 'SlogP_VSA10', 'SlogP_VSA11', 'EState_VSA1', 'EState_VSA2', 'EState_VSA3', 'EState_VSA4', 'EState_VSA5', 'EState_VSA6', 'EState_VSA7', 'EState_VSA8', 'EState_VSA9', 'EState_VSA10', 'VSA_EState1', 'VSA_EState2', 'VSA_EState3', 'VSA_EState4', 'VSA_EState5', 'VSA_EState6', 'VSA_EState7', 'VSA_EState8', 'VSA_EState9', 'MID', 'AMID', 'MID_h', 'AMID_h', 'MID_C', 'AMID_C', 'MID_N', 'AMID_N', 'MID_O', 'AMID_O', 'MID_X', 'AMID_X', 'MPC2', 'MPC3', 'MPC4', 'MPC5', 'MPC6', 'MPC7', 'MPC8', 'MPC9', 'MPC10', 'TMPC10', 'piPC1', 'piPC2', 'piPC3', 'piPC4', 'piPC5', 'piPC6', 'piPC7', 'piPC8', 'piPC9', 'piPC10', 'TpiPC10', 'apol', 'bpol', 'nRing', 'n3Ring', 'n4Ring', 'n5Ring', 'n6Ring', 'n7Ring', 'n8Ring', 'n9Ring', 'n10Ring', 'n11Ring', 'n12Ring', 'nG12Ring', 'nHRing', 'n3HRing', 'n4HRing', 'n5HRing', 'n6HRing', 'n7HRing', 'n8HRing', 'n9HRing', 'n10HRing', 'n11HRing', 'n12HRing', 'nG12HRing', 'naRing', 'n3aRing', 'n4aRing', 'n5aRing', 'n6aRing', 'n7aRing', 'n8aRing', 'n9aRing', 'n10aRing', 'n11aRing', 'n12aRing', 'nG12aRing', 'naHRing', 'n3aHRing', 'n4aHRing', 'n5aHRing', 'n6aHRing', 'n7aHRing', 'n8aHRing', 'n9aHRing', 'n10aHRing', 'n11aHRing', 'n12aHRing', 'nG12aHRing', 'nARing', 'n3ARing', 'n4ARing', 'n5ARing', 'n6ARing', 'n7ARing', 'n8ARing', 'n9ARing', 'n10ARing', 'n11ARing', 'n12ARing', 'nG12ARing', 'nAHRing', 'n3AHRing', 'n4AHRing', 'n5AHRing', 'n6AHRing', 'n7AHRing', 'n8AHRing', 'n9AHRing', 'n10AHRing', 'n11AHRing', 'n12AHRing', 'nG12AHRing', 'nFRing', 'n4FRing', 'n5FRing', 'n6FRing', 'n7FRing', 'n8FRing', 'n9FRing', 'n10FRing', 'n11FRing', 'n12FRing', 'nG12FRing', 'nFHRing', 'n4FHRing', 'n5FHRing', 'n6FHRing', 'n7FHRing', 'n8FHRing', 'n9FHRing', 'n10FHRing', 'n11FHRing', 'n12FHRing', 'nG12FHRing', 'nFaRing', 'n4FaRing', 'n5FaRing', 'n6FaRing', 'n7FaRing', 'n8FaRing', 'n9FaRing', 'n10FaRing', 'n11FaRing', 'n12FaRing', 'nG12FaRing', 'nFaHRing', 'n4FaHRing', 'n5FaHRing', 'n6FaHRing', 'n7FaHRing', 'n8FaHRing', 'n9FaHRing', 'n10FaHRing', 'n11FaHRing', 'n12FaHRing', 'nG12FaHRing', 'nFARing', 'n4FARing', 'n5FARing', 'n6FARing', 'n7FARing', 'n8FARing', 'n9FARing', 'n10FARing', 'n11FARing', 'n12FARing', 'nG12FARing', 'nFAHRing', 'n4FAHRing', 'n5FAHRing', 'n6FAHRing', 'n7FAHRing', 'n8FAHRing', 'n9FAHRing', 'n10FAHRing', 'n11FAHRing', 'n12FAHRing', 'nG12FAHRing', 'nRot', 'RotRatio', 'SLogP', 'SMR', 'TopoPSA(NO)', 'TopoPSA', 'GGI1', 'GGI2', 'GGI3', 'GGI4', 'GGI5', 'GGI6', 'GGI7', 'GGI8', 'GGI9', 'GGI10', 'JGI1', 'JGI2', 'JGI3', 'JGI4', 'JGI5', 'JGI6', 'JGI7', 'JGI8', 'JGI9', 'JGI10', 'JGT10', 'Diameter', 'Radius', 'MWC01', 'MWC02', 'MWC03', 'MWC04', 'MWC05', 'MWC06', 'MWC07', 'MWC08', 'MWC09', 'MWC10', 'TMWC10', 'SRW02', 'SRW03', 'SRW04', 'SRW05', 'SRW06', 'SRW07', 'SRW08', 'SRW09', 'SRW10', 'TSRW10', 'MW', 'AMW', 'WPath', 'WPol', 'Zagreb1', 'Zagreb2', 'radii', 'metal_totmconnec', 'metal_totcharge', 'number', 'row', 'group', 'valence_electrons', 'valence_to_donate', 's_unfilled', 'p_unfilled', 'd_unfilled', 'geometry']\n"
          ]
        }
      ],
      "source": [
        "print(data.columns.tolist())"
      ]
    },
    {
      "cell_type": "code",
      "execution_count": null,
      "metadata": {
        "colab": {
          "base_uri": "https://localhost:8080/"
        },
        "id": "eUwe9bQeaHbb",
        "outputId": "1eb7fa90-ee8a-4b5a-87f9-2a5d28b0447f"
      },
      "outputs": [
        {
          "output_type": "stream",
          "name": "stdout",
          "text": [
            "0    pyramid_sq\n",
            "1    pyramid_sq\n",
            "2    octahedral\n",
            "3    octahedral\n",
            "4    octahedral\n",
            "Name: geometry, dtype: object\n"
          ]
        }
      ],
      "source": [
        "print(data['geometry'].head())"
      ]
    },
    {
      "cell_type": "code",
      "execution_count": null,
      "metadata": {
        "colab": {
          "base_uri": "https://localhost:8080/"
        },
        "id": "r05n46u-0wRq",
        "outputId": "74b73e58-ea81-40b9-c202-fb98e4985b32"
      },
      "outputs": [
        {
          "output_type": "execute_result",
          "data": {
            "text/plain": [
              "True"
            ]
          },
          "metadata": {},
          "execution_count": 12
        }
      ],
      "source": [
        "'row' in data.columns  # Should return True if it exists\n"
      ]
    },
    {
      "cell_type": "code",
      "execution_count": null,
      "metadata": {
        "colab": {
          "base_uri": "https://localhost:8080/"
        },
        "id": "l0A4hHF8KFnB",
        "outputId": "91feef15-1da8-4e0f-c5e3-99f21b9664eb"
      },
      "outputs": [
        {
          "output_type": "stream",
          "name": "stdout",
          "text": [
            "Refcode exists: True\n",
            "Ligand_index exists: True\n",
            "Geometry exists: True\n",
            "Number exists: True\n",
            "Metal_totcharge exists: True\n"
          ]
        }
      ],
      "source": [
        "print(\"Refcode exists:\", 'refcode' in data.columns)\n",
        "print(\"Ligand_index exists:\", 'ligand_index' in data.columns)\n",
        "print(\"Geometry exists:\", 'geometry' in data.columns)\n",
        "print(\"Number exists:\", 'number' in data.columns)\n",
        "print(\"Metal_totcharge exists:\", 'metal_totcharge' in data.columns)"
      ]
    },
    {
      "cell_type": "markdown",
      "source": [
        "**SMILES**\n",
        "1. Atoms\n",
        "2. Bonds\n",
        "3. Branches\n",
        "4. Rings"
      ],
      "metadata": {
        "id": "RpoU3YAKD2tu"
      }
    },
    {
      "cell_type": "code",
      "execution_count": null,
      "metadata": {
        "colab": {
          "base_uri": "https://localhost:8080/"
        },
        "id": "eGAjCjN3V5Le",
        "outputId": "425fafac-cd63-4e62-ed9c-8a3e8863ebc4"
      },
      "outputs": [
        {
          "output_type": "stream",
          "name": "stdout",
          "text": [
            "Archive:  /content/drive/MyDrive/complexes_smiles.zip\n",
            "  inflating: /content/complexes_smiles/Cr_complexes_smiles.csv  \n",
            "  inflating: /content/complexes_smiles/Fe_complexes_smiles.csv  \n",
            "  inflating: /content/complexes_smiles/Re_complexes_smiles.csv  \n",
            "  inflating: /content/complexes_smiles/Co_complexes_smiles.csv  \n",
            "  inflating: /content/complexes_smiles/Ni_complexes_smiles.csv  \n",
            "  inflating: /content/complexes_smiles/Ru_complexes_smiles.csv  \n",
            "  inflating: /content/complexes_smiles/Cu_complexes_smiles.csv  \n",
            "  inflating: /content/complexes_smiles/Mn_complexes_smiles.csv  \n"
          ]
        }
      ],
      "source": [
        "!unzip /content/drive/MyDrive/complexes_smiles.zip -d /content/complexes_smiles/"
      ]
    },
    {
      "cell_type": "code",
      "execution_count": null,
      "metadata": {
        "colab": {
          "base_uri": "https://localhost:8080/"
        },
        "id": "4mWbFFAkW53C",
        "outputId": "8ea94c08-b582-4b7b-80cc-f6745a8cca7e"
      },
      "outputs": [
        {
          "output_type": "stream",
          "name": "stdout",
          "text": [
            "Co_complexes_smiles.csv  Cu_complexes_smiles.csv  Mn_complexes_smiles.csv  Re_complexes_smiles.csv\n",
            "Cr_complexes_smiles.csv  Fe_complexes_smiles.csv  Ni_complexes_smiles.csv  Ru_complexes_smiles.csv\n"
          ]
        }
      ],
      "source": [
        "!ls /content/complexes_smiles/"
      ]
    },
    {
      "cell_type": "code",
      "execution_count": null,
      "metadata": {
        "colab": {
          "base_uri": "https://localhost:8080/"
        },
        "id": "2iZtO1OxW87F",
        "outputId": "f14f7040-25ac-4a63-b521-c5ada3635c9c"
      },
      "outputs": [
        {
          "output_type": "stream",
          "name": "stdout",
          "text": [
            "   Unnamed: 0   refcode                                             SMILES\n",
            "0           0    ABEMAX  ['[H]c1c(C([H])([H])[H])c([H])c(C([H])([H])[H]...\n",
            "1           1    ABIJEB  ['[H]N=O', '[H]SC([H])([H])C([H])([H])N1C([H])...\n",
            "2           2    ABITEM  ['[H][N-]C#[S+]', '[H]c1nc(C([H])([H])N(C([H])...\n",
            "3           3  ABITUC01  ['[H][N-]C#[S+]', '[H]c1nc(C([H])([H])N(C([H])...\n",
            "4           4    ABOZOJ  ['[H]Oc1c(C([H])([H])N([H])C([H])([H])C([H])([...\n"
          ]
        }
      ],
      "source": [
        "import pandas as pd\n",
        "\n",
        "complexes_df = pd.read_csv('/content/complexes_smiles/Fe_complexes_smiles.csv')\n",
        "print(complexes_df.head())"
      ]
    },
    {
      "cell_type": "code",
      "execution_count": null,
      "metadata": {
        "colab": {
          "base_uri": "https://localhost:8080/"
        },
        "id": "A3w_qfQyZXsb",
        "outputId": "b6ad80ab-d27e-493f-b066-d8f10a073d52"
      },
      "outputs": [
        {
          "output_type": "stream",
          "name": "stdout",
          "text": [
            "['Unnamed: 0', 'refcode', 'SMILES']\n"
          ]
        }
      ],
      "source": [
        "print(complexes_df.columns.tolist())"
      ]
    },
    {
      "cell_type": "code",
      "execution_count": null,
      "metadata": {
        "colab": {
          "base_uri": "https://localhost:8080/"
        },
        "id": "WD_pAbIOY4r0",
        "outputId": "cb10b8e5-6c99-47c7-f215-8bb51174e9c0"
      },
      "outputs": [
        {
          "output_type": "stream",
          "name": "stdout",
          "text": [
            "Drive already mounted at /content/drive; to attempt to forcibly remount, call drive.mount(\"/content/drive\", force_remount=True).\n",
            "Requirement already satisfied: torch in /usr/local/lib/python3.11/dist-packages (2.6.0+cu124)\n",
            "Requirement already satisfied: torch-geometric in /usr/local/lib/python3.11/dist-packages (2.6.1)\n",
            "Requirement already satisfied: rdkit-pypi in /usr/local/lib/python3.11/dist-packages (2022.9.5)\n",
            "Requirement already satisfied: pandas in /usr/local/lib/python3.11/dist-packages (2.2.2)\n",
            "Requirement already satisfied: numpy in /usr/local/lib/python3.11/dist-packages (2.0.2)\n",
            "Requirement already satisfied: networkx in /usr/local/lib/python3.11/dist-packages (3.4.2)\n",
            "Collecting torchmetrics\n",
            "  Downloading torchmetrics-1.7.0-py3-none-any.whl.metadata (21 kB)\n",
            "Requirement already satisfied: filelock in /usr/local/lib/python3.11/dist-packages (from torch) (3.18.0)\n",
            "Requirement already satisfied: typing-extensions>=4.10.0 in /usr/local/lib/python3.11/dist-packages (from torch) (4.12.2)\n",
            "Requirement already satisfied: jinja2 in /usr/local/lib/python3.11/dist-packages (from torch) (3.1.6)\n",
            "Requirement already satisfied: fsspec in /usr/local/lib/python3.11/dist-packages (from torch) (2025.3.0)\n",
            "Requirement already satisfied: nvidia-cuda-nvrtc-cu12==12.4.127 in /usr/local/lib/python3.11/dist-packages (from torch) (12.4.127)\n",
            "Requirement already satisfied: nvidia-cuda-runtime-cu12==12.4.127 in /usr/local/lib/python3.11/dist-packages (from torch) (12.4.127)\n",
            "Requirement already satisfied: nvidia-cuda-cupti-cu12==12.4.127 in /usr/local/lib/python3.11/dist-packages (from torch) (12.4.127)\n",
            "Requirement already satisfied: nvidia-cudnn-cu12==9.1.0.70 in /usr/local/lib/python3.11/dist-packages (from torch) (9.1.0.70)\n",
            "Requirement already satisfied: nvidia-cublas-cu12==12.4.5.8 in /usr/local/lib/python3.11/dist-packages (from torch) (12.4.5.8)\n",
            "Requirement already satisfied: nvidia-cufft-cu12==11.2.1.3 in /usr/local/lib/python3.11/dist-packages (from torch) (11.2.1.3)\n",
            "Requirement already satisfied: nvidia-curand-cu12==10.3.5.147 in /usr/local/lib/python3.11/dist-packages (from torch) (10.3.5.147)\n",
            "Requirement already satisfied: nvidia-cusolver-cu12==11.6.1.9 in /usr/local/lib/python3.11/dist-packages (from torch) (11.6.1.9)\n",
            "Requirement already satisfied: nvidia-cusparse-cu12==12.3.1.170 in /usr/local/lib/python3.11/dist-packages (from torch) (12.3.1.170)\n",
            "Requirement already satisfied: nvidia-cusparselt-cu12==0.6.2 in /usr/local/lib/python3.11/dist-packages (from torch) (0.6.2)\n",
            "Requirement already satisfied: nvidia-nccl-cu12==2.21.5 in /usr/local/lib/python3.11/dist-packages (from torch) (2.21.5)\n",
            "Requirement already satisfied: nvidia-nvtx-cu12==12.4.127 in /usr/local/lib/python3.11/dist-packages (from torch) (12.4.127)\n",
            "Requirement already satisfied: nvidia-nvjitlink-cu12==12.4.127 in /usr/local/lib/python3.11/dist-packages (from torch) (12.4.127)\n",
            "Requirement already satisfied: triton==3.2.0 in /usr/local/lib/python3.11/dist-packages (from torch) (3.2.0)\n",
            "Requirement already satisfied: sympy==1.13.1 in /usr/local/lib/python3.11/dist-packages (from torch) (1.13.1)\n",
            "Requirement already satisfied: mpmath<1.4,>=1.1.0 in /usr/local/lib/python3.11/dist-packages (from sympy==1.13.1->torch) (1.3.0)\n",
            "Requirement already satisfied: aiohttp in /usr/local/lib/python3.11/dist-packages (from torch-geometric) (3.11.14)\n",
            "Requirement already satisfied: psutil>=5.8.0 in /usr/local/lib/python3.11/dist-packages (from torch-geometric) (5.9.5)\n",
            "Requirement already satisfied: pyparsing in /usr/local/lib/python3.11/dist-packages (from torch-geometric) (3.2.1)\n",
            "Requirement already satisfied: requests in /usr/local/lib/python3.11/dist-packages (from torch-geometric) (2.32.3)\n",
            "Requirement already satisfied: tqdm in /usr/local/lib/python3.11/dist-packages (from torch-geometric) (4.67.1)\n",
            "Requirement already satisfied: Pillow in /usr/local/lib/python3.11/dist-packages (from rdkit-pypi) (11.1.0)\n",
            "Requirement already satisfied: python-dateutil>=2.8.2 in /usr/local/lib/python3.11/dist-packages (from pandas) (2.8.2)\n",
            "Requirement already satisfied: pytz>=2020.1 in /usr/local/lib/python3.11/dist-packages (from pandas) (2025.1)\n",
            "Requirement already satisfied: tzdata>=2022.7 in /usr/local/lib/python3.11/dist-packages (from pandas) (2025.1)\n",
            "Requirement already satisfied: packaging>17.1 in /usr/local/lib/python3.11/dist-packages (from torchmetrics) (24.2)\n",
            "Collecting lightning-utilities>=0.8.0 (from torchmetrics)\n",
            "  Downloading lightning_utilities-0.14.2-py3-none-any.whl.metadata (5.6 kB)\n",
            "Requirement already satisfied: setuptools in /usr/local/lib/python3.11/dist-packages (from lightning-utilities>=0.8.0->torchmetrics) (75.1.0)\n",
            "Requirement already satisfied: six>=1.5 in /usr/local/lib/python3.11/dist-packages (from python-dateutil>=2.8.2->pandas) (1.17.0)\n",
            "Requirement already satisfied: aiohappyeyeballs>=2.3.0 in /usr/local/lib/python3.11/dist-packages (from aiohttp->torch-geometric) (2.6.1)\n",
            "Requirement already satisfied: aiosignal>=1.1.2 in /usr/local/lib/python3.11/dist-packages (from aiohttp->torch-geometric) (1.3.2)\n",
            "Requirement already satisfied: attrs>=17.3.0 in /usr/local/lib/python3.11/dist-packages (from aiohttp->torch-geometric) (25.3.0)\n",
            "Requirement already satisfied: frozenlist>=1.1.1 in /usr/local/lib/python3.11/dist-packages (from aiohttp->torch-geometric) (1.5.0)\n",
            "Requirement already satisfied: multidict<7.0,>=4.5 in /usr/local/lib/python3.11/dist-packages (from aiohttp->torch-geometric) (6.2.0)\n",
            "Requirement already satisfied: propcache>=0.2.0 in /usr/local/lib/python3.11/dist-packages (from aiohttp->torch-geometric) (0.3.0)\n",
            "Requirement already satisfied: yarl<2.0,>=1.17.0 in /usr/local/lib/python3.11/dist-packages (from aiohttp->torch-geometric) (1.18.3)\n",
            "Requirement already satisfied: MarkupSafe>=2.0 in /usr/local/lib/python3.11/dist-packages (from jinja2->torch) (3.0.2)\n",
            "Requirement already satisfied: charset-normalizer<4,>=2 in /usr/local/lib/python3.11/dist-packages (from requests->torch-geometric) (3.4.1)\n",
            "Requirement already satisfied: idna<4,>=2.5 in /usr/local/lib/python3.11/dist-packages (from requests->torch-geometric) (3.10)\n",
            "Requirement already satisfied: urllib3<3,>=1.21.1 in /usr/local/lib/python3.11/dist-packages (from requests->torch-geometric) (2.3.0)\n",
            "Requirement already satisfied: certifi>=2017.4.17 in /usr/local/lib/python3.11/dist-packages (from requests->torch-geometric) (2025.1.31)\n",
            "Downloading torchmetrics-1.7.0-py3-none-any.whl (960 kB)\n",
            "\u001b[2K   \u001b[90m━━━━━━━━━━━━━━━━━━━━━━━━━━━━━━━━━━━━━━━━\u001b[0m \u001b[32m960.9/960.9 kB\u001b[0m \u001b[31m22.4 MB/s\u001b[0m eta \u001b[36m0:00:00\u001b[0m\n",
            "\u001b[?25hDownloading lightning_utilities-0.14.2-py3-none-any.whl (28 kB)\n",
            "Installing collected packages: lightning-utilities, torchmetrics\n",
            "Successfully installed lightning-utilities-0.14.2 torchmetrics-1.7.0\n",
            "Using device: cuda\n"
          ]
        }
      ],
      "source": [
        "# Mount Google Drive to access data\n",
        "from google.colab import drive\n",
        "drive.mount('/content/drive')\n",
        "\n",
        "!pip install torch torch-geometric rdkit-pypi pandas numpy networkx torchmetrics\n",
        "\n",
        "import torch\n",
        "device = torch.device('cuda' if torch.cuda.is_available() else 'cpu')\n",
        "print(f\"Using device: {device}\")"
      ]
    },
    {
      "cell_type": "markdown",
      "source": [
        "**Make Graphs**"
      ],
      "metadata": {
        "id": "ClZr0hD10ryJ"
      }
    },
    {
      "cell_type": "markdown",
      "source": [
        "Graph with just smiles"
      ],
      "metadata": {
        "id": "pXl3cncnEMK3"
      }
    },
    {
      "cell_type": "code",
      "execution_count": null,
      "metadata": {
        "colab": {
          "base_uri": "https://localhost:8080/"
        },
        "id": "g-j8rTefZrgd",
        "outputId": "eb5521c2-2727-4877-d022-7c87b3389c8b"
      },
      "outputs": [
        {
          "output_type": "stream",
          "name": "stdout",
          "text": [
            "Number of merged entries: 82880\n",
            "Label mapping: {'bent': np.int64(0), 'linear': np.int64(1), 'octahedral': np.int64(2), 'planar_3': np.int64(3), 'planar_4': np.int64(4), 'planar_5': np.int64(5), 'prism': np.int64(6), 'pyramid_3': np.int64(7), 'pyramid_4': np.int64(8), 'pyramid_bi': np.int64(9), 'pyramid_sq': np.int64(10), 'tetrahedral': np.int64(11), 'tshape': np.int64(12)}\n",
            "Number of valid graphs: 69976\n",
            "Number of valid graphs with edges: 69976\n"
          ]
        }
      ],
      "source": [
        "import pandas as pd\n",
        "import glob\n",
        "import torch\n",
        "from rdkit import Chem\n",
        "from rdkit.Chem import AllChem\n",
        "from torch_geometric.data import Data\n",
        "from sklearn.preprocessing import LabelEncoder\n",
        "\n",
        "# Load labeled data\n",
        "labeled_df = pd.read_csv('/content/drive/MyDrive/ligand_metal_with_labels_clean2.csv')\n",
        "\n",
        "# Load all SMILES CSV files\n",
        "smiles_files = glob.glob('/content/complexes_smiles/*_complexes_smiles.csv')\n",
        "smiles_dfs = [pd.read_csv(file) for file in smiles_files]\n",
        "all_smiles_df = pd.concat(smiles_dfs, ignore_index=True)\n",
        "\n",
        "# Handle duplicate refcodes\n",
        "if all_smiles_df['refcode'].duplicated().any():\n",
        "    print(\"Warning: Duplicate refcodes found. Dropping duplicates.\")\n",
        "    all_smiles_df = all_smiles_df.drop_duplicates(subset='refcode')\n",
        "\n",
        "# Merge with labeled data\n",
        "merged_df = pd.merge(labeled_df, all_smiles_df[['refcode', 'SMILES']], on='refcode', how='inner')\n",
        "print(f\"Number of merged entries: {len(merged_df)}\")\n",
        "\n",
        "# Encode geometry labels\n",
        "#ex: {'tetrahedral': 0, 'octahedral': 1, 'square planar': 2}\n",
        "le = LabelEncoder()\n",
        "merged_df['geometry_encoded'] = le.fit_transform(merged_df['geometry'])\n",
        "print(\"Label mapping:\", dict(zip(le.classes_, le.transform(le.classes_))))\n",
        "\n",
        "# Convert SMILES to graph with edge validation\n",
        "def smiles_to_graph(smiles):\n",
        "    try:\n",
        "        if isinstance(smiles, str) and smiles.startswith('['):\n",
        "            smiles = eval(smiles)[0]  # Handle list-like SMILES\n",
        "        mol = Chem.MolFromSmiles(smiles)\n",
        "        if mol is None or mol.GetNumAtoms() == 0 or mol.GetNumBonds() == 0:\n",
        "            return None\n",
        "        AllChem.Compute2DCoords(mol)\n",
        "        atom_features = [[atom.GetAtomicNum(), atom.GetDegree(), atom.GetFormalCharge()] for atom in mol.GetAtoms()]\n",
        "        edge_index = []\n",
        "        for bond in mol.GetBonds():\n",
        "            i, j = bond.GetBeginAtomIdx(), bond.GetEndAtomIdx()\n",
        "            edge_index.extend([[i, j], [j, i]])\n",
        "        edge_index = torch.tensor(edge_index, dtype=torch.long).t().contiguous()\n",
        "        x = torch.tensor(atom_features, dtype=torch.float)\n",
        "        return Data(x=x, edge_index=edge_index)\n",
        "    except Exception as e:\n",
        "        print(f\"Error parsing SMILES {smiles}: {e}\")\n",
        "        return None\n",
        "\n",
        "# Apply conversion and filter valid graphs\n",
        "merged_df['graph'] = merged_df['SMILES'].apply(smiles_to_graph)\n",
        "valid_df = merged_df[merged_df['graph'].notnull()].copy()\n",
        "print(f\"Number of valid graphs: {len(valid_df)}\")\n",
        "\n",
        "# Add batch attribute and validate edge_index\n",
        "valid_df['graph'] = [\n",
        "    Data(x=g.x, edge_index=g.edge_index, batch=torch.zeros(g.x.size(0), dtype=torch.long))\n",
        "    for g in valid_df['graph']\n",
        "    if g.edge_index.size(1) > 0  # Ensure graphs have edges\n",
        "]\n",
        "valid_df = valid_df[valid_df['graph'].apply(lambda x: x is not None and x.edge_index.size(1) > 0)].copy()\n",
        "print(f\"Number of valid graphs with edges: {len(valid_df)}\")\n",
        "\n",
        "# Save valid_df for debugging (optional)\n",
        "valid_df.to_csv('/content/drive/MyDrive/valid_df_with_edges.csv', index=False)"
      ]
    },
    {
      "cell_type": "markdown",
      "source": [
        "Graph with molecular features and smiles"
      ],
      "metadata": {
        "id": "sOQMfdMBERaF"
      }
    },
    {
      "cell_type": "code",
      "source": [
        "import pandas as pd\n",
        "import glob\n",
        "import torch\n",
        "from rdkit import Chem\n",
        "from rdkit.Chem import AllChem, Descriptors\n",
        "from torch_geometric.data import Data\n",
        "from sklearn.preprocessing import LabelEncoder, StandardScaler\n",
        "import ast\n",
        "import numpy as np\n",
        "\n",
        "# Load labeled data\n",
        "labeled_df = pd.read_csv('/content/drive/MyDrive/ligand_metal_with_labels_clean2.csv')\n",
        "\n",
        "# Load all SMILES CSV files\n",
        "smiles_files = glob.glob('/content/complexes_smiles/*_complexes_smiles.csv')\n",
        "smiles_dfs = [pd.read_csv(file) for file in smiles_files]\n",
        "all_smiles_df = pd.concat(smiles_dfs, ignore_index=True)\n",
        "\n",
        "# Handle duplicate refcodes\n",
        "if all_smiles_df['refcode'].duplicated().any():\n",
        "    print(\"Warning: Duplicate refcodes found. Dropping duplicates.\")\n",
        "    all_smiles_df = all_smiles_df.drop_duplicates(subset='refcode')\n",
        "\n",
        "# Merge with labeled data\n",
        "merged_df = pd.merge(labeled_df, all_smiles_df[['refcode', 'SMILES']], on='refcode', how='inner')\n",
        "print(f\"Number of merged entries: {len(merged_df)}\")\n",
        "\n",
        "# Encode geometry labels\n",
        "le = LabelEncoder()\n",
        "merged_df['geometry_encoded'] = le.fit_transform(merged_df['geometry'])\n",
        "print(\"Label mapping:\", dict(zip(le.classes_, le.transform(le.classes_))))\n",
        "\n",
        "# Standardize molecular features\n",
        "scaler = StandardScaler()\n",
        "\n",
        "def clean_smiles(smiles):\n",
        "    \"\"\"Handle SMILES stored as Python list strings (e.g., \"['CCO']\" -> \"CCO\")\"\"\"\n",
        "    if isinstance(smiles, str):\n",
        "        if smiles.startswith('[') and smiles.endswith(']'):\n",
        "            try:\n",
        "                # Safely evaluate string as Python list\n",
        "                cleaned = ast.literal_eval(smiles)[0]\n",
        "                return str(cleaned)\n",
        "            except:\n",
        "                return smiles.strip(\"[]'\\\"\")  # Fallback: remove brackets/quotes\n",
        "    return smiles\n",
        "\n",
        "def compute_molecular_features(smiles):\n",
        "    try:\n",
        "        cleaned_smiles = clean_smiles(smiles)\n",
        "        mol = Chem.MolFromSmiles(cleaned_smiles, sanitize=False)\n",
        "        if mol is None:\n",
        "            return None\n",
        "\n",
        "        if mol.GetNumBonds() == 0:\n",
        "            mol = Chem.MolFromSmiles(Chem.MolToSmiles(mol, allHsExplicit=False))\n",
        "\n",
        "        Chem.SanitizeMol(mol)\n",
        "\n",
        "        return [\n",
        "            Descriptors.ExactMolWt(mol),\n",
        "            Descriptors.NumHDonors(mol),\n",
        "            Descriptors.NumHAcceptors(mol),\n",
        "            Descriptors.NumRotatableBonds(mol),\n",
        "            Descriptors.NumAromaticRings(mol) + Descriptors.NumAliphaticRings(mol)\n",
        "        ]\n",
        "    except Exception as e:\n",
        "        print(f\"Error computing features for SMILES {smiles}: {e}\")\n",
        "        return None\n",
        "\n",
        "\n",
        "# Compute molecular properties\n",
        "merged_df['molecular_features'] = merged_df['SMILES'].apply(compute_molecular_features)\n",
        "filtered_df = merged_df[merged_df['molecular_features'].notnull()].copy()\n",
        "\n",
        "# Check for empty dataset\n",
        "if len(filtered_df) == 0:\n",
        "    raise ValueError(\"No valid molecules found after filtering. Check your SMILES input data.\")\n",
        "\n",
        "# Convert list of features to a tensor for scaling\n",
        "molecular_features = np.array(filtered_df['molecular_features'].tolist())\n",
        "\n",
        "# Scale the features\n",
        "if molecular_features.size > 0:\n",
        "    scaled_features = scaler.fit_transform(molecular_features)\n",
        "    filtered_df['molecular_features'] = scaled_features.tolist()\n",
        "else:\n",
        "    raise ValueError(\"No valid molecular features to scale. Check compute_molecular_features()\")\n",
        "\n",
        "# Convert SMILES to graph with additional features\n",
        "def smiles_to_graph(smiles, molecular_features=None):\n",
        "    try:\n",
        "        # Clean SMILES format\n",
        "        cleaned_smiles = clean_smiles(smiles)\n",
        "\n",
        "        # Try parsing with explicit hydrogens first\n",
        "        mol = Chem.MolFromSmiles(cleaned_smiles, sanitize=False)\n",
        "        if mol is None:\n",
        "            return None\n",
        "\n",
        "        # If the molecule has no bonds, try removing explicit hydrogens\n",
        "        if mol.GetNumBonds() == 0:\n",
        "            mol = Chem.MolFromSmiles(Chem.MolToSmiles(mol, allHsExplicit=False))\n",
        "\n",
        "        # Sanitize and compute 2D coordinates\n",
        "        Chem.SanitizeMol(mol)\n",
        "        AllChem.Compute2DCoords(mol)\n",
        "\n",
        "        if mol.GetNumAtoms() == 0:\n",
        "            print(f\"Invalid molecule (no atoms): {cleaned_smiles}\")\n",
        "            return None\n",
        "\n",
        "        # Atom-level features\n",
        "        atom_features = []\n",
        "        for atom in mol.GetAtoms():\n",
        "            atom_features.append([\n",
        "                atom.GetAtomicNum(),\n",
        "                atom.GetDegree(),\n",
        "                atom.GetFormalCharge(),\n",
        "                atom.GetIsAromatic(),\n",
        "                atom.GetTotalNumHs(includeNeighbors=True)  # Include total H count\n",
        "            ])\n",
        "\n",
        "        atom_features_tensor = torch.tensor(atom_features, dtype=torch.float)\n",
        "\n",
        "        # Add molecular features to node features\n",
        "        if molecular_features is not None:\n",
        "            mol_features_tensor = torch.tensor(molecular_features, dtype=torch.float)\n",
        "            atom_features_tensor = torch.cat([\n",
        "                atom_features_tensor,\n",
        "                mol_features_tensor.repeat(atom_features_tensor.size(0), 1)\n",
        "            ], dim=1)\n",
        "\n",
        "        # Edge list (bond information)\n",
        "        edge_index = []\n",
        "        for bond in mol.GetBonds():\n",
        "            i, j = bond.GetBeginAtomIdx(), bond.GetEndAtomIdx()\n",
        "            edge_index.extend([[i, j], [j, i]])\n",
        "\n",
        "        # If no bonds, create self-loops\n",
        "        if not edge_index:\n",
        "            edge_index = [[i, i] for i in range(mol.GetNumAtoms())]\n",
        "\n",
        "        edge_index_tensor = torch.tensor(edge_index, dtype=torch.long).t().contiguous()\n",
        "\n",
        "        return Data(x=atom_features_tensor, edge_index=edge_index_tensor)\n",
        "\n",
        "    except Exception as e:\n",
        "        print(f\"Error parsing SMILES {cleaned_smiles}: {e}\")\n",
        "        return None\n",
        "\n",
        "\n",
        "# Apply conversion\n",
        "filtered_df['graph'] = filtered_df.apply(\n",
        "    lambda row: smiles_to_graph(row['SMILES'], row['molecular_features']),\n",
        "    axis=1\n",
        ")\n",
        "\n",
        "# Filter valid graphs\n",
        "valid_df = filtered_df[filtered_df['graph'].notnull()].copy()\n",
        "print(f\"Number of valid graphs: {len(valid_df)}\")\n",
        "\n",
        "# Validate edge_index and finalize graphs\n",
        "valid_graphs = []\n",
        "for g in valid_df['graph']:\n",
        "    if g.edge_index.size(1) > 0:\n",
        "        valid_graphs.append(Data(\n",
        "            x=g.x,\n",
        "            edge_index=g.edge_index,\n",
        "            batch=torch.zeros(g.x.size(0), dtype=torch.long)\n",
        "        ))\n",
        "\n",
        "valid_df = valid_df.iloc[:len(valid_graphs)].copy()\n",
        "valid_df['graph'] = valid_graphs\n",
        "print(f\"Number of valid graphs with edges: {len(valid_df)}\")\n",
        "\n",
        "# Save valid dataset\n",
        "valid_df.to_csv('/content/drive/MyDrive/valid_df_with_features.csv', index=False)"
      ],
      "metadata": {
        "colab": {
          "base_uri": "https://localhost:8080/"
        },
        "id": "uAcurFG5-Bd8",
        "outputId": "28b88257-4135-4891-8ce8-4dfc5e1c0b15"
      },
      "execution_count": null,
      "outputs": [
        {
          "output_type": "stream",
          "name": "stdout",
          "text": [
            "Number of merged entries: 82880\n",
            "Label mapping: {'bent': np.int64(0), 'linear': np.int64(1), 'octahedral': np.int64(2), 'planar_3': np.int64(3), 'planar_4': np.int64(4), 'planar_5': np.int64(5), 'prism': np.int64(6), 'pyramid_3': np.int64(7), 'pyramid_4': np.int64(8), 'pyramid_bi': np.int64(9), 'pyramid_sq': np.int64(10), 'tetrahedral': np.int64(11), 'tshape': np.int64(12)}\n",
            "Number of valid graphs: 82880\n",
            "Number of valid graphs with edges: 82880\n"
          ]
        }
      ]
    },
    {
      "cell_type": "markdown",
      "source": [
        "Visual Representation of Graph"
      ],
      "metadata": {
        "id": "65Nsq13cEVtT"
      }
    },
    {
      "cell_type": "code",
      "source": [
        "!pip install matplotlib"
      ],
      "metadata": {
        "colab": {
          "base_uri": "https://localhost:8080/"
        },
        "id": "DsLqc6glEYyX",
        "outputId": "fbce5e4a-706f-40df-f8d3-1f78682f3678"
      },
      "execution_count": null,
      "outputs": [
        {
          "output_type": "stream",
          "name": "stdout",
          "text": [
            "Requirement already satisfied: matplotlib in /usr/local/lib/python3.11/dist-packages (3.10.0)\n",
            "Requirement already satisfied: contourpy>=1.0.1 in /usr/local/lib/python3.11/dist-packages (from matplotlib) (1.3.1)\n",
            "Requirement already satisfied: cycler>=0.10 in /usr/local/lib/python3.11/dist-packages (from matplotlib) (0.12.1)\n",
            "Requirement already satisfied: fonttools>=4.22.0 in /usr/local/lib/python3.11/dist-packages (from matplotlib) (4.56.0)\n",
            "Requirement already satisfied: kiwisolver>=1.3.1 in /usr/local/lib/python3.11/dist-packages (from matplotlib) (1.4.8)\n",
            "Requirement already satisfied: numpy>=1.23 in /usr/local/lib/python3.11/dist-packages (from matplotlib) (2.0.2)\n",
            "Requirement already satisfied: packaging>=20.0 in /usr/local/lib/python3.11/dist-packages (from matplotlib) (24.2)\n",
            "Requirement already satisfied: pillow>=8 in /usr/local/lib/python3.11/dist-packages (from matplotlib) (11.1.0)\n",
            "Requirement already satisfied: pyparsing>=2.3.1 in /usr/local/lib/python3.11/dist-packages (from matplotlib) (3.2.1)\n",
            "Requirement already satisfied: python-dateutil>=2.7 in /usr/local/lib/python3.11/dist-packages (from matplotlib) (2.8.2)\n",
            "Requirement already satisfied: six>=1.5 in /usr/local/lib/python3.11/dist-packages (from python-dateutil>=2.7->matplotlib) (1.17.0)\n"
          ]
        }
      ]
    },
    {
      "cell_type": "code",
      "source": [
        "import pandas as pd\n",
        "import torch\n",
        "import ast\n",
        "import networkx as nx\n",
        "import matplotlib.pyplot as plt\n",
        "import re\n",
        "\n",
        "def extract_graph_details(graph_str):\n",
        "    \"\"\"\n",
        "    Extract detailed information from the graph string representation\n",
        "    \"\"\"\n",
        "    details = {}\n",
        "\n",
        "    # Extract x (node features) dimensions\n",
        "    x_match = re.search(r'x=\\[(\\d+), (\\d+)\\]', graph_str)\n",
        "    if x_match:\n",
        "        details['num_nodes'] = int(x_match.group(1))\n",
        "        details['num_features'] = int(x_match.group(2))\n",
        "\n",
        "    # Extract edge index dimensions\n",
        "    edge_match = re.search(r'edge_index=\\[(\\d+), (\\d+)\\]', graph_str)\n",
        "    if edge_match:\n",
        "        details['num_edges'] = int(edge_match.group(2))\n",
        "\n",
        "    # Extract batch information\n",
        "    batch_match = re.search(r'batch=\\[(\\d+)\\]', graph_str)\n",
        "    if batch_match:\n",
        "        details['batch_size'] = int(batch_match.group(1))\n",
        "\n",
        "    return details\n",
        "\n",
        "def summarize_graphs(df):\n",
        "    \"\"\"\n",
        "    Provide a comprehensive summary of graphs in the DataFrame\n",
        "    \"\"\"\n",
        "    # Collect graph details\n",
        "    graph_details = []\n",
        "    for graph_str in df['graph']:\n",
        "        details = extract_graph_details(graph_str)\n",
        "        graph_details.append(details)\n",
        "\n",
        "    # Convert to DataFrame for easy analysis\n",
        "    details_df = pd.DataFrame(graph_details)\n",
        "\n",
        "    print(\"Graph Dataset Summary:\")\n",
        "    print(\"-\" * 50)\n",
        "    print(f\"Total Graphs: {len(df)}\")\n",
        "    print(\"\\nNode Features Statistics:\")\n",
        "    print(details_df[['num_nodes', 'num_features']].describe())\n",
        "\n",
        "    print(\"\\nEdge Statistics:\")\n",
        "    print(details_df[['num_edges']].describe())\n",
        "\n",
        "    print(\"\\nBatch Size Distribution:\")\n",
        "    print(details_df['batch_size'].value_counts())\n",
        "\n",
        "def visualize_graph_distributions(df):\n",
        "    \"\"\"\n",
        "    Create visualizations of graph properties\n",
        "    \"\"\"\n",
        "    # Extract details\n",
        "    graph_details = []\n",
        "    for graph_str in df['graph']:\n",
        "        details = extract_graph_details(graph_str)\n",
        "        graph_details.append(details)\n",
        "    details_df = pd.DataFrame(graph_details)\n",
        "\n",
        "    # Create subplots\n",
        "    fig, axs = plt.subplots(2, 2, figsize=(15, 12))\n",
        "    fig.suptitle('Molecular Graph Properties Distribution', fontsize=16)\n",
        "\n",
        "    # Number of Nodes Distribution\n",
        "    axs[0, 0].hist(details_df['num_nodes'], bins=30, edgecolor='black')\n",
        "    axs[0, 0].set_title('Number of Nodes Distribution')\n",
        "    axs[0, 0].set_xlabel('Number of Nodes')\n",
        "    axs[0, 0].set_ylabel('Frequency')\n",
        "\n",
        "    # Number of Features Distribution\n",
        "    axs[0, 1].hist(details_df['num_features'], bins=30, edgecolor='black')\n",
        "    axs[0, 1].set_title('Number of Node Features Distribution')\n",
        "    axs[0, 1].set_xlabel('Number of Features')\n",
        "    axs[0, 1].set_ylabel('Frequency')\n",
        "\n",
        "    # Number of Edges Distribution\n",
        "    axs[1, 0].hist(details_df['num_edges'], bins=30, edgecolor='black')\n",
        "    axs[1, 0].set_title('Number of Edges Distribution')\n",
        "    axs[1, 0].set_xlabel('Number of Edges')\n",
        "    axs[1, 0].set_ylabel('Frequency')\n",
        "\n",
        "    # Batch Size Distribution\n",
        "    axs[1, 1].hist(details_df['batch_size'], bins=30, edgecolor='black')\n",
        "    axs[1, 1].set_title('Batch Size Distribution')\n",
        "    axs[1, 1].set_xlabel('Batch Size')\n",
        "    axs[1, 1].set_ylabel('Frequency')\n",
        "\n",
        "    plt.tight_layout()\n",
        "    plt.show()\n",
        "\n",
        "# Load the DataFrame\n",
        "df = pd.read_csv('/content/drive/MyDrive/valid_df_with_features.csv')\n",
        "\n",
        "# Run analysis\n",
        "summarize_graphs(df)\n",
        "visualize_graph_distributions(df)"
      ],
      "metadata": {
        "colab": {
          "base_uri": "https://localhost:8080/",
          "height": 1000
        },
        "id": "qXG3AoxeG4ue",
        "outputId": "fa30737c-6db9-49a7-c877-36dec676e6c4"
      },
      "execution_count": null,
      "outputs": [
        {
          "output_type": "stream",
          "name": "stdout",
          "text": [
            "Graph Dataset Summary:\n",
            "--------------------------------------------------\n",
            "Total Graphs: 82880\n",
            "\n",
            "Node Features Statistics:\n",
            "          num_nodes  num_features\n",
            "count  82880.000000       82880.0\n",
            "mean      20.648769          10.0\n",
            "std       19.333290           0.0\n",
            "min        1.000000          10.0\n",
            "25%        4.000000          10.0\n",
            "50%       15.000000          10.0\n",
            "75%       31.000000          10.0\n",
            "max      296.000000          10.0\n",
            "\n",
            "Edge Statistics:\n",
            "          num_edges\n",
            "count  82880.000000\n",
            "mean      41.809447\n",
            "std       41.287665\n",
            "min        1.000000\n",
            "25%        6.000000\n",
            "50%       30.000000\n",
            "75%       64.000000\n",
            "max      640.000000\n",
            "\n",
            "Batch Size Distribution:\n",
            "batch_size\n",
            "3      11134\n",
            "2       5768\n",
            "4       4353\n",
            "6       3667\n",
            "34      2774\n",
            "       ...  \n",
            "296        1\n",
            "140        1\n",
            "133        1\n",
            "180        1\n",
            "141        1\n",
            "Name: count, Length: 150, dtype: int64\n"
          ]
        },
        {
          "output_type": "display_data",
          "data": {
            "text/plain": [
              "<Figure size 1500x1200 with 4 Axes>"
            ],
            "image/png": "[encoded data removed]"
          },
          "metadata": {}
        }
      ]
    },
    {
      "cell_type": "code",
      "source": [
        "import matplotlib.pyplot as plt\n",
        "import networkx as nx\n",
        "\n",
        "# Function to visualize PyTorch Geometric graph using NetworkX\n",
        "def visualize_graph(data, title=\"Graph\"):\n",
        "    \"\"\"\n",
        "    Visualize a PyTorch Geometric Data object as a graph using NetworkX.\n",
        "    \"\"\"\n",
        "    # Convert PyTorch Geometric Data to NetworkX graph\n",
        "    G = nx.Graph()\n",
        "\n",
        "    # Add nodes with atomic number as labels\n",
        "    num_nodes = data.x.size(0)\n",
        "    atomic_nums = data.x[:, 0].tolist()  # First feature is atomic number\n",
        "    for i in range(num_nodes):\n",
        "        G.add_node(i, label=int(atomic_nums[i]))\n",
        "\n",
        "    # Add edges from edge_index\n",
        "    edge_index = data.edge_index.t().tolist()\n",
        "    for edge in edge_index:\n",
        "        G.add_edge(edge[0], edge[1])\n",
        "\n",
        "    # Draw the graph\n",
        "    plt.figure(figsize=(8, 6))\n",
        "    pos = nx.spring_layout(G)  # Layout for visualization\n",
        "    labels = nx.get_node_attributes(G, 'label')\n",
        "\n",
        "    nx.draw(G, pos, with_labels=True, labels=labels, node_color='lightblue',\n",
        "            node_size=500, font_size=10, font_weight='bold', edge_color='gray')\n",
        "    plt.title(title)\n",
        "    plt.show()\n",
        "\n",
        "# Visualize a few example graphs from valid_df\n",
        "num_examples = 1  # Number of graphs to visualize\n",
        "for i in range(min(num_examples, len(valid_df))):\n",
        "    graph_data = valid_df['graph'].iloc[i]  # Access the Data object\n",
        "    refcode = valid_df['refcode'].iloc[i]   # Use refcode as title\n",
        "    visualize_graph(graph_data, title=f\"Graph for {refcode}\")\n",
        "\n",
        "# Optional: Visualize a random sample\n",
        "sample_df = valid_df.sample(n=min(num_examples, len(valid_df)))\n",
        "for i, row in sample_df.iterrows():\n",
        "    visualize_graph(row['graph'], title=f\"Graph for {row['refcode']}\")"
      ],
      "metadata": {
        "colab": {
          "base_uri": "https://localhost:8080/",
          "height": 1000
        },
        "id": "4lsrasNDMYFx",
        "outputId": "dea26660-fe4d-4dcb-e205-c40c5c529046"
      },
      "execution_count": null,
      "outputs": [
        {
          "output_type": "display_data",
          "data": {
            "text/plain": [
              "<Figure size 800x600 with 1 Axes>"
            ],
            "image/png": "[encoded data removed]"
          },
          "metadata": {}
        },
        {
          "output_type": "display_data",
          "data": {
            "text/plain": [
              "<Figure size 800x600 with 1 Axes>"
            ],
            "image/png": "[encoded data removed]"
          },
          "metadata": {}
        }
      ]
    },
    {
      "cell_type": "markdown",
      "source": [
        "**Pretraining**"
      ],
      "metadata": {
        "id": "4_WQR47u02Um"
      }
    },
    {
      "cell_type": "markdown",
      "source": [
        "Approach 1"
      ],
      "metadata": {
        "id": "9fkjnheJ9f59"
      }
    },
    {
      "cell_type": "code",
      "execution_count": null,
      "metadata": {
        "colab": {
          "base_uri": "https://localhost:8080/"
        },
        "id": "d25Y3-YrKceI",
        "outputId": "7524978a-fc58-4c06-9eac-abb36af24b41"
      },
      "outputs": [
        {
          "output_type": "stream",
          "name": "stdout",
          "text": [
            "Skipped 252 out of 69976 graphs. Reasons: {'empty_graph': 0, 'nan_inf_input': 0, 'nan_inf_output': 0, 'empty_mask': 252, 'invalid_loss': 0}\n",
            "Pretrain Epoch 1/20, Loss: 0.1215\n",
            "Skipped 263 out of 69976 graphs. Reasons: {'empty_graph': 0, 'nan_inf_input': 0, 'nan_inf_output': 0, 'empty_mask': 263, 'invalid_loss': 0}\n",
            "Pretrain Epoch 2/20, Loss: 0.0862\n",
            "Skipped 261 out of 69976 graphs. Reasons: {'empty_graph': 0, 'nan_inf_input': 0, 'nan_inf_output': 0, 'empty_mask': 261, 'invalid_loss': 0}\n",
            "Pretrain Epoch 3/20, Loss: 0.0810\n",
            "Skipped 287 out of 69976 graphs. Reasons: {'empty_graph': 0, 'nan_inf_input': 0, 'nan_inf_output': 0, 'empty_mask': 287, 'invalid_loss': 0}\n",
            "Pretrain Epoch 4/20, Loss: 0.0782\n",
            "Skipped 314 out of 69976 graphs. Reasons: {'empty_graph': 0, 'nan_inf_input': 0, 'nan_inf_output': 0, 'empty_mask': 314, 'invalid_loss': 0}\n",
            "Pretrain Epoch 5/20, Loss: 0.0762\n",
            "Skipped 238 out of 69976 graphs. Reasons: {'empty_graph': 0, 'nan_inf_input': 0, 'nan_inf_output': 0, 'empty_mask': 238, 'invalid_loss': 0}\n",
            "Pretrain Epoch 6/20, Loss: 0.0750\n",
            "Skipped 275 out of 69976 graphs. Reasons: {'empty_graph': 0, 'nan_inf_input': 0, 'nan_inf_output': 0, 'empty_mask': 275, 'invalid_loss': 0}\n",
            "Pretrain Epoch 7/20, Loss: 0.0743\n",
            "Skipped 252 out of 69976 graphs. Reasons: {'empty_graph': 0, 'nan_inf_input': 0, 'nan_inf_output': 0, 'empty_mask': 252, 'invalid_loss': 0}\n",
            "Pretrain Epoch 8/20, Loss: 0.0737\n",
            "Skipped 261 out of 69976 graphs. Reasons: {'empty_graph': 0, 'nan_inf_input': 0, 'nan_inf_output': 0, 'empty_mask': 261, 'invalid_loss': 0}\n",
            "Pretrain Epoch 9/20, Loss: 0.0732\n",
            "Skipped 273 out of 69976 graphs. Reasons: {'empty_graph': 0, 'nan_inf_input': 0, 'nan_inf_output': 0, 'empty_mask': 273, 'invalid_loss': 0}\n",
            "Pretrain Epoch 10/20, Loss: 0.0730\n",
            "Skipped 260 out of 69976 graphs. Reasons: {'empty_graph': 0, 'nan_inf_input': 0, 'nan_inf_output': 0, 'empty_mask': 260, 'invalid_loss': 0}\n",
            "Pretrain Epoch 11/20, Loss: 0.0727\n",
            "Skipped 281 out of 69976 graphs. Reasons: {'empty_graph': 0, 'nan_inf_input': 0, 'nan_inf_output': 0, 'empty_mask': 281, 'invalid_loss': 0}\n",
            "Pretrain Epoch 12/20, Loss: 0.0725\n",
            "Skipped 283 out of 69976 graphs. Reasons: {'empty_graph': 0, 'nan_inf_input': 0, 'nan_inf_output': 0, 'empty_mask': 283, 'invalid_loss': 0}\n",
            "Pretrain Epoch 13/20, Loss: 0.0722\n",
            "Skipped 260 out of 69976 graphs. Reasons: {'empty_graph': 0, 'nan_inf_input': 0, 'nan_inf_output': 0, 'empty_mask': 260, 'invalid_loss': 0}\n",
            "Pretrain Epoch 14/20, Loss: 0.0721\n",
            "Skipped 272 out of 69976 graphs. Reasons: {'empty_graph': 0, 'nan_inf_input': 0, 'nan_inf_output': 0, 'empty_mask': 272, 'invalid_loss': 0}\n",
            "Pretrain Epoch 15/20, Loss: 0.0719\n",
            "Skipped 261 out of 69976 graphs. Reasons: {'empty_graph': 0, 'nan_inf_input': 0, 'nan_inf_output': 0, 'empty_mask': 261, 'invalid_loss': 0}\n",
            "Pretrain Epoch 16/20, Loss: 0.0718\n",
            "Skipped 268 out of 69976 graphs. Reasons: {'empty_graph': 0, 'nan_inf_input': 0, 'nan_inf_output': 0, 'empty_mask': 268, 'invalid_loss': 0}\n",
            "Pretrain Epoch 17/20, Loss: 0.0717\n",
            "Skipped 278 out of 69976 graphs. Reasons: {'empty_graph': 0, 'nan_inf_input': 0, 'nan_inf_output': 0, 'empty_mask': 278, 'invalid_loss': 0}\n",
            "Pretrain Epoch 18/20, Loss: 0.0716\n",
            "Skipped 276 out of 69976 graphs. Reasons: {'empty_graph': 0, 'nan_inf_input': 0, 'nan_inf_output': 0, 'empty_mask': 276, 'invalid_loss': 0}\n",
            "Pretrain Epoch 19/20, Loss: 0.0715\n",
            "Skipped 282 out of 69976 graphs. Reasons: {'empty_graph': 0, 'nan_inf_input': 0, 'nan_inf_output': 0, 'empty_mask': 282, 'invalid_loss': 0}\n",
            "Pretrain Epoch 20/20, Loss: 0.0713\n"
          ]
        }
      ],
      "source": [
        "import torch\n",
        "import torch.nn.functional as F\n",
        "from torch_geometric.nn import GATConv, global_mean_pool\n",
        "from torch.nn import LayerNorm\n",
        "\n",
        "# Define GATPretrain Model\n",
        "class GATPretrain(torch.nn.Module):\n",
        "    def __init__(self, input_dim, hidden_dim, output_dim):\n",
        "        super(GATPretrain, self).__init__()\n",
        "        self.conv1 = GATConv(input_dim, hidden_dim, heads=4, concat=True)\n",
        "        self.norm1 = LayerNorm(hidden_dim * 4)  # LayerNorm after GATConv1\n",
        "        self.conv2 = GATConv(hidden_dim * 4, output_dim, heads=1, concat=True)\n",
        "\n",
        "    def forward(self, data):\n",
        "        x, edge_index = data.x, data.edge_index\n",
        "        x = F.elu(self.conv1(x, edge_index))\n",
        "        x = self.norm1(x)  # Apply normalization\n",
        "        x = self.conv2(x, edge_index)\n",
        "        return x\n",
        "\n",
        "# Initialize Model (use device from Step 1)\n",
        "input_dim = 3  # [atomic number, degree, charge]\n",
        "hidden_dim = 32  # Reduced for stability\n",
        "output_dim = input_dim\n",
        "model_pretrain = GATPretrain(input_dim, hidden_dim, output_dim).to(device)  # Assumes device from Step 1\n",
        "optimizer = torch.optim.Adam(model_pretrain.parameters(), lr=1e-4)\n",
        "\n",
        "# Define Pretraining Function\n",
        "def pretrain_epoch(graphs):\n",
        "    model_pretrain.train()\n",
        "    total_loss = 0\n",
        "    valid_graphs = 0\n",
        "    skipped_graphs = 0\n",
        "    skip_reasons = {'empty_graph': 0, 'nan_inf_input': 0, 'nan_inf_output': 0, 'empty_mask': 0, 'invalid_loss': 0}\n",
        "\n",
        "    for i, data in enumerate(graphs):\n",
        "        # Skip invalid or empty graphs\n",
        "        if data.edge_index.size(1) == 0 or data.x is None or data.x.size(0) == 0:\n",
        "            skip_reasons['empty_graph'] += 1\n",
        "            skipped_graphs += 1\n",
        "            print(f\"Skipping graph {i} due to empty graph or no nodes/edges\")\n",
        "            continue\n",
        "\n",
        "        data = data.to(device)\n",
        "\n",
        "        # Normalize input features per feature column\n",
        "        mean = torch.mean(data.x, dim=0, keepdim=True)\n",
        "        std = torch.std(data.x, dim=0, keepdim=True) + 1e-7\n",
        "        data.x = (data.x - mean) / std\n",
        "\n",
        "        # Check for NaN or inf in input features\n",
        "        if torch.isnan(data.x).any() or torch.isinf(data.x).any():\n",
        "            skip_reasons['nan_inf_input'] += 1\n",
        "            skipped_graphs += 1\n",
        "            print(f\"Skipping graph {i} due to NaN or Inf in input\")\n",
        "            continue\n",
        "\n",
        "        optimizer.zero_grad()\n",
        "        out = model_pretrain(data)\n",
        "\n",
        "        # Check for NaN or inf in model output\n",
        "        if torch.isnan(out).any() or torch.isinf(out).any():\n",
        "            skip_reasons['nan_inf_output'] += 1\n",
        "            skipped_graphs += 1\n",
        "            print(f\"Skipping graph {i} due to NaN or Inf in output\")\n",
        "            continue\n",
        "\n",
        "        # Create mask and ensure at least one element is selected\n",
        "        mask = torch.rand(data.x.size(0), device=device) < 0.8\n",
        "        if mask.sum() == 0:\n",
        "            skip_reasons['empty_mask'] += 1\n",
        "            skipped_graphs += 1\n",
        "            continue\n",
        "\n",
        "        # Compute loss using Huber Loss\n",
        "        loss_fn = torch.nn.SmoothL1Loss()\n",
        "        loss = loss_fn(out[mask], data.x[mask])\n",
        "\n",
        "        if torch.isnan(loss) or torch.isinf(loss):\n",
        "            skip_reasons['invalid_loss'] += 1\n",
        "            skipped_graphs += 1\n",
        "            print(f\"Skipping graph {i} due to invalid loss: {loss}\")\n",
        "            continue\n",
        "\n",
        "        # Backpropagation with gradient clipping\n",
        "        loss.backward()\n",
        "        torch.nn.utils.clip_grad_norm_(model_pretrain.parameters(), max_norm=1.0)\n",
        "        optimizer.step()\n",
        "        total_loss += loss.item()\n",
        "        valid_graphs += 1\n",
        "\n",
        "    print(f\"Skipped {skipped_graphs} out of {len(graphs)} graphs. Reasons: {skip_reasons}\")\n",
        "    return total_loss / max(1, valid_graphs)\n",
        "\n",
        "# Run Pretraining\n",
        "for epoch in range(20):\n",
        "    graphs = valid_df['graph'].tolist()  # Assumes valid_df from Step 2\n",
        "    loss = pretrain_epoch(graphs)\n",
        "    print(f'Pretrain Epoch {epoch+1}/20, Loss: {loss:.4f}')\n",
        "\n",
        "# Save the model\n",
        "\n",
        "torch.save(model_pretrain.state_dict(), '/content/drive/MyDrive/pretrained_gat.pth')"
      ]
    },
    {
      "cell_type": "code",
      "source": [
        "import torch\n",
        "import torch.nn as nn\n",
        "import torch.nn.functional as F\n",
        "import pandas as pd\n",
        "from torch_geometric.nn import GATConv, global_mean_pool\n",
        "from torch.nn import LayerNorm\n",
        "from rdkit import Chem\n",
        "from rdkit.Chem import AllChem\n",
        "from torch_geometric.data import Data\n",
        "import glob\n",
        "from google.colab import drive\n",
        "\n",
        "# Mount Google Drive\n",
        "drive.mount('/content/drive')\n",
        "\n",
        "# Preprocess data (same as above, included here for completeness)\n",
        "def preprocess_data():\n",
        "    labeled_df = pd.read_csv('/content/drive/MyDrive/ligand_metal_with_labels_clean2.csv')\n",
        "    smiles_files = glob.glob('/content/complexes_smiles/*_complexes_smiles.csv')\n",
        "    smiles_dfs = [pd.read_csv(file) for file in smiles_files]\n",
        "    all_smiles_df = pd.concat(smiles_dfs, ignore_index=True)\n",
        "\n",
        "    if all_smiles_df['refcode'].duplicated().any():\n",
        "        print(\"Warning: Duplicate refcodes found. Dropping duplicates.\")\n",
        "        all_smiles_df = all_smiles_df.drop_duplicates(subset='refcode')\n",
        "\n",
        "    merged_df = pd.merge(labeled_df, all_smiles_df[['refcode', 'SMILES']], on='refcode', how='inner')\n",
        "    print(f\"Number of merged entries: {len(merged_df)}\")\n",
        "\n",
        "    def clean_smiles(smiles):\n",
        "        try:\n",
        "            if isinstance(smiles, str) and smiles.startswith('[') and smiles.endswith(']'):\n",
        "                smiles = smiles[1:-1]\n",
        "                smiles_parts = smiles.split(',')\n",
        "                if len(smiles_parts) > 0:\n",
        "                    cleaned_smiles = smiles_parts[0].strip().strip(\"'\").strip('\"')\n",
        "                    if cleaned_smiles:\n",
        "                        return cleaned_smiles\n",
        "            elif isinstance(smiles, str):\n",
        "                return smiles\n",
        "            return None\n",
        "        except Exception as e:\n",
        "            print(f\"Error cleaning SMILES {smiles}: {e}\")\n",
        "            return None\n",
        "\n",
        "    def smiles_to_graph(smiles, input_dim=3):\n",
        "        try:\n",
        "            cleaned_smiles = clean_smiles(smiles)\n",
        "            if not cleaned_smiles:\n",
        "                return None\n",
        "\n",
        "            mol = Chem.MolFromSmiles(cleaned_smiles)\n",
        "            if mol is None or mol.GetNumAtoms() == 0 or mol.GetNumBonds() == 0:\n",
        "                return None\n",
        "            AllChem.Compute2DCoords(mol)\n",
        "\n",
        "            atom_features = [[atom.GetAtomicNum(), atom.GetDegree(), atom.GetFormalCharge()] for atom in mol.GetAtoms()]\n",
        "            edge_index = []\n",
        "            for bond in mol.GetBonds():\n",
        "                i, j = bond.GetBeginAtomIdx(), bond.GetEndAtomIdx()\n",
        "                edge_index.extend([[i, j], [j, i]])\n",
        "            edge_index = torch.tensor(edge_index, dtype=torch.long).t().contiguous()\n",
        "            x = torch.tensor(atom_features, dtype=torch.float)\n",
        "            return Data(x=x, edge_index=edge_index)\n",
        "        except Exception as e:\n",
        "            print(f\"Error parsing SMILES {smiles}: {e}\")\n",
        "            return None\n",
        "\n",
        "    merged_df['graph'] = merged_df['SMILES'].apply(lambda x: smiles_to_graph(x, input_dim=3))\n",
        "    valid_df = merged_df[merged_df['graph'].notnull()].copy()\n",
        "    print(f\"Number of valid graphs: {len(valid_df)}\")\n",
        "\n",
        "    valid_df['graph'] = [\n",
        "        Data(x=g.x, edge_index=g.edge_index, batch=torch.zeros(g.x.size(0), dtype=torch.long))\n",
        "        for g in valid_df['graph']\n",
        "        if g.edge_index.size(1) > 0\n",
        "    ]\n",
        "    valid_df = valid_df[valid_df['graph'].apply(lambda x: x is not None and x.edge_index.size(1) > 0)].copy()\n",
        "    print(f\"Number of valid graphs with edges: {len(valid_df)}\")\n",
        "\n",
        "    return valid_df\n",
        "\n",
        "# Load and preprocess data\n",
        "valid_df = preprocess_data()\n",
        "graphs = valid_df['graph'].tolist()\n",
        "\n",
        "# Device setup\n",
        "device = torch.device('cuda' if torch.cuda.is_available() else 'cpu')\n",
        "print(f\"Using device: {device}\")\n",
        "\n",
        "# Define GATPretrain Model\n",
        "class GATPretrain(torch.nn.Module):\n",
        "    def __init__(self, input_dim, hidden_dim, output_dim):\n",
        "        super(GATPretrain, self).__init__()\n",
        "        self.conv1 = GATConv(input_dim, hidden_dim, heads=4, concat=True)\n",
        "        self.norm1 = LayerNorm(hidden_dim * 4)\n",
        "        self.conv2 = GATConv(hidden_dim * 4, output_dim, heads=1, concat=True)\n",
        "\n",
        "    def forward(self, data):\n",
        "        x, edge_index = data.x, data.edge_index\n",
        "        x = F.elu(self.conv1(x, edge_index))\n",
        "        x = self.norm1(x)\n",
        "        x = self.conv2(x, edge_index)\n",
        "        return x\n",
        "\n",
        "# Initialize Model\n",
        "input_dim = 3  # [atomic number, degree, charge]\n",
        "hidden_dim = 32\n",
        "output_dim = input_dim\n",
        "model_pretrain = GATPretrain(input_dim, hidden_dim, output_dim).to(device)\n",
        "optimizer = torch.optim.Adam(model_pretrain.parameters(), lr=1e-4)\n",
        "\n",
        "# Define Pretraining Function\n",
        "def pretrain_epoch(graphs):\n",
        "    model_pretrain.train()\n",
        "    total_loss = 0\n",
        "    valid_graphs = 0\n",
        "    skipped_graphs = 0\n",
        "    skip_reasons = {'empty_graph': 0, 'nan_inf_input': 0, 'nan_inf_output': 0, 'empty_mask': 0, 'invalid_loss': 0}\n",
        "\n",
        "    for i, data in enumerate(graphs):\n",
        "        if data.edge_index.size(1) == 0 or data.x is None or data.x.size(0) == 0:\n",
        "            skip_reasons['empty_graph'] += 1\n",
        "            skipped_graphs += 1\n",
        "            print(f\"Skipping graph {i} due to empty graph or no nodes/edges\")\n",
        "            continue\n",
        "\n",
        "        data = data.to(device)\n",
        "\n",
        "        mean = torch.mean(data.x, dim=0, keepdim=True)\n",
        "        std = torch.std(data.x, dim=0, keepdim=True) + 1e-7\n",
        "        data.x = (data.x - mean) / std\n",
        "\n",
        "        if torch.isnan(data.x).any() or torch.isinf(data.x).any():\n",
        "            skip_reasons['nan_inf_input'] += 1\n",
        "            skipped_graphs += 1\n",
        "            print(f\"Skipping graph {i} due to NaN or Inf in input\")\n",
        "            continue\n",
        "\n",
        "        optimizer.zero_grad()\n",
        "        out = model_pretrain(data)\n",
        "\n",
        "        if torch.isnan(out).any() or torch.isinf(out).any():\n",
        "            skip_reasons['nan_inf_output'] += 1\n",
        "            skipped_graphs += 1\n",
        "            print(f\"Skipping graph {i} due to NaN or Inf in output\")\n",
        "            continue\n",
        "\n",
        "        mask = torch.rand(data.x.size(0), device=device) < 0.8\n",
        "        if mask.sum() == 0:\n",
        "            skip_reasons['empty_mask'] += 1\n",
        "            skipped_graphs += 1\n",
        "            continue\n",
        "\n",
        "        loss_fn = torch.nn.SmoothL1Loss()\n",
        "        loss = loss_fn(out[mask], data.x[mask])\n",
        "\n",
        "        if torch.isnan(loss) or torch.isinf(loss):\n",
        "            skip_reasons['invalid_loss'] += 1\n",
        "            skipped_graphs += 1\n",
        "            print(f\"Skipping graph {i} due to invalid loss: {loss}\")\n",
        "            continue\n",
        "\n",
        "        loss.backward()\n",
        "        torch.nn.utils.clip_grad_norm_(model_pretrain.parameters(), max_norm=1.0)\n",
        "        optimizer.step()\n",
        "        total_loss += loss.item()\n",
        "        valid_graphs += 1\n",
        "\n",
        "    print(f\"Skipped {skipped_graphs} out of {len(graphs)} graphs. Reasons: {skip_reasons}\")\n",
        "    return total_loss / max(1, valid_graphs)\n",
        "\n",
        "# Run Pretraining\n",
        "for epoch in range(20):\n",
        "    loss = pretrain_epoch(graphs)\n",
        "    print(f'Pretrain Epoch {epoch+1}/20, Loss: {loss:.4f}')\n",
        "\n",
        "# Save the model\n",
        "torch.save(model_pretrain.state_dict(), '/content/drive/MyDrive/pretrained_gat.pth')\n",
        "print(\"Pretrained model saved as pretrained_gat.pth\")"
      ],
      "metadata": {
        "colab": {
          "base_uri": "https://localhost:8080/"
        },
        "id": "Emq2xO-S_p2x",
        "outputId": "47f52c32-3574-4cb7-cffb-eb944be9a35d"
      },
      "execution_count": null,
      "outputs": [
        {
          "output_type": "stream",
          "name": "stdout",
          "text": [
            "Drive already mounted at /content/drive; to attempt to forcibly remount, call drive.mount(\"/content/drive\", force_remount=True).\n",
            "Number of merged entries: 82880\n",
            "Number of valid graphs: 69976\n",
            "Number of valid graphs with edges: 69976\n",
            "Using device: cpu\n",
            "Skipped 271 out of 69976 graphs. Reasons: {'empty_graph': 0, 'nan_inf_input': 0, 'nan_inf_output': 0, 'empty_mask': 271, 'invalid_loss': 0}\n",
            "Pretrain Epoch 1/20, Loss: 0.1237\n",
            "Skipped 286 out of 69976 graphs. Reasons: {'empty_graph': 0, 'nan_inf_input': 0, 'nan_inf_output': 0, 'empty_mask': 286, 'invalid_loss': 0}\n",
            "Pretrain Epoch 2/20, Loss: 0.0849\n",
            "Skipped 266 out of 69976 graphs. Reasons: {'empty_graph': 0, 'nan_inf_input': 0, 'nan_inf_output': 0, 'empty_mask': 266, 'invalid_loss': 0}\n",
            "Pretrain Epoch 3/20, Loss: 0.0796\n",
            "Skipped 280 out of 69976 graphs. Reasons: {'empty_graph': 0, 'nan_inf_input': 0, 'nan_inf_output': 0, 'empty_mask': 280, 'invalid_loss': 0}\n",
            "Pretrain Epoch 4/20, Loss: 0.0777\n",
            "Skipped 250 out of 69976 graphs. Reasons: {'empty_graph': 0, 'nan_inf_input': 0, 'nan_inf_output': 0, 'empty_mask': 250, 'invalid_loss': 0}\n",
            "Pretrain Epoch 5/20, Loss: 0.0767\n",
            "Skipped 281 out of 69976 graphs. Reasons: {'empty_graph': 0, 'nan_inf_input': 0, 'nan_inf_output': 0, 'empty_mask': 281, 'invalid_loss': 0}\n",
            "Pretrain Epoch 6/20, Loss: 0.0761\n",
            "Skipped 286 out of 69976 graphs. Reasons: {'empty_graph': 0, 'nan_inf_input': 0, 'nan_inf_output': 0, 'empty_mask': 286, 'invalid_loss': 0}\n",
            "Pretrain Epoch 7/20, Loss: 0.0755\n",
            "Skipped 290 out of 69976 graphs. Reasons: {'empty_graph': 0, 'nan_inf_input': 0, 'nan_inf_output': 0, 'empty_mask': 290, 'invalid_loss': 0}\n",
            "Pretrain Epoch 8/20, Loss: 0.0749\n",
            "Skipped 257 out of 69976 graphs. Reasons: {'empty_graph': 0, 'nan_inf_input': 0, 'nan_inf_output': 0, 'empty_mask': 257, 'invalid_loss': 0}\n",
            "Pretrain Epoch 9/20, Loss: 0.0743\n",
            "Skipped 262 out of 69976 graphs. Reasons: {'empty_graph': 0, 'nan_inf_input': 0, 'nan_inf_output': 0, 'empty_mask': 262, 'invalid_loss': 0}\n",
            "Pretrain Epoch 10/20, Loss: 0.0738\n",
            "Skipped 261 out of 69976 graphs. Reasons: {'empty_graph': 0, 'nan_inf_input': 0, 'nan_inf_output': 0, 'empty_mask': 261, 'invalid_loss': 0}\n",
            "Pretrain Epoch 11/20, Loss: 0.0734\n",
            "Skipped 248 out of 69976 graphs. Reasons: {'empty_graph': 0, 'nan_inf_input': 0, 'nan_inf_output': 0, 'empty_mask': 248, 'invalid_loss': 0}\n",
            "Pretrain Epoch 12/20, Loss: 0.0731\n",
            "Skipped 293 out of 69976 graphs. Reasons: {'empty_graph': 0, 'nan_inf_input': 0, 'nan_inf_output': 0, 'empty_mask': 293, 'invalid_loss': 0}\n",
            "Pretrain Epoch 13/20, Loss: 0.0727\n",
            "Skipped 272 out of 69976 graphs. Reasons: {'empty_graph': 0, 'nan_inf_input': 0, 'nan_inf_output': 0, 'empty_mask': 272, 'invalid_loss': 0}\n",
            "Pretrain Epoch 14/20, Loss: 0.0723\n",
            "Skipped 239 out of 69976 graphs. Reasons: {'empty_graph': 0, 'nan_inf_input': 0, 'nan_inf_output': 0, 'empty_mask': 239, 'invalid_loss': 0}\n",
            "Pretrain Epoch 15/20, Loss: 0.0720\n",
            "Skipped 293 out of 69976 graphs. Reasons: {'empty_graph': 0, 'nan_inf_input': 0, 'nan_inf_output': 0, 'empty_mask': 293, 'invalid_loss': 0}\n",
            "Pretrain Epoch 16/20, Loss: 0.0719\n",
            "Skipped 288 out of 69976 graphs. Reasons: {'empty_graph': 0, 'nan_inf_input': 0, 'nan_inf_output': 0, 'empty_mask': 288, 'invalid_loss': 0}\n",
            "Pretrain Epoch 17/20, Loss: 0.0716\n",
            "Skipped 264 out of 69976 graphs. Reasons: {'empty_graph': 0, 'nan_inf_input': 0, 'nan_inf_output': 0, 'empty_mask': 264, 'invalid_loss': 0}\n",
            "Pretrain Epoch 18/20, Loss: 0.0715\n",
            "Skipped 271 out of 69976 graphs. Reasons: {'empty_graph': 0, 'nan_inf_input': 0, 'nan_inf_output': 0, 'empty_mask': 271, 'invalid_loss': 0}\n",
            "Pretrain Epoch 19/20, Loss: 0.0713\n",
            "Skipped 268 out of 69976 graphs. Reasons: {'empty_graph': 0, 'nan_inf_input': 0, 'nan_inf_output': 0, 'empty_mask': 268, 'invalid_loss': 0}\n",
            "Pretrain Epoch 20/20, Loss: 0.0711\n",
            "Pretrained model saved as pretrained_gat.pth\n"
          ]
        }
      ]
    },
    {
      "cell_type": "markdown",
      "source": [
        "Approach 2 - Geometry-Aware Graph Neural Network (GNN)\n"
      ],
      "metadata": {
        "id": "t9Zd4fuJ9ZI6"
      }
    },
    {
      "cell_type": "code",
      "source": [
        "import torch\n",
        "import torch.nn as nn\n",
        "import torch.nn.functional as F\n",
        "from torch_geometric.nn import GATConv, global_mean_pool\n",
        "from torch_geometric.data import DataLoader\n",
        "from sklearn.model_selection import train_test_split\n",
        "from tqdm import tqdm\n",
        "\n",
        "class GeometryAwareGNN(nn.Module):\n",
        "    def __init__(self, input_dim, hidden_dim=256, num_layers=5):\n",
        "        super().__init__()\n",
        "        self.atom_conv = GATConv(input_dim, hidden_dim, heads=4, concat=False)\n",
        "        self.layers = nn.ModuleList([\n",
        "            GATConv(hidden_dim, hidden_dim, heads=4, concat=False) for _ in range(num_layers)\n",
        "        ])\n",
        "        self.spatial_attn = nn.MultiheadAttention(hidden_dim, num_heads=4)\n",
        "\n",
        "    def forward(self, data):\n",
        "        x, edge_index, batch = data.x, data.edge_index, data.batch\n",
        "        x = F.elu(self.atom_conv(x, edge_index))\n",
        "\n",
        "        for layer in self.layers:\n",
        "            x = F.elu(layer(x, edge_index)) + x  # Residual connection\n",
        "\n",
        "        # Global pooling\n",
        "        x = global_mean_pool(x, batch)\n",
        "\n",
        "        return x\n",
        "\n",
        "# Pretraining wrapper\n",
        "class PretrainingWrapper(nn.Module):\n",
        "    def __init__(self, gnn, num_geometry_types):\n",
        "        super().__init__()\n",
        "        self.gnn = gnn\n",
        "        self.projection = nn.Linear(256, 128)\n",
        "        self.geometry_cls = nn.Linear(128, num_geometry_types)\n",
        "\n",
        "    def forward(self, data):\n",
        "        x = self.gnn(data)\n",
        "        x = self.projection(x)\n",
        "        return self.geometry_cls(x)\n",
        "\n",
        "# Pretraining function\n",
        "def pretrain(model, train_loader, val_loader, epochs=100, lr=1e-4, device='cuda'):\n",
        "    model = model.to(device)\n",
        "    optimizer = torch.optim.AdamW(model.parameters(), lr=lr, weight_decay=1e-5)\n",
        "    scheduler = torch.optim.lr_scheduler.CosineAnnealingLR(optimizer, T_max=epochs)\n",
        "    criterion = nn.CrossEntropyLoss()\n",
        "\n",
        "    best_val_acc = 0\n",
        "    for epoch in range(epochs):\n",
        "        model.train()\n",
        "        total_loss = 0\n",
        "        correct = 0\n",
        "        total = 0\n",
        "        for batch in tqdm(train_loader, desc=f\"Epoch {epoch+1}/{epochs}\"):\n",
        "            batch = batch.to(device)\n",
        "            optimizer.zero_grad()\n",
        "            out = model(batch)\n",
        "            loss = criterion(out, batch.geometry_encoded)\n",
        "            loss.backward()\n",
        "            torch.nn.utils.clip_grad_norm_(model.parameters(), 1.0)\n",
        "            optimizer.step()\n",
        "\n",
        "            total_loss += loss.item()\n",
        "            _, predicted = out.max(1)\n",
        "            total += batch.geometry_encoded.size(0)\n",
        "            correct += predicted.eq(batch.geometry_encoded).sum().item()\n",
        "\n",
        "        train_acc = correct / total\n",
        "        avg_loss = total_loss / len(train_loader)\n",
        "        print(f\"Epoch {epoch+1}/{epochs}, Train Loss: {avg_loss:.4f}, Train Acc: {train_acc:.4f}\")\n",
        "\n",
        "        # Validation\n",
        "        model.eval()\n",
        "        val_correct = 0\n",
        "        val_total = 0\n",
        "        with torch.no_grad():\n",
        "            for batch in val_loader:\n",
        "                batch = batch.to(device)\n",
        "                out = model(batch)\n",
        "                _, predicted = out.max(1)\n",
        "                val_total += batch.geometry_encoded.size(0)\n",
        "                val_correct += predicted.eq(batch.geometry_encoded).sum().item()\n",
        "\n",
        "        val_acc = val_correct / val_total\n",
        "        print(f\"Validation Accuracy: {val_acc:.4f}\")\n",
        "\n",
        "        if val_acc > best_val_acc:\n",
        "            best_val_acc = val_acc\n",
        "            torch.save(model.state_dict(), 'best_pretrained_model.pth')\n",
        "\n",
        "        scheduler.step()\n",
        "\n",
        "    print(f\"Best Validation Accuracy: {best_val_acc:.4f}\")\n",
        "\n",
        "# Main execution\n",
        "if __name__ == \"__main__\":\n",
        "    # Assuming valid_df is your DataFrame with preprocessed data\n",
        "    graphs = valid_df['graph'].tolist()\n",
        "    labels = valid_df['geometry_encoded'].tolist()\n",
        "\n",
        "    # Create PyTorch Geometric dataset\n",
        "    dataset = [Data(x=g.x, edge_index=g.edge_index, geometry_encoded=torch.tensor(l, dtype=torch.long)) for g, l in zip(graphs, labels)]\n",
        "\n",
        "    # Split dataset\n",
        "    train_data, val_data = train_test_split(dataset, test_size=0.2, random_state=42)\n",
        "\n",
        "    # Create data loaders\n",
        "    train_loader = DataLoader(train_data, batch_size=32, shuffle=True)\n",
        "    val_loader = DataLoader(val_data, batch_size=32)\n",
        "\n",
        "    # Initialize model\n",
        "    input_dim = dataset[0].x.size(1)  # Number of node features\n",
        "    num_geometry_types = len(valid_df['geometry'].unique())\n",
        "    gnn = GeometryAwareGNN(input_dim)\n",
        "    model = PretrainingWrapper(gnn, num_geometry_types)\n",
        "\n",
        "    # Set device\n",
        "    device = torch.device('cuda' if torch.cuda.is_available() else 'cpu')\n",
        "    print(f\"Using device: {device}\")\n",
        "\n",
        "    # Pretrain\n",
        "    pretrain(model, train_loader, val_loader, epochs=100, lr=1e-4, device=device)\n",
        "\n",
        "    print(\"Pretraining completed!\")\n"
      ],
      "metadata": {
        "colab": {
          "base_uri": "https://localhost:8080/"
        },
        "id": "MQ37lWXv4OVU",
        "outputId": "74c88c2d-de0c-4404-e87a-e83d2867ba6e"
      },
      "execution_count": null,
      "outputs": [
        {
          "metadata": {
            "tags": null
          },
          "name": "stdout",
          "output_type": "stream",
          "text": [
            "Using device: cpu\n"
          ]
        },
        {
          "metadata": {
            "tags": null
          },
          "name": "stderr",
          "output_type": "stream",
          "text": [
            "Epoch 1/100: 100%|██████████| 2072/2072 [10:44<00:00,  3.22it/s]\n"
          ]
        },
        {
          "metadata": {
            "tags": null
          },
          "name": "stdout",
          "output_type": "stream",
          "text": [
            "Epoch 1/100, Train Loss: 1.4198, Train Acc: 0.5535\n",
            "Validation Accuracy: 0.5596\n"
          ]
        },
        {
          "metadata": {
            "tags": null
          },
          "name": "stderr",
          "output_type": "stream",
          "text": [
            "Epoch 2/100: 100%|██████████| 2072/2072 [10:25<00:00,  3.31it/s]\n"
          ]
        },
        {
          "metadata": {
            "tags": null
          },
          "name": "stdout",
          "output_type": "stream",
          "text": [
            "Epoch 2/100, Train Loss: 1.3538, Train Acc: 0.5640\n",
            "Validation Accuracy: 0.5637\n"
          ]
        },
        {
          "metadata": {
            "tags": null
          },
          "name": "stderr",
          "output_type": "stream",
          "text": [
            "Epoch 3/100: 100%|██████████| 2072/2072 [10:26<00:00,  3.31it/s]\n"
          ]
        },
        {
          "metadata": {
            "tags": null
          },
          "name": "stdout",
          "output_type": "stream",
          "text": [
            "Epoch 3/100, Train Loss: 1.3359, Train Acc: 0.5687\n",
            "Validation Accuracy: 0.5604\n"
          ]
        },
        {
          "metadata": {
            "tags": null
          },
          "name": "stderr",
          "output_type": "stream",
          "text": [
            "Epoch 4/100: 100%|██████████| 2072/2072 [10:25<00:00,  3.31it/s]\n"
          ]
        },
        {
          "metadata": {
            "tags": null
          },
          "name": "stdout",
          "output_type": "stream",
          "text": [
            "Epoch 4/100, Train Loss: 1.3224, Train Acc: 0.5728\n",
            "Validation Accuracy: 0.5615\n"
          ]
        },
        {
          "metadata": {
            "tags": null
          },
          "name": "stderr",
          "output_type": "stream",
          "text": [
            "Epoch 5/100: 100%|██████████| 2072/2072 [08:14<00:00,  4.19it/s]\n"
          ]
        },
        {
          "metadata": {
            "tags": null
          },
          "name": "stdout",
          "output_type": "stream",
          "text": [
            "Epoch 5/100, Train Loss: 1.3128, Train Acc: 0.5741\n",
            "Validation Accuracy: 0.5686\n"
          ]
        },
        {
          "metadata": {
            "tags": null
          },
          "name": "stderr",
          "output_type": "stream",
          "text": [
            "Epoch 6/100: 100%|██████████| 2072/2072 [08:03<00:00,  4.29it/s]\n"
          ]
        },
        {
          "metadata": {
            "tags": null
          },
          "name": "stdout",
          "output_type": "stream",
          "text": [
            "Epoch 6/100, Train Loss: 1.3025, Train Acc: 0.5749\n",
            "Validation Accuracy: 0.5722\n"
          ]
        },
        {
          "metadata": {
            "tags": null
          },
          "name": "stderr",
          "output_type": "stream",
          "text": [
            "Epoch 7/100: 100%|██████████| 2072/2072 [08:00<00:00,  4.31it/s]\n"
          ]
        },
        {
          "metadata": {
            "tags": null
          },
          "name": "stdout",
          "output_type": "stream",
          "text": [
            "Epoch 7/100, Train Loss: 1.2934, Train Acc: 0.5761\n",
            "Validation Accuracy: 0.5739\n"
          ]
        },
        {
          "metadata": {
            "tags": null
          },
          "name": "stderr",
          "output_type": "stream",
          "text": [
            "Epoch 8/100: 100%|██████████| 2072/2072 [07:57<00:00,  4.34it/s]\n"
          ]
        },
        {
          "metadata": {
            "tags": null
          },
          "name": "stdout",
          "output_type": "stream",
          "text": [
            "Epoch 8/100, Train Loss: 1.2834, Train Acc: 0.5775\n",
            "Validation Accuracy: 0.5727\n"
          ]
        },
        {
          "metadata": {
            "tags": null
          },
          "name": "stderr",
          "output_type": "stream",
          "text": [
            "Epoch 9/100: 100%|██████████| 2072/2072 [07:55<00:00,  4.35it/s]\n"
          ]
        },
        {
          "metadata": {
            "tags": null
          },
          "name": "stdout",
          "output_type": "stream",
          "text": [
            "Epoch 9/100, Train Loss: 1.2740, Train Acc: 0.5794\n",
            "Validation Accuracy: 0.5739\n"
          ]
        },
        {
          "metadata": {
            "tags": null
          },
          "name": "stderr",
          "output_type": "stream",
          "text": [
            "Epoch 10/100: 100%|██████████| 2072/2072 [07:58<00:00,  4.33it/s]\n"
          ]
        },
        {
          "metadata": {
            "tags": null
          },
          "name": "stdout",
          "output_type": "stream",
          "text": [
            "Epoch 10/100, Train Loss: 1.2672, Train Acc: 0.5814\n",
            "Validation Accuracy: 0.5719\n"
          ]
        },
        {
          "metadata": {
            "tags": null
          },
          "name": "stderr",
          "output_type": "stream",
          "text": [
            "Epoch 11/100: 100%|██████████| 2072/2072 [08:06<00:00,  4.26it/s]\n"
          ]
        },
        {
          "metadata": {
            "tags": null
          },
          "name": "stdout",
          "output_type": "stream",
          "text": [
            "Epoch 11/100, Train Loss: 1.2608, Train Acc: 0.5823\n",
            "Validation Accuracy: 0.5767\n"
          ]
        },
        {
          "metadata": {
            "tags": null
          },
          "name": "stderr",
          "output_type": "stream",
          "text": [
            "Epoch 12/100: 100%|██████████| 2072/2072 [08:01<00:00,  4.30it/s]\n"
          ]
        },
        {
          "metadata": {
            "tags": null
          },
          "name": "stdout",
          "output_type": "stream",
          "text": [
            "Epoch 12/100, Train Loss: 1.2519, Train Acc: 0.5848\n",
            "Validation Accuracy: 0.5840\n"
          ]
        },
        {
          "metadata": {
            "tags": null
          },
          "name": "stderr",
          "output_type": "stream",
          "text": [
            "Epoch 13/100: 100%|██████████| 2072/2072 [07:56<00:00,  4.34it/s]\n"
          ]
        },
        {
          "metadata": {
            "tags": null
          },
          "name": "stdout",
          "output_type": "stream",
          "text": [
            "Epoch 13/100, Train Loss: 1.2461, Train Acc: 0.5886\n",
            "Validation Accuracy: 0.5817\n"
          ]
        },
        {
          "metadata": {
            "tags": null
          },
          "name": "stderr",
          "output_type": "stream",
          "text": [
            "Epoch 14/100: 100%|██████████| 2072/2072 [07:55<00:00,  4.36it/s]\n"
          ]
        },
        {
          "metadata": {
            "tags": null
          },
          "name": "stdout",
          "output_type": "stream",
          "text": [
            "Epoch 14/100, Train Loss: 1.2397, Train Acc: 0.5904\n",
            "Validation Accuracy: 0.5784\n"
          ]
        },
        {
          "metadata": {
            "tags": null
          },
          "name": "stderr",
          "output_type": "stream",
          "text": [
            "Epoch 15/100: 100%|██████████| 2072/2072 [07:55<00:00,  4.36it/s]\n"
          ]
        },
        {
          "metadata": {
            "tags": null
          },
          "name": "stdout",
          "output_type": "stream",
          "text": [
            "Epoch 15/100, Train Loss: 1.2345, Train Acc: 0.5922\n",
            "Validation Accuracy: 0.5850\n"
          ]
        },
        {
          "metadata": {
            "tags": null
          },
          "name": "stderr",
          "output_type": "stream",
          "text": [
            "Epoch 16/100: 100%|██████████| 2072/2072 [07:59<00:00,  4.32it/s]\n"
          ]
        },
        {
          "metadata": {
            "tags": null
          },
          "name": "stdout",
          "output_type": "stream",
          "text": [
            "Epoch 16/100, Train Loss: 1.2286, Train Acc: 0.5947\n",
            "Validation Accuracy: 0.5899\n"
          ]
        },
        {
          "metadata": {
            "tags": null
          },
          "name": "stderr",
          "output_type": "stream",
          "text": [
            "Epoch 17/100: 100%|██████████| 2072/2072 [08:05<00:00,  4.27it/s]\n"
          ]
        },
        {
          "metadata": {
            "tags": null
          },
          "name": "stdout",
          "output_type": "stream",
          "text": [
            "Epoch 17/100, Train Loss: 1.2238, Train Acc: 0.5958\n",
            "Validation Accuracy: 0.5844\n"
          ]
        },
        {
          "metadata": {
            "tags": null
          },
          "name": "stderr",
          "output_type": "stream",
          "text": [
            "Epoch 18/100: 100%|██████████| 2072/2072 [08:09<00:00,  4.23it/s]\n"
          ]
        },
        {
          "metadata": {
            "tags": null
          },
          "name": "stdout",
          "output_type": "stream",
          "text": [
            "Epoch 18/100, Train Loss: 1.2181, Train Acc: 0.5987\n",
            "Validation Accuracy: 0.5910\n"
          ]
        },
        {
          "metadata": {
            "tags": null
          },
          "name": "stderr",
          "output_type": "stream",
          "text": [
            "Epoch 19/100: 100%|██████████| 2072/2072 [07:52<00:00,  4.38it/s]\n"
          ]
        },
        {
          "metadata": {
            "tags": null
          },
          "name": "stdout",
          "output_type": "stream",
          "text": [
            "Epoch 19/100, Train Loss: 1.2128, Train Acc: 0.5997\n",
            "Validation Accuracy: 0.5918\n"
          ]
        },
        {
          "metadata": {
            "tags": null
          },
          "name": "stderr",
          "output_type": "stream",
          "text": [
            "Epoch 20/100: 100%|██████████| 2072/2072 [07:53<00:00,  4.37it/s]\n"
          ]
        },
        {
          "metadata": {
            "tags": null
          },
          "name": "stdout",
          "output_type": "stream",
          "text": [
            "Epoch 20/100, Train Loss: 1.2077, Train Acc: 0.6030\n",
            "Validation Accuracy: 0.5966\n"
          ]
        },
        {
          "metadata": {
            "tags": null
          },
          "name": "stderr",
          "output_type": "stream",
          "text": [
            "Epoch 21/100: 100%|██████████| 2072/2072 [07:53<00:00,  4.38it/s]\n"
          ]
        },
        {
          "metadata": {
            "tags": null
          },
          "name": "stdout",
          "output_type": "stream",
          "text": [
            "Epoch 21/100, Train Loss: 1.2029, Train Acc: 0.6033\n",
            "Validation Accuracy: 0.5949\n"
          ]
        },
        {
          "metadata": {
            "tags": null
          },
          "name": "stderr",
          "output_type": "stream",
          "text": [
            "Epoch 22/100: 100%|██████████| 2072/2072 [07:53<00:00,  4.38it/s]\n"
          ]
        },
        {
          "metadata": {
            "tags": null
          },
          "name": "stdout",
          "output_type": "stream",
          "text": [
            "Epoch 22/100, Train Loss: 1.1973, Train Acc: 0.6060\n",
            "Validation Accuracy: 0.5995\n"
          ]
        },
        {
          "metadata": {
            "tags": null
          },
          "name": "stderr",
          "output_type": "stream",
          "text": [
            "Epoch 23/100: 100%|██████████| 2072/2072 [07:52<00:00,  4.38it/s]\n"
          ]
        },
        {
          "metadata": {
            "tags": null
          },
          "name": "stdout",
          "output_type": "stream",
          "text": [
            "Epoch 23/100, Train Loss: 1.1924, Train Acc: 0.6077\n",
            "Validation Accuracy: 0.6028\n"
          ]
        },
        {
          "metadata": {
            "tags": null
          },
          "name": "stderr",
          "output_type": "stream",
          "text": [
            "Epoch 24/100: 100%|██████████| 2072/2072 [07:54<00:00,  4.37it/s]\n"
          ]
        },
        {
          "metadata": {
            "tags": null
          },
          "name": "stdout",
          "output_type": "stream",
          "text": [
            "Epoch 24/100, Train Loss: 1.1879, Train Acc: 0.6088\n",
            "Validation Accuracy: 0.6061\n"
          ]
        },
        {
          "metadata": {
            "tags": null
          },
          "name": "stderr",
          "output_type": "stream",
          "text": [
            "Epoch 25/100: 100%|██████████| 2072/2072 [07:52<00:00,  4.38it/s]\n"
          ]
        },
        {
          "metadata": {
            "tags": null
          },
          "name": "stdout",
          "output_type": "stream",
          "text": [
            "Epoch 25/100, Train Loss: 1.1836, Train Acc: 0.6111\n",
            "Validation Accuracy: 0.6091\n"
          ]
        },
        {
          "output_type": "stream",
          "name": "stderr",
          "text": [
            "Epoch 26/100: 100%|██████████| 2072/2072 [07:53<00:00,  4.38it/s]\n"
          ]
        },
        {
          "output_type": "stream",
          "name": "stdout",
          "text": [
            "Epoch 26/100, Train Loss: 1.1789, Train Acc: 0.6138\n",
            "Validation Accuracy: 0.6045\n"
          ]
        },
        {
          "output_type": "stream",
          "name": "stderr",
          "text": [
            "Epoch 27/100: 100%|██████████| 2072/2072 [07:55<00:00,  4.36it/s]\n"
          ]
        },
        {
          "output_type": "stream",
          "name": "stdout",
          "text": [
            "Epoch 27/100, Train Loss: 1.1725, Train Acc: 0.6147\n",
            "Validation Accuracy: 0.6095\n"
          ]
        },
        {
          "output_type": "stream",
          "name": "stderr",
          "text": [
            "Epoch 28/100: 100%|██████████| 2072/2072 [07:55<00:00,  4.36it/s]\n"
          ]
        },
        {
          "output_type": "stream",
          "name": "stdout",
          "text": [
            "Epoch 28/100, Train Loss: 1.1695, Train Acc: 0.6148\n",
            "Validation Accuracy: 0.6109\n"
          ]
        },
        {
          "output_type": "stream",
          "name": "stderr",
          "text": [
            "Epoch 29/100: 100%|██████████| 2072/2072 [07:55<00:00,  4.35it/s]\n"
          ]
        },
        {
          "output_type": "stream",
          "name": "stdout",
          "text": [
            "Epoch 29/100, Train Loss: 1.1645, Train Acc: 0.6177\n",
            "Validation Accuracy: 0.6053\n"
          ]
        },
        {
          "output_type": "stream",
          "name": "stderr",
          "text": [
            "Epoch 30/100: 100%|██████████| 2072/2072 [07:55<00:00,  4.35it/s]\n"
          ]
        },
        {
          "output_type": "stream",
          "name": "stdout",
          "text": [
            "Epoch 30/100, Train Loss: 1.1595, Train Acc: 0.6178\n",
            "Validation Accuracy: 0.6126\n"
          ]
        },
        {
          "output_type": "stream",
          "name": "stderr",
          "text": [
            "Epoch 31/100: 100%|██████████| 2072/2072 [07:56<00:00,  4.35it/s]\n"
          ]
        },
        {
          "output_type": "stream",
          "name": "stdout",
          "text": [
            "Epoch 31/100, Train Loss: 1.1549, Train Acc: 0.6210\n",
            "Validation Accuracy: 0.6059\n"
          ]
        },
        {
          "output_type": "stream",
          "name": "stderr",
          "text": [
            "Epoch 32/100: 100%|██████████| 2072/2072 [07:56<00:00,  4.35it/s]\n"
          ]
        },
        {
          "output_type": "stream",
          "name": "stdout",
          "text": [
            "Epoch 32/100, Train Loss: 1.1510, Train Acc: 0.6202\n",
            "Validation Accuracy: 0.6146\n"
          ]
        },
        {
          "output_type": "stream",
          "name": "stderr",
          "text": [
            "Epoch 33/100: 100%|██████████| 2072/2072 [07:55<00:00,  4.36it/s]\n"
          ]
        },
        {
          "output_type": "stream",
          "name": "stdout",
          "text": [
            "Epoch 33/100, Train Loss: 1.1472, Train Acc: 0.6214\n",
            "Validation Accuracy: 0.6132\n"
          ]
        },
        {
          "output_type": "stream",
          "name": "stderr",
          "text": [
            "Epoch 34/100: 100%|██████████| 2072/2072 [07:56<00:00,  4.34it/s]\n"
          ]
        },
        {
          "output_type": "stream",
          "name": "stdout",
          "text": [
            "Epoch 34/100, Train Loss: 1.1426, Train Acc: 0.6240\n",
            "Validation Accuracy: 0.6146\n"
          ]
        },
        {
          "output_type": "stream",
          "name": "stderr",
          "text": [
            "Epoch 35/100: 100%|██████████| 2072/2072 [07:57<00:00,  4.34it/s]\n"
          ]
        },
        {
          "output_type": "stream",
          "name": "stdout",
          "text": [
            "Epoch 35/100, Train Loss: 1.1367, Train Acc: 0.6258\n",
            "Validation Accuracy: 0.6181\n"
          ]
        },
        {
          "output_type": "stream",
          "name": "stderr",
          "text": [
            "Epoch 36/100: 100%|██████████| 2072/2072 [07:56<00:00,  4.35it/s]\n"
          ]
        },
        {
          "output_type": "stream",
          "name": "stdout",
          "text": [
            "Epoch 36/100, Train Loss: 1.1328, Train Acc: 0.6268\n",
            "Validation Accuracy: 0.6185\n"
          ]
        },
        {
          "output_type": "stream",
          "name": "stderr",
          "text": [
            "Epoch 37/100: 100%|██████████| 2072/2072 [07:57<00:00,  4.34it/s]\n"
          ]
        },
        {
          "output_type": "stream",
          "name": "stdout",
          "text": [
            "Epoch 37/100, Train Loss: 1.1296, Train Acc: 0.6292\n",
            "Validation Accuracy: 0.6210\n"
          ]
        },
        {
          "output_type": "stream",
          "name": "stderr",
          "text": [
            "Epoch 38/100: 100%|██████████| 2072/2072 [08:00<00:00,  4.31it/s]\n"
          ]
        },
        {
          "output_type": "stream",
          "name": "stdout",
          "text": [
            "Epoch 38/100, Train Loss: 1.1258, Train Acc: 0.6302\n",
            "Validation Accuracy: 0.6204\n"
          ]
        },
        {
          "output_type": "stream",
          "name": "stderr",
          "text": [
            "Epoch 39/100: 100%|██████████| 2072/2072 [07:59<00:00,  4.32it/s]\n"
          ]
        },
        {
          "output_type": "stream",
          "name": "stdout",
          "text": [
            "Epoch 39/100, Train Loss: 1.1211, Train Acc: 0.6313\n",
            "Validation Accuracy: 0.6229\n"
          ]
        },
        {
          "output_type": "stream",
          "name": "stderr",
          "text": [
            "Epoch 40/100: 100%|██████████| 2072/2072 [07:58<00:00,  4.33it/s]\n"
          ]
        },
        {
          "output_type": "stream",
          "name": "stdout",
          "text": [
            "Epoch 40/100, Train Loss: 1.1171, Train Acc: 0.6314\n",
            "Validation Accuracy: 0.6242\n"
          ]
        },
        {
          "output_type": "stream",
          "name": "stderr",
          "text": [
            "Epoch 41/100: 100%|██████████| 2072/2072 [07:59<00:00,  4.32it/s]\n"
          ]
        },
        {
          "output_type": "stream",
          "name": "stdout",
          "text": [
            "Epoch 41/100, Train Loss: 1.1122, Train Acc: 0.6339\n",
            "Validation Accuracy: 0.6172\n"
          ]
        },
        {
          "output_type": "stream",
          "name": "stderr",
          "text": [
            "Epoch 42/100: 100%|██████████| 2072/2072 [08:00<00:00,  4.31it/s]\n"
          ]
        },
        {
          "output_type": "stream",
          "name": "stdout",
          "text": [
            "Epoch 42/100, Train Loss: 1.1090, Train Acc: 0.6353\n",
            "Validation Accuracy: 0.6256\n"
          ]
        },
        {
          "output_type": "stream",
          "name": "stderr",
          "text": [
            "Epoch 43/100: 100%|██████████| 2072/2072 [08:00<00:00,  4.32it/s]\n"
          ]
        },
        {
          "output_type": "stream",
          "name": "stdout",
          "text": [
            "Epoch 43/100, Train Loss: 1.1053, Train Acc: 0.6353\n",
            "Validation Accuracy: 0.6290\n"
          ]
        },
        {
          "output_type": "stream",
          "name": "stderr",
          "text": [
            "Epoch 44/100: 100%|██████████| 2072/2072 [08:01<00:00,  4.30it/s]\n"
          ]
        },
        {
          "output_type": "stream",
          "name": "stdout",
          "text": [
            "Epoch 44/100, Train Loss: 1.1015, Train Acc: 0.6378\n",
            "Validation Accuracy: 0.6256\n"
          ]
        },
        {
          "output_type": "stream",
          "name": "stderr",
          "text": [
            "Epoch 45/100: 100%|██████████| 2072/2072 [08:01<00:00,  4.31it/s]\n"
          ]
        },
        {
          "output_type": "stream",
          "name": "stdout",
          "text": [
            "Epoch 45/100, Train Loss: 1.0977, Train Acc: 0.6380\n",
            "Validation Accuracy: 0.6256\n"
          ]
        },
        {
          "output_type": "stream",
          "name": "stderr",
          "text": [
            "Epoch 46/100: 100%|██████████| 2072/2072 [08:01<00:00,  4.30it/s]\n"
          ]
        },
        {
          "output_type": "stream",
          "name": "stdout",
          "text": [
            "Epoch 46/100, Train Loss: 1.0932, Train Acc: 0.6387\n",
            "Validation Accuracy: 0.6292\n"
          ]
        },
        {
          "output_type": "stream",
          "name": "stderr",
          "text": [
            "Epoch 47/100: 100%|██████████| 2072/2072 [08:02<00:00,  4.29it/s]\n"
          ]
        },
        {
          "output_type": "stream",
          "name": "stdout",
          "text": [
            "Epoch 47/100, Train Loss: 1.0903, Train Acc: 0.6412\n",
            "Validation Accuracy: 0.6272\n"
          ]
        },
        {
          "output_type": "stream",
          "name": "stderr",
          "text": [
            "Epoch 48/100: 100%|██████████| 2072/2072 [08:03<00:00,  4.29it/s]\n"
          ]
        },
        {
          "output_type": "stream",
          "name": "stdout",
          "text": [
            "Epoch 48/100, Train Loss: 1.0859, Train Acc: 0.6420\n",
            "Validation Accuracy: 0.6287\n"
          ]
        },
        {
          "output_type": "stream",
          "name": "stderr",
          "text": [
            "Epoch 49/100: 100%|██████████| 2072/2072 [08:03<00:00,  4.29it/s]\n"
          ]
        },
        {
          "output_type": "stream",
          "name": "stdout",
          "text": [
            "Epoch 49/100, Train Loss: 1.0825, Train Acc: 0.6434\n",
            "Validation Accuracy: 0.6281\n"
          ]
        },
        {
          "output_type": "stream",
          "name": "stderr",
          "text": [
            "Epoch 50/100: 100%|██████████| 2072/2072 [08:03<00:00,  4.29it/s]\n"
          ]
        },
        {
          "output_type": "stream",
          "name": "stdout",
          "text": [
            "Epoch 50/100, Train Loss: 1.0785, Train Acc: 0.6438\n",
            "Validation Accuracy: 0.6264\n"
          ]
        },
        {
          "output_type": "stream",
          "name": "stderr",
          "text": [
            "Epoch 51/100: 100%|██████████| 2072/2072 [08:03<00:00,  4.29it/s]\n"
          ]
        },
        {
          "output_type": "stream",
          "name": "stdout",
          "text": [
            "Epoch 51/100, Train Loss: 1.0749, Train Acc: 0.6441\n",
            "Validation Accuracy: 0.6339\n"
          ]
        },
        {
          "output_type": "stream",
          "name": "stderr",
          "text": [
            "Epoch 52/100: 100%|██████████| 2072/2072 [08:03<00:00,  4.29it/s]\n"
          ]
        },
        {
          "output_type": "stream",
          "name": "stdout",
          "text": [
            "Epoch 52/100, Train Loss: 1.0713, Train Acc: 0.6459\n",
            "Validation Accuracy: 0.6336\n"
          ]
        },
        {
          "output_type": "stream",
          "name": "stderr",
          "text": [
            "Epoch 53/100:  59%|█████▉    | 1222/2072 [04:44<03:16,  4.33it/s]"
          ]
        }
      ]
    },
    {
      "cell_type": "code",
      "source": [
        "import torch\n",
        "import torch.nn as nn\n",
        "import torch.nn.functional as F\n",
        "from torch_geometric.nn import GATConv, global_mean_pool\n",
        "from torch_geometric.data import DataLoader\n",
        "from sklearn.model_selection import train_test_split\n",
        "from tqdm import tqdm\n",
        "\n",
        "class GeometryAwareGNN(nn.Module):\n",
        "    def __init__(self, input_dim, hidden_dim=256, num_layers=5):\n",
        "        super().__init__()\n",
        "        self.atom_conv = GATConv(input_dim, hidden_dim, heads=4, concat=False)\n",
        "        self.layers = nn.ModuleList([\n",
        "            GATConv(hidden_dim, hidden_dim, heads=4, concat=False) for _ in range(num_layers)\n",
        "        ])\n",
        "        self.spatial_attn = nn.MultiheadAttention(hidden_dim, num_heads=4)\n",
        "\n",
        "    def forward(self, data):\n",
        "        x, edge_index, batch = data.x, data.edge_index, data.batch\n",
        "        x = F.elu(self.atom_conv(x, edge_index))\n",
        "\n",
        "        for layer in self.layers:\n",
        "            x = F.elu(layer(x, edge_index)) + x  # Residual connection\n",
        "\n",
        "        # Global pooling\n",
        "        x = global_mean_pool(x, batch)\n",
        "\n",
        "        return x\n",
        "\n",
        "# Pretraining wrapper\n",
        "class PretrainingWrapper(nn.Module):\n",
        "    def __init__(self, gnn, num_geometry_types):\n",
        "        super().__init__()\n",
        "        self.gnn = gnn\n",
        "        self.projection = nn.Linear(256, 128)\n",
        "        self.geometry_cls = nn.Linear(128, num_geometry_types)\n",
        "\n",
        "    def forward(self, data):\n",
        "        x = self.gnn(data)\n",
        "        x = self.projection(x)\n",
        "        return self.geometry_cls(x)\n",
        "\n",
        "# Pretraining function\n",
        "def pretrain(model, train_loader, val_loader, epochs=100, lr=1e-4, device='cuda'):\n",
        "    model = model.to(device)\n",
        "    optimizer = torch.optim.AdamW(model.parameters(), lr=lr, weight_decay=1e-5)\n",
        "    scheduler = torch.optim.lr_scheduler.CosineAnnealingLR(optimizer, T_max=epochs)\n",
        "    criterion = nn.CrossEntropyLoss()\n",
        "\n",
        "    best_val_acc = 0\n",
        "    for epoch in range(epochs):\n",
        "        model.train()\n",
        "        total_loss = 0\n",
        "        correct = 0\n",
        "        total = 0\n",
        "        for batch in tqdm(train_loader, desc=f\"Epoch {epoch+1}/{epochs}\"):\n",
        "            batch = batch.to(device)\n",
        "            optimizer.zero_grad()\n",
        "            out = model(batch)\n",
        "            loss = criterion(out, batch.geometry_encoded)\n",
        "            loss.backward()\n",
        "            torch.nn.utils.clip_grad_norm_(model.parameters(), 1.0)\n",
        "            optimizer.step()\n",
        "\n",
        "            total_loss += loss.item()\n",
        "            _, predicted = out.max(1)\n",
        "            total += batch.geometry_encoded.size(0)\n",
        "            correct += predicted.eq(batch.geometry_encoded).sum().item()\n",
        "\n",
        "        train_acc = correct / total\n",
        "        avg_loss = total_loss / len(train_loader)\n",
        "        print(f\"Epoch {epoch+1}/{epochs}, Train Loss: {avg_loss:.4f}, Train Acc: {train_acc:.4f}\")\n",
        "\n",
        "        # Validation\n",
        "        model.eval()\n",
        "        val_correct = 0\n",
        "        val_total = 0\n",
        "        with torch.no_grad():\n",
        "            for batch in val_loader:\n",
        "                batch = batch.to(device)\n",
        "                out = model(batch)\n",
        "                _, predicted = out.max(1)\n",
        "                val_total += batch.geometry_encoded.size(0)\n",
        "                val_correct += predicted.eq(batch.geometry_encoded).sum().item()\n",
        "\n",
        "        val_acc = val_correct / val_total\n",
        "        print(f\"Validation Accuracy: {val_acc:.4f}\")\n",
        "\n",
        "        if val_acc > best_val_acc:\n",
        "            best_val_acc = val_acc\n",
        "            torch.save(model.state_dict(), 'best_pretrained_model.pth')\n",
        "\n",
        "        scheduler.step()\n",
        "\n",
        "    print(f\"Best Validation Accuracy: {best_val_acc:.4f}\")\n",
        "\n",
        "# Main execution\n",
        "if __name__ == \"__main__\":\n",
        "    # Assuming valid_df is your DataFrame with preprocessed data\n",
        "    graphs = valid_df['graph'].tolist()\n",
        "    labels = valid_df['geometry_encoded'].tolist()\n",
        "\n",
        "    # Create PyTorch Geometric dataset\n",
        "    dataset = [Data(x=g.x, edge_index=g.edge_index, geometry_encoded=torch.tensor(l, dtype=torch.long)) for g, l in zip(graphs, labels)]\n",
        "\n",
        "    # Split dataset\n",
        "    train_data, val_data = train_test_split(dataset, test_size=0.2, random_state=42)\n",
        "\n",
        "    # Create data loaders\n",
        "    train_loader = DataLoader(train_data, batch_size=32, shuffle=True)\n",
        "    val_loader = DataLoader(val_data, batch_size=32)\n",
        "\n",
        "    # Initialize model\n",
        "    input_dim = dataset[0].x.size(1)  # Number of node features\n",
        "    num_geometry_types = len(valid_df['geometry'].unique())\n",
        "    gnn = GeometryAwareGNN(input_dim)\n",
        "    model = PretrainingWrapper(gnn, num_geometry_types)\n",
        "\n",
        "    # Set device\n",
        "    device = torch.device('cuda' if torch.cuda.is_available() else 'cpu')\n",
        "    print(f\"Using device: {device}\")\n",
        "\n",
        "    # Pretrain\n",
        "    pretrain(model, train_loader, val_loader, epochs=100, lr=1e-4, device=device)\n",
        "\n",
        "    print(\"Pretraining completed!\")\n"
      ],
      "metadata": {
        "colab": {
          "base_uri": "https://localhost:8080/"
        },
        "outputId": "45769f0d-09ed-4081-f7b4-9f27c374b9c5",
        "id": "AMaqrpQNqXr6"
      },
      "execution_count": null,
      "outputs": [
        {
          "metadata": {
            "tags": null
          },
          "name": "stderr",
          "output_type": "stream",
          "text": [
            "/usr/local/lib/python3.11/dist-packages/torch_geometric/deprecation.py:26: UserWarning: 'data.DataLoader' is deprecated, use 'loader.DataLoader' instead\n",
            "  warnings.warn(out)\n"
          ]
        },
        {
          "metadata": {
            "tags": null
          },
          "name": "stdout",
          "output_type": "stream",
          "text": [
            "Using device: cpu\n"
          ]
        },
        {
          "metadata": {
            "tags": null
          },
          "name": "stderr",
          "output_type": "stream",
          "text": [
            "Epoch 1/100: 100%|██████████| 2072/2072 [09:13<00:00,  3.75it/s]\n"
          ]
        },
        {
          "metadata": {
            "tags": null
          },
          "name": "stdout",
          "output_type": "stream",
          "text": [
            "Epoch 1/100, Train Loss: 1.4233, Train Acc: 0.5538\n",
            "Validation Accuracy: 0.5536\n"
          ]
        },
        {
          "metadata": {
            "tags": null
          },
          "name": "stderr",
          "output_type": "stream",
          "text": [
            "Epoch 2/100: 100%|██████████| 2072/2072 [08:53<00:00,  3.88it/s]\n"
          ]
        },
        {
          "metadata": {
            "tags": null
          },
          "name": "stdout",
          "output_type": "stream",
          "text": [
            "Epoch 2/100, Train Loss: 1.3619, Train Acc: 0.5611\n",
            "Validation Accuracy: 0.5587\n"
          ]
        },
        {
          "metadata": {
            "tags": null
          },
          "name": "stderr",
          "output_type": "stream",
          "text": [
            "Epoch 3/100: 100%|██████████| 2072/2072 [08:50<00:00,  3.90it/s]\n"
          ]
        },
        {
          "metadata": {
            "tags": null
          },
          "name": "stdout",
          "output_type": "stream",
          "text": [
            "Epoch 3/100, Train Loss: 1.3441, Train Acc: 0.5662\n",
            "Validation Accuracy: 0.5650\n"
          ]
        },
        {
          "metadata": {
            "tags": null
          },
          "name": "stderr",
          "output_type": "stream",
          "text": [
            "Epoch 4/100: 100%|██████████| 2072/2072 [08:50<00:00,  3.90it/s]\n"
          ]
        },
        {
          "metadata": {
            "tags": null
          },
          "name": "stdout",
          "output_type": "stream",
          "text": [
            "Epoch 4/100, Train Loss: 1.3303, Train Acc: 0.5719\n",
            "Validation Accuracy: 0.5680\n"
          ]
        },
        {
          "metadata": {
            "tags": null
          },
          "name": "stderr",
          "output_type": "stream",
          "text": [
            "Epoch 5/100: 100%|██████████| 2072/2072 [08:43<00:00,  3.96it/s]\n"
          ]
        },
        {
          "metadata": {
            "tags": null
          },
          "name": "stdout",
          "output_type": "stream",
          "text": [
            "Epoch 5/100, Train Loss: 1.3189, Train Acc: 0.5740\n",
            "Validation Accuracy: 0.5709\n"
          ]
        },
        {
          "metadata": {
            "tags": null
          },
          "name": "stderr",
          "output_type": "stream",
          "text": [
            "Epoch 6/100: 100%|██████████| 2072/2072 [08:46<00:00,  3.94it/s]\n"
          ]
        },
        {
          "metadata": {
            "tags": null
          },
          "name": "stdout",
          "output_type": "stream",
          "text": [
            "Epoch 6/100, Train Loss: 1.3088, Train Acc: 0.5757\n",
            "Validation Accuracy: 0.5735\n"
          ]
        },
        {
          "metadata": {
            "tags": null
          },
          "name": "stderr",
          "output_type": "stream",
          "text": [
            "Epoch 7/100: 100%|██████████| 2072/2072 [08:42<00:00,  3.96it/s]\n"
          ]
        },
        {
          "metadata": {
            "tags": null
          },
          "name": "stdout",
          "output_type": "stream",
          "text": [
            "Epoch 7/100, Train Loss: 1.2991, Train Acc: 0.5763\n",
            "Validation Accuracy: 0.5723\n"
          ]
        },
        {
          "metadata": {
            "tags": null
          },
          "name": "stderr",
          "output_type": "stream",
          "text": [
            "Epoch 8/100: 100%|██████████| 2072/2072 [08:47<00:00,  3.93it/s]\n"
          ]
        },
        {
          "metadata": {
            "tags": null
          },
          "name": "stdout",
          "output_type": "stream",
          "text": [
            "Epoch 8/100, Train Loss: 1.2907, Train Acc: 0.5773\n",
            "Validation Accuracy: 0.5757\n"
          ]
        },
        {
          "metadata": {
            "tags": null
          },
          "name": "stderr",
          "output_type": "stream",
          "text": [
            "Epoch 9/100: 100%|██████████| 2072/2072 [08:36<00:00,  4.01it/s]\n"
          ]
        },
        {
          "metadata": {
            "tags": null
          },
          "name": "stdout",
          "output_type": "stream",
          "text": [
            "Epoch 9/100, Train Loss: 1.2826, Train Acc: 0.5798\n",
            "Validation Accuracy: 0.5756\n"
          ]
        },
        {
          "metadata": {
            "tags": null
          },
          "name": "stderr",
          "output_type": "stream",
          "text": [
            "Epoch 10/100: 100%|██████████| 2072/2072 [08:35<00:00,  4.02it/s]\n"
          ]
        },
        {
          "metadata": {
            "tags": null
          },
          "name": "stdout",
          "output_type": "stream",
          "text": [
            "Epoch 10/100, Train Loss: 1.2757, Train Acc: 0.5798\n",
            "Validation Accuracy: 0.5712\n"
          ]
        },
        {
          "metadata": {
            "tags": null
          },
          "name": "stderr",
          "output_type": "stream",
          "text": [
            "Epoch 11/100: 100%|██████████| 2072/2072 [08:38<00:00,  3.99it/s]\n"
          ]
        },
        {
          "metadata": {
            "tags": null
          },
          "name": "stdout",
          "output_type": "stream",
          "text": [
            "Epoch 11/100, Train Loss: 1.2676, Train Acc: 0.5821\n",
            "Validation Accuracy: 0.5755\n"
          ]
        },
        {
          "metadata": {
            "tags": null
          },
          "name": "stderr",
          "output_type": "stream",
          "text": [
            "Epoch 12/100: 100%|██████████| 2072/2072 [08:31<00:00,  4.05it/s]\n"
          ]
        },
        {
          "metadata": {
            "tags": null
          },
          "name": "stdout",
          "output_type": "stream",
          "text": [
            "Epoch 12/100, Train Loss: 1.2608, Train Acc: 0.5820\n",
            "Validation Accuracy: 0.5801\n"
          ]
        },
        {
          "metadata": {
            "tags": null
          },
          "name": "stderr",
          "output_type": "stream",
          "text": [
            "Epoch 13/100: 100%|██████████| 2072/2072 [08:32<00:00,  4.04it/s]\n"
          ]
        },
        {
          "metadata": {
            "tags": null
          },
          "name": "stdout",
          "output_type": "stream",
          "text": [
            "Epoch 13/100, Train Loss: 1.2538, Train Acc: 0.5861\n",
            "Validation Accuracy: 0.5848\n"
          ]
        },
        {
          "metadata": {
            "tags": null
          },
          "name": "stderr",
          "output_type": "stream",
          "text": [
            "Epoch 14/100: 100%|██████████| 2072/2072 [08:39<00:00,  3.99it/s]\n"
          ]
        },
        {
          "metadata": {
            "tags": null
          },
          "name": "stdout",
          "output_type": "stream",
          "text": [
            "Epoch 14/100, Train Loss: 1.2471, Train Acc: 0.5881\n",
            "Validation Accuracy: 0.5855\n"
          ]
        },
        {
          "metadata": {
            "tags": null
          },
          "name": "stderr",
          "output_type": "stream",
          "text": [
            "Epoch 15/100: 100%|██████████| 2072/2072 [08:36<00:00,  4.01it/s]\n"
          ]
        },
        {
          "metadata": {
            "tags": null
          },
          "name": "stdout",
          "output_type": "stream",
          "text": [
            "Epoch 15/100, Train Loss: 1.2406, Train Acc: 0.5895\n",
            "Validation Accuracy: 0.5848\n"
          ]
        },
        {
          "metadata": {
            "tags": null
          },
          "name": "stderr",
          "output_type": "stream",
          "text": [
            "Epoch 16/100: 100%|██████████| 2072/2072 [08:29<00:00,  4.06it/s]\n"
          ]
        },
        {
          "metadata": {
            "tags": null
          },
          "name": "stdout",
          "output_type": "stream",
          "text": [
            "Epoch 16/100, Train Loss: 1.2338, Train Acc: 0.5926\n",
            "Validation Accuracy: 0.5869\n"
          ]
        },
        {
          "metadata": {
            "tags": null
          },
          "name": "stderr",
          "output_type": "stream",
          "text": [
            "Epoch 17/100: 100%|██████████| 2072/2072 [08:33<00:00,  4.03it/s]\n"
          ]
        },
        {
          "metadata": {
            "tags": null
          },
          "name": "stdout",
          "output_type": "stream",
          "text": [
            "Epoch 17/100, Train Loss: 1.2268, Train Acc: 0.5944\n",
            "Validation Accuracy: 0.5899\n"
          ]
        },
        {
          "metadata": {
            "tags": null
          },
          "name": "stderr",
          "output_type": "stream",
          "text": [
            "Epoch 18/100: 100%|██████████| 2072/2072 [08:27<00:00,  4.09it/s]\n"
          ]
        },
        {
          "metadata": {
            "tags": null
          },
          "name": "stdout",
          "output_type": "stream",
          "text": [
            "Epoch 18/100, Train Loss: 1.2216, Train Acc: 0.5967\n",
            "Validation Accuracy: 0.5948\n"
          ]
        },
        {
          "metadata": {
            "tags": null
          },
          "name": "stderr",
          "output_type": "stream",
          "text": [
            "Epoch 19/100: 100%|██████████| 2072/2072 [08:26<00:00,  4.09it/s]\n"
          ]
        },
        {
          "metadata": {
            "tags": null
          },
          "name": "stdout",
          "output_type": "stream",
          "text": [
            "Epoch 19/100, Train Loss: 1.2167, Train Acc: 0.5993\n",
            "Validation Accuracy: 0.5939\n"
          ]
        },
        {
          "metadata": {
            "tags": null
          },
          "name": "stderr",
          "output_type": "stream",
          "text": [
            "Epoch 20/100: 100%|██████████| 2072/2072 [08:24<00:00,  4.11it/s]\n"
          ]
        },
        {
          "metadata": {
            "tags": null
          },
          "name": "stdout",
          "output_type": "stream",
          "text": [
            "Epoch 20/100, Train Loss: 1.2104, Train Acc: 0.6003\n",
            "Validation Accuracy: 0.5998\n"
          ]
        },
        {
          "metadata": {
            "tags": null
          },
          "name": "stderr",
          "output_type": "stream",
          "text": [
            "Epoch 21/100: 100%|██████████| 2072/2072 [08:29<00:00,  4.06it/s]\n"
          ]
        },
        {
          "metadata": {
            "tags": null
          },
          "name": "stdout",
          "output_type": "stream",
          "text": [
            "Epoch 21/100, Train Loss: 1.2060, Train Acc: 0.6028\n",
            "Validation Accuracy: 0.5933\n"
          ]
        },
        {
          "metadata": {
            "tags": null
          },
          "name": "stderr",
          "output_type": "stream",
          "text": [
            "Epoch 22/100: 100%|██████████| 2072/2072 [08:38<00:00,  4.00it/s]\n"
          ]
        },
        {
          "metadata": {
            "tags": null
          },
          "name": "stdout",
          "output_type": "stream",
          "text": [
            "Epoch 22/100, Train Loss: 1.1994, Train Acc: 0.6049\n",
            "Validation Accuracy: 0.6003\n"
          ]
        },
        {
          "metadata": {
            "tags": null
          },
          "name": "stderr",
          "output_type": "stream",
          "text": [
            "Epoch 23/100: 100%|██████████| 2072/2072 [08:26<00:00,  4.09it/s]\n"
          ]
        },
        {
          "metadata": {
            "tags": null
          },
          "name": "stdout",
          "output_type": "stream",
          "text": [
            "Epoch 23/100, Train Loss: 1.1944, Train Acc: 0.6070\n",
            "Validation Accuracy: 0.6045\n"
          ]
        },
        {
          "metadata": {
            "tags": null
          },
          "name": "stderr",
          "output_type": "stream",
          "text": [
            "Epoch 24/100: 100%|██████████| 2072/2072 [09:00<00:00,  3.84it/s]\n"
          ]
        },
        {
          "metadata": {
            "tags": null
          },
          "name": "stdout",
          "output_type": "stream",
          "text": [
            "Epoch 24/100, Train Loss: 1.1885, Train Acc: 0.6094\n",
            "Validation Accuracy: 0.6056\n"
          ]
        },
        {
          "metadata": {
            "tags": null
          },
          "name": "stderr",
          "output_type": "stream",
          "text": [
            "Epoch 25/100: 100%|██████████| 2072/2072 [08:27<00:00,  4.08it/s]\n"
          ]
        },
        {
          "metadata": {
            "tags": null
          },
          "name": "stdout",
          "output_type": "stream",
          "text": [
            "Epoch 25/100, Train Loss: 1.1842, Train Acc: 0.6104\n",
            "Validation Accuracy: 0.6026\n"
          ]
        },
        {
          "metadata": {
            "tags": null
          },
          "name": "stderr",
          "output_type": "stream",
          "text": [
            "Epoch 26/100: 100%|██████████| 2072/2072 [08:34<00:00,  4.02it/s]\n"
          ]
        },
        {
          "metadata": {
            "tags": null
          },
          "name": "stdout",
          "output_type": "stream",
          "text": [
            "Epoch 26/100, Train Loss: 1.1792, Train Acc: 0.6119\n",
            "Validation Accuracy: 0.6058\n"
          ]
        },
        {
          "metadata": {
            "tags": null
          },
          "name": "stderr",
          "output_type": "stream",
          "text": [
            "Epoch 27/100: 100%|██████████| 2072/2072 [08:29<00:00,  4.07it/s]\n"
          ]
        },
        {
          "metadata": {
            "tags": null
          },
          "name": "stdout",
          "output_type": "stream",
          "text": [
            "Epoch 27/100, Train Loss: 1.1741, Train Acc: 0.6122\n",
            "Validation Accuracy: 0.6038\n"
          ]
        },
        {
          "metadata": {
            "tags": null
          },
          "name": "stderr",
          "output_type": "stream",
          "text": [
            "Epoch 28/100: 100%|██████████| 2072/2072 [08:35<00:00,  4.02it/s]\n"
          ]
        },
        {
          "metadata": {
            "tags": null
          },
          "name": "stdout",
          "output_type": "stream",
          "text": [
            "Epoch 28/100, Train Loss: 1.1699, Train Acc: 0.6149\n",
            "Validation Accuracy: 0.6106\n"
          ]
        },
        {
          "metadata": {
            "tags": null
          },
          "name": "stderr",
          "output_type": "stream",
          "text": [
            "Epoch 29/100: 100%|██████████| 2072/2072 [08:31<00:00,  4.05it/s]\n"
          ]
        },
        {
          "metadata": {
            "tags": null
          },
          "name": "stdout",
          "output_type": "stream",
          "text": [
            "Epoch 29/100, Train Loss: 1.1644, Train Acc: 0.6170\n",
            "Validation Accuracy: 0.6065\n"
          ]
        },
        {
          "metadata": {
            "tags": null
          },
          "name": "stderr",
          "output_type": "stream",
          "text": [
            "Epoch 30/100: 100%|██████████| 2072/2072 [08:38<00:00,  3.99it/s]\n"
          ]
        },
        {
          "metadata": {
            "tags": null
          },
          "name": "stdout",
          "output_type": "stream",
          "text": [
            "Epoch 30/100, Train Loss: 1.1604, Train Acc: 0.6185\n",
            "Validation Accuracy: 0.6137\n"
          ]
        },
        {
          "metadata": {
            "tags": null
          },
          "name": "stderr",
          "output_type": "stream",
          "text": [
            "Epoch 31/100: 100%|██████████| 2072/2072 [08:43<00:00,  3.96it/s]\n"
          ]
        },
        {
          "metadata": {
            "tags": null
          },
          "name": "stdout",
          "output_type": "stream",
          "text": [
            "Epoch 31/100, Train Loss: 1.1552, Train Acc: 0.6195\n",
            "Validation Accuracy: 0.6080\n"
          ]
        },
        {
          "metadata": {
            "tags": null
          },
          "name": "stderr",
          "output_type": "stream",
          "text": [
            "Epoch 32/100: 100%|██████████| 2072/2072 [08:35<00:00,  4.02it/s]\n"
          ]
        },
        {
          "metadata": {
            "tags": null
          },
          "name": "stdout",
          "output_type": "stream",
          "text": [
            "Epoch 32/100, Train Loss: 1.1524, Train Acc: 0.6204\n",
            "Validation Accuracy: 0.6083\n"
          ]
        },
        {
          "metadata": {
            "tags": null
          },
          "name": "stderr",
          "output_type": "stream",
          "text": [
            "Epoch 33/100: 100%|██████████| 2072/2072 [08:38<00:00,  4.00it/s]\n"
          ]
        },
        {
          "metadata": {
            "tags": null
          },
          "name": "stdout",
          "output_type": "stream",
          "text": [
            "Epoch 33/100, Train Loss: 1.1476, Train Acc: 0.6216\n",
            "Validation Accuracy: 0.6150\n"
          ]
        },
        {
          "metadata": {
            "tags": null
          },
          "name": "stderr",
          "output_type": "stream",
          "text": [
            "Epoch 34/100: 100%|██████████| 2072/2072 [08:39<00:00,  3.99it/s]\n"
          ]
        },
        {
          "metadata": {
            "tags": null
          },
          "name": "stdout",
          "output_type": "stream",
          "text": [
            "Epoch 34/100, Train Loss: 1.1427, Train Acc: 0.6236\n",
            "Validation Accuracy: 0.6180\n"
          ]
        },
        {
          "metadata": {
            "tags": null
          },
          "name": "stderr",
          "output_type": "stream",
          "text": [
            "Epoch 35/100: 100%|██████████| 2072/2072 [08:37<00:00,  4.01it/s]\n"
          ]
        },
        {
          "metadata": {
            "tags": null
          },
          "name": "stdout",
          "output_type": "stream",
          "text": [
            "Epoch 35/100, Train Loss: 1.1396, Train Acc: 0.6246\n",
            "Validation Accuracy: 0.6160\n"
          ]
        },
        {
          "metadata": {
            "tags": null
          },
          "name": "stderr",
          "output_type": "stream",
          "text": [
            "Epoch 36/100: 100%|██████████| 2072/2072 [07:57<00:00,  4.34it/s]\n"
          ]
        },
        {
          "metadata": {
            "tags": null
          },
          "name": "stdout",
          "output_type": "stream",
          "text": [
            "Epoch 36/100, Train Loss: 1.1352, Train Acc: 0.6248\n",
            "Validation Accuracy: 0.6174\n"
          ]
        },
        {
          "metadata": {
            "tags": null
          },
          "name": "stderr",
          "output_type": "stream",
          "text": [
            "Epoch 37/100: 100%|██████████| 2072/2072 [08:41<00:00,  3.97it/s]\n"
          ]
        },
        {
          "metadata": {
            "tags": null
          },
          "name": "stdout",
          "output_type": "stream",
          "text": [
            "Epoch 37/100, Train Loss: 1.1305, Train Acc: 0.6287\n",
            "Validation Accuracy: 0.6193\n"
          ]
        },
        {
          "metadata": {
            "tags": null
          },
          "name": "stderr",
          "output_type": "stream",
          "text": [
            "Epoch 38/100: 100%|██████████| 2072/2072 [08:47<00:00,  3.92it/s]\n"
          ]
        },
        {
          "metadata": {
            "tags": null
          },
          "name": "stdout",
          "output_type": "stream",
          "text": [
            "Epoch 38/100, Train Loss: 1.1266, Train Acc: 0.6278\n",
            "Validation Accuracy: 0.6187\n"
          ]
        },
        {
          "metadata": {
            "tags": null
          },
          "name": "stderr",
          "output_type": "stream",
          "text": [
            "Epoch 39/100: 100%|██████████| 2072/2072 [08:40<00:00,  3.98it/s]\n"
          ]
        },
        {
          "metadata": {
            "tags": null
          },
          "name": "stdout",
          "output_type": "stream",
          "text": [
            "Epoch 39/100, Train Loss: 1.1231, Train Acc: 0.6296\n",
            "Validation Accuracy: 0.6220\n"
          ]
        },
        {
          "metadata": {
            "tags": null
          },
          "name": "stderr",
          "output_type": "stream",
          "text": [
            "Epoch 40/100: 100%|██████████| 2072/2072 [08:46<00:00,  3.93it/s]\n"
          ]
        },
        {
          "metadata": {
            "tags": null
          },
          "name": "stdout",
          "output_type": "stream",
          "text": [
            "Epoch 40/100, Train Loss: 1.1184, Train Acc: 0.6302\n",
            "Validation Accuracy: 0.6214\n"
          ]
        },
        {
          "metadata": {
            "tags": null
          },
          "name": "stderr",
          "output_type": "stream",
          "text": [
            "Epoch 41/100: 100%|██████████| 2072/2072 [08:52<00:00,  3.89it/s]\n"
          ]
        },
        {
          "metadata": {
            "tags": null
          },
          "name": "stdout",
          "output_type": "stream",
          "text": [
            "Epoch 41/100, Train Loss: 1.1147, Train Acc: 0.6318\n",
            "Validation Accuracy: 0.6188\n"
          ]
        },
        {
          "metadata": {
            "tags": null
          },
          "name": "stderr",
          "output_type": "stream",
          "text": [
            "Epoch 42/100: 100%|██████████| 2072/2072 [08:44<00:00,  3.95it/s]\n"
          ]
        },
        {
          "metadata": {
            "tags": null
          },
          "name": "stdout",
          "output_type": "stream",
          "text": [
            "Epoch 42/100, Train Loss: 1.1105, Train Acc: 0.6333\n",
            "Validation Accuracy: 0.6260\n"
          ]
        },
        {
          "metadata": {
            "tags": null
          },
          "name": "stderr",
          "output_type": "stream",
          "text": [
            "Epoch 43/100: 100%|██████████| 2072/2072 [08:46<00:00,  3.93it/s]\n"
          ]
        },
        {
          "metadata": {
            "tags": null
          },
          "name": "stdout",
          "output_type": "stream",
          "text": [
            "Epoch 43/100, Train Loss: 1.1073, Train Acc: 0.6337\n",
            "Validation Accuracy: 0.6252\n"
          ]
        },
        {
          "metadata": {
            "tags": null
          },
          "name": "stderr",
          "output_type": "stream",
          "text": [
            "Epoch 44/100: 100%|██████████| 2072/2072 [08:48<00:00,  3.92it/s]\n"
          ]
        },
        {
          "metadata": {
            "tags": null
          },
          "name": "stdout",
          "output_type": "stream",
          "text": [
            "Epoch 44/100, Train Loss: 1.1030, Train Acc: 0.6349\n",
            "Validation Accuracy: 0.6251\n"
          ]
        },
        {
          "metadata": {
            "tags": null
          },
          "name": "stderr",
          "output_type": "stream",
          "text": [
            "Epoch 45/100: 100%|██████████| 2072/2072 [08:44<00:00,  3.95it/s]\n"
          ]
        },
        {
          "metadata": {
            "tags": null
          },
          "name": "stdout",
          "output_type": "stream",
          "text": [
            "Epoch 45/100, Train Loss: 1.0991, Train Acc: 0.6366\n",
            "Validation Accuracy: 0.6261\n"
          ]
        },
        {
          "metadata": {
            "tags": null
          },
          "name": "stderr",
          "output_type": "stream",
          "text": [
            "Epoch 46/100: 100%|██████████| 2072/2072 [08:44<00:00,  3.95it/s]\n"
          ]
        },
        {
          "metadata": {
            "tags": null
          },
          "name": "stdout",
          "output_type": "stream",
          "text": [
            "Epoch 46/100, Train Loss: 1.0948, Train Acc: 0.6385\n",
            "Validation Accuracy: 0.6292\n"
          ]
        },
        {
          "metadata": {
            "tags": null
          },
          "name": "stderr",
          "output_type": "stream",
          "text": [
            "Epoch 47/100: 100%|██████████| 2072/2072 [08:45<00:00,  3.95it/s]\n"
          ]
        },
        {
          "metadata": {
            "tags": null
          },
          "name": "stdout",
          "output_type": "stream",
          "text": [
            "Epoch 47/100, Train Loss: 1.0933, Train Acc: 0.6379\n",
            "Validation Accuracy: 0.6279\n"
          ]
        },
        {
          "metadata": {
            "tags": null
          },
          "name": "stderr",
          "output_type": "stream",
          "text": [
            "Epoch 48/100: 100%|██████████| 2072/2072 [08:52<00:00,  3.89it/s]\n"
          ]
        },
        {
          "metadata": {
            "tags": null
          },
          "name": "stdout",
          "output_type": "stream",
          "text": [
            "Epoch 48/100, Train Loss: 1.0876, Train Acc: 0.6409\n",
            "Validation Accuracy: 0.6299\n"
          ]
        },
        {
          "metadata": {
            "tags": null
          },
          "name": "stderr",
          "output_type": "stream",
          "text": [
            "Epoch 49/100: 100%|██████████| 2072/2072 [08:45<00:00,  3.94it/s]\n"
          ]
        },
        {
          "metadata": {
            "tags": null
          },
          "name": "stdout",
          "output_type": "stream",
          "text": [
            "Epoch 49/100, Train Loss: 1.0848, Train Acc: 0.6403\n",
            "Validation Accuracy: 0.6252\n"
          ]
        },
        {
          "metadata": {
            "tags": null
          },
          "name": "stderr",
          "output_type": "stream",
          "text": [
            "Epoch 50/100: 100%|██████████| 2072/2072 [08:54<00:00,  3.88it/s]\n"
          ]
        },
        {
          "metadata": {
            "tags": null
          },
          "name": "stdout",
          "output_type": "stream",
          "text": [
            "Epoch 50/100, Train Loss: 1.0809, Train Acc: 0.6412\n",
            "Validation Accuracy: 0.6292\n"
          ]
        },
        {
          "metadata": {
            "tags": null
          },
          "name": "stderr",
          "output_type": "stream",
          "text": [
            "Epoch 51/100: 100%|██████████| 2072/2072 [08:49<00:00,  3.92it/s]\n"
          ]
        },
        {
          "metadata": {
            "tags": null
          },
          "name": "stdout",
          "output_type": "stream",
          "text": [
            "Epoch 51/100, Train Loss: 1.0771, Train Acc: 0.6432\n",
            "Validation Accuracy: 0.6246\n"
          ]
        },
        {
          "metadata": {
            "tags": null
          },
          "name": "stderr",
          "output_type": "stream",
          "text": [
            "Epoch 52/100: 100%|██████████| 2072/2072 [08:48<00:00,  3.92it/s]\n"
          ]
        },
        {
          "metadata": {
            "tags": null
          },
          "name": "stdout",
          "output_type": "stream",
          "text": [
            "Epoch 52/100, Train Loss: 1.0738, Train Acc: 0.6453\n",
            "Validation Accuracy: 0.6299\n"
          ]
        },
        {
          "metadata": {
            "tags": null
          },
          "name": "stderr",
          "output_type": "stream",
          "text": [
            "Epoch 53/100: 100%|██████████| 2072/2072 [08:55<00:00,  3.87it/s]\n"
          ]
        },
        {
          "metadata": {
            "tags": null
          },
          "name": "stdout",
          "output_type": "stream",
          "text": [
            "Epoch 53/100, Train Loss: 1.0703, Train Acc: 0.6466\n",
            "Validation Accuracy: 0.6312\n"
          ]
        },
        {
          "metadata": {
            "tags": null
          },
          "name": "stderr",
          "output_type": "stream",
          "text": [
            "Epoch 54/100: 100%|██████████| 2072/2072 [08:49<00:00,  3.92it/s]\n"
          ]
        },
        {
          "metadata": {
            "tags": null
          },
          "name": "stdout",
          "output_type": "stream",
          "text": [
            "Epoch 54/100, Train Loss: 1.0665, Train Acc: 0.6472\n",
            "Validation Accuracy: 0.6297\n"
          ]
        },
        {
          "metadata": {
            "tags": null
          },
          "name": "stderr",
          "output_type": "stream",
          "text": [
            "Epoch 55/100: 100%|██████████| 2072/2072 [08:44<00:00,  3.95it/s]\n"
          ]
        },
        {
          "metadata": {
            "tags": null
          },
          "name": "stdout",
          "output_type": "stream",
          "text": [
            "Epoch 55/100, Train Loss: 1.0631, Train Acc: 0.6483\n",
            "Validation Accuracy: 0.6293\n"
          ]
        },
        {
          "metadata": {
            "tags": null
          },
          "name": "stderr",
          "output_type": "stream",
          "text": [
            "Epoch 56/100: 100%|██████████| 2072/2072 [08:51<00:00,  3.90it/s]\n"
          ]
        },
        {
          "metadata": {
            "tags": null
          },
          "name": "stdout",
          "output_type": "stream",
          "text": [
            "Epoch 56/100, Train Loss: 1.0592, Train Acc: 0.6490\n",
            "Validation Accuracy: 0.6336\n"
          ]
        },
        {
          "metadata": {
            "tags": null
          },
          "name": "stderr",
          "output_type": "stream",
          "text": [
            "Epoch 57/100: 100%|██████████| 2072/2072 [08:47<00:00,  3.93it/s]\n"
          ]
        },
        {
          "metadata": {
            "tags": null
          },
          "name": "stdout",
          "output_type": "stream",
          "text": [
            "Epoch 57/100, Train Loss: 1.0557, Train Acc: 0.6512\n",
            "Validation Accuracy: 0.6333\n"
          ]
        },
        {
          "metadata": {
            "tags": null
          },
          "name": "stderr",
          "output_type": "stream",
          "text": [
            "Epoch 58/100: 100%|██████████| 2072/2072 [08:39<00:00,  3.99it/s]\n"
          ]
        },
        {
          "metadata": {
            "tags": null
          },
          "name": "stdout",
          "output_type": "stream",
          "text": [
            "Epoch 58/100, Train Loss: 1.0524, Train Acc: 0.6508\n",
            "Validation Accuracy: 0.6347\n"
          ]
        },
        {
          "metadata": {
            "tags": null
          },
          "name": "stderr",
          "output_type": "stream",
          "text": [
            "Epoch 59/100: 100%|██████████| 2072/2072 [08:53<00:00,  3.88it/s]\n"
          ]
        },
        {
          "metadata": {
            "tags": null
          },
          "name": "stdout",
          "output_type": "stream",
          "text": [
            "Epoch 59/100, Train Loss: 1.0493, Train Acc: 0.6527\n",
            "Validation Accuracy: 0.6391\n"
          ]
        },
        {
          "metadata": {
            "tags": null
          },
          "name": "stderr",
          "output_type": "stream",
          "text": [
            "Epoch 60/100: 100%|██████████| 2072/2072 [08:47<00:00,  3.93it/s]\n"
          ]
        },
        {
          "metadata": {
            "tags": null
          },
          "name": "stdout",
          "output_type": "stream",
          "text": [
            "Epoch 60/100, Train Loss: 1.0470, Train Acc: 0.6535\n",
            "Validation Accuracy: 0.6379\n"
          ]
        },
        {
          "metadata": {
            "tags": null
          },
          "name": "stderr",
          "output_type": "stream",
          "text": [
            "Epoch 61/100: 100%|██████████| 2072/2072 [08:45<00:00,  3.94it/s]\n"
          ]
        },
        {
          "metadata": {
            "tags": null
          },
          "name": "stdout",
          "output_type": "stream",
          "text": [
            "Epoch 61/100, Train Loss: 1.0423, Train Acc: 0.6550\n",
            "Validation Accuracy: 0.6342\n"
          ]
        },
        {
          "metadata": {
            "tags": null
          },
          "name": "stderr",
          "output_type": "stream",
          "text": [
            "Epoch 62/100: 100%|██████████| 2072/2072 [08:44<00:00,  3.95it/s]\n"
          ]
        },
        {
          "metadata": {
            "tags": null
          },
          "name": "stdout",
          "output_type": "stream",
          "text": [
            "Epoch 62/100, Train Loss: 1.0390, Train Acc: 0.6560\n",
            "Validation Accuracy: 0.6380\n"
          ]
        },
        {
          "metadata": {
            "tags": null
          },
          "name": "stderr",
          "output_type": "stream",
          "text": [
            "Epoch 63/100: 100%|██████████| 2072/2072 [08:39<00:00,  3.99it/s]\n"
          ]
        },
        {
          "metadata": {
            "tags": null
          },
          "name": "stdout",
          "output_type": "stream",
          "text": [
            "Epoch 63/100, Train Loss: 1.0360, Train Acc: 0.6573\n",
            "Validation Accuracy: 0.6384\n"
          ]
        },
        {
          "metadata": {
            "tags": null
          },
          "name": "stderr",
          "output_type": "stream",
          "text": [
            "Epoch 64/100: 100%|██████████| 2072/2072 [08:52<00:00,  3.89it/s]\n"
          ]
        },
        {
          "metadata": {
            "tags": null
          },
          "name": "stdout",
          "output_type": "stream",
          "text": [
            "Epoch 64/100, Train Loss: 1.0331, Train Acc: 0.6575\n",
            "Validation Accuracy: 0.6373\n"
          ]
        },
        {
          "metadata": {
            "tags": null
          },
          "name": "stderr",
          "output_type": "stream",
          "text": [
            "Epoch 65/100: 100%|██████████| 2072/2072 [08:48<00:00,  3.92it/s]\n"
          ]
        },
        {
          "metadata": {
            "tags": null
          },
          "name": "stdout",
          "output_type": "stream",
          "text": [
            "Epoch 65/100, Train Loss: 1.0302, Train Acc: 0.6587\n",
            "Validation Accuracy: 0.6396\n"
          ]
        },
        {
          "metadata": {
            "tags": null
          },
          "name": "stderr",
          "output_type": "stream",
          "text": [
            "Epoch 66/100: 100%|██████████| 2072/2072 [09:17<00:00,  3.72it/s]\n"
          ]
        },
        {
          "metadata": {
            "tags": null
          },
          "name": "stdout",
          "output_type": "stream",
          "text": [
            "Epoch 66/100, Train Loss: 1.0272, Train Acc: 0.6592\n",
            "Validation Accuracy: 0.6436\n"
          ]
        },
        {
          "metadata": {
            "tags": null
          },
          "name": "stderr",
          "output_type": "stream",
          "text": [
            "Epoch 67/100: 100%|██████████| 2072/2072 [09:02<00:00,  3.82it/s]\n"
          ]
        },
        {
          "metadata": {
            "tags": null
          },
          "name": "stdout",
          "output_type": "stream",
          "text": [
            "Epoch 67/100, Train Loss: 1.0242, Train Acc: 0.6612\n",
            "Validation Accuracy: 0.6422\n"
          ]
        },
        {
          "metadata": {
            "tags": null
          },
          "name": "stderr",
          "output_type": "stream",
          "text": [
            "Epoch 68/100: 100%|██████████| 2072/2072 [08:49<00:00,  3.91it/s]\n"
          ]
        },
        {
          "metadata": {
            "tags": null
          },
          "name": "stdout",
          "output_type": "stream",
          "text": [
            "Epoch 68/100, Train Loss: 1.0213, Train Acc: 0.6614\n",
            "Validation Accuracy: 0.6415\n"
          ]
        },
        {
          "metadata": {
            "tags": null
          },
          "name": "stderr",
          "output_type": "stream",
          "text": [
            "Epoch 69/100: 100%|██████████| 2072/2072 [08:52<00:00,  3.89it/s]\n"
          ]
        },
        {
          "metadata": {
            "tags": null
          },
          "name": "stdout",
          "output_type": "stream",
          "text": [
            "Epoch 69/100, Train Loss: 1.0183, Train Acc: 0.6632\n",
            "Validation Accuracy: 0.6418\n"
          ]
        },
        {
          "metadata": {
            "tags": null
          },
          "name": "stderr",
          "output_type": "stream",
          "text": [
            "Epoch 70/100: 100%|██████████| 2072/2072 [09:00<00:00,  3.83it/s]\n"
          ]
        },
        {
          "metadata": {
            "tags": null
          },
          "name": "stdout",
          "output_type": "stream",
          "text": [
            "Epoch 70/100, Train Loss: 1.0156, Train Acc: 0.6642\n",
            "Validation Accuracy: 0.6452\n"
          ]
        },
        {
          "metadata": {
            "tags": null
          },
          "name": "stderr",
          "output_type": "stream",
          "text": [
            "Epoch 71/100: 100%|██████████| 2072/2072 [08:49<00:00,  3.92it/s]\n"
          ]
        },
        {
          "metadata": {
            "tags": null
          },
          "name": "stdout",
          "output_type": "stream",
          "text": [
            "Epoch 71/100, Train Loss: 1.0126, Train Acc: 0.6646\n",
            "Validation Accuracy: 0.6453\n"
          ]
        },
        {
          "output_type": "stream",
          "name": "stderr",
          "text": [
            "Epoch 72/100: 100%|██████████| 2072/2072 [08:41<00:00,  3.98it/s]\n"
          ]
        },
        {
          "output_type": "stream",
          "name": "stdout",
          "text": [
            "Epoch 72/100, Train Loss: 1.0106, Train Acc: 0.6651\n",
            "Validation Accuracy: 0.6430\n"
          ]
        },
        {
          "output_type": "stream",
          "name": "stderr",
          "text": [
            "Epoch 73/100: 100%|██████████| 2072/2072 [09:24<00:00,  3.67it/s]\n"
          ]
        },
        {
          "output_type": "stream",
          "name": "stdout",
          "text": [
            "Epoch 73/100, Train Loss: 1.0088, Train Acc: 0.6661\n",
            "Validation Accuracy: 0.6453\n"
          ]
        },
        {
          "output_type": "stream",
          "name": "stderr",
          "text": [
            "Epoch 74/100: 100%|██████████| 2072/2072 [09:06<00:00,  3.79it/s]\n"
          ]
        },
        {
          "output_type": "stream",
          "name": "stdout",
          "text": [
            "Epoch 74/100, Train Loss: 1.0053, Train Acc: 0.6682\n",
            "Validation Accuracy: 0.6458\n"
          ]
        },
        {
          "output_type": "stream",
          "name": "stderr",
          "text": [
            "Epoch 75/100: 100%|██████████| 2072/2072 [08:58<00:00,  3.85it/s]\n"
          ]
        },
        {
          "output_type": "stream",
          "name": "stdout",
          "text": [
            "Epoch 75/100, Train Loss: 1.0034, Train Acc: 0.6677\n",
            "Validation Accuracy: 0.6480\n"
          ]
        },
        {
          "output_type": "stream",
          "name": "stderr",
          "text": [
            "Epoch 76/100:  42%|████▏     | 864/2072 [03:43<05:31,  3.64it/s]"
          ]
        }
      ]
    },
    {
      "cell_type": "markdown",
      "source": [
        "**Finetuning**"
      ],
      "metadata": {
        "id": "m2pt0X5406PY"
      }
    },
    {
      "cell_type": "code",
      "source": [
        "from sklearn.model_selection import train_test_split\n",
        "import torch\n",
        "import torch.nn.functional as F\n",
        "from torch_geometric.nn import GATConv, global_mean_pool\n",
        "from torch.nn import LayerNorm\n",
        "\n",
        "# Split data into fine-tune and train sets\n",
        "finetune_df, train_df = train_test_split(valid_df, test_size=0.8, random_state=42)\n",
        "finetune_graphs = finetune_df['graph'].tolist()\n",
        "\n",
        "# Calculate class weights for imbalance\n",
        "class_counts = finetune_df['geometry_encoded'].value_counts()\n",
        "class_weights = (1.0 / torch.tensor([class_counts[i] for i in range(len(le.classes_))], dtype=torch.float)).to(device)\n",
        "\n",
        "# Define GATTask Model (with LayerNorm for stability)\n",
        "class GATTask(torch.nn.Module):\n",
        "    def __init__(self, input_dim, hidden_dim, num_classes):\n",
        "        super(GATTask, self).__init__()\n",
        "        self.conv1 = GATConv(input_dim, hidden_dim, heads=4, concat=True)\n",
        "        self.norm1 = LayerNorm(hidden_dim * 4)  # Add LayerNorm for stability\n",
        "        self.conv2 = GATConv(hidden_dim * 4, hidden_dim, heads=1, concat=True)  # Output to hidden_dim\n",
        "        self.fc = torch.nn.Linear(hidden_dim, num_classes)\n",
        "\n",
        "    def forward(self, data):\n",
        "        x, edge_index, batch = data.x, data.edge_index, data.batch\n",
        "        x = F.elu(self.conv1(x, edge_index))\n",
        "        x = self.norm1(x)\n",
        "        x = F.elu(self.conv2(x, edge_index))\n",
        "        x = global_mean_pool(x, batch)\n",
        "        x = self.fc(x)\n",
        "        return x\n",
        "\n",
        "# Initialize GATTask model\n",
        "input_dim = 3  # [atomic number, degree, charge]\n",
        "hidden_dim = 32  # Consistent with pretraining\n",
        "num_classes = len(le.classes_)\n",
        "model_task = GATTask(input_dim, hidden_dim, num_classes).to(device)\n",
        "\n",
        "# Load pretrained weights with partial loading\n",
        "pretrained_dict = torch.load('/content/drive/MyDrive/pretrained_gat.pth')\n",
        "model_dict = model_task.state_dict()\n",
        "\n",
        "# Filter out mismatched layers and load compatible ones\n",
        "pretrained_dict = {k: v for k, v in pretrained_dict.items() if k in model_dict and (k.startswith('conv1') or k.startswith('norm1'))}\n",
        "model_dict.update(pretrained_dict)\n",
        "model_task.load_state_dict(model_dict)\n",
        "\n",
        "print(\"Pretrained weights loaded for compatible layers:\", list(pretrained_dict.keys()))\n",
        "print(\"Initialized remaining layers (conv2, fc) randomly.\")\n",
        "\n",
        "# Define optimizer and loss\n",
        "optimizer = torch.optim.Adam(model_task.parameters(), lr=1e-4)\n",
        "criterion = torch.nn.CrossEntropyLoss(weight=class_weights)\n",
        "\n",
        "# Define Fine-Tuning Function\n",
        "def finetune_epoch(graphs, labels):\n",
        "    model_task.train()\n",
        "    total_loss = 0\n",
        "    valid_graphs = 0\n",
        "    skipped_graphs = 0\n",
        "\n",
        "    for i, (data, label) in enumerate(zip(graphs, labels)):\n",
        "        if data.edge_index.size(1) == 0 or data.x is None or data.x.size(0) == 0:\n",
        "            skipped_graphs += 1\n",
        "            print(f\"Skipping graph {i} due to empty graph or no nodes/edges\")\n",
        "            continue\n",
        "\n",
        "        data = data.to(device)\n",
        "        label = torch.tensor([label], dtype=torch.long).to(device)\n",
        "\n",
        "        # Normalize input features (consistent with pretraining)\n",
        "        mean = torch.mean(data.x, dim=0, keepdim=True)\n",
        "        std = torch.std(data.x, dim=0, keepdim=True) + 1e-7\n",
        "        data.x = (data.x - mean) / std\n",
        "\n",
        "        if torch.isnan(data.x).any() or torch.isinf(data.x).any():\n",
        "            skipped_graphs += 1\n",
        "            print(f\"Skipping graph {i} due to NaN or Inf in input\")\n",
        "            continue\n",
        "\n",
        "        optimizer.zero_grad()\n",
        "        out = model_task(data)\n",
        "\n",
        "        if torch.isnan(out).any() or torch.isinf(out).any():\n",
        "            skipped_graphs += 1\n",
        "            print(f\"Skipping graph {i} due to NaN or Inf in output\")\n",
        "            continue\n",
        "\n",
        "        loss = criterion(out, label)\n",
        "        if torch.isnan(loss) or torch.isinf(loss):\n",
        "            skipped_graphs += 1\n",
        "            print(f\"Skipping graph {i} due to invalid loss: {loss}\")\n",
        "            continue\n",
        "\n",
        "        loss.backward()\n",
        "        torch.nn.utils.clip_grad_norm_(model_task.parameters(), max_norm=1.0)\n",
        "        optimizer.step()\n",
        "        total_loss += loss.item()\n",
        "        valid_graphs += 1\n",
        "\n",
        "    print(f\"Skipped {skipped_graphs} out of {len(graphs)} graphs during fine-tuning.\")\n",
        "    return total_loss / max(1, valid_graphs)\n",
        "\n",
        "# Run Fine-Tuning\n",
        "for epoch in range(10):\n",
        "    loss = finetune_epoch(finetune_graphs, finetune_df['geometry_encoded'].tolist())\n",
        "    print(f'Finetune Epoch {epoch+1}/10, Loss: {loss:.4f}')\n",
        "\n",
        "# Save the fine-tuned model\n",
        "torch.save(model_task.state_dict(), '/content/drive/MyDrive/finetuned_gat.pth')"
      ],
      "metadata": {
        "colab": {
          "base_uri": "https://localhost:8080/"
        },
        "id": "oRbrlVWMfgP9",
        "outputId": "4f75d754-5ab5-42d0-a03d-0716a7ec3023"
      },
      "execution_count": null,
      "outputs": [
        {
          "output_type": "stream",
          "name": "stdout",
          "text": [
            "Pretrained weights loaded for compatible layers: ['conv1.att_src', 'conv1.att_dst', 'conv1.bias', 'conv1.lin.weight', 'norm1.weight', 'norm1.bias']\n",
            "Initialized remaining layers (conv2, fc) randomly.\n",
            "Skipped 0 out of 13995 graphs during fine-tuning.\n",
            "Finetune Epoch 1/10, Loss: 1.8823\n",
            "Skipped 0 out of 13995 graphs during fine-tuning.\n",
            "Finetune Epoch 2/10, Loss: 1.7938\n",
            "Skipped 0 out of 13995 graphs during fine-tuning.\n",
            "Finetune Epoch 3/10, Loss: 1.7813\n",
            "Skipped 0 out of 13995 graphs during fine-tuning.\n",
            "Finetune Epoch 4/10, Loss: 1.7658\n",
            "Skipped 0 out of 13995 graphs during fine-tuning.\n",
            "Finetune Epoch 5/10, Loss: 1.7477\n",
            "Skipped 0 out of 13995 graphs during fine-tuning.\n",
            "Finetune Epoch 6/10, Loss: 1.7351\n",
            "Skipped 0 out of 13995 graphs during fine-tuning.\n",
            "Finetune Epoch 7/10, Loss: 1.7266\n",
            "Skipped 0 out of 13995 graphs during fine-tuning.\n",
            "Finetune Epoch 8/10, Loss: 1.7199\n",
            "Skipped 0 out of 13995 graphs during fine-tuning.\n",
            "Finetune Epoch 9/10, Loss: 1.7144\n",
            "Skipped 0 out of 13995 graphs during fine-tuning.\n",
            "Finetune Epoch 10/10, Loss: 1.7111\n"
          ]
        }
      ]
    },
    {
      "cell_type": "code",
      "source": [
        "import torch\n",
        "import torch.nn as nn\n",
        "import torch.nn.functional as F\n",
        "import pandas as pd\n",
        "from sklearn.model_selection import train_test_split\n",
        "from sklearn.preprocessing import LabelEncoder\n",
        "from torch_geometric.nn import GATConv, global_mean_pool\n",
        "from torch.nn import LayerNorm\n",
        "from rdkit import Chem\n",
        "from rdkit.Chem import AllChem\n",
        "from torch_geometric.data import Data\n",
        "import glob\n",
        "from google.colab import drive\n",
        "\n",
        "# Mount Google Drive\n",
        "drive.mount('/content/drive')\n",
        "\n",
        "# Preprocess data (assumes this was defined earlier in your pipeline)\n",
        "def preprocess_data():\n",
        "    labeled_df = pd.read_csv('/content/drive/MyDrive/ligand_metal_with_labels_clean2.csv')\n",
        "    smiles_files = glob.glob('/content/complexes_smiles/*_complexes_smiles.csv')\n",
        "    smiles_dfs = [pd.read_csv(file) for file in smiles_files]\n",
        "    all_smiles_df = pd.concat(smiles_dfs, ignore_index=True)\n",
        "\n",
        "    if all_smiles_df['refcode'].duplicated().any():\n",
        "        print(\"Warning: Duplicate refcodes found. Dropping duplicates.\")\n",
        "        all_smiles_df = all_smiles_df.drop_duplicates(subset='refcode')\n",
        "\n",
        "    merged_df = pd.merge(labeled_df, all_smiles_df[['refcode', 'SMILES']], on='refcode', how='inner')\n",
        "    print(f\"Number of merged entries: {len(merged_df)}\")\n",
        "\n",
        "    le = LabelEncoder()\n",
        "    merged_df['geometry_encoded'] = le.fit_transform(merged_df['geometry'])\n",
        "    print(\"Label mapping:\", dict(zip(le.classes_, le.transform(le.classes_))))\n",
        "\n",
        "    def smiles_to_graph(smiles):\n",
        "        try:\n",
        "            if isinstance(smiles, str) and smiles.startswith('['):\n",
        "                smiles = eval(smiles)[0]\n",
        "            mol = Chem.MolFromSmiles(smiles)\n",
        "            if mol is None or mol.GetNumAtoms() == 0 or mol.GetNumBonds() == 0:\n",
        "                return None\n",
        "            AllChem.Compute2DCoords(mol)\n",
        "            # Features to match pretrained: atomic number, degree, charge\n",
        "            atom_features = [[atom.GetAtomicNum(), atom.GetDegree(), atom.GetFormalCharge()] for atom in mol.GetAtoms()]\n",
        "            edge_index = []\n",
        "            for bond in mol.GetBonds():\n",
        "                i, j = bond.GetBeginAtomIdx(), bond.GetEndAtomIdx()\n",
        "                edge_index.extend([[i, j], [j, i]])\n",
        "            edge_index = torch.tensor(edge_index, dtype=torch.long).t().contiguous()\n",
        "            x = torch.tensor(atom_features, dtype=torch.float)\n",
        "            return Data(x=x, edge_index=edge_index)\n",
        "        except Exception as e:\n",
        "            print(f\"Error parsing SMILES {smiles}: {e}\")\n",
        "            return None\n",
        "\n",
        "    merged_df['graph'] = merged_df['SMILES'].apply(smiles_to_graph)\n",
        "    valid_df = merged_df[merged_df['graph'].notnull()].copy()\n",
        "    print(f\"Number of valid graphs: {len(valid_df)}\")\n",
        "\n",
        "    valid_df['graph'] = [\n",
        "        Data(x=g.x, edge_index=g.edge_index, batch=torch.zeros(g.x.size(0), dtype=torch.long))\n",
        "        for g in valid_df['graph']\n",
        "        if g.edge_index.size(1) > 0\n",
        "    ]\n",
        "    valid_df = valid_df[valid_df['graph'].apply(lambda x: x is not None and x.edge_index.size(1) > 0)].copy()\n",
        "    print(f\"Number of valid graphs with edges: {len(valid_df)}\")\n",
        "\n",
        "    return valid_df, le\n",
        "\n",
        "# Load and preprocess data\n",
        "valid_df, le = preprocess_data()\n",
        "\n",
        "# Split data into fine-tune and train sets\n",
        "finetune_df, train_df = train_test_split(valid_df, test_size=0.8, random_state=42)\n",
        "finetune_graphs = finetune_df['graph'].tolist()\n",
        "finetune_labels = finetune_df['geometry_encoded'].tolist()\n",
        "\n",
        "# Device setup\n",
        "device = torch.device('cuda' if torch.cuda.is_available() else 'cpu')\n",
        "print(f\"Using device: {device}\")\n",
        "\n",
        "# Calculate class weights for imbalance\n",
        "class_counts = finetune_df['geometry_encoded'].value_counts()\n",
        "class_weights = (1.0 / torch.tensor([class_counts[i] for i in range(len(le.classes_))], dtype=torch.float)).to(device)\n",
        "class_weights = torch.clamp(class_weights, min=0.1, max=10.0)\n",
        "\n",
        "# Define GATTask Model to match pretrained architecture\n",
        "class GATTask(torch.nn.Module):\n",
        "    def __init__(self, input_dim, hidden_dim_conv1, output_dim_conv2, hidden_dim, num_classes):\n",
        "        super(GATTask, self).__init__()\n",
        "        self.conv1 = GATConv(input_dim, hidden_dim_conv1, heads=4, concat=True)\n",
        "        self.norm1 = LayerNorm(hidden_dim_conv1 * 4)\n",
        "        self.conv2 = GATConv(hidden_dim_conv1 * 4, output_dim_conv2, heads=1, concat=True)\n",
        "        # Map conv2 output to a higher dimension for classification\n",
        "        self.mapping_layer = nn.Linear(output_dim_conv2, hidden_dim)\n",
        "        self.fc = torch.nn.Linear(hidden_dim, num_classes)\n",
        "\n",
        "    def forward(self, data):\n",
        "        x, edge_index, batch = data.x, data.edge_index, data.batch\n",
        "        x = F.elu(self.conv1(x, edge_index))\n",
        "        x = self.norm1(x)\n",
        "        x = F.elu(self.conv2(x, edge_index))\n",
        "        x = F.elu(self.mapping_layer(x))\n",
        "        x = global_mean_pool(x, batch)\n",
        "        x = self.fc(x)\n",
        "        return x\n",
        "\n",
        "# Initialize GATTask model to match pretrained architecture\n",
        "input_dim = 3  # Match pretrained\n",
        "hidden_dim_conv1 = 32  # Match pretrained for conv1\n",
        "output_dim_conv2 = 3   # Match pretrained for conv2 (from GATPretrain output_dim)\n",
        "hidden_dim = 32        # Desired hidden dimension for classification\n",
        "num_classes = len(le.classes_)\n",
        "model_task = GATTask(input_dim, hidden_dim_conv1, output_dim_conv2, hidden_dim, num_classes).to(device)\n",
        "\n",
        "# Load pretrained weights, excluding the fc layer\n",
        "try:\n",
        "    pretrained_dict = torch.load('/content/drive/MyDrive/pretrained_gat.pth', map_location=device)\n",
        "    model_dict = model_task.state_dict()\n",
        "    # Exclude layers that don't match (fc and mapping_layer)\n",
        "    pretrained_dict = {k: v for k, v in pretrained_dict.items() if k in model_dict and not k.startswith('fc') and not k.startswith('mapping_layer')}\n",
        "    model_dict.update(pretrained_dict)\n",
        "    model_task.load_state_dict(model_dict)\n",
        "    print(\"Pretrained weights loaded successfully for layers:\", list(pretrained_dict.keys()))\n",
        "except Exception as e:\n",
        "    print(f\"Failed to load pretrained weights: {e}. Initializing all layers randomly.\")\n",
        "\n",
        "print(\"The mapping_layer and fc layer are randomly initialized for task-specific fine-tuning.\")\n",
        "\n",
        "# Define optimizer and loss\n",
        "optimizer = torch.optim.Adam(model_task.parameters(), lr=1e-4)\n",
        "criterion = torch.nn.CrossEntropyLoss(weight=class_weights)\n",
        "\n",
        "# Define Fine-Tuning Function\n",
        "def finetune_epoch(graphs, labels):\n",
        "    model_task.train()\n",
        "    total_loss = 0\n",
        "    valid_graphs = 0\n",
        "    skipped_graphs = 0\n",
        "\n",
        "    for i, (data, label) in enumerate(zip(graphs, labels)):\n",
        "        if data.edge_index.size(1) == 0 or data.x is None or data.x.size(0) == 0:\n",
        "            skipped_graphs += 1\n",
        "            print(f\"Skipping graph {i} due to empty graph or no nodes/edges\")\n",
        "            continue\n",
        "\n",
        "        data = data.to(device)\n",
        "        label = torch.tensor([label], dtype=torch.long).to(device)\n",
        "\n",
        "        # Normalize input features (consistent with pretraining)\n",
        "        mean = torch.mean(data.x, dim=0, keepdim=True)\n",
        "        std = torch.std(data.x, dim=0, keepdim=True) + 1e-7\n",
        "        data.x = (data.x - mean) / std\n",
        "\n",
        "        if torch.isnan(data.x).any() or torch.isinf(data.x).any():\n",
        "            skipped_graphs += 1\n",
        "            print(f\"Skipping graph {i} due to NaN or Inf in input\")\n",
        "            continue\n",
        "\n",
        "        optimizer.zero_grad()\n",
        "        out = model_task(data)\n",
        "\n",
        "        if torch.isnan(out).any() or torch.isinf(out).any():\n",
        "            skipped_graphs += 1\n",
        "            print(f\"Skipping graph {i} due to NaN or Inf in output\")\n",
        "            continue\n",
        "\n",
        "        loss = criterion(out, label)\n",
        "        if torch.isnan(loss) or torch.isinf(loss):\n",
        "            skipped_graphs += 1\n",
        "            print(f\"Skipping graph {i} due to invalid loss: {loss}\")\n",
        "            continue\n",
        "\n",
        "        loss.backward()\n",
        "        torch.nn.utils.clip_grad_norm_(model_task.parameters(), max_norm=1.0)\n",
        "        optimizer.step()\n",
        "        total_loss += loss.item()\n",
        "        valid_graphs += 1\n",
        "\n",
        "    print(f\"Skipped {skipped_graphs} out of {len(graphs)} graphs during fine-tuning.\")\n",
        "    return total_loss / max(1, valid_graphs)\n",
        "\n",
        "# Run Fine-Tuning for more epochs\n",
        "for epoch in range(20):\n",
        "    loss = finetune_epoch(finetune_graphs, finetune_labels)\n",
        "    print(f'Finetune Epoch {epoch+1}/20, Loss: {loss:.4f}')\n",
        "\n",
        "# Save the fine-tuned model\n",
        "torch.save(model_task.state_dict(), '/content/drive/MyDrive/finetuned_gat_32dim_3dim.pth')\n",
        "print(\"Fine-tuned model saved as finetuned_gat_32dim_3dim.pth\")"
      ],
      "metadata": {
        "colab": {
          "base_uri": "https://localhost:8080/"
        },
        "id": "vSKe2r9E2ZiB",
        "outputId": "25e3f066-8a4c-45ce-ab50-1a5aba74aa8c"
      },
      "execution_count": null,
      "outputs": [
        {
          "output_type": "stream",
          "name": "stdout",
          "text": [
            "Drive already mounted at /content/drive; to attempt to forcibly remount, call drive.mount(\"/content/drive\", force_remount=True).\n",
            "Number of merged entries: 82880\n",
            "Label mapping: {'bent': np.int64(0), 'linear': np.int64(1), 'octahedral': np.int64(2), 'planar_3': np.int64(3), 'planar_4': np.int64(4), 'planar_5': np.int64(5), 'prism': np.int64(6), 'pyramid_3': np.int64(7), 'pyramid_4': np.int64(8), 'pyramid_bi': np.int64(9), 'pyramid_sq': np.int64(10), 'tetrahedral': np.int64(11), 'tshape': np.int64(12)}\n",
            "Number of valid graphs: 69976\n",
            "Number of valid graphs with edges: 69976\n",
            "Using device: cpu\n",
            "Pretrained weights loaded successfully for layers: ['conv1.att_src', 'conv1.att_dst', 'conv1.bias', 'conv1.lin.weight', 'norm1.weight', 'norm1.bias', 'conv2.att_src', 'conv2.att_dst', 'conv2.bias', 'conv2.lin.weight']\n",
            "The mapping_layer and fc layer are randomly initialized for task-specific fine-tuning.\n",
            "Skipped 0 out of 13995 graphs during fine-tuning.\n",
            "Finetune Epoch 1/20, Loss: 2.0515\n",
            "Skipped 0 out of 13995 graphs during fine-tuning.\n",
            "Finetune Epoch 2/20, Loss: 1.8610\n",
            "Skipped 0 out of 13995 graphs during fine-tuning.\n",
            "Finetune Epoch 3/20, Loss: 1.8245\n",
            "Skipped 0 out of 13995 graphs during fine-tuning.\n",
            "Finetune Epoch 4/20, Loss: 1.8260\n",
            "Skipped 0 out of 13995 graphs during fine-tuning.\n",
            "Finetune Epoch 5/20, Loss: 1.8242\n",
            "Skipped 0 out of 13995 graphs during fine-tuning.\n",
            "Finetune Epoch 6/20, Loss: 1.8159\n",
            "Skipped 0 out of 13995 graphs during fine-tuning.\n",
            "Finetune Epoch 7/20, Loss: 1.8063\n",
            "Skipped 0 out of 13995 graphs during fine-tuning.\n",
            "Finetune Epoch 8/20, Loss: 1.8020\n",
            "Skipped 0 out of 13995 graphs during fine-tuning.\n",
            "Finetune Epoch 9/20, Loss: 1.7984\n",
            "Skipped 0 out of 13995 graphs during fine-tuning.\n",
            "Finetune Epoch 10/20, Loss: 1.7944\n",
            "Skipped 0 out of 13995 graphs during fine-tuning.\n",
            "Finetune Epoch 11/20, Loss: 1.7905\n",
            "Skipped 0 out of 13995 graphs during fine-tuning.\n",
            "Finetune Epoch 12/20, Loss: 1.7874\n",
            "Skipped 0 out of 13995 graphs during fine-tuning.\n",
            "Finetune Epoch 13/20, Loss: 1.7849\n",
            "Skipped 0 out of 13995 graphs during fine-tuning.\n",
            "Finetune Epoch 14/20, Loss: 1.7826\n",
            "Skipped 0 out of 13995 graphs during fine-tuning.\n",
            "Finetune Epoch 15/20, Loss: 1.7808\n",
            "Skipped 0 out of 13995 graphs during fine-tuning.\n",
            "Finetune Epoch 16/20, Loss: 1.7791\n",
            "Skipped 0 out of 13995 graphs during fine-tuning.\n",
            "Finetune Epoch 17/20, Loss: 1.7773\n",
            "Skipped 0 out of 13995 graphs during fine-tuning.\n",
            "Finetune Epoch 18/20, Loss: 1.7752\n",
            "Skipped 0 out of 13995 graphs during fine-tuning.\n",
            "Finetune Epoch 19/20, Loss: 1.7730\n",
            "Skipped 0 out of 13995 graphs during fine-tuning.\n",
            "Finetune Epoch 20/20, Loss: 1.7711\n",
            "Fine-tuned model saved as finetuned_gat_32dim_3dim.pth\n"
          ]
        }
      ]
    },
    {
      "cell_type": "code",
      "source": [
        "import torch\n",
        "import torch.nn as nn\n",
        "import torch.nn.functional as F\n",
        "import pandas as pd\n",
        "from sklearn.model_selection import train_test_split\n",
        "from sklearn.preprocessing import LabelEncoder\n",
        "from torch_geometric.nn import GATConv, global_mean_pool\n",
        "from torch.nn import LayerNorm\n",
        "from rdkit import Chem\n",
        "from rdkit.Chem import AllChem\n",
        "from torch_geometric.data import Data\n",
        "import glob\n",
        "from google.colab import drive\n",
        "\n",
        "# Mount Google Drive\n",
        "drive.mount('/content/drive')\n",
        "\n",
        "# Preprocess data (assumes this was defined earlier in your pipeline)\n",
        "def preprocess_data():\n",
        "    labeled_df = pd.read_csv('/content/drive/MyDrive/ligand_metal_with_labels_clean2.csv')\n",
        "    smiles_files = glob.glob('/content/complexes_smiles/*_complexes_smiles.csv')\n",
        "    smiles_dfs = [pd.read_csv(file) for file in smiles_files]\n",
        "    all_smiles_df = pd.concat(smiles_dfs, ignore_index=True)\n",
        "\n",
        "    if all_smiles_df['refcode'].duplicated().any():\n",
        "        print(\"Warning: Duplicate refcodes found. Dropping duplicates.\")\n",
        "        all_smiles_df = all_smiles_df.drop_duplicates(subset='refcode')\n",
        "\n",
        "    merged_df = pd.merge(labeled_df, all_smiles_df[['refcode', 'SMILES']], on='refcode', how='inner')\n",
        "    print(f\"Number of merged entries: {len(merged_df)}\")\n",
        "\n",
        "    le = LabelEncoder()\n",
        "    merged_df['geometry_encoded'] = le.fit_transform(merged_df['geometry'])\n",
        "    print(\"Label mapping:\", dict(zip(le.classes_, le.transform(le.classes_))))\n",
        "\n",
        "    def smiles_to_graph(smiles):\n",
        "        try:\n",
        "            if isinstance(smiles, str) and smiles.startswith('['):\n",
        "                smiles = eval(smiles)[0]\n",
        "            mol = Chem.MolFromSmiles(smiles)\n",
        "            if mol is None or mol.GetNumAtoms() == 0 or mol.GetNumBonds() == 0:\n",
        "                return None\n",
        "            AllChem.Compute2DCoords(mol)\n",
        "            # Features to match pretrained: atomic number, degree, charge\n",
        "            atom_features = [[atom.GetAtomicNum(), atom.GetDegree(), atom.GetFormalCharge()] for atom in mol.GetAtoms()]\n",
        "            edge_index = []\n",
        "            for bond in mol.GetBonds():\n",
        "                i, j = bond.GetBeginAtomIdx(), bond.GetEndAtomIdx()\n",
        "                edge_index.extend([[i, j], [j, i]])\n",
        "            edge_index = torch.tensor(edge_index, dtype=torch.long).t().contiguous()\n",
        "            x = torch.tensor(atom_features, dtype=torch.float)\n",
        "            return Data(x=x, edge_index=edge_index)\n",
        "        except Exception as e:\n",
        "            print(f\"Error parsing SMILES {smiles}: {e}\")\n",
        "            return None\n",
        "\n",
        "    merged_df['graph'] = merged_df['SMILES'].apply(smiles_to_graph)\n",
        "    valid_df = merged_df[merged_df['graph'].notnull()].copy()\n",
        "    print(f\"Number of valid graphs: {len(valid_df)}\")\n",
        "\n",
        "    valid_df['graph'] = [\n",
        "        Data(x=g.x, edge_index=g.edge_index, batch=torch.zeros(g.x.size(0), dtype=torch.long))\n",
        "        for g in valid_df['graph']\n",
        "        if g.edge_index.size(1) > 0\n",
        "    ]\n",
        "    valid_df = valid_df[valid_df['graph'].apply(lambda x: x is not None and x.edge_index.size(1) > 0)].copy()\n",
        "    print(f\"Number of valid graphs with edges: {len(valid_df)}\")\n",
        "\n",
        "    return valid_df, le\n",
        "\n",
        "# Load and preprocess data\n",
        "valid_df, le = preprocess_data()\n",
        "\n",
        "# Split data into fine-tune and train sets\n",
        "finetune_df, train_df = train_test_split(valid_df, test_size=0.8, random_state=42)\n",
        "finetune_graphs = finetune_df['graph'].tolist()\n",
        "finetune_labels = finetune_df['geometry_encoded'].tolist()\n",
        "\n",
        "# Device setup\n",
        "device = torch.device('cuda' if torch.cuda.is_available() else 'cpu')\n",
        "print(f\"Using device: {device}\")\n",
        "\n",
        "# Calculate class weights for imbalance\n",
        "class_counts = finetune_df['geometry_encoded'].value_counts()\n",
        "class_weights = (1.0 / torch.tensor([class_counts[i] for i in range(len(le.classes_))], dtype=torch.float)).to(device)\n",
        "class_weights = torch.clamp(class_weights, min=0.1, max=10.0)\n",
        "\n",
        "# Define GATTask Model to match pretrained architecture\n",
        "class GATTask(torch.nn.Module):\n",
        "    def __init__(self, input_dim, hidden_dim_conv1, output_dim_conv2, hidden_dim, num_classes):\n",
        "        super(GATTask, self).__init__()\n",
        "        self.conv1 = GATConv(input_dim, hidden_dim_conv1, heads=4, concat=True)\n",
        "        self.norm1 = LayerNorm(hidden_dim_conv1 * 4)\n",
        "        self.conv2 = GATConv(hidden_dim_conv1 * 4, output_dim_conv2, heads=1, concat=True)\n",
        "        # Map conv2 output to a higher dimension for classification\n",
        "        self.mapping_layer = nn.Linear(output_dim_conv2, hidden_dim)\n",
        "        self.fc = torch.nn.Linear(hidden_dim, num_classes)\n",
        "\n",
        "    def forward(self, data):\n",
        "        x, edge_index, batch = data.x, data.edge_index, data.batch\n",
        "        x = F.elu(self.conv1(x, edge_index))\n",
        "        x = self.norm1(x)\n",
        "        x = F.elu(self.conv2(x, edge_index))\n",
        "        x = F.elu(self.mapping_layer(x))\n",
        "        x = global_mean_pool(x, batch)\n",
        "        x = self.fc(x)\n",
        "        return x\n",
        "\n",
        "# Initialize GATTask model to match pretrained architecture\n",
        "input_dim = 3  # Match pretrained\n",
        "hidden_dim_conv1 = 32  # Match pretrained for conv1\n",
        "output_dim_conv2 = 3   # Match pretrained for conv2 (from GATPretrain output_dim)\n",
        "hidden_dim = 32        # Desired hidden dimension for classification\n",
        "num_classes = len(le.classes_)\n",
        "model_task = GATTask(input_dim, hidden_dim_conv1, output_dim_conv2, hidden_dim, num_classes).to(device)\n",
        "\n",
        "# Load pretrained weights, excluding the fc layer\n",
        "try:\n",
        "    pretrained_dict = torch.load('/content/drive/MyDrive/pretrained_gat.pth', map_location=device)\n",
        "    model_dict = model_task.state_dict()\n",
        "    # Exclude layers that don't match (fc and mapping_layer)\n",
        "    pretrained_dict = {k: v for k, v in pretrained_dict.items() if k in model_dict and not k.startswith('fc') and not k.startswith('mapping_layer')}\n",
        "    model_dict.update(pretrained_dict)\n",
        "    model_task.load_state_dict(model_dict)\n",
        "    print(\"Pretrained weights loaded successfully for layers:\", list(pretrained_dict.keys()))\n",
        "except Exception as e:\n",
        "    print(f\"Failed to load pretrained weights: {e}. Initializing all layers randomly.\")\n",
        "\n",
        "print(\"The mapping_layer and fc layer are randomly initialized for task-specific fine-tuning.\")\n",
        "\n",
        "# Define optimizer and loss\n",
        "optimizer = torch.optim.Adam(model_task.parameters(), lr=1e-4)\n",
        "criterion = torch.nn.CrossEntropyLoss(weight=class_weights)\n",
        "\n",
        "# Define Fine-Tuning Function\n",
        "def finetune_epoch(graphs, labels):\n",
        "    model_task.train()\n",
        "    total_loss = 0\n",
        "    valid_graphs = 0\n",
        "    skipped_graphs = 0\n",
        "\n",
        "    for i, (data, label) in enumerate(zip(graphs, labels)):\n",
        "        if data.edge_index.size(1) == 0 or data.x is None or data.x.size(0) == 0:\n",
        "            skipped_graphs += 1\n",
        "            print(f\"Skipping graph {i} due to empty graph or no nodes/edges\")\n",
        "            continue\n",
        "\n",
        "        data = data.to(device)\n",
        "        label = torch.tensor([label], dtype=torch.long).to(device)\n",
        "\n",
        "        # Normalize input features (consistent with pretraining)\n",
        "        mean = torch.mean(data.x, dim=0, keepdim=True)\n",
        "        std = torch.std(data.x, dim=0, keepdim=True) + 1e-7\n",
        "        data.x = (data.x - mean) / std\n",
        "\n",
        "        if torch.isnan(data.x).any() or torch.isinf(data.x).any():\n",
        "            skipped_graphs += 1\n",
        "            print(f\"Skipping graph {i} due to NaN or Inf in input\")\n",
        "            continue\n",
        "\n",
        "        optimizer.zero_grad()\n",
        "        out = model_task(data)\n",
        "\n",
        "        if torch.isnan(out).any() or torch.isinf(out).any():\n",
        "            skipped_graphs += 1\n",
        "            print(f\"Skipping graph {i} due to NaN or Inf in output\")\n",
        "            continue\n",
        "\n",
        "        loss = criterion(out, label)\n",
        "        if torch.isnan(loss) or torch.isinf(loss):\n",
        "            skipped_graphs += 1\n",
        "            print(f\"Skipping graph {i} due to invalid loss: {loss}\")\n",
        "            continue\n",
        "\n",
        "        loss.backward()\n",
        "        torch.nn.utils.clip_grad_norm_(model_task.parameters(), max_norm=1.0)\n",
        "        optimizer.step()\n",
        "        total_loss += loss.item()\n",
        "        valid_graphs += 1\n",
        "\n",
        "    print(f\"Skipped {skipped_graphs} out of {len(graphs)} graphs during fine-tuning.\")\n",
        "    return total_loss / max(1, valid_graphs)\n",
        "\n",
        "# Run Fine-Tuning for more epochs\n",
        "for epoch in range(20):\n",
        "    loss = finetune_epoch(finetune_graphs, finetune_labels)\n",
        "    print(f'Finetune Epoch {epoch+1}/20, Loss: {loss:.4f}')\n",
        "\n",
        "# Save the fine-tuned model\n",
        "torch.save(model_task.state_dict(), '/content/drive/MyDrive/finetuned_gat_32dim_3dim.pth')\n",
        "print(\"Fine-tuned model saved as finetuned_gat_32dim_3dim.pth\")"
      ],
      "metadata": {
        "colab": {
          "base_uri": "https://localhost:8080/"
        },
        "outputId": "418a640a-cf72-4d2f-fb1c-3a7f930144af",
        "id": "BtJ4Zkchlc7k"
      },
      "execution_count": null,
      "outputs": [
        {
          "output_type": "stream",
          "name": "stdout",
          "text": [
            "Drive already mounted at /content/drive; to attempt to forcibly remount, call drive.mount(\"/content/drive\", force_remount=True).\n",
            "Number of merged entries: 82880\n",
            "Label mapping: {'bent': np.int64(0), 'linear': np.int64(1), 'octahedral': np.int64(2), 'planar_3': np.int64(3), 'planar_4': np.int64(4), 'planar_5': np.int64(5), 'prism': np.int64(6), 'pyramid_3': np.int64(7), 'pyramid_4': np.int64(8), 'pyramid_bi': np.int64(9), 'pyramid_sq': np.int64(10), 'tetrahedral': np.int64(11), 'tshape': np.int64(12)}\n",
            "Number of valid graphs: 69976\n",
            "Number of valid graphs with edges: 69976\n",
            "Using device: cpu\n",
            "Pretrained weights loaded successfully for layers: ['conv1.att_src', 'conv1.att_dst', 'conv1.bias', 'conv1.lin.weight', 'norm1.weight', 'norm1.bias', 'conv2.att_src', 'conv2.att_dst', 'conv2.bias', 'conv2.lin.weight']\n",
            "The mapping_layer and fc layer are randomly initialized for task-specific fine-tuning.\n",
            "Skipped 0 out of 13995 graphs during fine-tuning.\n",
            "Finetune Epoch 1/20, Loss: 1.9857\n",
            "Skipped 0 out of 13995 graphs during fine-tuning.\n",
            "Finetune Epoch 2/20, Loss: 1.8195\n",
            "Skipped 0 out of 13995 graphs during fine-tuning.\n",
            "Finetune Epoch 3/20, Loss: 1.8031\n",
            "Skipped 0 out of 13995 graphs during fine-tuning.\n",
            "Finetune Epoch 4/20, Loss: 1.7945\n",
            "Skipped 0 out of 13995 graphs during fine-tuning.\n",
            "Finetune Epoch 5/20, Loss: 1.7922\n",
            "Skipped 0 out of 13995 graphs during fine-tuning.\n",
            "Finetune Epoch 6/20, Loss: 1.7929\n",
            "Skipped 0 out of 13995 graphs during fine-tuning.\n",
            "Finetune Epoch 7/20, Loss: 1.7934\n",
            "Skipped 0 out of 13995 graphs during fine-tuning.\n",
            "Finetune Epoch 8/20, Loss: 1.7941\n",
            "Skipped 0 out of 13995 graphs during fine-tuning.\n",
            "Finetune Epoch 9/20, Loss: 1.7909\n",
            "Skipped 0 out of 13995 graphs during fine-tuning.\n",
            "Finetune Epoch 10/20, Loss: 1.7871\n",
            "Skipped 0 out of 13995 graphs during fine-tuning.\n",
            "Finetune Epoch 11/20, Loss: 1.7843\n",
            "Skipped 0 out of 13995 graphs during fine-tuning.\n",
            "Finetune Epoch 12/20, Loss: 1.7806\n",
            "Skipped 0 out of 13995 graphs during fine-tuning.\n",
            "Finetune Epoch 13/20, Loss: 1.7768\n",
            "Skipped 0 out of 13995 graphs during fine-tuning.\n",
            "Finetune Epoch 14/20, Loss: 1.7753\n",
            "Skipped 0 out of 13995 graphs during fine-tuning.\n",
            "Finetune Epoch 15/20, Loss: 1.7727\n",
            "Skipped 0 out of 13995 graphs during fine-tuning.\n",
            "Finetune Epoch 16/20, Loss: 1.7698\n",
            "Skipped 0 out of 13995 graphs during fine-tuning.\n",
            "Finetune Epoch 17/20, Loss: 1.7675\n",
            "Skipped 0 out of 13995 graphs during fine-tuning.\n",
            "Finetune Epoch 18/20, Loss: 1.7659\n",
            "Skipped 0 out of 13995 graphs during fine-tuning.\n",
            "Finetune Epoch 19/20, Loss: 1.7644\n",
            "Skipped 0 out of 13995 graphs during fine-tuning.\n",
            "Finetune Epoch 20/20, Loss: 1.7642\n",
            "Fine-tuned model saved as finetuned_gat_32dim_3dim.pth\n"
          ]
        }
      ]
    },
    {
      "cell_type": "markdown",
      "source": [
        "**Final Training**"
      ],
      "metadata": {
        "id": "G2Umuv2D1GeX"
      }
    },
    {
      "cell_type": "code",
      "source": [
        "import torch\n",
        "import torch.nn as nn\n",
        "import torch.nn.functional as F\n",
        "import numpy as np\n",
        "import pandas as pd\n",
        "from torch_geometric.loader import DataLoader\n",
        "from torch_geometric.nn import GATConv, global_mean_pool, global_max_pool\n",
        "from torch.nn import LayerNorm, Dropout, BatchNorm1d\n",
        "from sklearn.model_selection import StratifiedKFold\n",
        "from sklearn.metrics import accuracy_score, f1_score, classification_report\n",
        "from sklearn.preprocessing import StandardScaler, LabelEncoder\n",
        "from torch.utils.data import WeightedRandomSampler\n",
        "from torch.optim.lr_scheduler import CosineAnnealingLR\n",
        "import glob\n",
        "from rdkit import Chem\n",
        "from rdkit.Chem import AllChem\n",
        "from torch_geometric.data import Data\n",
        "\n",
        "# Configuration\n",
        "class Config:\n",
        "    seed = 42\n",
        "    batch_size = 64\n",
        "    hidden_dim = 32  # Changed to match pre-trained model\n",
        "    num_heads = 4    # Changed to match pre-trained model\n",
        "    dropout = 0.4\n",
        "    learning_rate = 5e-4\n",
        "    weight_decay = 1e-5\n",
        "    epochs = 300\n",
        "    patience = 20\n",
        "    min_lr = 1e-6\n",
        "    gamma = 2.0\n",
        "    num_folds = 5\n",
        "\n",
        "# Set random seeds for reproducibility\n",
        "torch.manual_seed(Config.seed)\n",
        "np.random.seed(Config.seed)\n",
        "\n",
        "# Define Focal Loss for handling class imbalance\n",
        "class FocalLoss(nn.Module):\n",
        "    def __init__(self, gamma=Config.gamma, alpha=None, reduction='mean'):\n",
        "        super(FocalLoss, self).__init__()\n",
        "        self.gamma = gamma\n",
        "        self.alpha = alpha\n",
        "        self.reduction = reduction\n",
        "\n",
        "    def forward(self, inputs, targets):\n",
        "        ce_loss = F.cross_entropy(inputs, targets, reduction='none', weight=self.alpha)\n",
        "        pt = torch.exp(-ce_loss)\n",
        "        focal_loss = (1 - pt) ** self.gamma * ce_loss\n",
        "        if self.reduction == 'mean':\n",
        "            return focal_loss.mean()\n",
        "        elif self.reduction == 'sum':\n",
        "            return focal_loss.sum()\n",
        "        else:\n",
        "            return focal_loss\n",
        "\n",
        "# Define the Enhanced Robust Molecular Geometry Model\n",
        "class RobustMolecularGeometryModel(nn.Module):\n",
        "    def __init__(self, input_dim, hidden_dim, num_classes, dropout_prob=Config.dropout):\n",
        "        super(RobustMolecularGeometryModel, self).__init__()\n",
        "\n",
        "        self.conv1 = GATConv(input_dim, hidden_dim, heads=Config.num_heads, concat=True, dropout=dropout_prob)\n",
        "        self.norm1 = LayerNorm(hidden_dim * Config.num_heads)\n",
        "        self.dropout1 = Dropout(dropout_prob)\n",
        "\n",
        "        self.conv2 = GATConv(hidden_dim * Config.num_heads, hidden_dim * 2, heads=Config.num_heads, concat=True, dropout=dropout_prob)\n",
        "        self.norm2 = LayerNorm(hidden_dim * 2 * Config.num_heads)\n",
        "        self.dropout2 = Dropout(dropout_prob)\n",
        "\n",
        "        self.conv3 = GATConv(hidden_dim * 2 * Config.num_heads, hidden_dim, heads=1, concat=False, dropout=dropout_prob)\n",
        "        self.norm3 = LayerNorm(hidden_dim)\n",
        "        self.dropout3 = Dropout(dropout_prob)\n",
        "\n",
        "        self.conv4 = GATConv(hidden_dim, hidden_dim, heads=1, concat=False, dropout=dropout_prob)\n",
        "        self.norm4 = LayerNorm(hidden_dim)\n",
        "        self.dropout4 = Dropout(dropout_prob)\n",
        "\n",
        "        self.fc1 = nn.Linear(hidden_dim * 2, hidden_dim)\n",
        "        self.bn1 = BatchNorm1d(hidden_dim)\n",
        "        self.dropout_fc = Dropout(dropout_prob)\n",
        "        self.fc2 = nn.Linear(hidden_dim, num_classes)\n",
        "\n",
        "    def forward(self, data):\n",
        "        x, edge_index, batch = data.x, data.edge_index, data.batch\n",
        "\n",
        "        x = F.elu(self.conv1(x, edge_index))\n",
        "        x = self.norm1(x)\n",
        "        x = self.dropout1(x)\n",
        "\n",
        "        x = F.elu(self.conv2(x, edge_index))\n",
        "        x = self.norm2(x)\n",
        "        x = self.dropout2(x)\n",
        "\n",
        "        x = F.elu(self.conv3(x, edge_index))\n",
        "        x = self.norm3(x)\n",
        "        x = self.dropout3(x)\n",
        "\n",
        "        x = F.elu(self.conv4(x, edge_index))\n",
        "        x = self.norm4(x)\n",
        "        x = self.dropout4(x)\n",
        "\n",
        "        x_mean = global_mean_pool(x, batch)\n",
        "        x_max = global_max_pool(x, batch)\n",
        "        x_combined = torch.cat([x_mean, x_max], dim=1)\n",
        "\n",
        "        x = F.relu(self.fc1(x_combined))\n",
        "        x = self.bn1(x)\n",
        "        x = self.dropout_fc(x)\n",
        "        x = self.fc2(x)\n",
        "\n",
        "        return x\n",
        "\n",
        "# ... [Keep the preprocess_graphs, augment_data, and preprocess_data functions as they were] ...\n",
        "\n",
        "# Training and evaluation function\n",
        "def train_and_evaluate(graphs, labels, le, num_folds=Config.num_folds, epochs=Config.epochs):\n",
        "    graphs, labels = preprocess_graphs(graphs, labels)\n",
        "\n",
        "    device = torch.device('cuda' if torch.cuda.is_available() else 'cpu')\n",
        "    print(f\"Using device: {device}\")\n",
        "\n",
        "    skf = StratifiedKFold(n_splits=num_folds, shuffle=True, random_state=Config.seed)\n",
        "\n",
        "    fold_accuracies = []\n",
        "\n",
        "    input_dim = graphs[0].x.shape[1]\n",
        "    num_classes = len(set(labels))\n",
        "\n",
        "    labels_array = np.array(labels)\n",
        "    if labels_array.min() < 0 or labels_array.max() >= num_classes:\n",
        "        raise ValueError(f\"Labels must be in range [0, {num_classes-1}], but found min: {labels_array.min()}, max: {labels_array.max()}\")\n",
        "\n",
        "    class_counts = np.bincount(labels)\n",
        "    print(f\"Class counts: {class_counts}\")\n",
        "    class_weights = np.log1p(1.0 / (class_counts + 1e-6))\n",
        "    class_weights = class_weights / class_weights.sum() * len(class_counts)\n",
        "    class_weights = np.minimum(class_weights, 2.0)\n",
        "    class_weights = np.maximum(class_weights, 0.3)\n",
        "    class_weights = torch.tensor(class_weights, dtype=torch.float).to(device)\n",
        "    print(f\"Class weights: {class_weights}\")\n",
        "\n",
        "    sample_weights = np.zeros(len(labels))\n",
        "    for i, label in enumerate(labels):\n",
        "        sample_weights[i] = class_weights[label].item()\n",
        "\n",
        "    for fold, (train_index, val_index) in enumerate(skf.split(graphs, labels), 1):\n",
        "        print(f\"\\n=== Fold {fold}/{num_folds} ===\")\n",
        "\n",
        "        train_graphs = [graphs[i] for i in train_index]\n",
        "        val_graphs = [graphs[i] for i in val_index]\n",
        "        train_labels = [labels[i] for i in train_index]\n",
        "\n",
        "        train_sample_weights = [sample_weights[i] for i in train_index]\n",
        "        sampler = WeightedRandomSampler(train_sample_weights, len(train_sample_weights), replacement=True)\n",
        "\n",
        "        train_loader = DataLoader(train_graphs, batch_size=Config.batch_size, sampler=sampler, num_workers=2, pin_memory=True)\n",
        "        val_loader = DataLoader(val_graphs, batch_size=Config.batch_size*2, shuffle=False, num_workers=2, pin_memory=True)\n",
        "\n",
        "        model = RobustMolecularGeometryModel(\n",
        "            input_dim=input_dim,\n",
        "            hidden_dim=Config.hidden_dim,\n",
        "            num_classes=num_classes,\n",
        "            dropout_prob=Config.dropout\n",
        "        ).to(device)\n",
        "\n",
        "        try:\n",
        "            finetuned_dict = torch.load('/content/drive/MyDrive/finetuned_gat_32dim_3dim.pth', map_location=device)\n",
        "            model_dict = model.state_dict()\n",
        "\n",
        "            # Filter out incompatible keys\n",
        "            compatible_layers = {k: v for k, v in finetuned_dict.items() if k in model_dict and v.shape == model_dict[k].shape}\n",
        "            model_dict.update(compatible_layers)\n",
        "            model.load_state_dict(model_dict)\n",
        "\n",
        "            print(f\"Fold {fold}: Loaded compatible fine-tuned weights for layers: {list(compatible_layers.keys())}\")\n",
        "            print(f\"Fold {fold}: Initialized remaining layers with new dimensions.\")\n",
        "        except Exception as e:\n",
        "            print(f\"Fold {fold}: Failed to load fine-tuned weights: {e}. Training from scratch.\")\n",
        "\n",
        "        optimizer = torch.optim.AdamW(\n",
        "            model.parameters(),\n",
        "            lr=Config.learning_rate,\n",
        "            weight_decay=Config.weight_decay\n",
        "        )\n",
        "        criterion = FocalLoss(alpha=class_weights)\n",
        "        scheduler = CosineAnnealingLR(optimizer, T_max=Config.epochs, eta_min=Config.min_lr)\n",
        "\n",
        "        warmup_epochs = 10\n",
        "        warmup_lr = 1e-6\n",
        "\n",
        "        best_val_accuracy = 0\n",
        "        patience = Config.patience\n",
        "        patience_counter = 0\n",
        "\n",
        "        accum_steps = 4\n",
        "        effective_batch_size = Config.batch_size * accum_steps\n",
        "\n",
        "        for epoch in range(Config.epochs):\n",
        "            model.train()\n",
        "            total_train_loss = 0\n",
        "            optimizer.zero_grad()\n",
        "\n",
        "            if epoch < warmup_epochs:\n",
        "                lr = warmup_lr + (Config.learning_rate - warmup_lr) * (epoch / warmup_epochs)\n",
        "                for param_group in optimizer.param_groups:\n",
        "                    param_group['lr'] = lr\n",
        "\n",
        "            step = 0\n",
        "            for batch in train_loader:\n",
        "                batch = batch.to(device)\n",
        "                batch = augment_data(batch, epoch)\n",
        "\n",
        "                outputs = model(batch)\n",
        "                loss = criterion(outputs, batch.y)\n",
        "                loss = loss / accum_steps\n",
        "\n",
        "                loss.backward()\n",
        "                step += 1\n",
        "\n",
        "                if step % accum_steps == 0:\n",
        "                    torch.nn.utils.clip_grad_norm_(model.parameters(), max_norm=1.0)\n",
        "                    optimizer.step()\n",
        "                    optimizer.zero_grad()\n",
        "\n",
        "                total_train_loss += loss.item() * accum_steps * batch.num_graphs\n",
        "\n",
        "            model.eval()\n",
        "            total_val_loss = 0\n",
        "            all_preds = []\n",
        "            all_true = []\n",
        "\n",
        "            with torch.no_grad():\n",
        "                for batch in val_loader:\n",
        "                    batch = batch.to(device)\n",
        "                    outputs = model(batch)\n",
        "                    loss = criterion(outputs, batch.y)\n",
        "                    total_val_loss += loss.item() * batch.num_graphs\n",
        "\n",
        "                    preds = outputs.argmax(dim=1).cpu().numpy()\n",
        "                    all_preds.extend(preds)\n",
        "                    all_true.extend(batch.y.cpu().numpy())\n",
        "\n",
        "            val_accuracy = accuracy_score(all_true, all_preds)\n",
        "            val_f1 = f1_score(all_true, all_preds, average='weighted')\n",
        "            avg_train_loss = total_train_loss / len(train_loader.dataset)\n",
        "            avg_val_loss = total_val_loss / len(val_loader.dataset)\n",
        "\n",
        "            if epoch >= warmup_epochs:\n",
        "                scheduler.step()\n",
        "\n",
        "            if val_accuracy > best_val_accuracy:\n",
        "                best_val_accuracy = val_accuracy\n",
        "                patience_counter = 0\n",
        "                torch.save(model.state_dict(), f\"best_model_fold_{fold}.pth\")\n",
        "            else:\n",
        "                patience_counter += 1\n",
        "\n",
        "            print(f\"Fold {fold}, Epoch {epoch+1}: \"\n",
        "                  f\"Train Loss: {avg_train_loss:.4f}, \"\n",
        "                  f\"Val Loss: {avg_val_loss:.4f}, \"\n",
        "                  f\"Val Accuracy: {val_accuracy:.4f}, \"\n",
        "                  f\"Val F1: {val_f1:.4f}, \"\n",
        "                  f\"LR: {optimizer.param_groups[0]['lr']:.6f}\")\n",
        "\n",
        "            if patience_counter >= patience:\n",
        "                print(f\"Fold {fold}: Early stopping triggered.\")\n",
        "                break\n",
        "\n",
        "        fold_accuracies.append(best_val_accuracy)\n",
        "\n",
        "    mean_accuracy = np.mean(fold_accuracies)\n",
        "    print(f\"\\nOverall Mean Accuracy: {mean_accuracy:.4f}\")\n",
        "\n",
        "    print(\"\\nDetailed Performance Analysis\")\n",
        "    for fold, (train_index, val_index) in enumerate(skf.split(graphs, labels), 1):\n",
        "        val_graphs = [graphs[i] for i in val_index]\n",
        "        val_labels = [labels[i] for i in val_index]\n",
        "        val_loader = DataLoader(val_graphs, batch_size=Config.batch_size*2, shuffle=False, num_workers=2, pin_memory=True)\n",
        "\n",
        "        model.load_state_dict(torch.load(f\"best_model_fold_{fold}.pth\", map_location=device))\n",
        "\n",
        "        model.eval()\n",
        "        all_preds = []\n",
        "        all_true = []\n",
        "        with torch.no_grad():\n",
        "            for batch in val_loader:\n",
        "                batch = batch.to(device)\n",
        "                outputs = model(batch)\n",
        "                preds = outputs.argmax(dim=1).cpu().numpy()\n",
        "                all_preds.extend(preds)\n",
        "                all_true.extend(batch.y.cpu().numpy())\n",
        "\n",
        "        print(f\"\\nFold {fold} Classification Report:\")\n",
        "        print(classification_report(all_true, all_preds))\n",
        "\n",
        "def main():\n",
        "    torch.manual_seed(Config.seed)\n",
        "    np.random.seed(Config.seed)\n",
        "\n",
        "    valid_df, le = preprocess_data()\n",
        "\n",
        "    graphs = valid_df['graph'].tolist()\n",
        "    labels = valid_df['geometry_encoded'].tolist()\n",
        "\n",
        "    train_and_evaluate(graphs, labels, le)\n",
        "\n",
        "if __name__ == \"__main__\":\n",
        "    main()\n"
      ],
      "metadata": {
        "colab": {
          "base_uri": "https://localhost:8080/"
        },
        "id": "NabaKz2K-2Qd",
        "outputId": "5ebc3c86-ce56-4017-da38-9e779d5d3309"
      },
      "execution_count": null,
      "outputs": [
        {
          "output_type": "stream",
          "name": "stdout",
          "text": [
            "Number of merged entries: 82880\n",
            "Label mapping: {'bent': np.int64(0), 'linear': np.int64(1), 'octahedral': np.int64(2), 'planar_3': np.int64(3), 'planar_4': np.int64(4), 'planar_5': np.int64(5), 'prism': np.int64(6), 'pyramid_3': np.int64(7), 'pyramid_4': np.int64(8), 'pyramid_bi': np.int64(9), 'pyramid_sq': np.int64(10), 'tetrahedral': np.int64(11), 'tshape': np.int64(12)}\n",
            "Number of valid graphs: 69976\n",
            "Number of valid graphs with edges: 69976\n",
            "Skipped 0 graphs with missing features\n",
            "Using device: cpu\n",
            "Class counts: [    8   395 36865  1038 10631    41  2092   101  4503  4686  5034  4441\n",
            "   141]\n",
            "Class weights: tensor([2.0000, 0.3000, 0.3000, 0.3000, 0.3000, 1.9131, 0.3000, 0.7822, 0.3000,\n",
            "        0.3000, 0.3000, 0.3000, 0.5611])\n",
            "\n",
            "=== Fold 1/5 ===\n",
            "Fold 1: Loaded compatible fine-tuned weights for layers: ['conv1.att_src', 'conv1.att_dst', 'conv1.bias', 'conv1.lin.weight', 'norm1.weight', 'norm1.bias', 'conv2.att_src', 'conv2.att_dst', 'conv2.bias', 'conv2.lin.weight', 'norm2.weight', 'norm2.bias', 'conv3.att_src', 'conv3.att_dst', 'conv3.bias', 'conv3.lin.weight', 'fc1.weight', 'fc1.bias', 'fc2.weight', 'fc2.bias']\n",
            "Fold 1: Initialized remaining layers with new dimensions.\n",
            "Fold 1, Epoch 1: Train Loss: 0.3268, Val Loss: 0.3549, Val Accuracy: 0.1695, Val F1: 0.2012, LR: 0.000001\n",
            "Fold 1, Epoch 2: Train Loss: 0.2936, Val Loss: 0.2888, Val Accuracy: 0.1530, Val F1: 0.1956, LR: 0.000051\n",
            "Fold 1, Epoch 3: Train Loss: 0.2502, Val Loss: 0.2457, Val Accuracy: 0.3633, Val F1: 0.3192, LR: 0.000101\n",
            "Fold 1, Epoch 4: Train Loss: 0.2167, Val Loss: 0.1994, Val Accuracy: 0.5115, Val F1: 0.3635, LR: 0.000151\n",
            "Fold 1, Epoch 5: Train Loss: 0.1924, Val Loss: 0.3931, Val Accuracy: 0.5209, Val F1: 0.3641, LR: 0.000201\n",
            "Fold 1, Epoch 6: Train Loss: 0.1672, Val Loss: 0.5619, Val Accuracy: 0.5266, Val F1: 0.3636, LR: 0.000251\n",
            "Fold 1, Epoch 7: Train Loss: 0.1581, Val Loss: 0.4347, Val Accuracy: 0.5268, Val F1: 0.3635, LR: 0.000300\n",
            "Fold 1, Epoch 8: Train Loss: 0.1464, Val Loss: 0.3443, Val Accuracy: 0.5268, Val F1: 0.3636, LR: 0.000350\n",
            "Fold 1, Epoch 9: Train Loss: 0.1430, Val Loss: 0.3175, Val Accuracy: 0.5268, Val F1: 0.3635, LR: 0.000400\n",
            "Fold 1, Epoch 10: Train Loss: 0.1414, Val Loss: 0.4544, Val Accuracy: 0.5268, Val F1: 0.3635, LR: 0.000450\n",
            "Fold 1, Epoch 11: Train Loss: 0.1422, Val Loss: 0.4925, Val Accuracy: 0.5268, Val F1: 0.3635, LR: 0.000450\n",
            "Fold 1, Epoch 12: Train Loss: 0.1407, Val Loss: 0.3838, Val Accuracy: 0.5266, Val F1: 0.3634, LR: 0.000450\n",
            "Fold 1, Epoch 13: Train Loss: 0.1399, Val Loss: 0.8450, Val Accuracy: 0.5257, Val F1: 0.3645, LR: 0.000450\n",
            "Fold 1, Epoch 14: Train Loss: 0.1379, Val Loss: 0.8605, Val Accuracy: 0.5266, Val F1: 0.3634, LR: 0.000450\n",
            "Fold 1, Epoch 15: Train Loss: 0.1367, Val Loss: 0.3349, Val Accuracy: 0.5234, Val F1: 0.3645, LR: 0.000450\n",
            "Fold 1, Epoch 16: Train Loss: 0.1348, Val Loss: 0.4879, Val Accuracy: 0.5246, Val F1: 0.3647, LR: 0.000450\n",
            "Fold 1, Epoch 17: Train Loss: 0.1364, Val Loss: 0.4685, Val Accuracy: 0.5231, Val F1: 0.3647, LR: 0.000449\n",
            "Fold 1, Epoch 18: Train Loss: 0.1321, Val Loss: 0.5674, Val Accuracy: 0.5243, Val F1: 0.3647, LR: 0.000449\n",
            "Fold 1, Epoch 19: Train Loss: 0.1319, Val Loss: 0.2789, Val Accuracy: 0.5227, Val F1: 0.3654, LR: 0.000449\n",
            "Fold 1, Epoch 20: Train Loss: 0.1323, Val Loss: 0.3444, Val Accuracy: 0.5189, Val F1: 0.3640, LR: 0.000449\n",
            "Fold 1, Epoch 21: Train Loss: 0.1319, Val Loss: 0.3357, Val Accuracy: 0.5214, Val F1: 0.3649, LR: 0.000449\n",
            "Fold 1, Epoch 22: Train Loss: 0.1317, Val Loss: 0.5033, Val Accuracy: 0.5220, Val F1: 0.3648, LR: 0.000448\n",
            "Fold 1, Epoch 23: Train Loss: 0.1319, Val Loss: 0.5153, Val Accuracy: 0.5216, Val F1: 0.3645, LR: 0.000448\n",
            "Fold 1, Epoch 24: Train Loss: 0.1294, Val Loss: 0.6880, Val Accuracy: 0.5234, Val F1: 0.3646, LR: 0.000448\n",
            "Fold 1, Epoch 25: Train Loss: 0.1278, Val Loss: 0.3087, Val Accuracy: 0.5251, Val F1: 0.3652, LR: 0.000447\n",
            "Fold 1, Epoch 26: Train Loss: 0.1294, Val Loss: 0.2800, Val Accuracy: 0.5226, Val F1: 0.3647, LR: 0.000447\n",
            "Fold 1, Epoch 27: Train Loss: 0.1305, Val Loss: 0.5362, Val Accuracy: 0.5213, Val F1: 0.3644, LR: 0.000447\n",
            "Fold 1: Early stopping triggered.\n",
            "\n",
            "=== Fold 2/5 ===\n",
            "Fold 2: Loaded compatible fine-tuned weights for layers: ['conv1.att_src', 'conv1.att_dst', 'conv1.bias', 'conv1.lin.weight', 'norm1.weight', 'norm1.bias', 'conv2.att_src', 'conv2.att_dst', 'conv2.bias', 'conv2.lin.weight', 'norm2.weight', 'norm2.bias', 'conv3.att_src', 'conv3.att_dst', 'conv3.bias', 'conv3.lin.weight', 'fc1.weight', 'fc1.bias', 'fc2.weight', 'fc2.bias']\n",
            "Fold 2: Initialized remaining layers with new dimensions.\n",
            "Fold 2, Epoch 1: Train Loss: 0.3144, Val Loss: 0.4471, Val Accuracy: 0.0965, Val F1: 0.1544, LR: 0.000001\n",
            "Fold 2, Epoch 2: Train Loss: 0.2888, Val Loss: 0.3167, Val Accuracy: 0.0875, Val F1: 0.1434, LR: 0.000051\n",
            "Fold 2, Epoch 3: Train Loss: 0.2471, Val Loss: 0.2435, Val Accuracy: 0.0741, Val F1: 0.1221, LR: 0.000101\n",
            "Fold 2, Epoch 4: Train Loss: 0.2187, Val Loss: 0.2073, Val Accuracy: 0.3426, Val F1: 0.3378, LR: 0.000151\n",
            "Fold 2, Epoch 5: Train Loss: 0.1960, Val Loss: 0.1701, Val Accuracy: 0.5229, Val F1: 0.3651, LR: 0.000201\n",
            "Fold 2, Epoch 6: Train Loss: 0.1699, Val Loss: 0.1539, Val Accuracy: 0.5263, Val F1: 0.3640, LR: 0.000251\n",
            "Fold 2, Epoch 7: Train Loss: 0.1596, Val Loss: 0.1484, Val Accuracy: 0.5263, Val F1: 0.3647, LR: 0.000300\n",
            "Fold 2, Epoch 8: Train Loss: 0.1491, Val Loss: 0.1419, Val Accuracy: 0.5265, Val F1: 0.3650, LR: 0.000350\n",
            "Fold 2, Epoch 9: Train Loss: 0.1491, Val Loss: 0.1424, Val Accuracy: 0.5256, Val F1: 0.3645, LR: 0.000400\n",
            "Fold 2, Epoch 10: Train Loss: 0.1436, Val Loss: 0.1399, Val Accuracy: 0.5264, Val F1: 0.3642, LR: 0.000450\n",
            "Fold 2, Epoch 11: Train Loss: 0.1421, Val Loss: 0.1364, Val Accuracy: 0.5266, Val F1: 0.3643, LR: 0.000450\n",
            "Fold 2, Epoch 12: Train Loss: 0.1438, Val Loss: 0.1479, Val Accuracy: 0.5255, Val F1: 0.3641, LR: 0.000450\n",
            "Fold 2, Epoch 13: Train Loss: 0.1392, Val Loss: 0.3910, Val Accuracy: 0.5257, Val F1: 0.3644, LR: 0.000450\n",
            "Fold 2, Epoch 14: Train Loss: 0.1381, Val Loss: 0.3304, Val Accuracy: 0.5262, Val F1: 0.3645, LR: 0.000450\n",
            "Fold 2, Epoch 15: Train Loss: 0.1388, Val Loss: 0.2474, Val Accuracy: 0.5062, Val F1: 0.3572, LR: 0.000450\n",
            "Fold 2, Epoch 16: Train Loss: 0.1391, Val Loss: 0.1438, Val Accuracy: 0.5032, Val F1: 0.3607, LR: 0.000450\n",
            "Fold 2, Epoch 17: Train Loss: 0.1375, Val Loss: 0.3013, Val Accuracy: 0.5055, Val F1: 0.3577, LR: 0.000449\n",
            "Fold 2, Epoch 18: Train Loss: 0.1358, Val Loss: 0.3313, Val Accuracy: 0.5245, Val F1: 0.3650, LR: 0.000449\n",
            "Fold 2, Epoch 19: Train Loss: 0.1343, Val Loss: 0.1529, Val Accuracy: 0.5053, Val F1: 0.3580, LR: 0.000449\n",
            "Fold 2, Epoch 20: Train Loss: 0.1328, Val Loss: 0.1915, Val Accuracy: 0.5175, Val F1: 0.3619, LR: 0.000449\n",
            "Fold 2, Epoch 21: Train Loss: 0.1339, Val Loss: 0.2609, Val Accuracy: 0.5252, Val F1: 0.3646, LR: 0.000449\n",
            "Fold 2, Epoch 22: Train Loss: 0.1319, Val Loss: 0.3030, Val Accuracy: 0.5229, Val F1: 0.3643, LR: 0.000448\n",
            "Fold 2, Epoch 23: Train Loss: 0.1342, Val Loss: 0.3994, Val Accuracy: 0.4908, Val F1: 0.3559, LR: 0.000448\n",
            "Fold 2, Epoch 24: Train Loss: 0.1339, Val Loss: 0.1665, Val Accuracy: 0.5031, Val F1: 0.3577, LR: 0.000448\n",
            "Fold 2, Epoch 25: Train Loss: 0.1327, Val Loss: 0.1344, Val Accuracy: 0.5247, Val F1: 0.3656, LR: 0.000447\n",
            "Fold 2, Epoch 26: Train Loss: 0.1292, Val Loss: 0.1731, Val Accuracy: 0.5210, Val F1: 0.3632, LR: 0.000447\n",
            "Fold 2, Epoch 27: Train Loss: 0.1315, Val Loss: 0.1289, Val Accuracy: 0.5240, Val F1: 0.3645, LR: 0.000447\n",
            "Fold 2, Epoch 28: Train Loss: 0.1293, Val Loss: 0.1597, Val Accuracy: 0.5134, Val F1: 0.3605, LR: 0.000446\n",
            "Fold 2, Epoch 29: Train Loss: 0.1306, Val Loss: 0.2067, Val Accuracy: 0.5117, Val F1: 0.3606, LR: 0.000446\n",
            "Fold 2, Epoch 30: Train Loss: 0.1292, Val Loss: 0.2890, Val Accuracy: 0.5058, Val F1: 0.3587, LR: 0.000445\n",
            "Fold 2, Epoch 31: Train Loss: 0.1311, Val Loss: 0.1705, Val Accuracy: 0.5204, Val F1: 0.3627, LR: 0.000445\n",
            "Fold 2: Early stopping triggered.\n",
            "\n",
            "=== Fold 3/5 ===\n",
            "Fold 3: Loaded compatible fine-tuned weights for layers: ['conv1.att_src', 'conv1.att_dst', 'conv1.bias', 'conv1.lin.weight', 'norm1.weight', 'norm1.bias', 'conv2.att_src', 'conv2.att_dst', 'conv2.bias', 'conv2.lin.weight', 'norm2.weight', 'norm2.bias', 'conv3.att_src', 'conv3.att_dst', 'conv3.bias', 'conv3.lin.weight', 'fc1.weight', 'fc1.bias', 'fc2.weight', 'fc2.bias']\n",
            "Fold 3: Initialized remaining layers with new dimensions.\n",
            "Fold 3, Epoch 1: Train Loss: 0.3200, Val Loss: 0.2686, Val Accuracy: 0.1193, Val F1: 0.1658, LR: 0.000001\n",
            "Fold 3, Epoch 2: Train Loss: 0.2937, Val Loss: 0.2364, Val Accuracy: 0.1577, Val F1: 0.1946, LR: 0.000051\n",
            "Fold 3, Epoch 3: Train Loss: 0.2538, Val Loss: 0.2011, Val Accuracy: 0.3187, Val F1: 0.2869, LR: 0.000101\n",
            "Fold 3, Epoch 4: Train Loss: 0.2273, Val Loss: 0.2022, Val Accuracy: 0.4028, Val F1: 0.3203, LR: 0.000151\n",
            "Fold 3, Epoch 5: Train Loss: 0.1954, Val Loss: 0.1776, Val Accuracy: 0.5226, Val F1: 0.3630, LR: 0.000201\n",
            "Fold 3, Epoch 6: Train Loss: 0.1780, Val Loss: 0.1519, Val Accuracy: 0.5268, Val F1: 0.3636, LR: 0.000251\n",
            "Fold 3, Epoch 7: Train Loss: 0.1587, Val Loss: 0.1515, Val Accuracy: 0.5268, Val F1: 0.3636, LR: 0.000300\n",
            "Fold 3, Epoch 8: Train Loss: 0.1523, Val Loss: 0.3425, Val Accuracy: 0.5238, Val F1: 0.3652, LR: 0.000350\n",
            "Fold 3, Epoch 9: Train Loss: 0.1459, Val Loss: 0.2065, Val Accuracy: 0.5236, Val F1: 0.3651, LR: 0.000400\n",
            "Fold 3, Epoch 10: Train Loss: 0.1424, Val Loss: 0.2261, Val Accuracy: 0.5220, Val F1: 0.3622, LR: 0.000450\n",
            "Fold 3, Epoch 11: Train Loss: 0.1438, Val Loss: 0.2451, Val Accuracy: 0.5193, Val F1: 0.3654, LR: 0.000450\n",
            "Fold 3, Epoch 12: Train Loss: 0.1405, Val Loss: 0.1458, Val Accuracy: 0.5243, Val F1: 0.3673, LR: 0.000450\n",
            "Fold 3, Epoch 13: Train Loss: 0.1366, Val Loss: 0.3109, Val Accuracy: 0.5165, Val F1: 0.3634, LR: 0.000450\n",
            "Fold 3, Epoch 14: Train Loss: 0.1353, Val Loss: 0.3762, Val Accuracy: 0.5262, Val F1: 0.3637, LR: 0.000450\n",
            "Fold 3, Epoch 15: Train Loss: 0.1376, Val Loss: 0.3087, Val Accuracy: 0.5265, Val F1: 0.3636, LR: 0.000450\n",
            "Fold 3, Epoch 16: Train Loss: 0.1342, Val Loss: 0.3510, Val Accuracy: 0.5258, Val F1: 0.3643, LR: 0.000450\n",
            "Fold 3, Epoch 17: Train Loss: 0.1357, Val Loss: 0.4418, Val Accuracy: 0.5027, Val F1: 0.3571, LR: 0.000449\n",
            "Fold 3, Epoch 18: Train Loss: 0.1340, Val Loss: 0.4265, Val Accuracy: 0.5245, Val F1: 0.3652, LR: 0.000449\n",
            "Fold 3, Epoch 19: Train Loss: 0.1344, Val Loss: 0.2793, Val Accuracy: 0.5248, Val F1: 0.3655, LR: 0.000449\n",
            "Fold 3, Epoch 20: Train Loss: 0.1318, Val Loss: 0.3690, Val Accuracy: 0.5240, Val F1: 0.3645, LR: 0.000449\n",
            "Fold 3, Epoch 21: Train Loss: 0.1330, Val Loss: 0.2533, Val Accuracy: 0.5256, Val F1: 0.3652, LR: 0.000449\n",
            "Fold 3, Epoch 22: Train Loss: 0.1306, Val Loss: 0.2681, Val Accuracy: 0.5033, Val F1: 0.3583, LR: 0.000448\n",
            "Fold 3, Epoch 23: Train Loss: 0.1307, Val Loss: 0.3312, Val Accuracy: 0.5245, Val F1: 0.3646, LR: 0.000448\n",
            "Fold 3, Epoch 24: Train Loss: 0.1293, Val Loss: 0.3977, Val Accuracy: 0.5242, Val F1: 0.3642, LR: 0.000448\n",
            "Fold 3, Epoch 25: Train Loss: 0.1333, Val Loss: 0.3451, Val Accuracy: 0.5234, Val F1: 0.3643, LR: 0.000447\n",
            "Fold 3, Epoch 26: Train Loss: 0.1325, Val Loss: 0.5693, Val Accuracy: 0.5157, Val F1: 0.3617, LR: 0.000447\n",
            "Fold 3, Epoch 27: Train Loss: 0.1288, Val Loss: 0.4232, Val Accuracy: 0.5241, Val F1: 0.3646, LR: 0.000447\n",
            "Fold 3: Early stopping triggered.\n",
            "\n",
            "=== Fold 4/5 ===\n",
            "Fold 4: Loaded compatible fine-tuned weights for layers: ['conv1.att_src', 'conv1.att_dst', 'conv1.bias', 'conv1.lin.weight', 'norm1.weight', 'norm1.bias', 'conv2.att_src', 'conv2.att_dst', 'conv2.bias', 'conv2.lin.weight', 'norm2.weight', 'norm2.bias', 'conv3.att_src', 'conv3.att_dst', 'conv3.bias', 'conv3.lin.weight', 'fc1.weight', 'fc1.bias', 'fc2.weight', 'fc2.bias']\n",
            "Fold 4: Initialized remaining layers with new dimensions.\n",
            "Fold 4, Epoch 1: Train Loss: 0.3184, Val Loss: 0.2852, Val Accuracy: 0.0627, Val F1: 0.0794, LR: 0.000001\n",
            "Fold 4, Epoch 2: Train Loss: 0.2934, Val Loss: 0.2452, Val Accuracy: 0.1117, Val F1: 0.1592, LR: 0.000051\n",
            "Fold 4, Epoch 3: Train Loss: 0.2538, Val Loss: 0.2177, Val Accuracy: 0.2865, Val F1: 0.3131, LR: 0.000101\n",
            "Fold 4, Epoch 4: Train Loss: 0.2170, Val Loss: 0.1876, Val Accuracy: 0.4529, Val F1: 0.3623, LR: 0.000151\n",
            "Fold 4, Epoch 5: Train Loss: 0.1950, Val Loss: 0.1709, Val Accuracy: 0.5154, Val F1: 0.3670, LR: 0.000201\n",
            "Fold 4, Epoch 6: Train Loss: 0.1705, Val Loss: 0.1512, Val Accuracy: 0.5265, Val F1: 0.3636, LR: 0.000251\n",
            "Fold 4, Epoch 7: Train Loss: 0.1570, Val Loss: 0.1643, Val Accuracy: 0.5268, Val F1: 0.3636, LR: 0.000300\n",
            "Fold 4, Epoch 8: Train Loss: 0.1464, Val Loss: 0.1859, Val Accuracy: 0.5268, Val F1: 0.3636, LR: 0.000350\n",
            "Fold 4, Epoch 9: Train Loss: 0.1439, Val Loss: 0.1554, Val Accuracy: 0.5264, Val F1: 0.3642, LR: 0.000400\n",
            "Fold 4, Epoch 10: Train Loss: 0.1408, Val Loss: 0.1670, Val Accuracy: 0.4950, Val F1: 0.3535, LR: 0.000450\n",
            "Fold 4, Epoch 11: Train Loss: 0.1427, Val Loss: 0.1796, Val Accuracy: 0.5260, Val F1: 0.3644, LR: 0.000450\n",
            "Fold 4, Epoch 12: Train Loss: 0.1403, Val Loss: 0.1702, Val Accuracy: 0.5055, Val F1: 0.3579, LR: 0.000450\n",
            "Fold 4, Epoch 13: Train Loss: 0.1378, Val Loss: 0.2180, Val Accuracy: 0.5209, Val F1: 0.3634, LR: 0.000450\n",
            "Fold 4, Epoch 14: Train Loss: 0.1355, Val Loss: 0.5492, Val Accuracy: 0.5112, Val F1: 0.3603, LR: 0.000450\n",
            "Fold 4, Epoch 15: Train Loss: 0.1337, Val Loss: 0.5534, Val Accuracy: 0.5039, Val F1: 0.3570, LR: 0.000450\n",
            "Fold 4, Epoch 16: Train Loss: 0.1329, Val Loss: 0.3986, Val Accuracy: 0.5215, Val F1: 0.3637, LR: 0.000450\n",
            "Fold 4, Epoch 17: Train Loss: 0.1317, Val Loss: 0.3498, Val Accuracy: 0.4922, Val F1: 0.3530, LR: 0.000449\n",
            "Fold 4, Epoch 18: Train Loss: 0.1357, Val Loss: 0.2451, Val Accuracy: 0.5038, Val F1: 0.3570, LR: 0.000449\n",
            "Fold 4, Epoch 19: Train Loss: 0.1328, Val Loss: 0.3066, Val Accuracy: 0.5115, Val F1: 0.3603, LR: 0.000449\n",
            "Fold 4, Epoch 20: Train Loss: 0.1316, Val Loss: 0.1948, Val Accuracy: 0.5030, Val F1: 0.3567, LR: 0.000449\n",
            "Fold 4, Epoch 21: Train Loss: 0.1308, Val Loss: 0.1631, Val Accuracy: 0.5215, Val F1: 0.3640, LR: 0.000449\n",
            "Fold 4, Epoch 22: Train Loss: 0.1310, Val Loss: 0.1923, Val Accuracy: 0.5226, Val F1: 0.3640, LR: 0.000448\n",
            "Fold 4, Epoch 23: Train Loss: 0.1289, Val Loss: 0.1655, Val Accuracy: 0.5044, Val F1: 0.3569, LR: 0.000448\n",
            "Fold 4, Epoch 24: Train Loss: 0.1285, Val Loss: 0.2007, Val Accuracy: 0.5110, Val F1: 0.3601, LR: 0.000448\n",
            "Fold 4, Epoch 25: Train Loss: 0.1282, Val Loss: 0.3060, Val Accuracy: 0.5222, Val F1: 0.3635, LR: 0.000447\n",
            "Fold 4, Epoch 26: Train Loss: 0.1299, Val Loss: 0.2508, Val Accuracy: 0.5097, Val F1: 0.3583, LR: 0.000447\n",
            "Fold 4, Epoch 27: Train Loss: 0.1313, Val Loss: 0.2790, Val Accuracy: 0.5095, Val F1: 0.3600, LR: 0.000447\n",
            "Fold 4: Early stopping triggered.\n",
            "\n",
            "=== Fold 5/5 ===\n",
            "Fold 5: Loaded compatible fine-tuned weights for layers: ['conv1.att_src', 'conv1.att_dst', 'conv1.bias', 'conv1.lin.weight', 'norm1.weight', 'norm1.bias', 'conv2.att_src', 'conv2.att_dst', 'conv2.bias', 'conv2.lin.weight', 'norm2.weight', 'norm2.bias', 'conv3.att_src', 'conv3.att_dst', 'conv3.bias', 'conv3.lin.weight', 'fc1.weight', 'fc1.bias', 'fc2.weight', 'fc2.bias']\n",
            "Fold 5: Initialized remaining layers with new dimensions.\n",
            "Fold 5, Epoch 1: Train Loss: 0.3226, Val Loss: 0.2799, Val Accuracy: 0.2944, Val F1: 0.2973, LR: 0.000001\n",
            "Fold 5, Epoch 2: Train Loss: 0.2902, Val Loss: 0.2229, Val Accuracy: 0.3896, Val F1: 0.3526, LR: 0.000051\n",
            "Fold 5, Epoch 3: Train Loss: 0.2543, Val Loss: 0.1946, Val Accuracy: 0.4271, Val F1: 0.3564, LR: 0.000101\n",
            "Fold 5, Epoch 4: Train Loss: 0.2209, Val Loss: 0.2359, Val Accuracy: 0.4821, Val F1: 0.3635, LR: 0.000151\n",
            "Fold 5, Epoch 5: Train Loss: 0.1944, Val Loss: 0.4963, Val Accuracy: 0.5163, Val F1: 0.3616, LR: 0.000201\n",
            "Fold 5, Epoch 6: Train Loss: 0.1724, Val Loss: 1.0611, Val Accuracy: 0.5268, Val F1: 0.3636, LR: 0.000251\n",
            "Fold 5, Epoch 7: Train Loss: 0.1552, Val Loss: 0.4356, Val Accuracy: 0.5268, Val F1: 0.3636, LR: 0.000300\n",
            "Fold 5, Epoch 8: Train Loss: 0.1476, Val Loss: 0.3418, Val Accuracy: 0.5268, Val F1: 0.3636, LR: 0.000350\n",
            "Fold 5, Epoch 9: Train Loss: 0.1460, Val Loss: 0.7751, Val Accuracy: 0.5268, Val F1: 0.3636, LR: 0.000400\n",
            "Fold 5, Epoch 10: Train Loss: 0.1418, Val Loss: 0.3987, Val Accuracy: 0.5268, Val F1: 0.3637, LR: 0.000450\n",
            "Fold 5, Epoch 11: Train Loss: 0.1400, Val Loss: 0.7978, Val Accuracy: 0.5269, Val F1: 0.3647, LR: 0.000450\n",
            "Fold 5, Epoch 12: Train Loss: 0.1412, Val Loss: 1.1009, Val Accuracy: 0.5261, Val F1: 0.3637, LR: 0.000450\n",
            "Fold 5, Epoch 13: Train Loss: 0.1364, Val Loss: 1.1625, Val Accuracy: 0.5262, Val F1: 0.3638, LR: 0.000450\n",
            "Fold 5, Epoch 14: Train Loss: 0.1381, Val Loss: 0.8426, Val Accuracy: 0.5250, Val F1: 0.3644, LR: 0.000450\n",
            "Fold 5, Epoch 15: Train Loss: 0.1378, Val Loss: 0.6026, Val Accuracy: 0.5245, Val F1: 0.3652, LR: 0.000450\n",
            "Fold 5, Epoch 16: Train Loss: 0.1379, Val Loss: 0.9843, Val Accuracy: 0.5236, Val F1: 0.3645, LR: 0.000450\n",
            "Fold 5, Epoch 17: Train Loss: 0.1332, Val Loss: 0.7087, Val Accuracy: 0.5242, Val F1: 0.3655, LR: 0.000449\n",
            "Fold 5, Epoch 18: Train Loss: 0.1340, Val Loss: 0.7784, Val Accuracy: 0.5237, Val F1: 0.3644, LR: 0.000449\n",
            "Fold 5, Epoch 19: Train Loss: 0.1346, Val Loss: 0.7629, Val Accuracy: 0.5244, Val F1: 0.3647, LR: 0.000449\n",
            "Fold 5, Epoch 20: Train Loss: 0.1328, Val Loss: 0.7119, Val Accuracy: 0.5243, Val F1: 0.3642, LR: 0.000449\n",
            "Fold 5, Epoch 21: Train Loss: 0.1315, Val Loss: 0.3140, Val Accuracy: 0.5260, Val F1: 0.3652, LR: 0.000449\n",
            "Fold 5, Epoch 22: Train Loss: 0.1347, Val Loss: 0.3640, Val Accuracy: 0.5253, Val F1: 0.3647, LR: 0.000448\n",
            "Fold 5, Epoch 23: Train Loss: 0.1289, Val Loss: 0.3883, Val Accuracy: 0.5243, Val F1: 0.3647, LR: 0.000448\n",
            "Fold 5, Epoch 24: Train Loss: 0.1314, Val Loss: 0.2692, Val Accuracy: 0.5125, Val F1: 0.3601, LR: 0.000448\n",
            "Fold 5, Epoch 25: Train Loss: 0.1298, Val Loss: 0.2506, Val Accuracy: 0.5251, Val F1: 0.3645, LR: 0.000447\n",
            "Fold 5, Epoch 26: Train Loss: 0.1287, Val Loss: 0.1628, Val Accuracy: 0.5243, Val F1: 0.3641, LR: 0.000447\n",
            "Fold 5, Epoch 27: Train Loss: 0.1271, Val Loss: 0.3463, Val Accuracy: 0.5252, Val F1: 0.3646, LR: 0.000447\n",
            "Fold 5, Epoch 28: Train Loss: 0.1271, Val Loss: 0.3039, Val Accuracy: 0.5253, Val F1: 0.3646, LR: 0.000446\n",
            "Fold 5, Epoch 29: Train Loss: 0.1286, Val Loss: 0.4657, Val Accuracy: 0.5243, Val F1: 0.3642, LR: 0.000446\n",
            "Fold 5, Epoch 30: Train Loss: 0.1267, Val Loss: 0.4047, Val Accuracy: 0.5245, Val F1: 0.3641, LR: 0.000445\n",
            "Fold 5, Epoch 31: Train Loss: 0.1263, Val Loss: 0.3104, Val Accuracy: 0.5257, Val F1: 0.3638, LR: 0.000445\n",
            "Fold 5: Early stopping triggered.\n",
            "\n",
            "Overall Mean Accuracy: 0.5268\n",
            "\n",
            "Detailed Performance Analysis\n",
            "\n",
            "Fold 1 Classification Report:\n",
            "              precision    recall  f1-score   support\n",
            "\n",
            "           0       0.00      0.00      0.00         2\n",
            "           1       0.00      0.00      0.00        79\n",
            "           2       0.53      1.00      0.69      7373\n",
            "           3       0.00      0.00      0.00       207\n",
            "           4       0.00      0.00      0.00      2127\n",
            "           5       0.00      0.00      0.00         9\n",
            "           6       0.00      0.00      0.00       419\n",
            "           7       0.00      0.00      0.00        20\n",
            "           8       0.00      0.00      0.00       901\n",
            "           9       0.00      0.00      0.00       937\n",
            "          10       0.00      0.00      0.00      1006\n",
            "          11       0.00      0.00      0.00       888\n",
            "          12       0.00      0.00      0.00        28\n",
            "\n",
            "    accuracy                           0.53     13996\n",
            "   macro avg       0.04      0.08      0.05     13996\n",
            "weighted avg       0.28      0.53      0.36     13996\n",
            "\n"
          ]
        },
        {
          "output_type": "stream",
          "name": "stderr",
          "text": [
            "/usr/local/lib/python3.11/dist-packages/sklearn/metrics/_classification.py:1565: UndefinedMetricWarning: Precision is ill-defined and being set to 0.0 in labels with no predicted samples. Use `zero_division` parameter to control this behavior.\n",
            "  _warn_prf(average, modifier, f\"{metric.capitalize()} is\", len(result))\n",
            "/usr/local/lib/python3.11/dist-packages/sklearn/metrics/_classification.py:1565: UndefinedMetricWarning: Precision is ill-defined and being set to 0.0 in labels with no predicted samples. Use `zero_division` parameter to control this behavior.\n",
            "  _warn_prf(average, modifier, f\"{metric.capitalize()} is\", len(result))\n",
            "/usr/local/lib/python3.11/dist-packages/sklearn/metrics/_classification.py:1565: UndefinedMetricWarning: Precision is ill-defined and being set to 0.0 in labels with no predicted samples. Use `zero_division` parameter to control this behavior.\n",
            "  _warn_prf(average, modifier, f\"{metric.capitalize()} is\", len(result))\n"
          ]
        },
        {
          "output_type": "stream",
          "name": "stdout",
          "text": [
            "\n",
            "Fold 2 Classification Report:\n",
            "              precision    recall  f1-score   support\n",
            "\n",
            "           0       0.00      0.00      0.00         1\n",
            "           1       0.00      0.00      0.00        79\n",
            "           2       0.53      1.00      0.69      7373\n",
            "           3       0.25      0.02      0.04       208\n",
            "           4       0.00      0.00      0.00      2126\n",
            "           5       0.00      0.00      0.00         8\n",
            "           6       0.00      0.00      0.00       418\n",
            "           7       0.00      0.00      0.00        21\n",
            "           8       0.00      0.00      0.00       901\n",
            "           9       0.00      0.00      0.00       937\n",
            "          10       0.14      0.00      0.00      1007\n",
            "          11       0.00      0.00      0.00       888\n",
            "          12       0.00      0.00      0.00        28\n",
            "\n",
            "    accuracy                           0.53     13995\n",
            "   macro avg       0.07      0.08      0.06     13995\n",
            "weighted avg       0.29      0.53      0.36     13995\n",
            "\n"
          ]
        },
        {
          "output_type": "stream",
          "name": "stderr",
          "text": [
            "/usr/local/lib/python3.11/dist-packages/sklearn/metrics/_classification.py:1565: UndefinedMetricWarning: Precision is ill-defined and being set to 0.0 in labels with no predicted samples. Use `zero_division` parameter to control this behavior.\n",
            "  _warn_prf(average, modifier, f\"{metric.capitalize()} is\", len(result))\n",
            "/usr/local/lib/python3.11/dist-packages/sklearn/metrics/_classification.py:1565: UndefinedMetricWarning: Precision is ill-defined and being set to 0.0 in labels with no predicted samples. Use `zero_division` parameter to control this behavior.\n",
            "  _warn_prf(average, modifier, f\"{metric.capitalize()} is\", len(result))\n",
            "/usr/local/lib/python3.11/dist-packages/sklearn/metrics/_classification.py:1565: UndefinedMetricWarning: Precision is ill-defined and being set to 0.0 in labels with no predicted samples. Use `zero_division` parameter to control this behavior.\n",
            "  _warn_prf(average, modifier, f\"{metric.capitalize()} is\", len(result))\n"
          ]
        },
        {
          "output_type": "stream",
          "name": "stdout",
          "text": [
            "\n",
            "Fold 3 Classification Report:\n",
            "              precision    recall  f1-score   support\n",
            "\n",
            "           0       0.00      0.00      0.00         1\n",
            "           1       0.00      0.00      0.00        79\n",
            "           2       0.53      1.00      0.69      7373\n",
            "           3       0.00      0.00      0.00       208\n",
            "           4       0.00      0.00      0.00      2126\n",
            "           5       0.00      0.00      0.00         8\n",
            "           6       0.00      0.00      0.00       418\n",
            "           7       0.00      0.00      0.00        20\n",
            "           8       0.00      0.00      0.00       901\n",
            "           9       0.00      0.00      0.00       937\n",
            "          10       0.00      0.00      0.00      1007\n",
            "          11       0.00      0.00      0.00       888\n",
            "          12       0.00      0.00      0.00        29\n",
            "\n",
            "    accuracy                           0.53     13995\n",
            "   macro avg       0.04      0.08      0.05     13995\n",
            "weighted avg       0.28      0.53      0.36     13995\n",
            "\n"
          ]
        },
        {
          "output_type": "stream",
          "name": "stderr",
          "text": [
            "/usr/local/lib/python3.11/dist-packages/sklearn/metrics/_classification.py:1565: UndefinedMetricWarning: Precision is ill-defined and being set to 0.0 in labels with no predicted samples. Use `zero_division` parameter to control this behavior.\n",
            "  _warn_prf(average, modifier, f\"{metric.capitalize()} is\", len(result))\n",
            "/usr/local/lib/python3.11/dist-packages/sklearn/metrics/_classification.py:1565: UndefinedMetricWarning: Precision is ill-defined and being set to 0.0 in labels with no predicted samples. Use `zero_division` parameter to control this behavior.\n",
            "  _warn_prf(average, modifier, f\"{metric.capitalize()} is\", len(result))\n",
            "/usr/local/lib/python3.11/dist-packages/sklearn/metrics/_classification.py:1565: UndefinedMetricWarning: Precision is ill-defined and being set to 0.0 in labels with no predicted samples. Use `zero_division` parameter to control this behavior.\n",
            "  _warn_prf(average, modifier, f\"{metric.capitalize()} is\", len(result))\n"
          ]
        },
        {
          "output_type": "stream",
          "name": "stdout",
          "text": [
            "\n",
            "Fold 4 Classification Report:\n",
            "              precision    recall  f1-score   support\n",
            "\n",
            "           0       0.00      0.00      0.00         2\n",
            "           1       0.00      0.00      0.00        79\n",
            "           2       0.53      1.00      0.69      7373\n",
            "           3       0.00      0.00      0.00       208\n",
            "           4       0.00      0.00      0.00      2126\n",
            "           5       0.00      0.00      0.00         8\n",
            "           6       0.00      0.00      0.00       418\n",
            "           7       0.00      0.00      0.00        20\n",
            "           8       0.00      0.00      0.00       900\n",
            "           9       0.00      0.00      0.00       937\n",
            "          10       0.00      0.00      0.00      1007\n",
            "          11       0.00      0.00      0.00       889\n",
            "          12       0.00      0.00      0.00        28\n",
            "\n",
            "    accuracy                           0.53     13995\n",
            "   macro avg       0.04      0.08      0.05     13995\n",
            "weighted avg       0.28      0.53      0.36     13995\n",
            "\n"
          ]
        },
        {
          "output_type": "stream",
          "name": "stderr",
          "text": [
            "/usr/local/lib/python3.11/dist-packages/sklearn/metrics/_classification.py:1565: UndefinedMetricWarning: Precision is ill-defined and being set to 0.0 in labels with no predicted samples. Use `zero_division` parameter to control this behavior.\n",
            "  _warn_prf(average, modifier, f\"{metric.capitalize()} is\", len(result))\n",
            "/usr/local/lib/python3.11/dist-packages/sklearn/metrics/_classification.py:1565: UndefinedMetricWarning: Precision is ill-defined and being set to 0.0 in labels with no predicted samples. Use `zero_division` parameter to control this behavior.\n",
            "  _warn_prf(average, modifier, f\"{metric.capitalize()} is\", len(result))\n",
            "/usr/local/lib/python3.11/dist-packages/sklearn/metrics/_classification.py:1565: UndefinedMetricWarning: Precision is ill-defined and being set to 0.0 in labels with no predicted samples. Use `zero_division` parameter to control this behavior.\n",
            "  _warn_prf(average, modifier, f\"{metric.capitalize()} is\", len(result))\n"
          ]
        },
        {
          "output_type": "stream",
          "name": "stdout",
          "text": [
            "\n",
            "Fold 5 Classification Report:\n",
            "              precision    recall  f1-score   support\n",
            "\n",
            "           0       0.00      0.00      0.00         2\n",
            "           1       0.00      0.00      0.00        79\n",
            "           2       0.53      1.00      0.69      7373\n",
            "           3       0.00      0.00      0.00       207\n",
            "           4       0.00      0.00      0.00      2126\n",
            "           5       0.50      0.12      0.20         8\n",
            "           6       0.00      0.00      0.00       419\n",
            "           7       0.00      0.00      0.00        20\n",
            "           8       0.00      0.00      0.00       900\n",
            "           9       0.00      0.00      0.00       938\n",
            "          10       0.00      0.00      0.00      1007\n",
            "          11       0.50      0.01      0.02       888\n",
            "          12       0.00      0.00      0.00        28\n",
            "\n",
            "    accuracy                           0.53     13995\n",
            "   macro avg       0.12      0.09      0.07     13995\n",
            "weighted avg       0.31      0.53      0.36     13995\n",
            "\n"
          ]
        },
        {
          "output_type": "stream",
          "name": "stderr",
          "text": [
            "/usr/local/lib/python3.11/dist-packages/sklearn/metrics/_classification.py:1565: UndefinedMetricWarning: Precision is ill-defined and being set to 0.0 in labels with no predicted samples. Use `zero_division` parameter to control this behavior.\n",
            "  _warn_prf(average, modifier, f\"{metric.capitalize()} is\", len(result))\n",
            "/usr/local/lib/python3.11/dist-packages/sklearn/metrics/_classification.py:1565: UndefinedMetricWarning: Precision is ill-defined and being set to 0.0 in labels with no predicted samples. Use `zero_division` parameter to control this behavior.\n",
            "  _warn_prf(average, modifier, f\"{metric.capitalize()} is\", len(result))\n",
            "/usr/local/lib/python3.11/dist-packages/sklearn/metrics/_classification.py:1565: UndefinedMetricWarning: Precision is ill-defined and being set to 0.0 in labels with no predicted samples. Use `zero_division` parameter to control this behavior.\n",
            "  _warn_prf(average, modifier, f\"{metric.capitalize()} is\", len(result))\n"
          ]
        }
      ]
    },
    {
      "cell_type": "code",
      "source": [
        "import torch\n",
        "import torch.nn as nn\n",
        "import torch.nn.functional as F\n",
        "import pandas as pd\n",
        "from sklearn.model_selection import train_test_split\n",
        "from sklearn.preprocessing import LabelEncoder\n",
        "from torch_geometric.nn import GATConv, global_mean_pool\n",
        "from torch.nn import LayerNorm\n",
        "from rdkit import Chem\n",
        "from rdkit.Chem import AllChem\n",
        "from torch_geometric.data import Data\n",
        "import glob\n",
        "from google.colab import drive\n",
        "from sklearn.metrics import accuracy_score\n",
        "from torch.optim.lr_scheduler import ReduceLROnPlateau\n",
        "\n",
        "# Mount Google Drive\n",
        "drive.mount('/content/drive')\n",
        "\n",
        "# Preprocess data (assumes this was defined earlier in your pipeline)\n",
        "def preprocess_data():\n",
        "    labeled_df = pd.read_csv('/content/drive/MyDrive/ligand_metal_with_labels_clean2.csv')\n",
        "    smiles_files = glob.glob('/content/complexes_smiles/*_complexes_smiles.csv')\n",
        "    smiles_dfs = [pd.read_csv(file) for file in smiles_files]\n",
        "    all_smiles_df = pd.concat(smiles_dfs, ignore_index=True)\n",
        "\n",
        "    if all_smiles_df['refcode'].duplicated().any():\n",
        "        print(\"Warning: Duplicate refcodes found. Dropping duplicates.\")\n",
        "        all_smiles_df = all_smiles_df.drop_duplicates(subset='refcode')\n",
        "\n",
        "    merged_df = pd.merge(labeled_df, all_smiles_df[['refcode', 'SMILES']], on='refcode', how='inner')\n",
        "    print(f\"Number of merged entries: {len(merged_df)}\")\n",
        "\n",
        "    le = LabelEncoder()\n",
        "    merged_df['geometry_encoded'] = le.fit_transform(merged_df['geometry'])\n",
        "    print(\"Label mapping:\", dict(zip(le.classes_, le.transform(le.classes_))))\n",
        "\n",
        "    def smiles_to_graph(smiles):\n",
        "        try:\n",
        "            if isinstance(smiles, str) and smiles.startswith('['):\n",
        "                smiles = eval(smiles)[0]\n",
        "            mol = Chem.MolFromSmiles(smiles)\n",
        "            if mol is None or mol.GetNumAtoms() == 0 or mol.GetNumBonds() == 0:\n",
        "                return None\n",
        "            AllChem.Compute2DCoords(mol)\n",
        "            # Features to match pretrained: atomic number, degree, charge\n",
        "            atom_features = [[atom.GetAtomicNum(), atom.GetDegree(), atom.GetFormalCharge()] for atom in mol.GetAtoms()]\n",
        "            edge_index = []\n",
        "            for bond in mol.GetBonds():\n",
        "                i, j = bond.GetBeginAtomIdx(), bond.GetEndAtomIdx()\n",
        "                edge_index.extend([[i, j], [j, i]])\n",
        "            edge_index = torch.tensor(edge_index, dtype=torch.long).t().contiguous()\n",
        "            x = torch.tensor(atom_features, dtype=torch.float)\n",
        "            return Data(x=x, edge_index=edge_index)\n",
        "        except Exception as e:\n",
        "            print(f\"Error parsing SMILES {smiles}: {e}\")\n",
        "            return None\n",
        "\n",
        "    merged_df['graph'] = merged_df['SMILES'].apply(smiles_to_graph)\n",
        "    valid_df = merged_df[merged_df['graph'].notnull()].copy()\n",
        "    print(f\"Number of valid graphs: {len(valid_df)}\")\n",
        "\n",
        "    valid_df['graph'] = [\n",
        "        Data(x=g.x, edge_index=g.edge_index, batch=torch.zeros(g.x.size(0), dtype=torch.long))\n",
        "        for g in valid_df['graph']\n",
        "        if g.edge_index.size(1) > 0\n",
        "    ]\n",
        "    valid_df = valid_df[valid_df['graph'].apply(lambda x: x is not None and x.edge_index.size(1) > 0)].copy()\n",
        "    print(f\"Number of valid graphs with edges: {len(valid_df)}\")\n",
        "\n",
        "    return valid_df, le\n",
        "\n",
        "# Load and preprocess data\n",
        "valid_df, le = preprocess_data()\n",
        "\n",
        "# Split data into fine-tune and train sets\n",
        "finetune_df, train_df = train_test_split(valid_df, test_size=0.8, random_state=42)\n",
        "finetune_graphs = finetune_df['graph'].tolist()\n",
        "finetune_labels = finetune_df['geometry_encoded'].tolist()\n",
        "\n",
        "# Device setup\n",
        "device = torch.device('cuda' if torch.cuda.is_available() else 'cpu')\n",
        "print(f\"Using device: {device}\")\n",
        "\n",
        "# Calculate class weights for imbalance\n",
        "class_counts = finetune_df['geometry_encoded'].value_counts()\n",
        "class_weights = (1.0 / torch.tensor([class_counts[i] for i in range(len(le.classes_))], dtype=torch.float)).to(device)\n",
        "class_weights = torch.clamp(class_weights, min=0.1, max=10.0)\n",
        "\n",
        "# Define GATTask Model to match pretrained architecture\n",
        "class GATTask(torch.nn.Module):\n",
        "    def __init__(self, input_dim, hidden_dim_conv1, output_dim_conv2, hidden_dim, num_classes, dropout=0.3):\n",
        "        super(GATTask, self).__init__()\n",
        "        self.conv1 = GATConv(input_dim, hidden_dim_conv1, heads=4, concat=True, dropout=dropout)\n",
        "        self.norm1 = LayerNorm(hidden_dim_conv1 * 4)\n",
        "        self.conv2 = GATConv(hidden_dim_conv1 * 4, output_dim_conv2, heads=1, concat=True, dropout=dropout)\n",
        "        # Map conv2 output to a higher dimension for classification\n",
        "        self.mapping_layer = nn.Linear(output_dim_conv2, hidden_dim)\n",
        "        self.fc = torch.nn.Linear(hidden_dim, num_classes)\n",
        "        self.dropout = nn.Dropout(dropout)\n",
        "\n",
        "    def forward(self, data):\n",
        "        x, edge_index, batch = data.x, data.edge_index, data.batch\n",
        "        x = F.elu(self.conv1(x, edge_index))\n",
        "        x = self.norm1(x)\n",
        "        x = F.elu(self.conv2(x, edge_index))\n",
        "        x = self.dropout(x)\n",
        "        x = F.elu(self.mapping_layer(x))\n",
        "        x = global_mean_pool(x, batch)\n",
        "        x = self.fc(x)\n",
        "        return x\n",
        "\n",
        "# Initialize GATTask model to match pretrained architecture\n",
        "input_dim = 3  # Match pretrained\n",
        "hidden_dim_conv1 = 32  # Match pretrained for conv1\n",
        "output_dim_conv2 = 3   # Match pretrained for conv2 (from GATPretrain output_dim)\n",
        "hidden_dim = 32        # Desired hidden dimension for classification\n",
        "num_classes = len(le.classes_)\n",
        "model_task = GATTask(input_dim, hidden_dim_conv1, output_dim_conv2, hidden_dim, num_classes, dropout=0.3).to(device)\n",
        "\n",
        "# Load pretrained weights, excluding the fc layer\n",
        "try:\n",
        "    pretrained_dict = torch.load('/content/drive/MyDrive/pretrained_gat.pth', map_location=device)\n",
        "    model_dict = model_task.state_dict()\n",
        "    # Exclude layers that don't match (fc and mapping_layer)\n",
        "    pretrained_dict = {k: v for k, v in pretrained_dict.items() if k in model_dict and not k.startswith('fc') and not k.startswith('mapping_layer')}\n",
        "    model_dict.update(pretrained_dict)\n",
        "    model_task.load_state_dict(model_dict)\n",
        "    print(\"Pretrained weights loaded successfully for layers:\", list(pretrained_dict.keys()))\n",
        "except Exception as e:\n",
        "    print(f\"Failed to load pretrained weights: {e}. Initializing all layers randomly.\")\n",
        "\n",
        "print(\"The mapping_layer and fc layer are randomly initialized for task-specific fine-tuning.\")\n",
        "\n",
        "# Define optimizer and loss\n",
        "optimizer = torch.optim.Adam(model_task.parameters(), lr=1e-4, weight_decay=5e-4) # weight_decay added\n",
        "criterion = torch.nn.CrossEntropyLoss(weight=class_weights)\n",
        "\n",
        "# Define Fine-Tuning Function\n",
        "def finetune_epoch(graphs, labels):\n",
        "    model_task.train()\n",
        "    total_loss = 0\n",
        "    valid_graphs = 0\n",
        "    skipped_graphs = 0\n",
        "\n",
        "    for i, (data, label) in enumerate(zip(graphs, labels)):\n",
        "        if data.edge_index.size(1) == 0 or data.x is None or data.x.size(0) == 0:\n",
        "            skipped_graphs += 1\n",
        "            print(f\"Skipping graph {i} due to empty graph or no nodes/edges\")\n",
        "            continue\n",
        "\n",
        "        data = data.to(device)\n",
        "        label = torch.tensor([label], dtype=torch.long).to(device)\n",
        "\n",
        "        # Normalize input features (consistent with pretraining)\n",
        "        mean = torch.mean(data.x, dim=0, keepdim=True)\n",
        "        std = torch.std(data.x, dim=0, keepdim=True) + 1e-7\n",
        "        data.x = (data.x - mean) / std\n",
        "\n",
        "        if torch.isnan(data.x).any() or torch.isinf(data.x).any():\n",
        "            skipped_graphs += 1\n",
        "            print(f\"Skipping graph {i} due to NaN or Inf in input\")\n",
        "            continue\n",
        "\n",
        "        optimizer.zero_grad()\n",
        "        out = model_task(data)\n",
        "\n",
        "        if torch.isnan(out).any() or torch.isinf(out).any():\n",
        "            skipped_graphs += 1\n",
        "            print(f\"Skipping graph {i} due to NaN or Inf in output\")\n",
        "            continue\n",
        "\n",
        "        loss = criterion(out, label)\n",
        "        if torch.isnan(loss) or torch.isinf(loss):\n",
        "            skipped_graphs += 1\n",
        "            print(f\"Skipping graph {i} due to invalid loss: {loss}\")\n",
        "            continue\n",
        "\n",
        "        loss.backward()\n",
        "        torch.nn.utils.clip_grad_norm_(model_task.parameters(), max_norm=1.0)\n",
        "        optimizer.step()\n",
        "        total_loss += loss.item()\n",
        "        valid_graphs += 1\n",
        "\n",
        "    print(f\"Skipped {skipped_graphs} out of {len(graphs)} graphs during fine-tuning.\")\n",
        "    return total_loss / max(1, valid_graphs)\n",
        "\n",
        "# Run Fine-Tuning for more epochs\n",
        "for epoch in range(20):\n",
        "    loss = finetune_epoch(finetune_graphs, finetune_labels)\n",
        "    print(f'Finetune Epoch {epoch+1}/20, Loss: {loss:.4f}')\n",
        "\n",
        "# Save the fine-tuned model\n",
        "torch.save(model_task.state_dict(), '/content/drive/MyDrive/finetuned_gat_32dim_3dim.pth')\n",
        "print(\"Fine-tuned model saved as finetuned_gat_32dim_3dim.pth\")\n",
        "\n",
        "# Load the fine-tuned weights\n",
        "model_task.load_state_dict(torch.load('/content/drive/MyDrive/finetuned_gat_32dim_3dim.pth', map_location=device))\n",
        "print(\"Loaded fine-tuned weights for final training.\")\n",
        "\n",
        "# Prepare the training data for the final training phase\n",
        "train_graphs = train_df['graph'].tolist()\n",
        "train_labels = train_df['geometry_encoded'].tolist()\n",
        "\n",
        "# Split the training data into training and validation sets\n",
        "train_graphs, val_graphs, train_labels, val_labels = train_test_split(\n",
        "    train_graphs, train_labels, test_size=0.1, random_state=42  # 90% train, 10% validation\n",
        ")\n",
        "\n",
        "######################## START FINAL TRAINING ########################\n",
        "\n",
        "# Define the final training function\n",
        "def train_epoch(graphs, labels):\n",
        "    model_task.train()\n",
        "    total_loss = 0\n",
        "    valid_graphs = 0\n",
        "    skipped_graphs = 0\n",
        "\n",
        "    for i, (data, label) in enumerate(zip(graphs, labels)):\n",
        "        if data.edge_index.size(1) == 0 or data.x is None or data.x.size(0) == 0:\n",
        "            skipped_graphs += 1\n",
        "            print(f\"Skipping graph {i} due to empty graph or no nodes/edges\")\n",
        "            continue\n",
        "\n",
        "        data = data.to(device)\n",
        "        label = torch.tensor([label], dtype=torch.long).to(device)\n",
        "\n",
        "        # Normalize input features (consistent with pretraining)\n",
        "        mean = torch.mean(data.x, dim=0, keepdim=True)\n",
        "        std = torch.std(data.x, dim=0, keepdim=True) + 1e-7\n",
        "        data.x = (data.x - mean) / std\n",
        "\n",
        "        if torch.isnan(data.x).any() or torch.isinf(data.x).any():\n",
        "            skipped_graphs += 1\n",
        "            print(f\"Skipping graph {i} due to NaN or Inf in input\")\n",
        "            continue\n",
        "\n",
        "        optimizer_final.zero_grad()  # Use the final optimizer\n",
        "        out = model_task(data)\n",
        "\n",
        "        if torch.isnan(out).any() or torch.isinf(out).any():\n",
        "            skipped_graphs += 1\n",
        "            print(f\"Skipping graph {i} due to NaN or Inf in output\")\n",
        "            continue\n",
        "\n",
        "        loss = criterion(out, label)\n",
        "        if torch.isnan(loss) or torch.isinf(loss):\n",
        "            skipped_graphs += 1\n",
        "            print(f\"Skipping graph {i} due to invalid loss: {loss}\")\n",
        "            continue\n",
        "\n",
        "        loss.backward()\n",
        "        torch.nn.utils.clip_grad_norm_(model_task.parameters(), max_norm=1.0)\n",
        "        optimizer_final.step()  # Use the final optimizer\n",
        "        total_loss += loss.item()\n",
        "        valid_graphs += 1\n",
        "\n",
        "    print(f\"Skipped {skipped_graphs} out of {len(graphs)} graphs during training.\")\n",
        "    return total_loss / max(1, valid_graphs)\n",
        "\n",
        "# Define validation function\n",
        "def validate(graphs, labels):\n",
        "    model_task.eval()\n",
        "    all_preds = []\n",
        "    all_labels = []\n",
        "    skipped_graphs = 0\n",
        "\n",
        "    with torch.no_grad():\n",
        "        for i, (data, label) in enumerate(zip(graphs, labels)):\n",
        "            if data.edge_index.size(1) == 0 or data.x is None or data.x.size(0) == 0:\n",
        "                skipped_graphs += 1\n",
        "                continue\n",
        "\n",
        "            data = data.to(device)\n",
        "\n",
        "            # Normalize input features (consistent with pretraining)\n",
        "            mean = torch.mean(data.x, dim=0, keepdim=True)\n",
        "            std = torch.std(data.x, dim=0, keepdim=True) + 1e-7\n",
        "            data.x = (data.x - mean) / std\n",
        "\n",
        "            out = model_task(data)\n",
        "            preds = torch.argmax(out, dim=1).cpu().numpy()\n",
        "            all_preds.extend(preds)\n",
        "            all_labels.append(label)\n",
        "\n",
        "    accuracy = accuracy_score(all_labels, all_preds)\n",
        "    return accuracy\n",
        "\n",
        "# Final training loop\n",
        "num_epochs = 100  # Increased number of epochs\n",
        "best_val_accuracy = 0.0\n",
        "patience = 10  # Increased patience\n",
        "patience_counter = 0\n",
        "\n",
        "# Define optimizer and loss function for final training\n",
        "optimizer_final = torch.optim.Adam(model_task.parameters(), lr=5e-5, weight_decay=5e-4)  # Reduced learning rate, kept weight decay\n",
        "scheduler = ReduceLROnPlateau(optimizer_final, mode='max', factor=0.5, patience=5, verbose=True)\n",
        "\n",
        "for epoch in range(num_epochs):\n",
        "    train_loss = train_epoch(train_graphs, train_labels)\n",
        "    val_accuracy = validate(val_graphs, val_labels)\n",
        "\n",
        "    print(f\"Epoch {epoch+1}/{num_epochs}, Training Loss: {train_loss:.4f}, Validation Accuracy: {val_accuracy:.4f}\")\n",
        "\n",
        "    # Save the best model based on validation accuracy\n",
        "    if val_accuracy > best_val_accuracy:\n",
        "        best_val_accuracy = val_accuracy\n",
        "        torch.save(model_task.state_dict(), '/content/drive/MyDrive/best_final_gat.pth')\n",
        "        print(f\"Best model saved with validation accuracy: {best_val_accuracy:.4f}\")\n",
        "        patience_counter = 0  # Reset patience counter\n",
        "    else:\n",
        "        patience_counter += 1\n",
        "\n",
        "    # Step the scheduler with validation accuracy\n",
        "    scheduler.step(val_accuracy)\n",
        "\n",
        "    # Early stopping check\n",
        "    if patience_counter >= patience:\n",
        "        print(\"Early stopping triggered.\")\n",
        "        break\n",
        "\n",
        "print(\"Finished final training.\")\n",
        "print(f\"Best Validation Accuracy: {best_val_accuracy:.4f}\")\n",
        "\n",
        "######################## END FINAL TRAINING ########################\n",
        "\n",
        "# Load the best model for final evaluation (optional, if you have a separate test set)\n",
        "model_task.load_state_dict(torch.load('/content/drive/MyDrive/best_final_gat.pth', map_location=device))\n",
        "\n",
        "# Evaluate on the validation set one last time (or replace with your test set)\n",
        "final_val_accuracy = validate(val_graphs, val_labels)\n",
        "print(f\"Final Validation Accuracy: {final_val_accuracy:.4f}\")\n"
      ],
      "metadata": {
        "colab": {
          "base_uri": "https://localhost:8080/"
        },
        "id": "BkhmSlZ9H6t-",
        "outputId": "883c9386-e2a3-4db7-a893-59961b0a864a"
      },
      "execution_count": null,
      "outputs": [
        {
          "metadata": {
            "tags": null
          },
          "name": "stdout",
          "output_type": "stream",
          "text": [
            "Drive already mounted at /content/drive; to attempt to forcibly remount, call drive.mount(\"/content/drive\", force_remount=True).\n",
            "Number of merged entries: 82880\n",
            "Label mapping: {'bent': np.int64(0), 'linear': np.int64(1), 'octahedral': np.int64(2), 'planar_3': np.int64(3), 'planar_4': np.int64(4), 'planar_5': np.int64(5), 'prism': np.int64(6), 'pyramid_3': np.int64(7), 'pyramid_4': np.int64(8), 'pyramid_bi': np.int64(9), 'pyramid_sq': np.int64(10), 'tetrahedral': np.int64(11), 'tshape': np.int64(12)}\n",
            "Number of valid graphs: 69976\n",
            "Number of valid graphs with edges: 69976\n",
            "Using device: cpu\n",
            "Pretrained weights loaded successfully for layers: ['conv1.att_src', 'conv1.att_dst', 'conv1.bias', 'conv1.lin.weight', 'norm1.weight', 'norm1.bias', 'conv2.att_src', 'conv2.att_dst', 'conv2.bias', 'conv2.lin.weight']\n",
            "The mapping_layer and fc layer are randomly initialized for task-specific fine-tuning.\n",
            "Skipped 0 out of 13995 graphs during fine-tuning.\n",
            "Finetune Epoch 1/20, Loss: 1.9446\n",
            "Skipped 0 out of 13995 graphs during fine-tuning.\n",
            "Finetune Epoch 2/20, Loss: 1.9174\n",
            "Skipped 0 out of 13995 graphs during fine-tuning.\n",
            "Finetune Epoch 3/20, Loss: 1.7907\n",
            "Skipped 0 out of 13995 graphs during fine-tuning.\n",
            "Finetune Epoch 4/20, Loss: 1.7778\n",
            "Skipped 0 out of 13995 graphs during fine-tuning.\n",
            "Finetune Epoch 5/20, Loss: 1.7732\n",
            "Skipped 0 out of 13995 graphs during fine-tuning.\n",
            "Finetune Epoch 6/20, Loss: 1.7695\n",
            "Skipped 0 out of 13995 graphs during fine-tuning.\n",
            "Finetune Epoch 7/20, Loss: 1.7603\n",
            "Skipped 0 out of 13995 graphs during fine-tuning.\n",
            "Finetune Epoch 8/20, Loss: 1.7459\n",
            "Skipped 0 out of 13995 graphs during fine-tuning.\n",
            "Finetune Epoch 9/20, Loss: 1.7413\n",
            "Skipped 0 out of 13995 graphs during fine-tuning.\n",
            "Finetune Epoch 10/20, Loss: 1.7166\n",
            "Skipped 0 out of 13995 graphs during fine-tuning.\n",
            "Finetune Epoch 11/20, Loss: 1.7274\n",
            "Skipped 0 out of 13995 graphs during fine-tuning.\n",
            "Finetune Epoch 12/20, Loss: 1.7232\n",
            "Skipped 0 out of 13995 graphs during fine-tuning.\n",
            "Finetune Epoch 13/20, Loss: 1.7150\n",
            "Skipped 0 out of 13995 graphs during fine-tuning.\n",
            "Finetune Epoch 14/20, Loss: 1.7153\n",
            "Skipped 0 out of 13995 graphs during fine-tuning.\n",
            "Finetune Epoch 15/20, Loss: 1.7148\n",
            "Skipped 0 out of 13995 graphs during fine-tuning.\n",
            "Finetune Epoch 16/20, Loss: 1.7152\n",
            "Skipped 0 out of 13995 graphs during fine-tuning.\n",
            "Finetune Epoch 17/20, Loss: 1.7119\n",
            "Skipped 0 out of 13995 graphs during fine-tuning.\n",
            "Finetune Epoch 18/20, Loss: 1.7113\n",
            "Skipped 0 out of 13995 graphs during fine-tuning.\n",
            "Finetune Epoch 19/20, Loss: 1.7083\n",
            "Skipped 0 out of 13995 graphs during fine-tuning.\n",
            "Finetune Epoch 20/20, Loss: 1.7080\n",
            "Fine-tuned model saved as finetuned_gat_32dim_3dim.pth\n",
            "Loaded fine-tuned weights for final training.\n"
          ]
        },
        {
          "metadata": {
            "tags": null
          },
          "name": "stderr",
          "output_type": "stream",
          "text": [
            "/usr/local/lib/python3.11/dist-packages/torch/optim/lr_scheduler.py:62: UserWarning: The verbose parameter is deprecated. Please use get_last_lr() to access the learning rate.\n",
            "  warnings.warn(\n"
          ]
        },
        {
          "output_type": "stream",
          "name": "stdout",
          "text": [
            "Skipped 0 out of 50382 graphs during training.\n",
            "Epoch 1/100, Training Loss: 1.7076, Validation Accuracy: 0.5263\n",
            "Best model saved with validation accuracy: 0.5263\n",
            "Skipped 0 out of 50382 graphs during training.\n",
            "Epoch 2/100, Training Loss: 1.7013, Validation Accuracy: 0.5315\n",
            "Best model saved with validation accuracy: 0.5315\n",
            "Skipped 0 out of 50382 graphs during training.\n",
            "Epoch 3/100, Training Loss: 1.7043, Validation Accuracy: 0.5231\n",
            "Skipped 0 out of 50382 graphs during training.\n",
            "Epoch 4/100, Training Loss: 1.7021, Validation Accuracy: 0.5231\n",
            "Skipped 0 out of 50382 graphs during training.\n",
            "Epoch 5/100, Training Loss: 1.6996, Validation Accuracy: 0.5144\n",
            "Skipped 0 out of 50382 graphs during training.\n",
            "Epoch 6/100, Training Loss: 1.7035, Validation Accuracy: 0.5167\n",
            "Skipped 0 out of 50382 graphs during training.\n",
            "Epoch 7/100, Training Loss: 1.7015, Validation Accuracy: 0.5196\n",
            "Skipped 0 out of 50382 graphs during training.\n",
            "Epoch 8/100, Training Loss: 1.7000, Validation Accuracy: 0.5210\n",
            "Skipped 0 out of 50382 graphs during training.\n",
            "Epoch 9/100, Training Loss: 1.6998, Validation Accuracy: 0.5072\n",
            "Skipped 0 out of 50382 graphs during training.\n",
            "Epoch 10/100, Training Loss: 1.7023, Validation Accuracy: 0.5078\n",
            "Skipped 0 out of 50382 graphs during training.\n",
            "Epoch 11/100, Training Loss: 1.6998, Validation Accuracy: 0.5094\n",
            "Skipped 0 out of 50382 graphs during training.\n",
            "Epoch 12/100, Training Loss: 1.7034, Validation Accuracy: 0.5060\n",
            "Early stopping triggered.\n",
            "Finished final training.\n",
            "Best Validation Accuracy: 0.5315\n",
            "Final Validation Accuracy: 0.5315\n"
          ]
        }
      ]
    },
    {
      "cell_type": "code",
      "source": [
        "import torch\n",
        "import torch.nn as nn\n",
        "import torch.nn.functional as F\n",
        "import pandas as pd\n",
        "from sklearn.model_selection import train_test_split\n",
        "from sklearn.preprocessing import LabelEncoder\n",
        "from torch_geometric.nn import GATConv, global_mean_pool\n",
        "from torch.nn import LayerNorm\n",
        "from rdkit import Chem\n",
        "from rdkit.Chem import AllChem\n",
        "from torch_geometric.data import Data\n",
        "import glob\n",
        "from google.colab import drive\n",
        "from sklearn.metrics import accuracy_score, classification_report\n",
        "from torch.optim.lr_scheduler import ReduceLROnPlateau\n",
        "import numpy as np\n",
        "\n",
        "# Mount Google Drive\n",
        "drive.mount('/content/drive')\n",
        "\n",
        "# Preprocess data\n",
        "def preprocess_data(limit=None):\n",
        "    labeled_df = pd.read_csv('/content/drive/MyDrive/ligand_metal_with_labels_clean2.csv')\n",
        "    smiles_files = glob.glob('/content/complexes_smiles/*_complexes_smiles.csv')\n",
        "    smiles_dfs = [pd.read_csv(file) for file in smiles_files]\n",
        "    all_smiles_df = pd.concat(smiles_dfs, ignore_index=True)\n",
        "\n",
        "    if all_smiles_df['refcode'].duplicated().any():\n",
        "        print(\"Warning: Duplicate refcodes found. Dropping duplicates.\")\n",
        "        all_smiles_df = all_smiles_df.drop_duplicates(subset='refcode')\n",
        "\n",
        "    merged_df = pd.merge(labeled_df, all_smiles_df[['refcode', 'SMILES']], on='refcode', how='inner')\n",
        "    print(f\"Number of merged entries: {len(merged_df)}\")\n",
        "\n",
        "    if limit:\n",
        "        merged_df = merged_df.head(limit)\n",
        "\n",
        "    le = LabelEncoder()\n",
        "    merged_df['geometry_encoded'] = le.fit_transform(merged_df['geometry'])\n",
        "    print(\"Label mapping:\", dict(zip(le.classes_, le.transform(le.classes_))))\n",
        "\n",
        "    def smiles_to_graph(smiles):\n",
        "        try:\n",
        "            if isinstance(smiles, str) and smiles.startswith('['):\n",
        "                smiles = eval(smiles)[0]\n",
        "            mol = Chem.MolFromSmiles(smiles)\n",
        "            if mol is None or mol.GetNumAtoms() == 0 or mol.GetNumBonds() == 0:\n",
        "                return None\n",
        "            AllChem.Compute2DCoords(mol)\n",
        "\n",
        "            atom_features = []\n",
        "            for atom in mol.GetAtoms():\n",
        "                atom_num = atom.GetAtomicNum()\n",
        "                degree = atom.GetDegree()\n",
        "                charge = atom.GetFormalCharge()\n",
        "                hybridization = atom.GetHybridization()\n",
        "                aromatic = atom.GetIsAromatic()\n",
        "                num_Hs = atom.GetTotalNumHs()\n",
        "\n",
        "                atom_features.append([atom_num, degree, charge, hybridization.real, aromatic, num_Hs])\n",
        "\n",
        "            edge_index = []\n",
        "            for bond in mol.GetBonds():\n",
        "                i, j = bond.GetBeginAtomIdx(), bond.GetEndAtomIdx()\n",
        "                edge_index.extend([[i, j], [j, i]])\n",
        "            edge_index = torch.tensor(edge_index, dtype=torch.long).t().contiguous()\n",
        "            x = torch.tensor(atom_features, dtype=torch.float)\n",
        "            return Data(x=x, edge_index=edge_index)\n",
        "        except Exception as e:\n",
        "            print(f\"Error parsing SMILES {smiles}: {e}\")\n",
        "            return None\n",
        "\n",
        "    merged_df['graph'] = merged_df['SMILES'].apply(smiles_to_graph)\n",
        "    valid_df = merged_df[merged_df['graph'].notnull()].copy()\n",
        "    print(f\"Number of valid graphs: {len(valid_df)}\")\n",
        "\n",
        "    valid_df['graph'] = [\n",
        "        Data(x=g.x, edge_index=g.edge_index, batch=torch.zeros(g.x.size(0), dtype=torch.long))\n",
        "        for g in valid_df['graph']\n",
        "        if g.edge_index.size(1) > 0\n",
        "    ]\n",
        "    valid_df = valid_df[valid_df['graph'].apply(lambda x: x is not None and x.edge_index.size(1) > 0)].copy()\n",
        "    print(f\"Number of valid graphs with edges: {len(valid_df)}\")\n",
        "\n",
        "    return valid_df, le\n",
        "\n",
        "# Load and preprocess data\n",
        "valid_df, le = preprocess_data()\n",
        "\n",
        "# Split data into fine-tune and train sets\n",
        "finetune_df, train_df = train_test_split(valid_df, test_size=0.8, random_state=42)\n",
        "finetune_graphs = finetune_df['graph'].tolist()\n",
        "finetune_labels = finetune_df['geometry_encoded'].tolist()\n",
        "\n",
        "# Device setup\n",
        "device = torch.device('cuda' if torch.cuda.is_available() else('mps' if torch.backends.mps.is_available() else 'cpu'))\n",
        "print(f\"Using device: {device}\")\n",
        "\n",
        "# Calculate class weights for imbalance\n",
        "class_counts = finetune_df['geometry_encoded'].value_counts()\n",
        "class_weights = (1.0 / torch.tensor([class_counts[i] for i in range(len(le.classes_))], dtype=torch.float)).to(device)\n",
        "class_weights = torch.clamp(class_weights, min=0.1, max=10.0)\n",
        "\n",
        "# Define GATTask Model\n",
        "class GATTask(torch.nn.Module):\n",
        "    def __init__(self, input_dim, hidden_dim_conv1, output_dim_conv2, hidden_dim, num_classes, dropout=0.3):\n",
        "        super(GATTask, self).__init__()\n",
        "        self.conv1 = GATConv(input_dim, hidden_dim_conv1 // 4, heads=4, concat=True, dropout=dropout)\n",
        "        self.norm1 = LayerNorm(hidden_dim_conv1)\n",
        "        self.conv2 = GATConv(hidden_dim_conv1, output_dim_conv2, heads=1, concat=True, dropout=dropout)\n",
        "        self.norm2 = LayerNorm(output_dim_conv2)\n",
        "\n",
        "        self.mapping_layer = nn.Linear(output_dim_conv2, hidden_dim)\n",
        "        self.norm_mapping = LayerNorm(hidden_dim)\n",
        "        self.fc = torch.nn.Linear(hidden_dim, num_classes)\n",
        "        self.dropout = nn.Dropout(dropout)\n",
        "\n",
        "    def forward(self, data):\n",
        "        x, edge_index, batch = data.x, data.edge_index, data.batch\n",
        "        x = F.elu(self.conv1(x, edge_index))\n",
        "        x = self.norm1(x)\n",
        "        x = F.elu(self.conv2(x, edge_index))\n",
        "        x = self.norm2(x)\n",
        "        x = self.dropout(x)\n",
        "        x = F.elu(self.mapping_layer(x))\n",
        "        x = self.norm_mapping(x)\n",
        "        x = global_mean_pool(x, batch)\n",
        "        x = self.fc(x)\n",
        "        return x\n",
        "\n",
        "# Initialize GATTask model\n",
        "input_dim = 6\n",
        "hidden_dim_conv1 = 128\n",
        "output_dim_conv2 = 3\n",
        "hidden_dim = 64\n",
        "num_classes = len(le.classes_)\n",
        "model_task = GATTask(input_dim, hidden_dim_conv1, output_dim_conv2, hidden_dim, num_classes, dropout=0.5).to(device)\n",
        "\n",
        "# Load pretrained weights\n",
        "try:\n",
        "    pretrained_dict = torch.load('/content/drive/MyDrive/pretrained_gat.pth', map_location=device)\n",
        "    model_dict = model_task.state_dict()\n",
        "\n",
        "    # Adapt the first convolutional layer weights\n",
        "    conv1_weight = pretrained_dict['conv1.lin.weight']\n",
        "    new_conv1_weight = torch.zeros(128, 6)\n",
        "    new_conv1_weight[:, :3] = conv1_weight\n",
        "    pretrained_dict['conv1.lin.weight'] = new_conv1_weight\n",
        "\n",
        "    # Filter out layers that don't match\n",
        "    pretrained_dict = {k: v for k, v in pretrained_dict.items() if k in model_dict and not k.startswith('fc') and not k.startswith('mapping_layer')}\n",
        "\n",
        "    # Update the model state dict\n",
        "    model_dict.update(pretrained_dict)\n",
        "    model_task.load_state_dict(model_dict)\n",
        "    print(\"Pretrained weights loaded successfully for layers:\", list(pretrained_dict.keys()))\n",
        "except Exception as e:\n",
        "    print(f\"Failed to load pretrained weights: {e}. Initializing all layers randomly.\")\n",
        "\n",
        "print(\"The mapping_layer and fc layer are randomly initialized for task-specific fine-tuning.\")\n",
        "\n",
        "# Define optimizer and loss\n",
        "optimizer = torch.optim.AdamW(model_task.parameters(), lr=5e-4, weight_decay=1e-3)\n",
        "criterion = torch.nn.CrossEntropyLoss(weight=class_weights)\n",
        "\n",
        "# Define Fine-Tuning Function\n",
        "def finetune_epoch(graphs, labels, epoch):\n",
        "    model_task.train()\n",
        "    total_loss = 0\n",
        "    valid_graphs = 0\n",
        "    skipped_graphs = 0\n",
        "\n",
        "    for i, (data, label) in enumerate(zip(graphs, labels)):\n",
        "        if data.edge_index.size(1) == 0 or data.x is None or data.x.size(0) == 0:\n",
        "            skipped_graphs += 1\n",
        "            print(f\"Skipping graph {i} due to empty graph or no nodes/edges\")\n",
        "            continue\n",
        "\n",
        "        data = data.to(device)\n",
        "        label = torch.tensor([label], dtype=torch.long).to(device)\n",
        "\n",
        "        mean = torch.mean(data.x, dim=0, keepdim=True)\n",
        "        std = torch.std(data.x, dim=0, keepdim=True) + 1e-7\n",
        "        data.x = (data.x - mean) / std\n",
        "\n",
        "        if torch.isnan(data.x).any() or torch.isinf(data.x).any():\n",
        "            skipped_graphs += 1\n",
        "            print(f\"Skipping graph {i} due to NaN or Inf in input\")\n",
        "            continue\n",
        "\n",
        "        optimizer.zero_grad()\n",
        "        out = model_task(data)\n",
        "\n",
        "        if torch.isnan(out).any() or torch.isinf(out).any():\n",
        "            skipped_graphs += 1\n",
        "            print(f\"Skipping graph {i} due to NaN or Inf in output\")\n",
        "            continue\n",
        "\n",
        "        loss = criterion(out, label)\n",
        "        if torch.isnan(loss) or torch.isinf(loss):\n",
        "            skipped_graphs += 1\n",
        "            print(f\"Skipping graph {i} due to invalid loss: {loss}\")\n",
        "            continue\n",
        "\n",
        "        loss.backward()\n",
        "        torch.nn.utils.clip_grad_norm_(model_task.parameters(), max_norm=1.0)\n",
        "        optimizer.step()\n",
        "        total_loss += loss.item()\n",
        "        valid_graphs += 1\n",
        "\n",
        "        if (i + 1) % 500 == 0:\n",
        "            print(f\"Finetune Epoch {epoch+1}, Graph {i+1}/{len(graphs)}, Loss: {loss.item():.4f}\")\n",
        "\n",
        "    print(f\"Skipped {skipped_graphs} out of {len(graphs)} graphs during fine-tuning.\")\n",
        "    return total_loss / max(1, valid_graphs)\n",
        "\n",
        "# Run Fine-Tuning\n",
        "num_finetune_epochs = 30\n",
        "for epoch in range(num_finetune_epochs):\n",
        "    loss = finetune_epoch(finetune_graphs, finetune_labels, epoch)\n",
        "    print(f'Finetune Epoch {epoch+1}/{num_finetune_epochs}, Loss: {loss:.4f}')\n",
        "\n",
        "# Save the fine-tuned model\n",
        "torch.save(model_task.state_dict(), '/content/drive/MyDrive/finetuned_gat_32dim_3dim.pth')\n",
        "print(\"Fine-tuned model saved as finetuned_gat_32dim_3dim.pth\")\n",
        "\n",
        "# Load the fine-tuned weights\n",
        "model_task.load_state_dict(torch.load('/content/drive/MyDrive/finetuned_gat_32dim_3dim.pth', map_location=device))\n",
        "print(\"Loaded fine-tuned weights for final training.\")\n",
        "\n",
        "# Prepare the training data for the final training phase\n",
        "train_graphs = train_df['graph'].tolist()\n",
        "train_labels = train_df['geometry_encoded'].tolist()\n",
        "\n",
        "# Split the training data into training and validation sets\n",
        "train_graphs, val_graphs, train_labels, val_labels = train_test_split(\n",
        "    train_graphs, train_labels, test_size=0.1, random_state=42\n",
        ")\n",
        "\n",
        "# Define the final training function\n",
        "def train_epoch(graphs, labels, epoch):\n",
        "    model_task.train()\n",
        "    total_loss = 0\n",
        "    valid_graphs = 0\n",
        "    skipped_graphs = 0\n",
        "\n",
        "    for i, (data, label) in enumerate(zip(graphs, labels)):\n",
        "        if data.edge_index.size(1) == 0 or data.x is None or data.x.size(0) == 0:\n",
        "            skipped_graphs += 1\n",
        "            print(f\"Skipping graph {i} due to empty graph or no nodes/edges\")\n",
        "            continue\n",
        "\n",
        "        data = data.to(device)\n",
        "        label = torch.tensor([label], dtype=torch.long).to(device)\n",
        "\n",
        "        mean = torch.mean(data.x, dim=0, keepdim=True)\n",
        "        std = torch.std(data.x, dim=0, keepdim=True) + 1e-7\n",
        "        data.x = (data.x - mean) / std\n",
        "\n",
        "        if torch.isnan(data.x).any() or torch.isinf(data.x).any():\n",
        "            skipped_graphs += 1\n",
        "            print(f\"Skipping graph {i} due to NaN or Inf in input\")\n",
        "            continue\n",
        "\n",
        "        optimizer_final.zero_grad()\n",
        "        out = model_task(data)\n",
        "\n",
        "        if torch.isnan(out).any() or torch.isinf(out).any():\n",
        "            skipped_graphs += 1\n",
        "            print(f\"Skipping graph {i} due to NaN or Inf in output\")\n",
        "            continue\n",
        "\n",
        "        loss = criterion(out, label)\n",
        "        if torch.isnan(loss) or torch.isinf(loss):\n",
        "            skipped_graphs += 1\n",
        "            print(f\"Skipping graph {i} due to invalid loss: {loss}\")\n",
        "            continue\n",
        "\n",
        "        loss.backward()\n",
        "        torch.nn.utils.clip_grad_norm_(model_task.parameters(), max_norm=1.0)\n",
        "        optimizer_final.step()\n",
        "        total_loss += loss.item()\n",
        "        valid_graphs += 1\n",
        "\n",
        "        if (i + 1) % 500 == 0:\n",
        "            print(f\"Final Train Epoch {epoch+1}, Graph {i+1}/{len(graphs)}, Loss: {loss.item():.4f}\")\n",
        "\n",
        "    print(f\"Skipped {skipped_graphs} out of {len(graphs)} graphs during training.\")\n",
        "    return total_loss / max(1, valid_graphs)\n",
        "\n",
        "\n",
        "# Define validation function\n",
        "def validate(graphs, labels):\n",
        "    model_task.eval()\n",
        "    all_preds = []\n",
        "    all_labels = []\n",
        "    skipped_graphs = 0\n",
        "\n",
        "    with torch.no_grad():\n",
        "        for i, (data, label) in enumerate(zip(graphs, labels)):\n",
        "            if data.edge_index.size(1) == 0 or data.x is None or data.x.size(0) == 0:\n",
        "                skipped_graphs += 1\n",
        "                continue\n",
        "\n",
        "            data = data.to(device)\n",
        "\n",
        "            mean = torch.mean(data.x, dim=0, keepdim=True)\n",
        "            std = torch.std(data.x, dim=0, keepdim=True) + 1e-7\n",
        "            data.x = (data.x - mean) / std\n",
        "\n",
        "            out = model_task(data)\n",
        "            preds = torch.argmax(out, dim=1).cpu().numpy()\n",
        "            all_preds.extend(preds)\n",
        "            all_labels.append(label)\n",
        "\n",
        "    accuracy = accuracy_score(all_labels, all_preds)\n",
        "    return accuracy\n",
        "\n",
        "# Final training loop\n",
        "num_epochs = 200\n",
        "best_val_accuracy = 0.0\n",
        "patience = 15\n",
        "patience_counter = 0\n",
        "\n",
        "# Define optimizer and loss function for final training\n",
        "optimizer_final = torch.optim.AdamW(model_task.parameters(), lr=3e-5, weight_decay=1e-3)\n",
        "scheduler = ReduceLROnPlateau(optimizer_final, mode='max', factor=0.5, patience=7, verbose=True)\n",
        "\n",
        "for epoch in range(num_epochs):\n",
        "    train_loss = train_epoch(train_graphs, train_labels, epoch)\n",
        "    val_accuracy = validate(val_graphs, val_labels)\n",
        "\n",
        "    print(f\"Epoch {epoch+1}/{num_epochs}, Training Loss: {train_loss:.4f}, Validation Accuracy: {val_accuracy:.4f}\")\n",
        "\n",
        "    # Save the best model based on validation accuracy\n",
        "    if val_accuracy > best_val_accuracy:\n",
        "        best_val_accuracy = val_accuracy\n",
        "        torch.save(model_task.state_dict(), '/content/drive/MyDrive/best_final_gat.pth')\n",
        "        print(f\"Best model saved with validation accuracy: {best_val_accuracy:.4f}\")\n",
        "        patience_counter = 0\n",
        "    else:\n",
        "        patience_counter += 1\n",
        "\n",
        "    # Step the scheduler with validation accuracy\n",
        "    scheduler.step(val_accuracy)\n",
        "\n",
        "    # Early stopping check\n",
        "    if patience_counter >= patience:\n",
        "        print(\"Early stopping triggered.\")\n",
        "        break\n",
        "\n",
        "print(\"Finished final training.\")\n",
        "print(f\"Best Validation Accuracy: {best_val_accuracy:.4f}\")\n",
        "\n",
        "# Load the best model for final evaluation\n",
        "model_task.load_state_dict(torch.load('/content/drive/MyDrive/best_final_gat.pth', map_location=device))\n",
        "\n",
        "# Evaluate on the validation set one last time\n",
        "final_val_accuracy = validate(val_graphs, val_labels)\n",
        "print(f\"Final Validation Accuracy: {final_val_accuracy:.4f}\")\n",
        "\n",
        "# Print a detailed classification report\n",
        "model_task.eval()\n",
        "all_preds = []\n",
        "all_labels = []\n",
        "\n",
        "with torch.no_grad():\n",
        "    for i, (data, label) in enumerate(zip(val_graphs, val_labels)):\n",
        "        if data.edge_index.size(1) == 0 or data.x is None or data.x.size(0) == 0:\n",
        "            continue\n",
        "        data = data.to(device)\n",
        "\n",
        "        mean = torch.mean(data.x, dim=0, keepdim=True)\n",
        "        std = torch.std(data.x, dim=0, keepdim=True) + 1e-7\n",
        "        data.x = (data.x - mean) / std\n",
        "\n",
        "        out = model_task(data)\n",
        "        preds = torch.argmax(out, dim=1).cpu().numpy()\n",
        "        all_preds.extend(preds)\n",
        "        all_labels.append(label)\n",
        "\n",
        "print(\"\\nClassification Report:\")\n",
        "print(classification_report(all_labels, all_preds, target_names=le.classes_))\n"
      ],
      "metadata": {
        "colab": {
          "base_uri": "https://localhost:8080/",
          "height": 1000
        },
        "id": "t7HHdm4g0Xjs",
        "outputId": "68d647b8-5056-4097-e7d6-cf61386da974"
      },
      "execution_count": null,
      "outputs": [
        {
          "metadata": {
            "tags": null
          },
          "name": "stdout",
          "output_type": "stream",
          "text": [
            "Drive already mounted at /content/drive; to attempt to forcibly remount, call drive.mount(\"/content/drive\", force_remount=True).\n",
            "Number of merged entries: 82880\n",
            "Label mapping: {'bent': np.int64(0), 'linear': np.int64(1), 'octahedral': np.int64(2), 'planar_3': np.int64(3), 'planar_4': np.int64(4), 'planar_5': np.int64(5), 'prism': np.int64(6), 'pyramid_3': np.int64(7), 'pyramid_4': np.int64(8), 'pyramid_bi': np.int64(9), 'pyramid_sq': np.int64(10), 'tetrahedral': np.int64(11), 'tshape': np.int64(12)}\n",
            "Number of valid graphs: 69976\n",
            "Number of valid graphs with edges: 69976\n",
            "Using device: cpu\n",
            "Pretrained weights loaded successfully for layers: ['conv1.att_src', 'conv1.att_dst', 'conv1.bias', 'conv1.lin.weight', 'norm1.weight', 'norm1.bias', 'conv2.att_src', 'conv2.att_dst', 'conv2.bias', 'conv2.lin.weight']\n",
            "The mapping_layer and fc layer are randomly initialized for task-specific fine-tuning.\n",
            "Finetune Epoch 1, Graph 500/13995, Loss: 0.0662\n",
            "Finetune Epoch 1, Graph 1000/13995, Loss: 3.7820\n",
            "Finetune Epoch 1, Graph 1500/13995, Loss: 0.0476\n",
            "Finetune Epoch 1, Graph 2000/13995, Loss: 0.0904\n",
            "Finetune Epoch 1, Graph 2500/13995, Loss: 3.3711\n",
            "Finetune Epoch 1, Graph 3000/13995, Loss: 4.5191\n",
            "Finetune Epoch 1, Graph 3500/13995, Loss: 3.5041\n",
            "Finetune Epoch 1, Graph 4000/13995, Loss: 3.9876\n",
            "Finetune Epoch 1, Graph 4500/13995, Loss: 4.9296\n",
            "Finetune Epoch 1, Graph 5000/13995, Loss: 0.1545\n",
            "Finetune Epoch 1, Graph 5500/13995, Loss: 2.6223\n",
            "Finetune Epoch 1, Graph 6000/13995, Loss: 0.0231\n",
            "Finetune Epoch 1, Graph 6500/13995, Loss: 0.2534\n",
            "Finetune Epoch 1, Graph 7000/13995, Loss: 0.0275\n",
            "Finetune Epoch 1, Graph 7500/13995, Loss: 4.6517\n",
            "Finetune Epoch 1, Graph 8000/13995, Loss: 3.6611\n",
            "Finetune Epoch 1, Graph 8500/13995, Loss: 0.0778\n",
            "Finetune Epoch 1, Graph 9000/13995, Loss: 0.0637\n",
            "Finetune Epoch 1, Graph 9500/13995, Loss: 4.4280\n",
            "Finetune Epoch 1, Graph 10000/13995, Loss: 0.0336\n",
            "Finetune Epoch 1, Graph 10500/13995, Loss: 0.0235\n",
            "Finetune Epoch 1, Graph 11000/13995, Loss: 3.8216\n",
            "Finetune Epoch 1, Graph 11500/13995, Loss: 2.0489\n",
            "Finetune Epoch 1, Graph 12000/13995, Loss: 0.1932\n",
            "Finetune Epoch 1, Graph 12500/13995, Loss: 0.0261\n",
            "Finetune Epoch 1, Graph 13000/13995, Loss: 0.0679\n",
            "Finetune Epoch 1, Graph 13500/13995, Loss: 0.0442\n",
            "Skipped 0 out of 13995 graphs during fine-tuning.\n",
            "Finetune Epoch 1/30, Loss: 1.9283\n",
            "Finetune Epoch 2, Graph 500/13995, Loss: 0.0848\n",
            "Finetune Epoch 2, Graph 1000/13995, Loss: 4.1223\n",
            "Finetune Epoch 2, Graph 1500/13995, Loss: 0.0332\n",
            "Finetune Epoch 2, Graph 2000/13995, Loss: 0.0221\n",
            "Finetune Epoch 2, Graph 2500/13995, Loss: 3.2524\n",
            "Finetune Epoch 2, Graph 3000/13995, Loss: 4.3390\n",
            "Finetune Epoch 2, Graph 3500/13995, Loss: 2.6973\n",
            "Finetune Epoch 2, Graph 4000/13995, Loss: 5.4177\n",
            "Finetune Epoch 2, Graph 4500/13995, Loss: 5.1996\n",
            "Finetune Epoch 2, Graph 5000/13995, Loss: 0.5998\n",
            "Finetune Epoch 2, Graph 5500/13995, Loss: 2.3343\n",
            "Finetune Epoch 2, Graph 6000/13995, Loss: 0.0176\n",
            "Finetune Epoch 2, Graph 6500/13995, Loss: 0.0823\n",
            "Finetune Epoch 2, Graph 7000/13995, Loss: 0.0339\n",
            "Finetune Epoch 2, Graph 7500/13995, Loss: 4.1484\n",
            "Finetune Epoch 2, Graph 8000/13995, Loss: 2.1383\n",
            "Finetune Epoch 2, Graph 8500/13995, Loss: 0.0385\n",
            "Finetune Epoch 2, Graph 9000/13995, Loss: 0.3713\n",
            "Finetune Epoch 2, Graph 9500/13995, Loss: 1.9239\n",
            "Finetune Epoch 2, Graph 10000/13995, Loss: 0.0201\n",
            "Finetune Epoch 2, Graph 10500/13995, Loss: 0.0290\n",
            "Finetune Epoch 2, Graph 11000/13995, Loss: 1.7681\n",
            "Finetune Epoch 2, Graph 11500/13995, Loss: 1.5508\n",
            "Finetune Epoch 2, Graph 12000/13995, Loss: 0.0194\n",
            "Finetune Epoch 2, Graph 12500/13995, Loss: 0.0191\n",
            "Finetune Epoch 2, Graph 13000/13995, Loss: 0.0459\n",
            "Finetune Epoch 2, Graph 13500/13995, Loss: 0.1055\n",
            "Skipped 0 out of 13995 graphs during fine-tuning.\n",
            "Finetune Epoch 2/30, Loss: 1.7790\n",
            "Finetune Epoch 3, Graph 500/13995, Loss: 0.1502\n",
            "Finetune Epoch 3, Graph 1000/13995, Loss: 3.7695\n",
            "Finetune Epoch 3, Graph 1500/13995, Loss: 0.0211\n",
            "Finetune Epoch 3, Graph 2000/13995, Loss: 0.0622\n",
            "Finetune Epoch 3, Graph 2500/13995, Loss: 2.2614\n",
            "Finetune Epoch 3, Graph 3000/13995, Loss: 4.6672\n",
            "Finetune Epoch 3, Graph 3500/13995, Loss: 2.7823\n",
            "Finetune Epoch 3, Graph 4000/13995, Loss: 5.2530\n",
            "Finetune Epoch 3, Graph 4500/13995, Loss: 5.3215\n",
            "Finetune Epoch 3, Graph 5000/13995, Loss: 0.0220\n",
            "Finetune Epoch 3, Graph 5500/13995, Loss: 2.4838\n",
            "Finetune Epoch 3, Graph 6000/13995, Loss: 0.0211\n",
            "Finetune Epoch 3, Graph 6500/13995, Loss: 0.4656\n",
            "Finetune Epoch 3, Graph 7000/13995, Loss: 0.0543\n",
            "Finetune Epoch 3, Graph 7500/13995, Loss: 4.6140\n",
            "Finetune Epoch 3, Graph 8000/13995, Loss: 2.1062\n",
            "Finetune Epoch 3, Graph 8500/13995, Loss: 0.0342\n",
            "Finetune Epoch 3, Graph 9000/13995, Loss: 0.3630\n",
            "Finetune Epoch 3, Graph 9500/13995, Loss: 2.4508\n",
            "Finetune Epoch 3, Graph 10000/13995, Loss: 0.0334\n",
            "Finetune Epoch 3, Graph 10500/13995, Loss: 0.0300\n",
            "Finetune Epoch 3, Graph 11000/13995, Loss: 2.6716\n",
            "Finetune Epoch 3, Graph 11500/13995, Loss: 2.3111\n",
            "Finetune Epoch 3, Graph 12000/13995, Loss: 0.0282\n",
            "Finetune Epoch 3, Graph 12500/13995, Loss: 0.0114\n",
            "Finetune Epoch 3, Graph 13000/13995, Loss: 0.0309\n",
            "Finetune Epoch 3, Graph 13500/13995, Loss: 0.0275\n",
            "Skipped 0 out of 13995 graphs during fine-tuning.\n",
            "Finetune Epoch 3/30, Loss: 1.7531\n",
            "Finetune Epoch 4, Graph 500/13995, Loss: 0.1810\n",
            "Finetune Epoch 4, Graph 1000/13995, Loss: 3.4560\n",
            "Finetune Epoch 4, Graph 1500/13995, Loss: 0.0288\n",
            "Finetune Epoch 4, Graph 2000/13995, Loss: 0.0507\n",
            "Finetune Epoch 4, Graph 2500/13995, Loss: 1.2475\n",
            "Finetune Epoch 4, Graph 3000/13995, Loss: 4.2520\n",
            "Finetune Epoch 4, Graph 3500/13995, Loss: 3.1875\n",
            "Finetune Epoch 4, Graph 4000/13995, Loss: 4.9660\n",
            "Finetune Epoch 4, Graph 4500/13995, Loss: 4.3030\n",
            "Finetune Epoch 4, Graph 5000/13995, Loss: 0.0594\n",
            "Finetune Epoch 4, Graph 5500/13995, Loss: 2.4747\n",
            "Finetune Epoch 4, Graph 6000/13995, Loss: 0.0967\n",
            "Finetune Epoch 4, Graph 6500/13995, Loss: 0.1144\n",
            "Finetune Epoch 4, Graph 7000/13995, Loss: 0.0458\n",
            "Finetune Epoch 4, Graph 7500/13995, Loss: 4.2311\n",
            "Finetune Epoch 4, Graph 8000/13995, Loss: 2.1053\n",
            "Finetune Epoch 4, Graph 8500/13995, Loss: 0.0830\n",
            "Finetune Epoch 4, Graph 9000/13995, Loss: 0.3455\n",
            "Finetune Epoch 4, Graph 9500/13995, Loss: 2.2197\n",
            "Finetune Epoch 4, Graph 10000/13995, Loss: 0.0389\n",
            "Finetune Epoch 4, Graph 10500/13995, Loss: 0.0348\n",
            "Finetune Epoch 4, Graph 11000/13995, Loss: 2.3260\n",
            "Finetune Epoch 4, Graph 11500/13995, Loss: 1.7387\n",
            "Finetune Epoch 4, Graph 12000/13995, Loss: 0.0639\n",
            "Finetune Epoch 4, Graph 12500/13995, Loss: 0.0312\n",
            "Finetune Epoch 4, Graph 13000/13995, Loss: 0.0566\n",
            "Finetune Epoch 4, Graph 13500/13995, Loss: 0.0359\n",
            "Skipped 0 out of 13995 graphs during fine-tuning.\n",
            "Finetune Epoch 4/30, Loss: 1.7422\n",
            "Finetune Epoch 5, Graph 500/13995, Loss: 1.1728\n",
            "Finetune Epoch 5, Graph 1000/13995, Loss: 3.7219\n",
            "Finetune Epoch 5, Graph 1500/13995, Loss: 0.0238\n",
            "Finetune Epoch 5, Graph 2000/13995, Loss: 0.1588\n",
            "Finetune Epoch 5, Graph 2500/13995, Loss: 1.8921\n",
            "Finetune Epoch 5, Graph 3000/13995, Loss: 5.0891\n",
            "Finetune Epoch 5, Graph 3500/13995, Loss: 3.0841\n",
            "Finetune Epoch 5, Graph 4000/13995, Loss: 4.6664\n",
            "Finetune Epoch 5, Graph 4500/13995, Loss: 5.1747\n",
            "Finetune Epoch 5, Graph 5000/13995, Loss: 0.0281\n",
            "Finetune Epoch 5, Graph 5500/13995, Loss: 2.4765\n",
            "Finetune Epoch 5, Graph 6000/13995, Loss: 0.1255\n",
            "Finetune Epoch 5, Graph 6500/13995, Loss: 1.8342\n",
            "Finetune Epoch 5, Graph 7000/13995, Loss: 0.0206\n",
            "Finetune Epoch 5, Graph 7500/13995, Loss: 4.3882\n",
            "Finetune Epoch 5, Graph 8000/13995, Loss: 2.0837\n",
            "Finetune Epoch 5, Graph 8500/13995, Loss: 0.0520\n",
            "Finetune Epoch 5, Graph 9000/13995, Loss: 0.1021\n",
            "Finetune Epoch 5, Graph 9500/13995, Loss: 2.0250\n",
            "Finetune Epoch 5, Graph 10000/13995, Loss: 0.0425\n",
            "Finetune Epoch 5, Graph 10500/13995, Loss: 0.0441\n",
            "Finetune Epoch 5, Graph 11000/13995, Loss: 2.2200\n",
            "Finetune Epoch 5, Graph 11500/13995, Loss: 2.0240\n",
            "Finetune Epoch 5, Graph 12000/13995, Loss: 0.0455\n",
            "Finetune Epoch 5, Graph 12500/13995, Loss: 0.0235\n",
            "Finetune Epoch 5, Graph 13000/13995, Loss: 0.0456\n",
            "Finetune Epoch 5, Graph 13500/13995, Loss: 0.0845\n",
            "Skipped 0 out of 13995 graphs during fine-tuning.\n",
            "Finetune Epoch 5/30, Loss: 1.7358\n",
            "Finetune Epoch 6, Graph 500/13995, Loss: 0.4787\n",
            "Finetune Epoch 6, Graph 1000/13995, Loss: 3.5115\n",
            "Finetune Epoch 6, Graph 1500/13995, Loss: 0.0344\n",
            "Finetune Epoch 6, Graph 2000/13995, Loss: 0.1389\n",
            "Finetune Epoch 6, Graph 2500/13995, Loss: 1.2584\n",
            "Finetune Epoch 6, Graph 3000/13995, Loss: 4.9265\n",
            "Finetune Epoch 6, Graph 3500/13995, Loss: 2.6198\n",
            "Finetune Epoch 6, Graph 4000/13995, Loss: 4.8370\n",
            "Finetune Epoch 6, Graph 4500/13995, Loss: 2.5022\n",
            "Finetune Epoch 6, Graph 5000/13995, Loss: 0.0389\n",
            "Finetune Epoch 6, Graph 5500/13995, Loss: 2.7541\n",
            "Finetune Epoch 6, Graph 6000/13995, Loss: 0.0267\n",
            "Finetune Epoch 6, Graph 6500/13995, Loss: 0.5215\n",
            "Finetune Epoch 6, Graph 7000/13995, Loss: 0.0199\n",
            "Finetune Epoch 6, Graph 7500/13995, Loss: 4.2958\n",
            "Finetune Epoch 6, Graph 8000/13995, Loss: 2.0815\n",
            "Finetune Epoch 6, Graph 8500/13995, Loss: 0.0487\n",
            "Finetune Epoch 6, Graph 9000/13995, Loss: 0.6043\n",
            "Finetune Epoch 6, Graph 9500/13995, Loss: 1.7663\n",
            "Finetune Epoch 6, Graph 10000/13995, Loss: 0.0556\n",
            "Finetune Epoch 6, Graph 10500/13995, Loss: 0.0357\n",
            "Finetune Epoch 6, Graph 11000/13995, Loss: 1.9163\n",
            "Finetune Epoch 6, Graph 11500/13995, Loss: 2.2653\n",
            "Finetune Epoch 6, Graph 12000/13995, Loss: 0.0413\n",
            "Finetune Epoch 6, Graph 12500/13995, Loss: 0.0289\n",
            "Finetune Epoch 6, Graph 13000/13995, Loss: 0.0325\n",
            "Finetune Epoch 6, Graph 13500/13995, Loss: 0.1873\n",
            "Skipped 0 out of 13995 graphs during fine-tuning.\n",
            "Finetune Epoch 6/30, Loss: 1.7214\n",
            "Finetune Epoch 7, Graph 500/13995, Loss: 1.1045\n",
            "Finetune Epoch 7, Graph 1000/13995, Loss: 3.1220\n",
            "Finetune Epoch 7, Graph 1500/13995, Loss: 0.0374\n",
            "Finetune Epoch 7, Graph 2000/13995, Loss: 0.2028\n",
            "Finetune Epoch 7, Graph 2500/13995, Loss: 3.5756\n",
            "Finetune Epoch 7, Graph 3000/13995, Loss: 4.8700\n",
            "Finetune Epoch 7, Graph 3500/13995, Loss: 2.5577\n",
            "Finetune Epoch 7, Graph 4000/13995, Loss: 4.2962\n",
            "Finetune Epoch 7, Graph 4500/13995, Loss: 4.7777\n",
            "Finetune Epoch 7, Graph 5000/13995, Loss: 0.0365\n",
            "Finetune Epoch 7, Graph 5500/13995, Loss: 2.7115\n",
            "Finetune Epoch 7, Graph 6000/13995, Loss: 0.0377\n",
            "Finetune Epoch 7, Graph 6500/13995, Loss: 0.1415\n",
            "Finetune Epoch 7, Graph 7000/13995, Loss: 0.0254\n",
            "Finetune Epoch 7, Graph 7500/13995, Loss: 4.2842\n",
            "Finetune Epoch 7, Graph 8000/13995, Loss: 2.1109\n",
            "Finetune Epoch 7, Graph 8500/13995, Loss: 0.0761\n",
            "Finetune Epoch 7, Graph 9000/13995, Loss: 0.1770\n",
            "Finetune Epoch 7, Graph 9500/13995, Loss: 2.0493\n",
            "Finetune Epoch 7, Graph 10000/13995, Loss: 0.0206\n",
            "Finetune Epoch 7, Graph 10500/13995, Loss: 0.0326\n",
            "Finetune Epoch 7, Graph 11000/13995, Loss: 2.1850\n",
            "Finetune Epoch 7, Graph 11500/13995, Loss: 3.3414\n",
            "Finetune Epoch 7, Graph 12000/13995, Loss: 0.0422\n",
            "Finetune Epoch 7, Graph 12500/13995, Loss: 0.0191\n",
            "Finetune Epoch 7, Graph 13000/13995, Loss: 0.0279\n",
            "Finetune Epoch 7, Graph 13500/13995, Loss: 0.2418\n",
            "Skipped 0 out of 13995 graphs during fine-tuning.\n",
            "Finetune Epoch 7/30, Loss: 1.7061\n",
            "Finetune Epoch 8, Graph 500/13995, Loss: 0.2247\n",
            "Finetune Epoch 8, Graph 1000/13995, Loss: 3.3443\n",
            "Finetune Epoch 8, Graph 1500/13995, Loss: 0.0684\n",
            "Finetune Epoch 8, Graph 2000/13995, Loss: 0.5188\n",
            "Finetune Epoch 8, Graph 2500/13995, Loss: 2.4441\n",
            "Finetune Epoch 8, Graph 3000/13995, Loss: 4.2343\n",
            "Finetune Epoch 8, Graph 3500/13995, Loss: 2.8850\n",
            "Finetune Epoch 8, Graph 4000/13995, Loss: 4.1481\n",
            "Finetune Epoch 8, Graph 4500/13995, Loss: 4.4013\n",
            "Finetune Epoch 8, Graph 5000/13995, Loss: 0.0556\n",
            "Finetune Epoch 8, Graph 5500/13995, Loss: 2.5793\n",
            "Finetune Epoch 8, Graph 6000/13995, Loss: 0.0311\n",
            "Finetune Epoch 8, Graph 6500/13995, Loss: 0.1939\n",
            "Finetune Epoch 8, Graph 7000/13995, Loss: 0.0315\n",
            "Finetune Epoch 8, Graph 7500/13995, Loss: 4.3322\n",
            "Finetune Epoch 8, Graph 8000/13995, Loss: 2.0704\n",
            "Finetune Epoch 8, Graph 8500/13995, Loss: 0.0672\n",
            "Finetune Epoch 8, Graph 9000/13995, Loss: 0.0802\n",
            "Finetune Epoch 8, Graph 9500/13995, Loss: 2.1899\n",
            "Finetune Epoch 8, Graph 10000/13995, Loss: 0.0350\n",
            "Finetune Epoch 8, Graph 10500/13995, Loss: 0.0372\n",
            "Finetune Epoch 8, Graph 11000/13995, Loss: 2.2292\n",
            "Finetune Epoch 8, Graph 11500/13995, Loss: 1.9419\n",
            "Finetune Epoch 8, Graph 12000/13995, Loss: 0.0371\n",
            "Finetune Epoch 8, Graph 12500/13995, Loss: 0.0320\n",
            "Finetune Epoch 8, Graph 13000/13995, Loss: 0.0352\n",
            "Finetune Epoch 8, Graph 13500/13995, Loss: 0.2231\n",
            "Skipped 0 out of 13995 graphs during fine-tuning.\n",
            "Finetune Epoch 8/30, Loss: 1.7030\n",
            "Finetune Epoch 9, Graph 500/13995, Loss: 0.3863\n",
            "Finetune Epoch 9, Graph 1000/13995, Loss: 3.6673\n",
            "Finetune Epoch 9, Graph 1500/13995, Loss: 0.0259\n",
            "Finetune Epoch 9, Graph 2000/13995, Loss: 0.0917\n",
            "Finetune Epoch 9, Graph 2500/13995, Loss: 1.6234\n",
            "Finetune Epoch 9, Graph 3000/13995, Loss: 4.1726\n",
            "Finetune Epoch 9, Graph 3500/13995, Loss: 3.0481\n",
            "Finetune Epoch 9, Graph 4000/13995, Loss: 4.7289\n",
            "Finetune Epoch 9, Graph 4500/13995, Loss: 4.7284\n",
            "Finetune Epoch 9, Graph 5000/13995, Loss: 0.0478\n",
            "Finetune Epoch 9, Graph 5500/13995, Loss: 2.5468\n",
            "Finetune Epoch 9, Graph 6000/13995, Loss: 0.0349\n",
            "Finetune Epoch 9, Graph 6500/13995, Loss: 2.1680\n",
            "Finetune Epoch 9, Graph 7000/13995, Loss: 0.0399\n",
            "Finetune Epoch 9, Graph 7500/13995, Loss: 4.4232\n",
            "Finetune Epoch 9, Graph 8000/13995, Loss: 2.1996\n",
            "Finetune Epoch 9, Graph 8500/13995, Loss: 0.0489\n",
            "Finetune Epoch 9, Graph 9000/13995, Loss: 0.6963\n",
            "Finetune Epoch 9, Graph 9500/13995, Loss: 1.7718\n",
            "Finetune Epoch 9, Graph 10000/13995, Loss: 0.0324\n",
            "Finetune Epoch 9, Graph 10500/13995, Loss: 0.0309\n",
            "Finetune Epoch 9, Graph 11000/13995, Loss: 2.7708\n",
            "Finetune Epoch 9, Graph 11500/13995, Loss: 2.1593\n",
            "Finetune Epoch 9, Graph 12000/13995, Loss: 0.0323\n",
            "Finetune Epoch 9, Graph 12500/13995, Loss: 0.0224\n",
            "Finetune Epoch 9, Graph 13000/13995, Loss: 0.0787\n",
            "Finetune Epoch 9, Graph 13500/13995, Loss: 0.0478\n",
            "Skipped 0 out of 13995 graphs during fine-tuning.\n",
            "Finetune Epoch 9/30, Loss: 1.6839\n",
            "Finetune Epoch 10, Graph 500/13995, Loss: 0.0521\n",
            "Finetune Epoch 10, Graph 1000/13995, Loss: 3.4801\n",
            "Finetune Epoch 10, Graph 1500/13995, Loss: 0.0534\n",
            "Finetune Epoch 10, Graph 2000/13995, Loss: 0.1844\n",
            "Finetune Epoch 10, Graph 2500/13995, Loss: 2.3153\n",
            "Finetune Epoch 10, Graph 3000/13995, Loss: 4.5864\n",
            "Finetune Epoch 10, Graph 3500/13995, Loss: 2.8184\n",
            "Finetune Epoch 10, Graph 4000/13995, Loss: 4.5155\n",
            "Finetune Epoch 10, Graph 4500/13995, Loss: 4.5041\n",
            "Finetune Epoch 10, Graph 5000/13995, Loss: 0.0611\n",
            "Finetune Epoch 10, Graph 5500/13995, Loss: 2.5831\n",
            "Finetune Epoch 10, Graph 6000/13995, Loss: 0.0320\n",
            "Finetune Epoch 10, Graph 6500/13995, Loss: 1.4557\n",
            "Finetune Epoch 10, Graph 7000/13995, Loss: 0.0255\n",
            "Finetune Epoch 10, Graph 7500/13995, Loss: 4.1326\n",
            "Finetune Epoch 10, Graph 8000/13995, Loss: 2.1271\n",
            "Finetune Epoch 10, Graph 8500/13995, Loss: 0.0750\n",
            "Finetune Epoch 10, Graph 9000/13995, Loss: 0.2915\n",
            "Finetune Epoch 10, Graph 9500/13995, Loss: 1.8943\n",
            "Finetune Epoch 10, Graph 10000/13995, Loss: 0.0349\n",
            "Finetune Epoch 10, Graph 10500/13995, Loss: 0.0465\n",
            "Finetune Epoch 10, Graph 11000/13995, Loss: 3.1070\n",
            "Finetune Epoch 10, Graph 11500/13995, Loss: 1.6278\n",
            "Finetune Epoch 10, Graph 12000/13995, Loss: 0.0513\n",
            "Finetune Epoch 10, Graph 12500/13995, Loss: 0.0334\n",
            "Finetune Epoch 10, Graph 13000/13995, Loss: 0.0393\n",
            "Finetune Epoch 10, Graph 13500/13995, Loss: 0.0447\n",
            "Skipped 0 out of 13995 graphs during fine-tuning.\n",
            "Finetune Epoch 10/30, Loss: 1.6866\n",
            "Finetune Epoch 11, Graph 500/13995, Loss: 0.0771\n",
            "Finetune Epoch 11, Graph 1000/13995, Loss: 3.2637\n",
            "Finetune Epoch 11, Graph 1500/13995, Loss: 0.0367\n",
            "Finetune Epoch 11, Graph 2000/13995, Loss: 0.1901\n",
            "Finetune Epoch 11, Graph 2500/13995, Loss: 1.7402\n",
            "Finetune Epoch 11, Graph 3000/13995, Loss: 4.5925\n",
            "Finetune Epoch 11, Graph 3500/13995, Loss: 2.9661\n",
            "Finetune Epoch 11, Graph 4000/13995, Loss: 4.0385\n",
            "Finetune Epoch 11, Graph 4500/13995, Loss: 5.3060\n",
            "Finetune Epoch 11, Graph 5000/13995, Loss: 0.0543\n",
            "Finetune Epoch 11, Graph 5500/13995, Loss: 2.8604\n",
            "Finetune Epoch 11, Graph 6000/13995, Loss: 0.0344\n",
            "Finetune Epoch 11, Graph 6500/13995, Loss: 1.1239\n",
            "Finetune Epoch 11, Graph 7000/13995, Loss: 0.0211\n",
            "Finetune Epoch 11, Graph 7500/13995, Loss: 3.5192\n",
            "Finetune Epoch 11, Graph 8000/13995, Loss: 2.0654\n",
            "Finetune Epoch 11, Graph 8500/13995, Loss: 0.0371\n",
            "Finetune Epoch 11, Graph 9000/13995, Loss: 0.1230\n",
            "Finetune Epoch 11, Graph 9500/13995, Loss: 1.9163\n",
            "Finetune Epoch 11, Graph 10000/13995, Loss: 0.0352\n",
            "Finetune Epoch 11, Graph 10500/13995, Loss: 0.0319\n",
            "Finetune Epoch 11, Graph 11000/13995, Loss: 2.1955\n",
            "Finetune Epoch 11, Graph 11500/13995, Loss: 2.9341\n",
            "Finetune Epoch 11, Graph 12000/13995, Loss: 0.0258\n",
            "Finetune Epoch 11, Graph 12500/13995, Loss: 0.0161\n",
            "Finetune Epoch 11, Graph 13000/13995, Loss: 0.0628\n",
            "Finetune Epoch 11, Graph 13500/13995, Loss: 0.0351\n",
            "Skipped 0 out of 13995 graphs during fine-tuning.\n",
            "Finetune Epoch 11/30, Loss: 1.6755\n",
            "Finetune Epoch 12, Graph 500/13995, Loss: 0.0508\n",
            "Finetune Epoch 12, Graph 1000/13995, Loss: 4.1269\n",
            "Finetune Epoch 12, Graph 1500/13995, Loss: 0.0466\n",
            "Finetune Epoch 12, Graph 2000/13995, Loss: 0.1397\n",
            "Finetune Epoch 12, Graph 2500/13995, Loss: 1.5287\n",
            "Finetune Epoch 12, Graph 3000/13995, Loss: 4.2151\n",
            "Finetune Epoch 12, Graph 3500/13995, Loss: 2.6049\n",
            "Finetune Epoch 12, Graph 4000/13995, Loss: 4.2708\n",
            "Finetune Epoch 12, Graph 4500/13995, Loss: 5.1564\n",
            "Finetune Epoch 12, Graph 5000/13995, Loss: 0.0436\n",
            "Finetune Epoch 12, Graph 5500/13995, Loss: 2.5616\n",
            "Finetune Epoch 12, Graph 6000/13995, Loss: 0.0561\n",
            "Finetune Epoch 12, Graph 6500/13995, Loss: 0.6130\n",
            "Finetune Epoch 12, Graph 7000/13995, Loss: 0.0227\n",
            "Finetune Epoch 12, Graph 7500/13995, Loss: 4.4615\n",
            "Finetune Epoch 12, Graph 8000/13995, Loss: 2.3505\n",
            "Finetune Epoch 12, Graph 8500/13995, Loss: 0.0776\n",
            "Finetune Epoch 12, Graph 9000/13995, Loss: 0.2756\n",
            "Finetune Epoch 12, Graph 9500/13995, Loss: 1.7300\n",
            "Finetune Epoch 12, Graph 10000/13995, Loss: 0.0362\n",
            "Finetune Epoch 12, Graph 10500/13995, Loss: 0.0351\n",
            "Finetune Epoch 12, Graph 11000/13995, Loss: 1.7003\n",
            "Finetune Epoch 12, Graph 11500/13995, Loss: 2.8584\n",
            "Finetune Epoch 12, Graph 12000/13995, Loss: 0.0317\n",
            "Finetune Epoch 12, Graph 12500/13995, Loss: 0.0348\n",
            "Finetune Epoch 12, Graph 13000/13995, Loss: 0.0405\n",
            "Finetune Epoch 12, Graph 13500/13995, Loss: 0.0996\n",
            "Skipped 0 out of 13995 graphs during fine-tuning.\n",
            "Finetune Epoch 12/30, Loss: 1.6736\n",
            "Finetune Epoch 13, Graph 500/13995, Loss: 0.2107\n",
            "Finetune Epoch 13, Graph 1000/13995, Loss: 2.9133\n",
            "Finetune Epoch 13, Graph 1500/13995, Loss: 0.0498\n",
            "Finetune Epoch 13, Graph 2000/13995, Loss: 0.5932\n",
            "Finetune Epoch 13, Graph 2500/13995, Loss: 2.6716\n",
            "Finetune Epoch 13, Graph 3000/13995, Loss: 4.4818\n",
            "Finetune Epoch 13, Graph 3500/13995, Loss: 2.9032\n",
            "Finetune Epoch 13, Graph 4000/13995, Loss: 4.3247\n",
            "Finetune Epoch 13, Graph 4500/13995, Loss: 5.2145\n",
            "Finetune Epoch 13, Graph 5000/13995, Loss: 0.0409\n",
            "Finetune Epoch 13, Graph 5500/13995, Loss: 2.4131\n",
            "Finetune Epoch 13, Graph 6000/13995, Loss: 0.0282\n",
            "Finetune Epoch 13, Graph 6500/13995, Loss: 1.1953\n",
            "Finetune Epoch 13, Graph 7000/13995, Loss: 0.0346\n",
            "Finetune Epoch 13, Graph 7500/13995, Loss: 4.4853\n",
            "Finetune Epoch 13, Graph 8000/13995, Loss: 2.3585\n",
            "Finetune Epoch 13, Graph 8500/13995, Loss: 0.9573\n",
            "Finetune Epoch 13, Graph 9000/13995, Loss: 0.2853\n",
            "Finetune Epoch 13, Graph 9500/13995, Loss: 1.9437\n",
            "Finetune Epoch 13, Graph 10000/13995, Loss: 0.0535\n",
            "Finetune Epoch 13, Graph 10500/13995, Loss: 0.0386\n",
            "Finetune Epoch 13, Graph 11000/13995, Loss: 2.3039\n",
            "Finetune Epoch 13, Graph 11500/13995, Loss: 1.9938\n",
            "Finetune Epoch 13, Graph 12000/13995, Loss: 0.0368\n",
            "Finetune Epoch 13, Graph 12500/13995, Loss: 0.0225\n",
            "Finetune Epoch 13, Graph 13000/13995, Loss: 0.0317\n",
            "Finetune Epoch 13, Graph 13500/13995, Loss: 0.0906\n",
            "Skipped 0 out of 13995 graphs during fine-tuning.\n",
            "Finetune Epoch 13/30, Loss: 1.6719\n",
            "Finetune Epoch 14, Graph 500/13995, Loss: 0.2117\n",
            "Finetune Epoch 14, Graph 1000/13995, Loss: 3.5702\n",
            "Finetune Epoch 14, Graph 1500/13995, Loss: 0.0458\n",
            "Finetune Epoch 14, Graph 2000/13995, Loss: 0.1441\n",
            "Finetune Epoch 14, Graph 2500/13995, Loss: 2.6651\n",
            "Finetune Epoch 14, Graph 3000/13995, Loss: 4.2633\n",
            "Finetune Epoch 14, Graph 3500/13995, Loss: 2.9902\n",
            "Finetune Epoch 14, Graph 4000/13995, Loss: 4.6290\n",
            "Finetune Epoch 14, Graph 4500/13995, Loss: 4.7310\n",
            "Finetune Epoch 14, Graph 5000/13995, Loss: 0.0378\n",
            "Finetune Epoch 14, Graph 5500/13995, Loss: 2.3593\n",
            "Finetune Epoch 14, Graph 6000/13995, Loss: 0.0312\n",
            "Finetune Epoch 14, Graph 6500/13995, Loss: 1.4903\n",
            "Finetune Epoch 14, Graph 7000/13995, Loss: 0.0683\n",
            "Finetune Epoch 14, Graph 7500/13995, Loss: 4.1487\n",
            "Finetune Epoch 14, Graph 8000/13995, Loss: 2.1864\n",
            "Finetune Epoch 14, Graph 8500/13995, Loss: 0.0561\n",
            "Finetune Epoch 14, Graph 9000/13995, Loss: 0.0750\n",
            "Finetune Epoch 14, Graph 9500/13995, Loss: 1.8892\n",
            "Finetune Epoch 14, Graph 10000/13995, Loss: 0.0404\n",
            "Finetune Epoch 14, Graph 10500/13995, Loss: 0.0910\n",
            "Finetune Epoch 14, Graph 11000/13995, Loss: 1.9992\n",
            "Finetune Epoch 14, Graph 11500/13995, Loss: 1.7939\n",
            "Finetune Epoch 14, Graph 12000/13995, Loss: 0.0328\n",
            "Finetune Epoch 14, Graph 12500/13995, Loss: 0.0354\n",
            "Finetune Epoch 14, Graph 13000/13995, Loss: 0.0386\n",
            "Finetune Epoch 14, Graph 13500/13995, Loss: 0.0881\n",
            "Skipped 0 out of 13995 graphs during fine-tuning.\n",
            "Finetune Epoch 14/30, Loss: 1.6722\n",
            "Finetune Epoch 15, Graph 500/13995, Loss: 0.1814\n",
            "Finetune Epoch 15, Graph 1000/13995, Loss: 3.0056\n",
            "Finetune Epoch 15, Graph 1500/13995, Loss: 0.0513\n",
            "Finetune Epoch 15, Graph 2000/13995, Loss: 0.5774\n",
            "Finetune Epoch 15, Graph 2500/13995, Loss: 0.8214\n",
            "Finetune Epoch 15, Graph 3000/13995, Loss: 4.7719\n",
            "Finetune Epoch 15, Graph 3500/13995, Loss: 2.5440\n",
            "Finetune Epoch 15, Graph 4000/13995, Loss: 4.4905\n",
            "Finetune Epoch 15, Graph 4500/13995, Loss: 4.6337\n",
            "Finetune Epoch 15, Graph 5000/13995, Loss: 0.0730\n",
            "Finetune Epoch 15, Graph 5500/13995, Loss: 2.3354\n",
            "Finetune Epoch 15, Graph 6000/13995, Loss: 0.0268\n",
            "Finetune Epoch 15, Graph 6500/13995, Loss: 1.1882\n",
            "Finetune Epoch 15, Graph 7000/13995, Loss: 0.4511\n",
            "Finetune Epoch 15, Graph 7500/13995, Loss: 4.2969\n",
            "Finetune Epoch 15, Graph 8000/13995, Loss: 2.2985\n",
            "Finetune Epoch 15, Graph 8500/13995, Loss: 0.0571\n",
            "Finetune Epoch 15, Graph 9000/13995, Loss: 0.3370\n",
            "Finetune Epoch 15, Graph 9500/13995, Loss: 2.2443\n",
            "Finetune Epoch 15, Graph 10000/13995, Loss: 0.0449\n",
            "Finetune Epoch 15, Graph 10500/13995, Loss: 0.0524\n",
            "Finetune Epoch 15, Graph 11000/13995, Loss: 2.5273\n",
            "Finetune Epoch 15, Graph 11500/13995, Loss: 3.3816\n",
            "Finetune Epoch 15, Graph 12000/13995, Loss: 0.0370\n",
            "Finetune Epoch 15, Graph 12500/13995, Loss: 0.0273\n",
            "Finetune Epoch 15, Graph 13000/13995, Loss: 0.0548\n",
            "Finetune Epoch 15, Graph 13500/13995, Loss: 0.0371\n",
            "Skipped 0 out of 13995 graphs during fine-tuning.\n",
            "Finetune Epoch 15/30, Loss: 1.6620\n",
            "Finetune Epoch 16, Graph 500/13995, Loss: 0.3627\n",
            "Finetune Epoch 16, Graph 1000/13995, Loss: 3.6833\n",
            "Finetune Epoch 16, Graph 1500/13995, Loss: 0.0362\n",
            "Finetune Epoch 16, Graph 2000/13995, Loss: 0.0757\n",
            "Finetune Epoch 16, Graph 2500/13995, Loss: 0.4365\n",
            "Finetune Epoch 16, Graph 3000/13995, Loss: 4.7551\n",
            "Finetune Epoch 16, Graph 3500/13995, Loss: 3.1153\n",
            "Finetune Epoch 16, Graph 4000/13995, Loss: 3.9420\n",
            "Finetune Epoch 16, Graph 4500/13995, Loss: 5.1036\n",
            "Finetune Epoch 16, Graph 5000/13995, Loss: 0.0632\n",
            "Finetune Epoch 16, Graph 5500/13995, Loss: 2.5934\n",
            "Finetune Epoch 16, Graph 6000/13995, Loss: 0.5638\n",
            "Finetune Epoch 16, Graph 6500/13995, Loss: 1.1111\n",
            "Finetune Epoch 16, Graph 7000/13995, Loss: 0.1361\n",
            "Finetune Epoch 16, Graph 7500/13995, Loss: 4.3036\n",
            "Finetune Epoch 16, Graph 8000/13995, Loss: 2.1630\n",
            "Finetune Epoch 16, Graph 8500/13995, Loss: 0.0892\n",
            "Finetune Epoch 16, Graph 9000/13995, Loss: 0.2791\n",
            "Finetune Epoch 16, Graph 9500/13995, Loss: 1.8385\n",
            "Finetune Epoch 16, Graph 10000/13995, Loss: 0.0398\n",
            "Finetune Epoch 16, Graph 10500/13995, Loss: 0.0409\n",
            "Finetune Epoch 16, Graph 11000/13995, Loss: 1.9714\n",
            "Finetune Epoch 16, Graph 11500/13995, Loss: 3.1591\n",
            "Finetune Epoch 16, Graph 12000/13995, Loss: 0.0316\n",
            "Finetune Epoch 16, Graph 12500/13995, Loss: 0.0377\n",
            "Finetune Epoch 16, Graph 13000/13995, Loss: 0.0548\n",
            "Finetune Epoch 16, Graph 13500/13995, Loss: 0.0831\n",
            "Skipped 0 out of 13995 graphs during fine-tuning.\n",
            "Finetune Epoch 16/30, Loss: 1.6566\n",
            "Finetune Epoch 17, Graph 500/13995, Loss: 0.0679\n",
            "Finetune Epoch 17, Graph 1000/13995, Loss: 2.8346\n",
            "Finetune Epoch 17, Graph 1500/13995, Loss: 0.0724\n",
            "Finetune Epoch 17, Graph 2000/13995, Loss: 0.3492\n",
            "Finetune Epoch 17, Graph 2500/13995, Loss: 0.8162\n",
            "Finetune Epoch 17, Graph 3000/13995, Loss: 5.0881\n",
            "Finetune Epoch 17, Graph 3500/13995, Loss: 2.9394\n",
            "Finetune Epoch 17, Graph 4000/13995, Loss: 4.2101\n",
            "Finetune Epoch 17, Graph 4500/13995, Loss: 4.6189\n",
            "Finetune Epoch 17, Graph 5000/13995, Loss: 0.0668\n",
            "Finetune Epoch 17, Graph 5500/13995, Loss: 2.6992\n",
            "Finetune Epoch 17, Graph 6000/13995, Loss: 0.0416\n",
            "Finetune Epoch 17, Graph 6500/13995, Loss: 0.6535\n",
            "Finetune Epoch 17, Graph 7000/13995, Loss: 0.0271\n",
            "Finetune Epoch 17, Graph 7500/13995, Loss: 4.0210\n",
            "Finetune Epoch 17, Graph 8000/13995, Loss: 2.4138\n",
            "Finetune Epoch 17, Graph 8500/13995, Loss: 0.0547\n",
            "Finetune Epoch 17, Graph 9000/13995, Loss: 0.4271\n",
            "Finetune Epoch 17, Graph 9500/13995, Loss: 2.2363\n",
            "Finetune Epoch 17, Graph 10000/13995, Loss: 0.1797\n",
            "Finetune Epoch 17, Graph 10500/13995, Loss: 0.0587\n",
            "Finetune Epoch 17, Graph 11000/13995, Loss: 2.0885\n",
            "Finetune Epoch 17, Graph 11500/13995, Loss: 2.8063\n",
            "Finetune Epoch 17, Graph 12000/13995, Loss: 0.0258\n",
            "Finetune Epoch 17, Graph 12500/13995, Loss: 0.0353\n",
            "Finetune Epoch 17, Graph 13000/13995, Loss: 0.0445\n",
            "Finetune Epoch 17, Graph 13500/13995, Loss: 0.0464\n",
            "Skipped 0 out of 13995 graphs during fine-tuning.\n",
            "Finetune Epoch 17/30, Loss: 1.6539\n",
            "Finetune Epoch 18, Graph 500/13995, Loss: 0.1393\n",
            "Finetune Epoch 18, Graph 1000/13995, Loss: 2.5610\n",
            "Finetune Epoch 18, Graph 1500/13995, Loss: 0.0408\n",
            "Finetune Epoch 18, Graph 2000/13995, Loss: 0.6115\n",
            "Finetune Epoch 18, Graph 2500/13995, Loss: 0.6825\n",
            "Finetune Epoch 18, Graph 3000/13995, Loss: 4.3556\n",
            "Finetune Epoch 18, Graph 3500/13995, Loss: 2.5544\n",
            "Finetune Epoch 18, Graph 4000/13995, Loss: 3.2818\n",
            "Finetune Epoch 18, Graph 4500/13995, Loss: 5.1783\n",
            "Finetune Epoch 18, Graph 5000/13995, Loss: 0.0377\n",
            "Finetune Epoch 18, Graph 5500/13995, Loss: 2.7906\n",
            "Finetune Epoch 18, Graph 6000/13995, Loss: 0.0537\n",
            "Finetune Epoch 18, Graph 6500/13995, Loss: 0.4118\n",
            "Finetune Epoch 18, Graph 7000/13995, Loss: 0.0292\n",
            "Finetune Epoch 18, Graph 7500/13995, Loss: 4.3291\n",
            "Finetune Epoch 18, Graph 8000/13995, Loss: 1.9052\n",
            "Finetune Epoch 18, Graph 8500/13995, Loss: 0.0721\n",
            "Finetune Epoch 18, Graph 9000/13995, Loss: 0.1808\n",
            "Finetune Epoch 18, Graph 9500/13995, Loss: 1.5143\n",
            "Finetune Epoch 18, Graph 10000/13995, Loss: 0.0454\n",
            "Finetune Epoch 18, Graph 10500/13995, Loss: 0.0409\n",
            "Finetune Epoch 18, Graph 11000/13995, Loss: 3.2079\n",
            "Finetune Epoch 18, Graph 11500/13995, Loss: 3.4814\n",
            "Finetune Epoch 18, Graph 12000/13995, Loss: 0.0513\n",
            "Finetune Epoch 18, Graph 12500/13995, Loss: 0.0350\n",
            "Finetune Epoch 18, Graph 13000/13995, Loss: 0.0641\n",
            "Finetune Epoch 18, Graph 13500/13995, Loss: 0.0555\n",
            "Skipped 0 out of 13995 graphs during fine-tuning.\n",
            "Finetune Epoch 18/30, Loss: 1.6542\n",
            "Finetune Epoch 19, Graph 500/13995, Loss: 0.0735\n",
            "Finetune Epoch 19, Graph 1000/13995, Loss: 2.6201\n",
            "Finetune Epoch 19, Graph 1500/13995, Loss: 0.0704\n",
            "Finetune Epoch 19, Graph 2000/13995, Loss: 1.1203\n",
            "Finetune Epoch 19, Graph 2500/13995, Loss: 0.9299\n",
            "Finetune Epoch 19, Graph 3000/13995, Loss: 4.1795\n",
            "Finetune Epoch 19, Graph 3500/13995, Loss: 2.6883\n",
            "Finetune Epoch 19, Graph 4000/13995, Loss: 4.7448\n",
            "Finetune Epoch 19, Graph 4500/13995, Loss: 2.9759\n",
            "Finetune Epoch 19, Graph 5000/13995, Loss: 0.0535\n",
            "Finetune Epoch 19, Graph 5500/13995, Loss: 2.5999\n",
            "Finetune Epoch 19, Graph 6000/13995, Loss: 0.0376\n",
            "Finetune Epoch 19, Graph 6500/13995, Loss: 0.8536\n",
            "Finetune Epoch 19, Graph 7000/13995, Loss: 0.0285\n",
            "Finetune Epoch 19, Graph 7500/13995, Loss: 4.2982\n",
            "Finetune Epoch 19, Graph 8000/13995, Loss: 1.8129\n",
            "Finetune Epoch 19, Graph 8500/13995, Loss: 0.0953\n",
            "Finetune Epoch 19, Graph 9000/13995, Loss: 0.2839\n",
            "Finetune Epoch 19, Graph 9500/13995, Loss: 1.9333\n",
            "Finetune Epoch 19, Graph 10000/13995, Loss: 0.0403\n",
            "Finetune Epoch 19, Graph 10500/13995, Loss: 0.0784\n",
            "Finetune Epoch 19, Graph 11000/13995, Loss: 2.9772\n",
            "Finetune Epoch 19, Graph 11500/13995, Loss: 2.7042\n",
            "Finetune Epoch 19, Graph 12000/13995, Loss: 0.0581\n",
            "Finetune Epoch 19, Graph 12500/13995, Loss: 0.0291\n",
            "Finetune Epoch 19, Graph 13000/13995, Loss: 0.0802\n",
            "Finetune Epoch 19, Graph 13500/13995, Loss: 0.0411\n",
            "Skipped 0 out of 13995 graphs during fine-tuning.\n",
            "Finetune Epoch 19/30, Loss: 1.6493\n",
            "Finetune Epoch 20, Graph 500/13995, Loss: 0.1215\n",
            "Finetune Epoch 20, Graph 1000/13995, Loss: 2.8700\n",
            "Finetune Epoch 20, Graph 1500/13995, Loss: 0.0981\n",
            "Finetune Epoch 20, Graph 2000/13995, Loss: 0.2235\n",
            "Finetune Epoch 20, Graph 2500/13995, Loss: 0.7559\n",
            "Finetune Epoch 20, Graph 3000/13995, Loss: 4.4024\n",
            "Finetune Epoch 20, Graph 3500/13995, Loss: 2.5628\n",
            "Finetune Epoch 20, Graph 4000/13995, Loss: 4.2667\n",
            "Finetune Epoch 20, Graph 4500/13995, Loss: 4.4672\n",
            "Finetune Epoch 20, Graph 5000/13995, Loss: 0.0597\n",
            "Finetune Epoch 20, Graph 5500/13995, Loss: 2.5065\n",
            "Finetune Epoch 20, Graph 6000/13995, Loss: 0.0436\n",
            "Finetune Epoch 20, Graph 6500/13995, Loss: 2.0933\n",
            "Finetune Epoch 20, Graph 7000/13995, Loss: 0.0505\n",
            "Finetune Epoch 20, Graph 7500/13995, Loss: 3.6109\n",
            "Finetune Epoch 20, Graph 8000/13995, Loss: 1.9797\n",
            "Finetune Epoch 20, Graph 8500/13995, Loss: 0.0729\n",
            "Finetune Epoch 20, Graph 9000/13995, Loss: 0.5858\n",
            "Finetune Epoch 20, Graph 9500/13995, Loss: 1.4837\n",
            "Finetune Epoch 20, Graph 10000/13995, Loss: 0.0480\n",
            "Finetune Epoch 20, Graph 10500/13995, Loss: 0.0882\n",
            "Finetune Epoch 20, Graph 11000/13995, Loss: 1.9804\n",
            "Finetune Epoch 20, Graph 11500/13995, Loss: 2.9399\n",
            "Finetune Epoch 20, Graph 12000/13995, Loss: 0.0446\n",
            "Finetune Epoch 20, Graph 12500/13995, Loss: 0.0760\n",
            "Finetune Epoch 20, Graph 13000/13995, Loss: 0.0503\n",
            "Finetune Epoch 20, Graph 13500/13995, Loss: 0.1255\n",
            "Skipped 0 out of 13995 graphs during fine-tuning.\n",
            "Finetune Epoch 20/30, Loss: 1.6522\n",
            "Finetune Epoch 21, Graph 500/13995, Loss: 0.1368\n",
            "Finetune Epoch 21, Graph 1000/13995, Loss: 3.1189\n",
            "Finetune Epoch 21, Graph 1500/13995, Loss: 0.1838\n",
            "Finetune Epoch 21, Graph 2000/13995, Loss: 0.4167\n",
            "Finetune Epoch 21, Graph 2500/13995, Loss: 0.9072\n",
            "Finetune Epoch 21, Graph 3000/13995, Loss: 4.5359\n",
            "Finetune Epoch 21, Graph 3500/13995, Loss: 2.6579\n",
            "Finetune Epoch 21, Graph 4000/13995, Loss: 1.3972\n",
            "Finetune Epoch 21, Graph 4500/13995, Loss: 4.1025\n",
            "Finetune Epoch 21, Graph 5000/13995, Loss: 0.0474\n",
            "Finetune Epoch 21, Graph 5500/13995, Loss: 2.4606\n",
            "Finetune Epoch 21, Graph 6000/13995, Loss: 0.0630\n",
            "Finetune Epoch 21, Graph 6500/13995, Loss: 1.8699\n",
            "Finetune Epoch 21, Graph 7000/13995, Loss: 0.1292\n",
            "Finetune Epoch 21, Graph 7500/13995, Loss: 4.3623\n",
            "Finetune Epoch 21, Graph 8000/13995, Loss: 2.0195\n",
            "Finetune Epoch 21, Graph 8500/13995, Loss: 0.0623\n",
            "Finetune Epoch 21, Graph 9000/13995, Loss: 0.1829\n",
            "Finetune Epoch 21, Graph 9500/13995, Loss: 1.5837\n",
            "Finetune Epoch 21, Graph 10000/13995, Loss: 0.0584\n",
            "Finetune Epoch 21, Graph 10500/13995, Loss: 0.0468\n",
            "Finetune Epoch 21, Graph 11000/13995, Loss: 2.9785\n",
            "Finetune Epoch 21, Graph 11500/13995, Loss: 2.0108\n",
            "Finetune Epoch 21, Graph 12000/13995, Loss: 0.0526\n",
            "Finetune Epoch 21, Graph 12500/13995, Loss: 0.0462\n",
            "Finetune Epoch 21, Graph 13000/13995, Loss: 0.0479\n",
            "Finetune Epoch 21, Graph 13500/13995, Loss: 0.0477\n",
            "Skipped 0 out of 13995 graphs during fine-tuning.\n",
            "Finetune Epoch 21/30, Loss: 1.6469\n",
            "Finetune Epoch 22, Graph 500/13995, Loss: 0.2858\n",
            "Finetune Epoch 22, Graph 1000/13995, Loss: 2.7573\n",
            "Finetune Epoch 22, Graph 1500/13995, Loss: 0.0563\n",
            "Finetune Epoch 22, Graph 2000/13995, Loss: 0.2123\n",
            "Finetune Epoch 22, Graph 2500/13995, Loss: 3.2021\n",
            "Finetune Epoch 22, Graph 3000/13995, Loss: 4.4353\n",
            "Finetune Epoch 22, Graph 3500/13995, Loss: 2.5553\n",
            "Finetune Epoch 22, Graph 4000/13995, Loss: 3.6188\n",
            "Finetune Epoch 22, Graph 4500/13995, Loss: 5.0890\n",
            "Finetune Epoch 22, Graph 5000/13995, Loss: 0.0404\n",
            "Finetune Epoch 22, Graph 5500/13995, Loss: 2.6259\n",
            "Finetune Epoch 22, Graph 6000/13995, Loss: 0.0484\n",
            "Finetune Epoch 22, Graph 6500/13995, Loss: 3.4346\n",
            "Finetune Epoch 22, Graph 7000/13995, Loss: 0.0277\n",
            "Finetune Epoch 22, Graph 7500/13995, Loss: 3.9822\n",
            "Finetune Epoch 22, Graph 8000/13995, Loss: 1.8173\n",
            "Finetune Epoch 22, Graph 8500/13995, Loss: 0.1069\n",
            "Finetune Epoch 22, Graph 9000/13995, Loss: 0.1495\n",
            "Finetune Epoch 22, Graph 9500/13995, Loss: 1.9211\n",
            "Finetune Epoch 22, Graph 10000/13995, Loss: 0.0741\n",
            "Finetune Epoch 22, Graph 10500/13995, Loss: 0.0764\n",
            "Finetune Epoch 22, Graph 11000/13995, Loss: 2.3417\n",
            "Finetune Epoch 22, Graph 11500/13995, Loss: 2.4969\n",
            "Finetune Epoch 22, Graph 12000/13995, Loss: 0.0514\n",
            "Finetune Epoch 22, Graph 12500/13995, Loss: 0.0412\n",
            "Finetune Epoch 22, Graph 13000/13995, Loss: 0.0519\n",
            "Finetune Epoch 22, Graph 13500/13995, Loss: 0.0772\n",
            "Skipped 0 out of 13995 graphs during fine-tuning.\n",
            "Finetune Epoch 22/30, Loss: 1.6456\n",
            "Finetune Epoch 23, Graph 500/13995, Loss: 0.1156\n",
            "Finetune Epoch 23, Graph 1000/13995, Loss: 2.4217\n",
            "Finetune Epoch 23, Graph 1500/13995, Loss: 0.0648\n",
            "Finetune Epoch 23, Graph 2000/13995, Loss: 0.5508\n",
            "Finetune Epoch 23, Graph 2500/13995, Loss: 1.5482\n",
            "Finetune Epoch 23, Graph 3000/13995, Loss: 4.6959\n",
            "Finetune Epoch 23, Graph 3500/13995, Loss: 2.4858\n",
            "Finetune Epoch 23, Graph 4000/13995, Loss: 2.9874\n",
            "Finetune Epoch 23, Graph 4500/13995, Loss: 4.5947\n",
            "Finetune Epoch 23, Graph 5000/13995, Loss: 0.0406\n",
            "Finetune Epoch 23, Graph 5500/13995, Loss: 2.6291\n",
            "Finetune Epoch 23, Graph 6000/13995, Loss: 0.0791\n",
            "Finetune Epoch 23, Graph 6500/13995, Loss: 0.8691\n",
            "Finetune Epoch 23, Graph 7000/13995, Loss: 0.0492\n",
            "Finetune Epoch 23, Graph 7500/13995, Loss: 3.9317\n",
            "Finetune Epoch 23, Graph 8000/13995, Loss: 1.8975\n",
            "Finetune Epoch 23, Graph 8500/13995, Loss: 0.0556\n",
            "Finetune Epoch 23, Graph 9000/13995, Loss: 0.2595\n",
            "Finetune Epoch 23, Graph 9500/13995, Loss: 1.9870\n",
            "Finetune Epoch 23, Graph 10000/13995, Loss: 0.0569\n",
            "Finetune Epoch 23, Graph 10500/13995, Loss: 0.0397\n",
            "Finetune Epoch 23, Graph 11000/13995, Loss: 2.2742\n",
            "Finetune Epoch 23, Graph 11500/13995, Loss: 3.1587\n",
            "Finetune Epoch 23, Graph 12000/13995, Loss: 0.0586\n",
            "Finetune Epoch 23, Graph 12500/13995, Loss: 0.0349\n",
            "Finetune Epoch 23, Graph 13000/13995, Loss: 0.0366\n",
            "Finetune Epoch 23, Graph 13500/13995, Loss: 0.0328\n",
            "Skipped 0 out of 13995 graphs during fine-tuning.\n",
            "Finetune Epoch 23/30, Loss: 1.6399\n",
            "Finetune Epoch 24, Graph 500/13995, Loss: 0.3183\n",
            "Finetune Epoch 24, Graph 1000/13995, Loss: 2.5008\n",
            "Finetune Epoch 24, Graph 1500/13995, Loss: 0.0765\n",
            "Finetune Epoch 24, Graph 2000/13995, Loss: 0.2818\n",
            "Finetune Epoch 24, Graph 2500/13995, Loss: 0.5993\n",
            "Finetune Epoch 24, Graph 3000/13995, Loss: 4.4112\n",
            "Finetune Epoch 24, Graph 3500/13995, Loss: 2.5747\n",
            "Finetune Epoch 24, Graph 4000/13995, Loss: 2.5268\n",
            "Finetune Epoch 24, Graph 4500/13995, Loss: 4.7771\n",
            "Finetune Epoch 24, Graph 5000/13995, Loss: 0.0480\n",
            "Finetune Epoch 24, Graph 5500/13995, Loss: 2.5819\n",
            "Finetune Epoch 24, Graph 6000/13995, Loss: 0.0466\n",
            "Finetune Epoch 24, Graph 6500/13995, Loss: 2.1711\n",
            "Finetune Epoch 24, Graph 7000/13995, Loss: 0.0478\n",
            "Finetune Epoch 24, Graph 7500/13995, Loss: 4.2431\n",
            "Finetune Epoch 24, Graph 8000/13995, Loss: 2.0142\n",
            "Finetune Epoch 24, Graph 8500/13995, Loss: 0.0978\n",
            "Finetune Epoch 24, Graph 9000/13995, Loss: 0.1547\n",
            "Finetune Epoch 24, Graph 9500/13995, Loss: 2.1223\n",
            "Finetune Epoch 24, Graph 10000/13995, Loss: 0.0437\n",
            "Finetune Epoch 24, Graph 10500/13995, Loss: 0.0765\n",
            "Finetune Epoch 24, Graph 11000/13995, Loss: 2.5302\n",
            "Finetune Epoch 24, Graph 11500/13995, Loss: 2.3641\n",
            "Finetune Epoch 24, Graph 12000/13995, Loss: 0.1352\n",
            "Finetune Epoch 24, Graph 12500/13995, Loss: 0.0275\n",
            "Finetune Epoch 24, Graph 13000/13995, Loss: 0.0897\n",
            "Finetune Epoch 24, Graph 13500/13995, Loss: 0.0449\n",
            "Skipped 0 out of 13995 graphs during fine-tuning.\n",
            "Finetune Epoch 24/30, Loss: 1.6433\n",
            "Finetune Epoch 25, Graph 500/13995, Loss: 0.1202\n",
            "Finetune Epoch 25, Graph 1000/13995, Loss: 2.4090\n",
            "Finetune Epoch 25, Graph 1500/13995, Loss: 0.0464\n",
            "Finetune Epoch 25, Graph 2000/13995, Loss: 0.4089\n",
            "Finetune Epoch 25, Graph 2500/13995, Loss: 1.1875\n",
            "Finetune Epoch 25, Graph 3000/13995, Loss: 4.4909\n",
            "Finetune Epoch 25, Graph 3500/13995, Loss: 2.5829\n",
            "Finetune Epoch 25, Graph 4000/13995, Loss: 2.9764\n",
            "Finetune Epoch 25, Graph 4500/13995, Loss: 4.7680\n",
            "Finetune Epoch 25, Graph 5000/13995, Loss: 0.0356\n",
            "Finetune Epoch 25, Graph 5500/13995, Loss: 2.8236\n",
            "Finetune Epoch 25, Graph 6000/13995, Loss: 0.0584\n",
            "Finetune Epoch 25, Graph 6500/13995, Loss: 1.1150\n",
            "Finetune Epoch 25, Graph 7000/13995, Loss: 0.0454\n",
            "Finetune Epoch 25, Graph 7500/13995, Loss: 4.2036\n",
            "Finetune Epoch 25, Graph 8000/13995, Loss: 2.1734\n",
            "Finetune Epoch 25, Graph 8500/13995, Loss: 0.1753\n",
            "Finetune Epoch 25, Graph 9000/13995, Loss: 0.3793\n",
            "Finetune Epoch 25, Graph 9500/13995, Loss: 1.5179\n",
            "Finetune Epoch 25, Graph 10000/13995, Loss: 0.0546\n",
            "Finetune Epoch 25, Graph 10500/13995, Loss: 0.0499\n",
            "Finetune Epoch 25, Graph 11000/13995, Loss: 1.8794\n",
            "Finetune Epoch 25, Graph 11500/13995, Loss: 3.3086\n",
            "Finetune Epoch 25, Graph 12000/13995, Loss: 0.0625\n",
            "Finetune Epoch 25, Graph 12500/13995, Loss: 0.0294\n",
            "Finetune Epoch 25, Graph 13000/13995, Loss: 0.0632\n",
            "Finetune Epoch 25, Graph 13500/13995, Loss: 0.0459\n",
            "Skipped 0 out of 13995 graphs during fine-tuning.\n",
            "Finetune Epoch 25/30, Loss: 1.6376\n",
            "Finetune Epoch 26, Graph 500/13995, Loss: 0.1378\n",
            "Finetune Epoch 26, Graph 1000/13995, Loss: 2.5929\n",
            "Finetune Epoch 26, Graph 1500/13995, Loss: 0.0491\n",
            "Finetune Epoch 26, Graph 2000/13995, Loss: 2.0465\n",
            "Finetune Epoch 26, Graph 2500/13995, Loss: 2.0954\n",
            "Finetune Epoch 26, Graph 3000/13995, Loss: 3.3263\n",
            "Finetune Epoch 26, Graph 3500/13995, Loss: 2.4970\n",
            "Finetune Epoch 26, Graph 4000/13995, Loss: 3.0448\n",
            "Finetune Epoch 26, Graph 4500/13995, Loss: 5.1360\n",
            "Finetune Epoch 26, Graph 5000/13995, Loss: 0.0480\n",
            "Finetune Epoch 26, Graph 5500/13995, Loss: 2.8179\n",
            "Finetune Epoch 26, Graph 6000/13995, Loss: 0.0497\n",
            "Finetune Epoch 26, Graph 6500/13995, Loss: 0.7955\n",
            "Finetune Epoch 26, Graph 7000/13995, Loss: 0.0566\n",
            "Finetune Epoch 26, Graph 7500/13995, Loss: 4.4980\n",
            "Finetune Epoch 26, Graph 8000/13995, Loss: 2.1216\n",
            "Finetune Epoch 26, Graph 8500/13995, Loss: 0.0677\n",
            "Finetune Epoch 26, Graph 9000/13995, Loss: 0.3948\n",
            "Finetune Epoch 26, Graph 9500/13995, Loss: 1.4105\n",
            "Finetune Epoch 26, Graph 10000/13995, Loss: 0.0407\n",
            "Finetune Epoch 26, Graph 10500/13995, Loss: 0.0442\n",
            "Finetune Epoch 26, Graph 11000/13995, Loss: 2.0687\n",
            "Finetune Epoch 26, Graph 11500/13995, Loss: 3.2931\n",
            "Finetune Epoch 26, Graph 12000/13995, Loss: 0.0916\n",
            "Finetune Epoch 26, Graph 12500/13995, Loss: 0.0325\n",
            "Finetune Epoch 26, Graph 13000/13995, Loss: 0.0587\n",
            "Finetune Epoch 26, Graph 13500/13995, Loss: 0.0787\n",
            "Skipped 0 out of 13995 graphs during fine-tuning.\n",
            "Finetune Epoch 26/30, Loss: 1.6331\n",
            "Finetune Epoch 27, Graph 500/13995, Loss: 0.0660\n",
            "Finetune Epoch 27, Graph 1000/13995, Loss: 2.5852\n",
            "Finetune Epoch 27, Graph 1500/13995, Loss: 0.0584\n",
            "Finetune Epoch 27, Graph 2000/13995, Loss: 0.4939\n",
            "Finetune Epoch 27, Graph 2500/13995, Loss: 0.7040\n",
            "Finetune Epoch 27, Graph 3000/13995, Loss: 4.2340\n",
            "Finetune Epoch 27, Graph 3500/13995, Loss: 2.4620\n",
            "Finetune Epoch 27, Graph 4000/13995, Loss: 2.0754\n",
            "Finetune Epoch 27, Graph 4500/13995, Loss: 4.2585\n",
            "Finetune Epoch 27, Graph 5000/13995, Loss: 0.0608\n",
            "Finetune Epoch 27, Graph 5500/13995, Loss: 2.6762\n",
            "Finetune Epoch 27, Graph 6000/13995, Loss: 0.0756\n",
            "Finetune Epoch 27, Graph 6500/13995, Loss: 0.3242\n",
            "Finetune Epoch 27, Graph 7000/13995, Loss: 0.1489\n",
            "Finetune Epoch 27, Graph 7500/13995, Loss: 3.9058\n",
            "Finetune Epoch 27, Graph 8000/13995, Loss: 1.9431\n",
            "Finetune Epoch 27, Graph 8500/13995, Loss: 0.0485\n",
            "Finetune Epoch 27, Graph 9000/13995, Loss: 0.1984\n",
            "Finetune Epoch 27, Graph 9500/13995, Loss: 1.6257\n",
            "Finetune Epoch 27, Graph 10000/13995, Loss: 0.0345\n",
            "Finetune Epoch 27, Graph 10500/13995, Loss: 0.0437\n",
            "Finetune Epoch 27, Graph 11000/13995, Loss: 2.2345\n",
            "Finetune Epoch 27, Graph 11500/13995, Loss: 2.9396\n",
            "Finetune Epoch 27, Graph 12000/13995, Loss: 0.0592\n",
            "Finetune Epoch 27, Graph 12500/13995, Loss: 0.0500\n",
            "Finetune Epoch 27, Graph 13000/13995, Loss: 0.1046\n",
            "Finetune Epoch 27, Graph 13500/13995, Loss: 0.0954\n",
            "Skipped 0 out of 13995 graphs during fine-tuning.\n",
            "Finetune Epoch 27/30, Loss: 1.6321\n",
            "Finetune Epoch 28, Graph 500/13995, Loss: 0.0429\n",
            "Finetune Epoch 28, Graph 1000/13995, Loss: 2.7088\n",
            "Finetune Epoch 28, Graph 1500/13995, Loss: 0.0392\n",
            "Finetune Epoch 28, Graph 2000/13995, Loss: 0.2587\n",
            "Finetune Epoch 28, Graph 2500/13995, Loss: 0.9673\n",
            "Finetune Epoch 28, Graph 3000/13995, Loss: 4.4983\n",
            "Finetune Epoch 28, Graph 3500/13995, Loss: 2.9915\n",
            "Finetune Epoch 28, Graph 4000/13995, Loss: 3.3628\n",
            "Finetune Epoch 28, Graph 4500/13995, Loss: 4.3569\n",
            "Finetune Epoch 28, Graph 5000/13995, Loss: 0.0495\n",
            "Finetune Epoch 28, Graph 5500/13995, Loss: 2.4812\n",
            "Finetune Epoch 28, Graph 6000/13995, Loss: 0.1439\n",
            "Finetune Epoch 28, Graph 6500/13995, Loss: 0.9750\n",
            "Finetune Epoch 28, Graph 7000/13995, Loss: 0.0369\n",
            "Finetune Epoch 28, Graph 7500/13995, Loss: 4.4893\n",
            "Finetune Epoch 28, Graph 8000/13995, Loss: 1.9372\n",
            "Finetune Epoch 28, Graph 8500/13995, Loss: 0.0868\n",
            "Finetune Epoch 28, Graph 9000/13995, Loss: 0.2424\n",
            "Finetune Epoch 28, Graph 9500/13995, Loss: 1.5135\n",
            "Finetune Epoch 28, Graph 10000/13995, Loss: 0.0378\n",
            "Finetune Epoch 28, Graph 10500/13995, Loss: 0.0611\n",
            "Finetune Epoch 28, Graph 11000/13995, Loss: 1.9660\n",
            "Finetune Epoch 28, Graph 11500/13995, Loss: 1.8348\n",
            "Finetune Epoch 28, Graph 12000/13995, Loss: 0.0390\n",
            "Finetune Epoch 28, Graph 12500/13995, Loss: 0.0380\n",
            "Finetune Epoch 28, Graph 13000/13995, Loss: 0.0365\n",
            "Finetune Epoch 28, Graph 13500/13995, Loss: 0.0604\n",
            "Skipped 0 out of 13995 graphs during fine-tuning.\n",
            "Finetune Epoch 28/30, Loss: 1.6341\n",
            "Finetune Epoch 29, Graph 500/13995, Loss: 0.4514\n",
            "Finetune Epoch 29, Graph 1000/13995, Loss: 2.4817\n",
            "Finetune Epoch 29, Graph 1500/13995, Loss: 0.0355\n",
            "Finetune Epoch 29, Graph 2000/13995, Loss: 3.1319\n",
            "Finetune Epoch 29, Graph 2500/13995, Loss: 1.1648\n",
            "Finetune Epoch 29, Graph 3000/13995, Loss: 4.7233\n",
            "Finetune Epoch 29, Graph 3500/13995, Loss: 2.5957\n",
            "Finetune Epoch 29, Graph 4000/13995, Loss: 2.5097\n",
            "Finetune Epoch 29, Graph 4500/13995, Loss: 4.6959\n",
            "Finetune Epoch 29, Graph 5000/13995, Loss: 0.0443\n",
            "Finetune Epoch 29, Graph 5500/13995, Loss: 2.7543\n",
            "Finetune Epoch 29, Graph 6000/13995, Loss: 0.0451\n",
            "Finetune Epoch 29, Graph 6500/13995, Loss: 0.2793\n",
            "Finetune Epoch 29, Graph 7000/13995, Loss: 0.0448\n",
            "Finetune Epoch 29, Graph 7500/13995, Loss: 4.0697\n",
            "Finetune Epoch 29, Graph 8000/13995, Loss: 2.0248\n",
            "Finetune Epoch 29, Graph 8500/13995, Loss: 0.1149\n",
            "Finetune Epoch 29, Graph 9000/13995, Loss: 0.4190\n",
            "Finetune Epoch 29, Graph 9500/13995, Loss: 1.5991\n",
            "Finetune Epoch 29, Graph 10000/13995, Loss: 0.0306\n",
            "Finetune Epoch 29, Graph 10500/13995, Loss: 0.0615\n",
            "Finetune Epoch 29, Graph 11000/13995, Loss: 2.0539\n",
            "Finetune Epoch 29, Graph 11500/13995, Loss: 2.7588\n",
            "Finetune Epoch 29, Graph 12000/13995, Loss: 0.0558\n",
            "Finetune Epoch 29, Graph 12500/13995, Loss: 0.0349\n",
            "Finetune Epoch 29, Graph 13000/13995, Loss: 0.0566\n",
            "Finetune Epoch 29, Graph 13500/13995, Loss: 0.0722\n",
            "Skipped 0 out of 13995 graphs during fine-tuning.\n",
            "Finetune Epoch 29/30, Loss: 1.6352\n",
            "Finetune Epoch 30, Graph 500/13995, Loss: 0.2737\n",
            "Finetune Epoch 30, Graph 1000/13995, Loss: 2.2586\n",
            "Finetune Epoch 30, Graph 1500/13995, Loss: 0.0407\n",
            "Finetune Epoch 30, Graph 2000/13995, Loss: 1.4876\n",
            "Finetune Epoch 30, Graph 2500/13995, Loss: 0.6401\n",
            "Finetune Epoch 30, Graph 3000/13995, Loss: 3.9444\n",
            "Finetune Epoch 30, Graph 3500/13995, Loss: 2.3789\n",
            "Finetune Epoch 30, Graph 4000/13995, Loss: 1.8787\n",
            "Finetune Epoch 30, Graph 4500/13995, Loss: 4.4643\n",
            "Finetune Epoch 30, Graph 5000/13995, Loss: 0.0597\n",
            "Finetune Epoch 30, Graph 5500/13995, Loss: 2.7236\n",
            "Finetune Epoch 30, Graph 6000/13995, Loss: 0.1260\n",
            "Finetune Epoch 30, Graph 6500/13995, Loss: 1.0217\n",
            "Finetune Epoch 30, Graph 7000/13995, Loss: 0.0278\n",
            "Finetune Epoch 30, Graph 7500/13995, Loss: 3.5885\n",
            "Finetune Epoch 30, Graph 8000/13995, Loss: 1.9130\n",
            "Finetune Epoch 30, Graph 8500/13995, Loss: 0.0876\n",
            "Finetune Epoch 30, Graph 9000/13995, Loss: 0.1596\n",
            "Finetune Epoch 30, Graph 9500/13995, Loss: 1.6064\n",
            "Finetune Epoch 30, Graph 10000/13995, Loss: 0.0394\n",
            "Finetune Epoch 30, Graph 10500/13995, Loss: 0.0373\n",
            "Finetune Epoch 30, Graph 11000/13995, Loss: 2.4745\n",
            "Finetune Epoch 30, Graph 11500/13995, Loss: 2.6928\n",
            "Finetune Epoch 30, Graph 12000/13995, Loss: 0.0319\n",
            "Finetune Epoch 30, Graph 12500/13995, Loss: 0.0277\n",
            "Finetune Epoch 30, Graph 13000/13995, Loss: 0.0485\n",
            "Finetune Epoch 30, Graph 13500/13995, Loss: 0.0436\n",
            "Skipped 0 out of 13995 graphs during fine-tuning.\n",
            "Finetune Epoch 30/30, Loss: 1.6271\n",
            "Fine-tuned model saved as finetuned_gat_32dim_3dim.pth\n",
            "Loaded fine-tuned weights for final training.\n"
          ]
        },
        {
          "metadata": {
            "tags": null
          },
          "name": "stderr",
          "output_type": "stream",
          "text": [
            "/usr/local/lib/python3.11/dist-packages/torch/optim/lr_scheduler.py:62: UserWarning: The verbose parameter is deprecated. Please use get_last_lr() to access the learning rate.\n",
            "  warnings.warn(\n"
          ]
        },
        {
          "output_type": "stream",
          "name": "stdout",
          "text": [
            "Final Train Epoch 1, Graph 500/50382, Loss: 0.3928\n",
            "Final Train Epoch 1, Graph 1000/50382, Loss: 2.3220\n",
            "Final Train Epoch 1, Graph 1500/50382, Loss: 4.4959\n",
            "Final Train Epoch 1, Graph 2000/50382, Loss: 0.6689\n",
            "Final Train Epoch 1, Graph 2500/50382, Loss: 0.8533\n",
            "Final Train Epoch 1, Graph 3000/50382, Loss: 1.5758\n",
            "Final Train Epoch 1, Graph 3500/50382, Loss: 2.3199\n",
            "Final Train Epoch 1, Graph 4000/50382, Loss: 4.1873\n",
            "Final Train Epoch 1, Graph 4500/50382, Loss: 0.0417\n",
            "Final Train Epoch 1, Graph 5000/50382, Loss: 0.0751\n",
            "Final Train Epoch 1, Graph 5500/50382, Loss: 0.0605\n",
            "Final Train Epoch 1, Graph 6000/50382, Loss: 4.2874\n",
            "Final Train Epoch 1, Graph 6500/50382, Loss: 0.0495\n",
            "Final Train Epoch 1, Graph 7000/50382, Loss: 4.4282\n",
            "Final Train Epoch 1, Graph 7500/50382, Loss: 1.9185\n",
            "Final Train Epoch 1, Graph 8000/50382, Loss: 1.0298\n",
            "Final Train Epoch 1, Graph 8500/50382, Loss: 0.0622\n",
            "Final Train Epoch 1, Graph 9000/50382, Loss: 0.0592\n",
            "Final Train Epoch 1, Graph 9500/50382, Loss: 0.5850\n",
            "Final Train Epoch 1, Graph 10000/50382, Loss: 0.0639\n",
            "Final Train Epoch 1, Graph 10500/50382, Loss: 1.9623\n",
            "Final Train Epoch 1, Graph 11000/50382, Loss: 0.4240\n",
            "Final Train Epoch 1, Graph 11500/50382, Loss: 4.3434\n",
            "Final Train Epoch 1, Graph 12000/50382, Loss: 4.3430\n",
            "Final Train Epoch 1, Graph 12500/50382, Loss: 3.6322\n",
            "Final Train Epoch 1, Graph 13000/50382, Loss: 0.0495\n",
            "Final Train Epoch 1, Graph 13500/50382, Loss: 0.8300\n",
            "Final Train Epoch 1, Graph 14000/50382, Loss: 1.1708\n",
            "Final Train Epoch 1, Graph 14500/50382, Loss: 0.0630\n",
            "Final Train Epoch 1, Graph 15000/50382, Loss: 0.8725\n",
            "Final Train Epoch 1, Graph 15500/50382, Loss: 2.4120\n",
            "Final Train Epoch 1, Graph 16000/50382, Loss: 0.0650\n",
            "Final Train Epoch 1, Graph 16500/50382, Loss: 0.2705\n",
            "Final Train Epoch 1, Graph 17000/50382, Loss: 5.0710\n",
            "Final Train Epoch 1, Graph 17500/50382, Loss: 4.2599\n",
            "Final Train Epoch 1, Graph 18000/50382, Loss: 0.3990\n",
            "Final Train Epoch 1, Graph 18500/50382, Loss: 0.1576\n",
            "Final Train Epoch 1, Graph 19000/50382, Loss: 0.0514\n",
            "Final Train Epoch 1, Graph 19500/50382, Loss: 0.0669\n",
            "Final Train Epoch 1, Graph 20000/50382, Loss: 0.1848\n",
            "Final Train Epoch 1, Graph 20500/50382, Loss: 4.0461\n",
            "Final Train Epoch 1, Graph 21000/50382, Loss: 2.3698\n",
            "Final Train Epoch 1, Graph 21500/50382, Loss: 5.0979\n",
            "Final Train Epoch 1, Graph 22000/50382, Loss: 0.1199\n",
            "Final Train Epoch 1, Graph 22500/50382, Loss: 2.4659\n",
            "Final Train Epoch 1, Graph 23000/50382, Loss: 0.0394\n",
            "Final Train Epoch 1, Graph 23500/50382, Loss: 0.0446\n",
            "Final Train Epoch 1, Graph 24000/50382, Loss: 0.3644\n",
            "Final Train Epoch 1, Graph 24500/50382, Loss: 4.1472\n",
            "Final Train Epoch 1, Graph 25000/50382, Loss: 1.2153\n",
            "Final Train Epoch 1, Graph 25500/50382, Loss: 0.0346\n",
            "Final Train Epoch 1, Graph 26000/50382, Loss: 1.6753\n",
            "Final Train Epoch 1, Graph 26500/50382, Loss: 0.0494\n",
            "Final Train Epoch 1, Graph 27000/50382, Loss: 0.0391\n",
            "Final Train Epoch 1, Graph 27500/50382, Loss: 0.0434\n",
            "Final Train Epoch 1, Graph 28000/50382, Loss: 0.0546\n",
            "Final Train Epoch 1, Graph 28500/50382, Loss: 5.0404\n",
            "Final Train Epoch 1, Graph 29000/50382, Loss: 0.0506\n",
            "Final Train Epoch 1, Graph 29500/50382, Loss: 0.0553\n",
            "Final Train Epoch 1, Graph 30000/50382, Loss: 0.0665\n",
            "Final Train Epoch 1, Graph 30500/50382, Loss: 0.1251\n",
            "Final Train Epoch 1, Graph 31000/50382, Loss: 4.5566\n",
            "Final Train Epoch 1, Graph 31500/50382, Loss: 0.0398\n",
            "Final Train Epoch 1, Graph 32000/50382, Loss: 0.0515\n",
            "Final Train Epoch 1, Graph 32500/50382, Loss: 0.0620\n",
            "Final Train Epoch 1, Graph 33000/50382, Loss: 2.5490\n",
            "Final Train Epoch 1, Graph 33500/50382, Loss: 1.6446\n",
            "Final Train Epoch 1, Graph 34000/50382, Loss: 0.0878\n",
            "Final Train Epoch 1, Graph 34500/50382, Loss: 0.0674\n",
            "Final Train Epoch 1, Graph 35000/50382, Loss: 1.3323\n",
            "Final Train Epoch 1, Graph 35500/50382, Loss: 4.2793\n",
            "Final Train Epoch 1, Graph 36000/50382, Loss: 3.8427\n",
            "Final Train Epoch 1, Graph 36500/50382, Loss: 0.0462\n",
            "Final Train Epoch 1, Graph 37000/50382, Loss: 0.0725\n",
            "Final Train Epoch 1, Graph 37500/50382, Loss: 0.0665\n",
            "Final Train Epoch 1, Graph 38000/50382, Loss: 0.0471\n",
            "Final Train Epoch 1, Graph 38500/50382, Loss: 1.9594\n",
            "Final Train Epoch 1, Graph 39000/50382, Loss: 0.0417\n",
            "Final Train Epoch 1, Graph 39500/50382, Loss: 3.9036\n",
            "Final Train Epoch 1, Graph 40000/50382, Loss: 0.0479\n",
            "Final Train Epoch 1, Graph 40500/50382, Loss: 0.0571\n",
            "Final Train Epoch 1, Graph 41000/50382, Loss: 1.0009\n",
            "Final Train Epoch 1, Graph 41500/50382, Loss: 0.2799\n",
            "Final Train Epoch 1, Graph 42000/50382, Loss: 0.0412\n",
            "Final Train Epoch 1, Graph 42500/50382, Loss: 1.2998\n",
            "Final Train Epoch 1, Graph 43000/50382, Loss: 0.8740\n",
            "Final Train Epoch 1, Graph 43500/50382, Loss: 0.5070\n",
            "Final Train Epoch 1, Graph 44000/50382, Loss: 0.0636\n",
            "Final Train Epoch 1, Graph 44500/50382, Loss: 1.4382\n",
            "Final Train Epoch 1, Graph 45000/50382, Loss: 1.5347\n",
            "Final Train Epoch 1, Graph 45500/50382, Loss: 3.4455\n",
            "Final Train Epoch 1, Graph 46000/50382, Loss: 0.0936\n",
            "Final Train Epoch 1, Graph 46500/50382, Loss: 0.0488\n",
            "Final Train Epoch 1, Graph 47000/50382, Loss: 0.0660\n",
            "Final Train Epoch 1, Graph 47500/50382, Loss: 0.0462\n",
            "Final Train Epoch 1, Graph 48000/50382, Loss: 0.0798\n",
            "Final Train Epoch 1, Graph 48500/50382, Loss: 1.3282\n",
            "Final Train Epoch 1, Graph 49000/50382, Loss: 0.0570\n",
            "Final Train Epoch 1, Graph 49500/50382, Loss: 5.3447\n",
            "Final Train Epoch 1, Graph 50000/50382, Loss: 0.1335\n",
            "Skipped 0 out of 50382 graphs during training.\n",
            "Epoch 1/200, Training Loss: 1.6379, Validation Accuracy: 0.4871\n",
            "Best model saved with validation accuracy: 0.4871\n",
            "Final Train Epoch 2, Graph 500/50382, Loss: 0.5078\n",
            "Final Train Epoch 2, Graph 1000/50382, Loss: 2.5498\n",
            "Final Train Epoch 2, Graph 1500/50382, Loss: 3.0420\n",
            "Final Train Epoch 2, Graph 2000/50382, Loss: 0.6006\n",
            "Final Train Epoch 2, Graph 2500/50382, Loss: 0.4667\n",
            "Final Train Epoch 2, Graph 3000/50382, Loss: 1.4104\n",
            "Final Train Epoch 2, Graph 3500/50382, Loss: 2.4588\n",
            "Final Train Epoch 2, Graph 4000/50382, Loss: 2.0160\n",
            "Final Train Epoch 2, Graph 4500/50382, Loss: 0.0593\n",
            "Final Train Epoch 2, Graph 5000/50382, Loss: 0.0480\n",
            "Final Train Epoch 2, Graph 5500/50382, Loss: 0.0372\n",
            "Final Train Epoch 2, Graph 6000/50382, Loss: 1.9403\n",
            "Final Train Epoch 2, Graph 6500/50382, Loss: 0.0554\n",
            "Final Train Epoch 2, Graph 7000/50382, Loss: 2.3494\n",
            "Final Train Epoch 2, Graph 7500/50382, Loss: 1.8967\n",
            "Final Train Epoch 2, Graph 8000/50382, Loss: 1.1660\n",
            "Final Train Epoch 2, Graph 8500/50382, Loss: 0.0618\n",
            "Final Train Epoch 2, Graph 9000/50382, Loss: 0.0574\n",
            "Final Train Epoch 2, Graph 9500/50382, Loss: 0.5198\n",
            "Final Train Epoch 2, Graph 10000/50382, Loss: 0.0741\n",
            "Final Train Epoch 2, Graph 10500/50382, Loss: 1.6479\n",
            "Final Train Epoch 2, Graph 11000/50382, Loss: 0.0755\n",
            "Final Train Epoch 2, Graph 11500/50382, Loss: 3.9681\n",
            "Final Train Epoch 2, Graph 12000/50382, Loss: 3.6297\n",
            "Final Train Epoch 2, Graph 12500/50382, Loss: 4.5692\n",
            "Final Train Epoch 2, Graph 13000/50382, Loss: 0.0599\n",
            "Final Train Epoch 2, Graph 13500/50382, Loss: 1.8749\n",
            "Final Train Epoch 2, Graph 14000/50382, Loss: 3.0506\n",
            "Final Train Epoch 2, Graph 14500/50382, Loss: 0.0458\n",
            "Final Train Epoch 2, Graph 15000/50382, Loss: 2.2926\n",
            "Final Train Epoch 2, Graph 15500/50382, Loss: 3.9980\n",
            "Final Train Epoch 2, Graph 16000/50382, Loss: 0.0932\n",
            "Final Train Epoch 2, Graph 16500/50382, Loss: 0.4537\n",
            "Final Train Epoch 2, Graph 17000/50382, Loss: 3.1991\n",
            "Final Train Epoch 2, Graph 17500/50382, Loss: 3.8659\n",
            "Final Train Epoch 2, Graph 18000/50382, Loss: 0.7046\n",
            "Final Train Epoch 2, Graph 18500/50382, Loss: 0.1376\n",
            "Final Train Epoch 2, Graph 19000/50382, Loss: 0.0707\n",
            "Final Train Epoch 2, Graph 19500/50382, Loss: 0.0395\n",
            "Final Train Epoch 2, Graph 20000/50382, Loss: 0.0481\n",
            "Final Train Epoch 2, Graph 20500/50382, Loss: 4.5012\n",
            "Final Train Epoch 2, Graph 21000/50382, Loss: 1.7749\n",
            "Final Train Epoch 2, Graph 21500/50382, Loss: 4.5645\n",
            "Final Train Epoch 2, Graph 22000/50382, Loss: 0.0560\n",
            "Final Train Epoch 2, Graph 22500/50382, Loss: 2.2499\n",
            "Final Train Epoch 2, Graph 23000/50382, Loss: 0.0467\n",
            "Final Train Epoch 2, Graph 23500/50382, Loss: 0.0502\n",
            "Final Train Epoch 2, Graph 24000/50382, Loss: 0.7833\n",
            "Final Train Epoch 2, Graph 24500/50382, Loss: 4.1223\n",
            "Final Train Epoch 2, Graph 25000/50382, Loss: 2.1427\n",
            "Final Train Epoch 2, Graph 25500/50382, Loss: 0.0373\n",
            "Final Train Epoch 2, Graph 26000/50382, Loss: 1.9416\n",
            "Final Train Epoch 2, Graph 26500/50382, Loss: 0.0670\n",
            "Final Train Epoch 2, Graph 27000/50382, Loss: 0.0356\n",
            "Final Train Epoch 2, Graph 27500/50382, Loss: 0.0673\n",
            "Final Train Epoch 2, Graph 28000/50382, Loss: 0.0468\n",
            "Final Train Epoch 2, Graph 28500/50382, Loss: 4.1905\n",
            "Final Train Epoch 2, Graph 29000/50382, Loss: 0.0493\n",
            "Final Train Epoch 2, Graph 29500/50382, Loss: 0.0553\n",
            "Final Train Epoch 2, Graph 30000/50382, Loss: 0.0528\n",
            "Final Train Epoch 2, Graph 30500/50382, Loss: 0.1590\n",
            "Final Train Epoch 2, Graph 31000/50382, Loss: 3.9813\n",
            "Final Train Epoch 2, Graph 31500/50382, Loss: 0.0436\n",
            "Final Train Epoch 2, Graph 32000/50382, Loss: 0.0425\n",
            "Final Train Epoch 2, Graph 32500/50382, Loss: 0.0595\n",
            "Final Train Epoch 2, Graph 33000/50382, Loss: 1.6371\n",
            "Final Train Epoch 2, Graph 33500/50382, Loss: 1.4293\n",
            "Final Train Epoch 2, Graph 34000/50382, Loss: 0.1500\n",
            "Final Train Epoch 2, Graph 34500/50382, Loss: 0.0485\n",
            "Final Train Epoch 2, Graph 35000/50382, Loss: 2.1760\n",
            "Final Train Epoch 2, Graph 35500/50382, Loss: 4.9772\n",
            "Final Train Epoch 2, Graph 36000/50382, Loss: 4.1833\n",
            "Final Train Epoch 2, Graph 36500/50382, Loss: 0.0525\n",
            "Final Train Epoch 2, Graph 37000/50382, Loss: 0.0703\n",
            "Final Train Epoch 2, Graph 37500/50382, Loss: 0.0544\n",
            "Final Train Epoch 2, Graph 38000/50382, Loss: 0.0800\n",
            "Final Train Epoch 2, Graph 38500/50382, Loss: 1.5296\n",
            "Final Train Epoch 2, Graph 39000/50382, Loss: 0.0416\n",
            "Final Train Epoch 2, Graph 39500/50382, Loss: 4.0386\n",
            "Final Train Epoch 2, Graph 40000/50382, Loss: 0.0425\n",
            "Final Train Epoch 2, Graph 40500/50382, Loss: 0.0742\n",
            "Final Train Epoch 2, Graph 41000/50382, Loss: 1.6633\n",
            "Final Train Epoch 2, Graph 41500/50382, Loss: 0.4796\n",
            "Final Train Epoch 2, Graph 42000/50382, Loss: 0.0522\n",
            "Final Train Epoch 2, Graph 42500/50382, Loss: 1.7611\n",
            "Final Train Epoch 2, Graph 43000/50382, Loss: 1.1613\n",
            "Final Train Epoch 2, Graph 43500/50382, Loss: 0.1155\n",
            "Final Train Epoch 2, Graph 44000/50382, Loss: 0.0606\n",
            "Final Train Epoch 2, Graph 44500/50382, Loss: 1.6970\n",
            "Final Train Epoch 2, Graph 45000/50382, Loss: 1.6689\n",
            "Final Train Epoch 2, Graph 45500/50382, Loss: 4.3496\n",
            "Final Train Epoch 2, Graph 46000/50382, Loss: 0.1115\n",
            "Final Train Epoch 2, Graph 46500/50382, Loss: 0.0592\n",
            "Final Train Epoch 2, Graph 47000/50382, Loss: 0.0560\n",
            "Final Train Epoch 2, Graph 47500/50382, Loss: 0.0500\n",
            "Final Train Epoch 2, Graph 48000/50382, Loss: 0.0636\n",
            "Final Train Epoch 2, Graph 48500/50382, Loss: 0.7551\n",
            "Final Train Epoch 2, Graph 49000/50382, Loss: 0.0640\n",
            "Final Train Epoch 2, Graph 49500/50382, Loss: 5.6683\n",
            "Final Train Epoch 2, Graph 50000/50382, Loss: 0.2097\n",
            "Skipped 0 out of 50382 graphs during training.\n",
            "Epoch 2/200, Training Loss: 1.6314, Validation Accuracy: 0.4921\n",
            "Best model saved with validation accuracy: 0.4921\n",
            "Final Train Epoch 3, Graph 500/50382, Loss: 0.3146\n",
            "Final Train Epoch 3, Graph 1000/50382, Loss: 0.9726\n",
            "Final Train Epoch 3, Graph 1500/50382, Loss: 2.5851\n",
            "Final Train Epoch 3, Graph 2000/50382, Loss: 0.6366\n",
            "Final Train Epoch 3, Graph 2500/50382, Loss: 0.9476\n",
            "Final Train Epoch 3, Graph 3000/50382, Loss: 1.1701\n",
            "Final Train Epoch 3, Graph 3500/50382, Loss: 2.5784\n",
            "Final Train Epoch 3, Graph 4000/50382, Loss: 3.2461\n",
            "Final Train Epoch 3, Graph 4500/50382, Loss: 0.0982\n",
            "Final Train Epoch 3, Graph 5000/50382, Loss: 0.0469\n",
            "Final Train Epoch 3, Graph 5500/50382, Loss: 0.0768\n",
            "Final Train Epoch 3, Graph 6000/50382, Loss: 4.5562\n",
            "Final Train Epoch 3, Graph 6500/50382, Loss: 0.0457\n",
            "Final Train Epoch 3, Graph 7000/50382, Loss: 2.7758\n",
            "Final Train Epoch 3, Graph 7500/50382, Loss: 1.8473\n",
            "Final Train Epoch 3, Graph 8000/50382, Loss: 1.8186\n",
            "Final Train Epoch 3, Graph 8500/50382, Loss: 0.0961\n",
            "Final Train Epoch 3, Graph 9000/50382, Loss: 0.0418\n",
            "Final Train Epoch 3, Graph 9500/50382, Loss: 0.3754\n",
            "Final Train Epoch 3, Graph 10000/50382, Loss: 0.1343\n",
            "Final Train Epoch 3, Graph 10500/50382, Loss: 1.0441\n",
            "Final Train Epoch 3, Graph 11000/50382, Loss: 0.1181\n",
            "Final Train Epoch 3, Graph 11500/50382, Loss: 4.3224\n",
            "Final Train Epoch 3, Graph 12000/50382, Loss: 3.9036\n",
            "Final Train Epoch 3, Graph 12500/50382, Loss: 4.7270\n",
            "Final Train Epoch 3, Graph 13000/50382, Loss: 0.0519\n",
            "Final Train Epoch 3, Graph 13500/50382, Loss: 1.4244\n",
            "Final Train Epoch 3, Graph 14000/50382, Loss: 1.8879\n",
            "Final Train Epoch 3, Graph 14500/50382, Loss: 0.0552\n",
            "Final Train Epoch 3, Graph 15000/50382, Loss: 0.9248\n",
            "Final Train Epoch 3, Graph 15500/50382, Loss: 4.7677\n",
            "Final Train Epoch 3, Graph 16000/50382, Loss: 0.0756\n",
            "Final Train Epoch 3, Graph 16500/50382, Loss: 0.1924\n",
            "Final Train Epoch 3, Graph 17000/50382, Loss: 4.4837\n",
            "Final Train Epoch 3, Graph 17500/50382, Loss: 3.8697\n",
            "Final Train Epoch 3, Graph 18000/50382, Loss: 0.6234\n",
            "Final Train Epoch 3, Graph 18500/50382, Loss: 0.1876\n",
            "Final Train Epoch 3, Graph 19000/50382, Loss: 0.0655\n",
            "Final Train Epoch 3, Graph 19500/50382, Loss: 0.0906\n",
            "Final Train Epoch 3, Graph 20000/50382, Loss: 0.0516\n",
            "Final Train Epoch 3, Graph 20500/50382, Loss: 4.2408\n",
            "Final Train Epoch 3, Graph 21000/50382, Loss: 1.9760\n",
            "Final Train Epoch 3, Graph 21500/50382, Loss: 3.9850\n",
            "Final Train Epoch 3, Graph 22000/50382, Loss: 0.0917\n",
            "Final Train Epoch 3, Graph 22500/50382, Loss: 2.2316\n",
            "Final Train Epoch 3, Graph 23000/50382, Loss: 0.0392\n",
            "Final Train Epoch 3, Graph 23500/50382, Loss: 0.0629\n",
            "Final Train Epoch 3, Graph 24000/50382, Loss: 0.2821\n",
            "Final Train Epoch 3, Graph 24500/50382, Loss: 4.2514\n",
            "Final Train Epoch 3, Graph 25000/50382, Loss: 1.0854\n",
            "Final Train Epoch 3, Graph 25500/50382, Loss: 0.1194\n",
            "Final Train Epoch 3, Graph 26000/50382, Loss: 2.1998\n",
            "Final Train Epoch 3, Graph 26500/50382, Loss: 0.0853\n",
            "Final Train Epoch 3, Graph 27000/50382, Loss: 0.0415\n",
            "Final Train Epoch 3, Graph 27500/50382, Loss: 0.0613\n",
            "Final Train Epoch 3, Graph 28000/50382, Loss: 0.0507\n",
            "Final Train Epoch 3, Graph 28500/50382, Loss: 4.4972\n",
            "Final Train Epoch 3, Graph 29000/50382, Loss: 0.0582\n",
            "Final Train Epoch 3, Graph 29500/50382, Loss: 0.0550\n",
            "Final Train Epoch 3, Graph 30000/50382, Loss: 0.0519\n",
            "Final Train Epoch 3, Graph 30500/50382, Loss: 0.0620\n",
            "Final Train Epoch 3, Graph 31000/50382, Loss: 4.6404\n",
            "Final Train Epoch 3, Graph 31500/50382, Loss: 0.0473\n",
            "Final Train Epoch 3, Graph 32000/50382, Loss: 0.0670\n",
            "Final Train Epoch 3, Graph 32500/50382, Loss: 0.0454\n",
            "Final Train Epoch 3, Graph 33000/50382, Loss: 2.9499\n",
            "Final Train Epoch 3, Graph 33500/50382, Loss: 1.6283\n",
            "Final Train Epoch 3, Graph 34000/50382, Loss: 0.1864\n",
            "Final Train Epoch 3, Graph 34500/50382, Loss: 0.0482\n",
            "Final Train Epoch 3, Graph 35000/50382, Loss: 2.7644\n",
            "Final Train Epoch 3, Graph 35500/50382, Loss: 5.1448\n",
            "Final Train Epoch 3, Graph 36000/50382, Loss: 4.1742\n",
            "Final Train Epoch 3, Graph 36500/50382, Loss: 0.0415\n",
            "Final Train Epoch 3, Graph 37000/50382, Loss: 0.0503\n",
            "Final Train Epoch 3, Graph 37500/50382, Loss: 0.0566\n",
            "Final Train Epoch 3, Graph 38000/50382, Loss: 0.0451\n",
            "Final Train Epoch 3, Graph 38500/50382, Loss: 2.0757\n",
            "Final Train Epoch 3, Graph 39000/50382, Loss: 0.0442\n",
            "Final Train Epoch 3, Graph 39500/50382, Loss: 4.6266\n",
            "Final Train Epoch 3, Graph 40000/50382, Loss: 0.0899\n",
            "Final Train Epoch 3, Graph 40500/50382, Loss: 0.0635\n",
            "Final Train Epoch 3, Graph 41000/50382, Loss: 2.0747\n",
            "Final Train Epoch 3, Graph 41500/50382, Loss: 0.2680\n",
            "Final Train Epoch 3, Graph 42000/50382, Loss: 0.0540\n",
            "Final Train Epoch 3, Graph 42500/50382, Loss: 1.4892\n",
            "Final Train Epoch 3, Graph 43000/50382, Loss: 2.6318\n",
            "Final Train Epoch 3, Graph 43500/50382, Loss: 0.0638\n",
            "Final Train Epoch 3, Graph 44000/50382, Loss: 0.0613\n",
            "Final Train Epoch 3, Graph 44500/50382, Loss: 1.7337\n",
            "Final Train Epoch 3, Graph 45000/50382, Loss: 2.0634\n",
            "Final Train Epoch 3, Graph 45500/50382, Loss: 2.6989\n",
            "Final Train Epoch 3, Graph 46000/50382, Loss: 0.2143\n",
            "Final Train Epoch 3, Graph 46500/50382, Loss: 0.0930\n",
            "Final Train Epoch 3, Graph 47000/50382, Loss: 0.0531\n",
            "Final Train Epoch 3, Graph 47500/50382, Loss: 0.0622\n",
            "Final Train Epoch 3, Graph 48000/50382, Loss: 0.0463\n",
            "Final Train Epoch 3, Graph 48500/50382, Loss: 1.1323\n",
            "Final Train Epoch 3, Graph 49000/50382, Loss: 0.0501\n",
            "Final Train Epoch 3, Graph 49500/50382, Loss: 5.7654\n",
            "Final Train Epoch 3, Graph 50000/50382, Loss: 0.0611\n",
            "Skipped 0 out of 50382 graphs during training.\n",
            "Epoch 3/200, Training Loss: 1.6294, Validation Accuracy: 0.4790\n",
            "Final Train Epoch 4, Graph 500/50382, Loss: 0.8240\n",
            "Final Train Epoch 4, Graph 1000/50382, Loss: 1.0195\n",
            "Final Train Epoch 4, Graph 1500/50382, Loss: 3.8662\n",
            "Final Train Epoch 4, Graph 2000/50382, Loss: 1.0616\n",
            "Final Train Epoch 4, Graph 2500/50382, Loss: 0.7993\n",
            "Final Train Epoch 4, Graph 3000/50382, Loss: 1.2919\n",
            "Final Train Epoch 4, Graph 3500/50382, Loss: 2.6397\n",
            "Final Train Epoch 4, Graph 4000/50382, Loss: 3.8153\n",
            "Final Train Epoch 4, Graph 4500/50382, Loss: 0.2453\n",
            "Final Train Epoch 4, Graph 5000/50382, Loss: 0.0481\n",
            "Final Train Epoch 4, Graph 5500/50382, Loss: 0.0432\n",
            "Final Train Epoch 4, Graph 6000/50382, Loss: 2.8564\n",
            "Final Train Epoch 4, Graph 6500/50382, Loss: 0.0488\n",
            "Final Train Epoch 4, Graph 7000/50382, Loss: 3.5006\n",
            "Final Train Epoch 4, Graph 7500/50382, Loss: 2.0683\n",
            "Final Train Epoch 4, Graph 8000/50382, Loss: 0.6865\n",
            "Final Train Epoch 4, Graph 8500/50382, Loss: 0.0466\n",
            "Final Train Epoch 4, Graph 9000/50382, Loss: 0.0504\n",
            "Final Train Epoch 4, Graph 9500/50382, Loss: 0.0586\n",
            "Final Train Epoch 4, Graph 10000/50382, Loss: 0.0620\n",
            "Final Train Epoch 4, Graph 10500/50382, Loss: 1.3383\n",
            "Final Train Epoch 4, Graph 11000/50382, Loss: 0.1427\n",
            "Final Train Epoch 4, Graph 11500/50382, Loss: 3.4333\n",
            "Final Train Epoch 4, Graph 12000/50382, Loss: 3.1509\n",
            "Final Train Epoch 4, Graph 12500/50382, Loss: 3.5540\n",
            "Final Train Epoch 4, Graph 13000/50382, Loss: 0.0558\n",
            "Final Train Epoch 4, Graph 13500/50382, Loss: 1.5984\n",
            "Final Train Epoch 4, Graph 14000/50382, Loss: 3.3814\n",
            "Final Train Epoch 4, Graph 14500/50382, Loss: 0.0583\n",
            "Final Train Epoch 4, Graph 15000/50382, Loss: 1.1456\n",
            "Final Train Epoch 4, Graph 15500/50382, Loss: 4.2730\n",
            "Final Train Epoch 4, Graph 16000/50382, Loss: 0.0824\n",
            "Final Train Epoch 4, Graph 16500/50382, Loss: 1.1800\n",
            "Final Train Epoch 4, Graph 17000/50382, Loss: 5.0637\n",
            "Final Train Epoch 4, Graph 17500/50382, Loss: 4.0856\n",
            "Final Train Epoch 4, Graph 18000/50382, Loss: 0.3025\n",
            "Final Train Epoch 4, Graph 18500/50382, Loss: 0.1477\n",
            "Final Train Epoch 4, Graph 19000/50382, Loss: 0.0656\n",
            "Final Train Epoch 4, Graph 19500/50382, Loss: 0.0834\n",
            "Final Train Epoch 4, Graph 20000/50382, Loss: 0.0481\n",
            "Final Train Epoch 4, Graph 20500/50382, Loss: 3.4744\n",
            "Final Train Epoch 4, Graph 21000/50382, Loss: 2.0867\n",
            "Final Train Epoch 4, Graph 21500/50382, Loss: 5.2485\n",
            "Final Train Epoch 4, Graph 22000/50382, Loss: 0.0804\n",
            "Final Train Epoch 4, Graph 22500/50382, Loss: 2.3472\n",
            "Final Train Epoch 4, Graph 23000/50382, Loss: 0.0641\n",
            "Final Train Epoch 4, Graph 23500/50382, Loss: 0.0413\n",
            "Final Train Epoch 4, Graph 24000/50382, Loss: 0.3217\n",
            "Final Train Epoch 4, Graph 24500/50382, Loss: 4.1655\n",
            "Final Train Epoch 4, Graph 25000/50382, Loss: 0.7703\n",
            "Final Train Epoch 4, Graph 25500/50382, Loss: 0.0623\n",
            "Final Train Epoch 4, Graph 26000/50382, Loss: 1.3675\n",
            "Final Train Epoch 4, Graph 26500/50382, Loss: 0.0382\n",
            "Final Train Epoch 4, Graph 27000/50382, Loss: 0.0693\n",
            "Final Train Epoch 4, Graph 27500/50382, Loss: 0.0494\n",
            "Final Train Epoch 4, Graph 28000/50382, Loss: 0.0381\n",
            "Final Train Epoch 4, Graph 28500/50382, Loss: 4.7605\n",
            "Final Train Epoch 4, Graph 29000/50382, Loss: 0.0456\n",
            "Final Train Epoch 4, Graph 29500/50382, Loss: 0.0641\n",
            "Final Train Epoch 4, Graph 30000/50382, Loss: 0.0506\n",
            "Final Train Epoch 4, Graph 30500/50382, Loss: 0.1201\n",
            "Final Train Epoch 4, Graph 31000/50382, Loss: 4.5083\n",
            "Final Train Epoch 4, Graph 31500/50382, Loss: 0.0436\n",
            "Final Train Epoch 4, Graph 32000/50382, Loss: 0.0441\n",
            "Final Train Epoch 4, Graph 32500/50382, Loss: 0.0393\n",
            "Final Train Epoch 4, Graph 33000/50382, Loss: 1.4343\n",
            "Final Train Epoch 4, Graph 33500/50382, Loss: 1.3094\n",
            "Final Train Epoch 4, Graph 34000/50382, Loss: 0.1058\n",
            "Final Train Epoch 4, Graph 34500/50382, Loss: 0.0510\n",
            "Final Train Epoch 4, Graph 35000/50382, Loss: 1.8616\n",
            "Final Train Epoch 4, Graph 35500/50382, Loss: 5.0305\n",
            "Final Train Epoch 4, Graph 36000/50382, Loss: 3.9981\n",
            "Final Train Epoch 4, Graph 36500/50382, Loss: 0.0414\n",
            "Final Train Epoch 4, Graph 37000/50382, Loss: 0.0828\n",
            "Final Train Epoch 4, Graph 37500/50382, Loss: 0.0435\n",
            "Final Train Epoch 4, Graph 38000/50382, Loss: 0.0476\n",
            "Final Train Epoch 4, Graph 38500/50382, Loss: 2.7354\n",
            "Final Train Epoch 4, Graph 39000/50382, Loss: 0.0435\n",
            "Final Train Epoch 4, Graph 39500/50382, Loss: 4.2519\n",
            "Final Train Epoch 4, Graph 40000/50382, Loss: 0.0521\n",
            "Final Train Epoch 4, Graph 40500/50382, Loss: 0.0570\n",
            "Final Train Epoch 4, Graph 41000/50382, Loss: 1.8789\n",
            "Final Train Epoch 4, Graph 41500/50382, Loss: 0.3980\n",
            "Final Train Epoch 4, Graph 42000/50382, Loss: 0.0415\n",
            "Final Train Epoch 4, Graph 42500/50382, Loss: 1.3946\n",
            "Final Train Epoch 4, Graph 43000/50382, Loss: 1.0084\n",
            "Final Train Epoch 4, Graph 43500/50382, Loss: 0.1419\n",
            "Final Train Epoch 4, Graph 44000/50382, Loss: 0.0771\n",
            "Final Train Epoch 4, Graph 44500/50382, Loss: 1.8289\n",
            "Final Train Epoch 4, Graph 45000/50382, Loss: 1.0405\n",
            "Final Train Epoch 4, Graph 45500/50382, Loss: 4.1754\n",
            "Final Train Epoch 4, Graph 46000/50382, Loss: 0.4068\n",
            "Final Train Epoch 4, Graph 46500/50382, Loss: 0.0526\n",
            "Final Train Epoch 4, Graph 47000/50382, Loss: 0.0555\n",
            "Final Train Epoch 4, Graph 47500/50382, Loss: 0.0492\n",
            "Final Train Epoch 4, Graph 48000/50382, Loss: 0.0477\n",
            "Final Train Epoch 4, Graph 48500/50382, Loss: 0.7839\n",
            "Final Train Epoch 4, Graph 49000/50382, Loss: 0.0556\n",
            "Final Train Epoch 4, Graph 49500/50382, Loss: 4.9055\n",
            "Final Train Epoch 4, Graph 50000/50382, Loss: 0.0595\n",
            "Skipped 0 out of 50382 graphs during training.\n",
            "Epoch 4/200, Training Loss: 1.6306, Validation Accuracy: 0.4713\n",
            "Final Train Epoch 5, Graph 500/50382, Loss: 0.5790\n",
            "Final Train Epoch 5, Graph 1000/50382, Loss: 2.0910\n",
            "Final Train Epoch 5, Graph 1500/50382, Loss: 4.6602\n",
            "Final Train Epoch 5, Graph 2000/50382, Loss: 0.9695\n",
            "Final Train Epoch 5, Graph 2500/50382, Loss: 1.5063\n",
            "Final Train Epoch 5, Graph 3000/50382, Loss: 0.8808\n",
            "Final Train Epoch 5, Graph 3500/50382, Loss: 2.2953\n",
            "Final Train Epoch 5, Graph 4000/50382, Loss: 3.4197\n",
            "Final Train Epoch 5, Graph 4500/50382, Loss: 0.1857\n",
            "Final Train Epoch 5, Graph 5000/50382, Loss: 0.0676\n",
            "Final Train Epoch 5, Graph 5500/50382, Loss: 0.0461\n",
            "Final Train Epoch 5, Graph 6000/50382, Loss: 4.3287\n",
            "Final Train Epoch 5, Graph 6500/50382, Loss: 0.0524\n",
            "Final Train Epoch 5, Graph 7000/50382, Loss: 2.9249\n",
            "Final Train Epoch 5, Graph 7500/50382, Loss: 1.9479\n",
            "Final Train Epoch 5, Graph 8000/50382, Loss: 0.8179\n",
            "Final Train Epoch 5, Graph 8500/50382, Loss: 0.0817\n",
            "Final Train Epoch 5, Graph 9000/50382, Loss: 0.0560\n",
            "Final Train Epoch 5, Graph 9500/50382, Loss: 0.2865\n",
            "Final Train Epoch 5, Graph 10000/50382, Loss: 0.0503\n",
            "Final Train Epoch 5, Graph 10500/50382, Loss: 1.2313\n",
            "Final Train Epoch 5, Graph 11000/50382, Loss: 0.0761\n",
            "Final Train Epoch 5, Graph 11500/50382, Loss: 3.8125\n",
            "Final Train Epoch 5, Graph 12000/50382, Loss: 3.5257\n",
            "Final Train Epoch 5, Graph 12500/50382, Loss: 4.1338\n",
            "Final Train Epoch 5, Graph 13000/50382, Loss: 0.1070\n",
            "Final Train Epoch 5, Graph 13500/50382, Loss: 1.4359\n",
            "Final Train Epoch 5, Graph 14000/50382, Loss: 3.2799\n",
            "Final Train Epoch 5, Graph 14500/50382, Loss: 0.0573\n",
            "Final Train Epoch 5, Graph 15000/50382, Loss: 0.9646\n",
            "Final Train Epoch 5, Graph 15500/50382, Loss: 4.4598\n",
            "Final Train Epoch 5, Graph 16000/50382, Loss: 0.0544\n",
            "Final Train Epoch 5, Graph 16500/50382, Loss: 0.3659\n",
            "Final Train Epoch 5, Graph 17000/50382, Loss: 5.5983\n",
            "Final Train Epoch 5, Graph 17500/50382, Loss: 4.3799\n",
            "Final Train Epoch 5, Graph 18000/50382, Loss: 0.2705\n",
            "Final Train Epoch 5, Graph 18500/50382, Loss: 0.1208\n",
            "Final Train Epoch 5, Graph 19000/50382, Loss: 0.1002\n",
            "Final Train Epoch 5, Graph 19500/50382, Loss: 0.0597\n",
            "Final Train Epoch 5, Graph 20000/50382, Loss: 0.1257\n",
            "Final Train Epoch 5, Graph 20500/50382, Loss: 4.2889\n",
            "Final Train Epoch 5, Graph 21000/50382, Loss: 2.1881\n",
            "Final Train Epoch 5, Graph 21500/50382, Loss: 4.4428\n",
            "Final Train Epoch 5, Graph 22000/50382, Loss: 0.2471\n",
            "Final Train Epoch 5, Graph 22500/50382, Loss: 2.1826\n",
            "Final Train Epoch 5, Graph 23000/50382, Loss: 0.0576\n",
            "Final Train Epoch 5, Graph 23500/50382, Loss: 0.0530\n",
            "Final Train Epoch 5, Graph 24000/50382, Loss: 0.8634\n",
            "Final Train Epoch 5, Graph 24500/50382, Loss: 4.0372\n",
            "Final Train Epoch 5, Graph 25000/50382, Loss: 1.6560\n",
            "Final Train Epoch 5, Graph 25500/50382, Loss: 0.0405\n",
            "Final Train Epoch 5, Graph 26000/50382, Loss: 2.1093\n",
            "Final Train Epoch 5, Graph 26500/50382, Loss: 0.0664\n",
            "Final Train Epoch 5, Graph 27000/50382, Loss: 0.0805\n",
            "Final Train Epoch 5, Graph 27500/50382, Loss: 0.0508\n",
            "Final Train Epoch 5, Graph 28000/50382, Loss: 0.0722\n",
            "Final Train Epoch 5, Graph 28500/50382, Loss: 5.0477\n",
            "Final Train Epoch 5, Graph 29000/50382, Loss: 0.0532\n",
            "Final Train Epoch 5, Graph 29500/50382, Loss: 0.0534\n",
            "Final Train Epoch 5, Graph 30000/50382, Loss: 0.0496\n",
            "Final Train Epoch 5, Graph 30500/50382, Loss: 0.1701\n",
            "Final Train Epoch 5, Graph 31000/50382, Loss: 4.1651\n",
            "Final Train Epoch 5, Graph 31500/50382, Loss: 0.0517\n",
            "Final Train Epoch 5, Graph 32000/50382, Loss: 0.0495\n",
            "Final Train Epoch 5, Graph 32500/50382, Loss: 0.0543\n",
            "Final Train Epoch 5, Graph 33000/50382, Loss: 1.9767\n",
            "Final Train Epoch 5, Graph 33500/50382, Loss: 1.5166\n",
            "Final Train Epoch 5, Graph 34000/50382, Loss: 0.2065\n",
            "Final Train Epoch 5, Graph 34500/50382, Loss: 0.0556\n",
            "Final Train Epoch 5, Graph 35000/50382, Loss: 2.0711\n",
            "Final Train Epoch 5, Graph 35500/50382, Loss: 4.6376\n",
            "Final Train Epoch 5, Graph 36000/50382, Loss: 4.4009\n",
            "Final Train Epoch 5, Graph 36500/50382, Loss: 0.0394\n",
            "Final Train Epoch 5, Graph 37000/50382, Loss: 0.0619\n",
            "Final Train Epoch 5, Graph 37500/50382, Loss: 0.0591\n",
            "Final Train Epoch 5, Graph 38000/50382, Loss: 0.0775\n",
            "Final Train Epoch 5, Graph 38500/50382, Loss: 2.0002\n",
            "Final Train Epoch 5, Graph 39000/50382, Loss: 0.0505\n",
            "Final Train Epoch 5, Graph 39500/50382, Loss: 4.4387\n",
            "Final Train Epoch 5, Graph 40000/50382, Loss: 0.0615\n",
            "Final Train Epoch 5, Graph 40500/50382, Loss: 0.0537\n",
            "Final Train Epoch 5, Graph 41000/50382, Loss: 1.1255\n",
            "Final Train Epoch 5, Graph 41500/50382, Loss: 0.2259\n",
            "Final Train Epoch 5, Graph 42000/50382, Loss: 0.0466\n",
            "Final Train Epoch 5, Graph 42500/50382, Loss: 1.4652\n",
            "Final Train Epoch 5, Graph 43000/50382, Loss: 1.1617\n",
            "Final Train Epoch 5, Graph 43500/50382, Loss: 0.5416\n",
            "Final Train Epoch 5, Graph 44000/50382, Loss: 0.0425\n",
            "Final Train Epoch 5, Graph 44500/50382, Loss: 1.3643\n",
            "Final Train Epoch 5, Graph 45000/50382, Loss: 1.8036\n",
            "Final Train Epoch 5, Graph 45500/50382, Loss: 4.2991\n",
            "Final Train Epoch 5, Graph 46000/50382, Loss: 0.2495\n",
            "Final Train Epoch 5, Graph 46500/50382, Loss: 0.0479\n",
            "Final Train Epoch 5, Graph 47000/50382, Loss: 0.0505\n",
            "Final Train Epoch 5, Graph 47500/50382, Loss: 0.0653\n",
            "Final Train Epoch 5, Graph 48000/50382, Loss: 0.0516\n",
            "Final Train Epoch 5, Graph 48500/50382, Loss: 0.2668\n",
            "Final Train Epoch 5, Graph 49000/50382, Loss: 0.0506\n",
            "Final Train Epoch 5, Graph 49500/50382, Loss: 5.1838\n",
            "Final Train Epoch 5, Graph 50000/50382, Loss: 0.0682\n",
            "Skipped 0 out of 50382 graphs during training.\n",
            "Epoch 5/200, Training Loss: 1.6337, Validation Accuracy: 0.4708\n",
            "Final Train Epoch 6, Graph 500/50382, Loss: 0.1919\n",
            "Final Train Epoch 6, Graph 1000/50382, Loss: 3.3848\n",
            "Final Train Epoch 6, Graph 1500/50382, Loss: 3.3703\n",
            "Final Train Epoch 6, Graph 2000/50382, Loss: 0.8963\n",
            "Final Train Epoch 6, Graph 2500/50382, Loss: 1.0179\n",
            "Final Train Epoch 6, Graph 3000/50382, Loss: 1.0942\n",
            "Final Train Epoch 6, Graph 3500/50382, Loss: 2.2711\n",
            "Final Train Epoch 6, Graph 4000/50382, Loss: 4.0823\n",
            "Final Train Epoch 6, Graph 4500/50382, Loss: 0.1689\n",
            "Final Train Epoch 6, Graph 5000/50382, Loss: 0.0529\n",
            "Final Train Epoch 6, Graph 5500/50382, Loss: 0.0356\n",
            "Final Train Epoch 6, Graph 6000/50382, Loss: 4.0772\n",
            "Final Train Epoch 6, Graph 6500/50382, Loss: 0.0534\n",
            "Final Train Epoch 6, Graph 7000/50382, Loss: 2.7404\n",
            "Final Train Epoch 6, Graph 7500/50382, Loss: 1.9086\n",
            "Final Train Epoch 6, Graph 8000/50382, Loss: 2.3636\n",
            "Final Train Epoch 6, Graph 8500/50382, Loss: 0.0482\n",
            "Final Train Epoch 6, Graph 9000/50382, Loss: 0.0494\n",
            "Final Train Epoch 6, Graph 9500/50382, Loss: 0.4638\n",
            "Final Train Epoch 6, Graph 10000/50382, Loss: 0.0641\n",
            "Final Train Epoch 6, Graph 10500/50382, Loss: 1.6281\n",
            "Final Train Epoch 6, Graph 11000/50382, Loss: 0.1306\n",
            "Final Train Epoch 6, Graph 11500/50382, Loss: 2.9968\n",
            "Final Train Epoch 6, Graph 12000/50382, Loss: 3.3505\n",
            "Final Train Epoch 6, Graph 12500/50382, Loss: 3.7243\n",
            "Final Train Epoch 6, Graph 13000/50382, Loss: 0.0649\n",
            "Final Train Epoch 6, Graph 13500/50382, Loss: 1.6716\n",
            "Final Train Epoch 6, Graph 14000/50382, Loss: 0.3696\n",
            "Final Train Epoch 6, Graph 14500/50382, Loss: 0.0597\n",
            "Final Train Epoch 6, Graph 15000/50382, Loss: 1.5472\n",
            "Final Train Epoch 6, Graph 15500/50382, Loss: 4.4644\n",
            "Final Train Epoch 6, Graph 16000/50382, Loss: 0.0612\n",
            "Final Train Epoch 6, Graph 16500/50382, Loss: 1.1682\n",
            "Final Train Epoch 6, Graph 17000/50382, Loss: 2.9436\n",
            "Final Train Epoch 6, Graph 17500/50382, Loss: 4.2718\n",
            "Final Train Epoch 6, Graph 18000/50382, Loss: 0.4730\n",
            "Final Train Epoch 6, Graph 18500/50382, Loss: 0.1956\n",
            "Final Train Epoch 6, Graph 19000/50382, Loss: 0.0405\n",
            "Final Train Epoch 6, Graph 19500/50382, Loss: 0.0564\n",
            "Final Train Epoch 6, Graph 20000/50382, Loss: 0.0717\n",
            "Final Train Epoch 6, Graph 20500/50382, Loss: 4.3924\n",
            "Final Train Epoch 6, Graph 21000/50382, Loss: 1.6730\n",
            "Final Train Epoch 6, Graph 21500/50382, Loss: 3.7289\n",
            "Final Train Epoch 6, Graph 22000/50382, Loss: 0.1635\n",
            "Final Train Epoch 6, Graph 22500/50382, Loss: 2.2540\n",
            "Final Train Epoch 6, Graph 23000/50382, Loss: 0.0883\n",
            "Final Train Epoch 6, Graph 23500/50382, Loss: 0.0625\n",
            "Final Train Epoch 6, Graph 24000/50382, Loss: 0.4823\n",
            "Final Train Epoch 6, Graph 24500/50382, Loss: 3.6223\n",
            "Final Train Epoch 6, Graph 25000/50382, Loss: 1.8063\n",
            "Final Train Epoch 6, Graph 25500/50382, Loss: 0.0353\n",
            "Final Train Epoch 6, Graph 26000/50382, Loss: 1.2628\n",
            "Final Train Epoch 6, Graph 26500/50382, Loss: 0.5755\n",
            "Final Train Epoch 6, Graph 27000/50382, Loss: 0.0645\n",
            "Final Train Epoch 6, Graph 27500/50382, Loss: 0.0782\n",
            "Final Train Epoch 6, Graph 28000/50382, Loss: 0.0525\n",
            "Final Train Epoch 6, Graph 28500/50382, Loss: 3.7300\n",
            "Final Train Epoch 6, Graph 29000/50382, Loss: 0.0405\n",
            "Final Train Epoch 6, Graph 29500/50382, Loss: 0.0557\n",
            "Final Train Epoch 6, Graph 30000/50382, Loss: 0.0614\n",
            "Final Train Epoch 6, Graph 30500/50382, Loss: 0.0619\n",
            "Final Train Epoch 6, Graph 31000/50382, Loss: 4.2850\n",
            "Final Train Epoch 6, Graph 31500/50382, Loss: 0.0526\n",
            "Final Train Epoch 6, Graph 32000/50382, Loss: 0.0465\n",
            "Final Train Epoch 6, Graph 32500/50382, Loss: 0.0426\n",
            "Final Train Epoch 6, Graph 33000/50382, Loss: 2.1784\n",
            "Final Train Epoch 6, Graph 33500/50382, Loss: 1.2853\n",
            "Final Train Epoch 6, Graph 34000/50382, Loss: 0.1333\n",
            "Final Train Epoch 6, Graph 34500/50382, Loss: 0.0461\n",
            "Final Train Epoch 6, Graph 35000/50382, Loss: 3.9088\n",
            "Final Train Epoch 6, Graph 35500/50382, Loss: 4.9926\n",
            "Final Train Epoch 6, Graph 36000/50382, Loss: 4.1489\n",
            "Final Train Epoch 6, Graph 36500/50382, Loss: 0.0695\n",
            "Final Train Epoch 6, Graph 37000/50382, Loss: 0.0829\n",
            "Final Train Epoch 6, Graph 37500/50382, Loss: 0.0613\n",
            "Final Train Epoch 6, Graph 38000/50382, Loss: 0.0596\n",
            "Final Train Epoch 6, Graph 38500/50382, Loss: 1.1273\n",
            "Final Train Epoch 6, Graph 39000/50382, Loss: 0.0757\n",
            "Final Train Epoch 6, Graph 39500/50382, Loss: 4.5150\n",
            "Final Train Epoch 6, Graph 40000/50382, Loss: 0.0544\n",
            "Final Train Epoch 6, Graph 40500/50382, Loss: 0.0575\n",
            "Final Train Epoch 6, Graph 41000/50382, Loss: 2.1281\n",
            "Final Train Epoch 6, Graph 41500/50382, Loss: 0.1058\n",
            "Final Train Epoch 6, Graph 42000/50382, Loss: 0.0651\n",
            "Final Train Epoch 6, Graph 42500/50382, Loss: 1.5854\n",
            "Final Train Epoch 6, Graph 43000/50382, Loss: 0.5312\n",
            "Final Train Epoch 6, Graph 43500/50382, Loss: 0.2578\n",
            "Final Train Epoch 6, Graph 44000/50382, Loss: 0.0602\n",
            "Final Train Epoch 6, Graph 44500/50382, Loss: 1.4436\n",
            "Final Train Epoch 6, Graph 45000/50382, Loss: 1.6297\n",
            "Final Train Epoch 6, Graph 45500/50382, Loss: 3.5619\n",
            "Final Train Epoch 6, Graph 46000/50382, Loss: 0.4269\n",
            "Final Train Epoch 6, Graph 46500/50382, Loss: 0.0641\n",
            "Final Train Epoch 6, Graph 47000/50382, Loss: 0.0653\n",
            "Final Train Epoch 6, Graph 47500/50382, Loss: 0.0547\n",
            "Final Train Epoch 6, Graph 48000/50382, Loss: 0.0458\n",
            "Final Train Epoch 6, Graph 48500/50382, Loss: 1.5173\n",
            "Final Train Epoch 6, Graph 49000/50382, Loss: 0.0614\n",
            "Final Train Epoch 6, Graph 49500/50382, Loss: 5.1906\n",
            "Final Train Epoch 6, Graph 50000/50382, Loss: 0.9024\n",
            "Skipped 0 out of 50382 graphs during training.\n",
            "Epoch 6/200, Training Loss: 1.6322, Validation Accuracy: 0.4763\n",
            "Final Train Epoch 7, Graph 500/50382, Loss: 0.4510\n",
            "Final Train Epoch 7, Graph 1000/50382, Loss: 1.4748\n",
            "Final Train Epoch 7, Graph 1500/50382, Loss: 3.8395\n",
            "Final Train Epoch 7, Graph 2000/50382, Loss: 0.7199\n",
            "Final Train Epoch 7, Graph 2500/50382, Loss: 0.9258\n",
            "Final Train Epoch 7, Graph 3000/50382, Loss: 1.7642\n",
            "Final Train Epoch 7, Graph 3500/50382, Loss: 2.3488\n",
            "Final Train Epoch 7, Graph 4000/50382, Loss: 4.2207\n",
            "Final Train Epoch 7, Graph 4500/50382, Loss: 0.1614\n",
            "Final Train Epoch 7, Graph 5000/50382, Loss: 0.0562\n",
            "Final Train Epoch 7, Graph 5500/50382, Loss: 0.0453\n",
            "Final Train Epoch 7, Graph 6000/50382, Loss: 1.8826\n",
            "Final Train Epoch 7, Graph 6500/50382, Loss: 0.0633\n",
            "Final Train Epoch 7, Graph 7000/50382, Loss: 4.6703\n",
            "Final Train Epoch 7, Graph 7500/50382, Loss: 1.8855\n",
            "Final Train Epoch 7, Graph 8000/50382, Loss: 1.2472\n",
            "Final Train Epoch 7, Graph 8500/50382, Loss: 0.0420\n",
            "Final Train Epoch 7, Graph 9000/50382, Loss: 0.0474\n",
            "Final Train Epoch 7, Graph 9500/50382, Loss: 0.4136\n",
            "Final Train Epoch 7, Graph 10000/50382, Loss: 0.0446\n",
            "Final Train Epoch 7, Graph 10500/50382, Loss: 1.6257\n",
            "Final Train Epoch 7, Graph 11000/50382, Loss: 0.0529\n",
            "Final Train Epoch 7, Graph 11500/50382, Loss: 4.4131\n",
            "Final Train Epoch 7, Graph 12000/50382, Loss: 3.2860\n",
            "Final Train Epoch 7, Graph 12500/50382, Loss: 3.0222\n",
            "Final Train Epoch 7, Graph 13000/50382, Loss: 0.0525\n",
            "Final Train Epoch 7, Graph 13500/50382, Loss: 2.6285\n",
            "Final Train Epoch 7, Graph 14000/50382, Loss: 3.0204\n",
            "Final Train Epoch 7, Graph 14500/50382, Loss: 0.0526\n",
            "Final Train Epoch 7, Graph 15000/50382, Loss: 0.5628\n",
            "Final Train Epoch 7, Graph 15500/50382, Loss: 3.8037\n",
            "Final Train Epoch 7, Graph 16000/50382, Loss: 0.0553\n",
            "Final Train Epoch 7, Graph 16500/50382, Loss: 0.5982\n",
            "Final Train Epoch 7, Graph 17000/50382, Loss: 5.5075\n",
            "Final Train Epoch 7, Graph 17500/50382, Loss: 4.2086\n",
            "Final Train Epoch 7, Graph 18000/50382, Loss: 0.9606\n",
            "Final Train Epoch 7, Graph 18500/50382, Loss: 0.2709\n",
            "Final Train Epoch 7, Graph 19000/50382, Loss: 0.0653\n",
            "Final Train Epoch 7, Graph 19500/50382, Loss: 0.0600\n",
            "Final Train Epoch 7, Graph 20000/50382, Loss: 0.0556\n",
            "Final Train Epoch 7, Graph 20500/50382, Loss: 4.3141\n",
            "Final Train Epoch 7, Graph 21000/50382, Loss: 1.5514\n",
            "Final Train Epoch 7, Graph 21500/50382, Loss: 4.5020\n",
            "Final Train Epoch 7, Graph 22000/50382, Loss: 0.3112\n",
            "Final Train Epoch 7, Graph 22500/50382, Loss: 2.2138\n",
            "Final Train Epoch 7, Graph 23000/50382, Loss: 0.0467\n",
            "Final Train Epoch 7, Graph 23500/50382, Loss: 0.0576\n",
            "Final Train Epoch 7, Graph 24000/50382, Loss: 0.3563\n",
            "Final Train Epoch 7, Graph 24500/50382, Loss: 4.1954\n",
            "Final Train Epoch 7, Graph 25000/50382, Loss: 2.0719\n",
            "Final Train Epoch 7, Graph 25500/50382, Loss: 0.0513\n",
            "Final Train Epoch 7, Graph 26000/50382, Loss: 1.1634\n",
            "Final Train Epoch 7, Graph 26500/50382, Loss: 0.0698\n",
            "Final Train Epoch 7, Graph 27000/50382, Loss: 0.0632\n",
            "Final Train Epoch 7, Graph 27500/50382, Loss: 0.0498\n",
            "Final Train Epoch 7, Graph 28000/50382, Loss: 0.0657\n",
            "Final Train Epoch 7, Graph 28500/50382, Loss: 4.6627\n",
            "Final Train Epoch 7, Graph 29000/50382, Loss: 0.2314\n",
            "Final Train Epoch 7, Graph 29500/50382, Loss: 0.0635\n",
            "Final Train Epoch 7, Graph 30000/50382, Loss: 0.0460\n",
            "Final Train Epoch 7, Graph 30500/50382, Loss: 0.0834\n",
            "Final Train Epoch 7, Graph 31000/50382, Loss: 3.7132\n",
            "Final Train Epoch 7, Graph 31500/50382, Loss: 0.0409\n",
            "Final Train Epoch 7, Graph 32000/50382, Loss: 0.0528\n",
            "Final Train Epoch 7, Graph 32500/50382, Loss: 0.0432\n",
            "Final Train Epoch 7, Graph 33000/50382, Loss: 1.4250\n",
            "Final Train Epoch 7, Graph 33500/50382, Loss: 1.4006\n",
            "Final Train Epoch 7, Graph 34000/50382, Loss: 0.6154\n",
            "Final Train Epoch 7, Graph 34500/50382, Loss: 0.0590\n",
            "Final Train Epoch 7, Graph 35000/50382, Loss: 2.0625\n",
            "Final Train Epoch 7, Graph 35500/50382, Loss: 5.1266\n",
            "Final Train Epoch 7, Graph 36000/50382, Loss: 4.6171\n",
            "Final Train Epoch 7, Graph 36500/50382, Loss: 0.0433\n",
            "Final Train Epoch 7, Graph 37000/50382, Loss: 0.0637\n",
            "Final Train Epoch 7, Graph 37500/50382, Loss: 0.0627\n",
            "Final Train Epoch 7, Graph 38000/50382, Loss: 0.0491\n",
            "Final Train Epoch 7, Graph 38500/50382, Loss: 1.9818\n",
            "Final Train Epoch 7, Graph 39000/50382, Loss: 0.0418\n",
            "Final Train Epoch 7, Graph 39500/50382, Loss: 4.5532\n",
            "Final Train Epoch 7, Graph 40000/50382, Loss: 0.2604\n",
            "Final Train Epoch 7, Graph 40500/50382, Loss: 0.0779\n",
            "Final Train Epoch 7, Graph 41000/50382, Loss: 2.9810\n",
            "Final Train Epoch 7, Graph 41500/50382, Loss: 0.1050\n",
            "Final Train Epoch 7, Graph 42000/50382, Loss: 0.0633\n",
            "Final Train Epoch 7, Graph 42500/50382, Loss: 1.7922\n",
            "Final Train Epoch 7, Graph 43000/50382, Loss: 1.1505\n",
            "Final Train Epoch 7, Graph 43500/50382, Loss: 0.2850\n",
            "Final Train Epoch 7, Graph 44000/50382, Loss: 0.0506\n",
            "Final Train Epoch 7, Graph 44500/50382, Loss: 1.3262\n",
            "Final Train Epoch 7, Graph 45000/50382, Loss: 1.2547\n",
            "Final Train Epoch 7, Graph 45500/50382, Loss: 4.1366\n",
            "Final Train Epoch 7, Graph 46000/50382, Loss: 0.2954\n",
            "Final Train Epoch 7, Graph 46500/50382, Loss: 0.0579\n",
            "Final Train Epoch 7, Graph 47000/50382, Loss: 0.0934\n",
            "Final Train Epoch 7, Graph 47500/50382, Loss: 0.0655\n",
            "Final Train Epoch 7, Graph 48000/50382, Loss: 0.0536\n",
            "Final Train Epoch 7, Graph 48500/50382, Loss: 0.4355\n",
            "Final Train Epoch 7, Graph 49000/50382, Loss: 0.0627\n",
            "Final Train Epoch 7, Graph 49500/50382, Loss: 5.5712\n",
            "Final Train Epoch 7, Graph 50000/50382, Loss: 0.0525\n",
            "Skipped 0 out of 50382 graphs during training.\n",
            "Epoch 7/200, Training Loss: 1.6326, Validation Accuracy: 0.4758\n",
            "Final Train Epoch 8, Graph 500/50382, Loss: 0.3639\n",
            "Final Train Epoch 8, Graph 1000/50382, Loss: 2.8084\n",
            "Final Train Epoch 8, Graph 1500/50382, Loss: 2.5177\n",
            "Final Train Epoch 8, Graph 2000/50382, Loss: 0.6110\n",
            "Final Train Epoch 8, Graph 2500/50382, Loss: 1.2381\n",
            "Final Train Epoch 8, Graph 3000/50382, Loss: 0.8168\n",
            "Final Train Epoch 8, Graph 3500/50382, Loss: 2.8372\n",
            "Final Train Epoch 8, Graph 4000/50382, Loss: 2.8491\n",
            "Final Train Epoch 8, Graph 4500/50382, Loss: 0.1305\n",
            "Final Train Epoch 8, Graph 5000/50382, Loss: 0.0476\n",
            "Final Train Epoch 8, Graph 5500/50382, Loss: 0.0398\n",
            "Final Train Epoch 8, Graph 6000/50382, Loss: 3.5741\n",
            "Final Train Epoch 8, Graph 6500/50382, Loss: 0.0615\n",
            "Final Train Epoch 8, Graph 7000/50382, Loss: 3.7566\n",
            "Final Train Epoch 8, Graph 7500/50382, Loss: 1.9171\n"
          ]
        },
        {
          "output_type": "error",
          "ename": "KeyboardInterrupt",
          "evalue": "",
          "traceback": [
            "\u001b[0;31m---------------------------------------------------------------------------\u001b[0m",
            "\u001b[0;31mKeyboardInterrupt\u001b[0m                         Traceback (most recent call last)",
            "\u001b[0;32m<ipython-input-20-2db4969f13ac>\u001b[0m in \u001b[0;36m<cell line: 0>\u001b[0;34m()\u001b[0m\n\u001b[1;32m    328\u001b[0m \u001b[0;34m\u001b[0m\u001b[0m\n\u001b[1;32m    329\u001b[0m \u001b[0;32mfor\u001b[0m \u001b[0mepoch\u001b[0m \u001b[0;32min\u001b[0m \u001b[0mrange\u001b[0m\u001b[0;34m(\u001b[0m\u001b[0mnum_epochs\u001b[0m\u001b[0;34m)\u001b[0m\u001b[0;34m:\u001b[0m\u001b[0;34m\u001b[0m\u001b[0;34m\u001b[0m\u001b[0m\n\u001b[0;32m--> 330\u001b[0;31m     \u001b[0mtrain_loss\u001b[0m \u001b[0;34m=\u001b[0m \u001b[0mtrain_epoch\u001b[0m\u001b[0;34m(\u001b[0m\u001b[0mtrain_graphs\u001b[0m\u001b[0;34m,\u001b[0m \u001b[0mtrain_labels\u001b[0m\u001b[0;34m,\u001b[0m \u001b[0mepoch\u001b[0m\u001b[0;34m)\u001b[0m\u001b[0;34m\u001b[0m\u001b[0;34m\u001b[0m\u001b[0m\n\u001b[0m\u001b[1;32m    331\u001b[0m     \u001b[0mval_accuracy\u001b[0m \u001b[0;34m=\u001b[0m \u001b[0mvalidate\u001b[0m\u001b[0;34m(\u001b[0m\u001b[0mval_graphs\u001b[0m\u001b[0;34m,\u001b[0m \u001b[0mval_labels\u001b[0m\u001b[0;34m)\u001b[0m\u001b[0;34m\u001b[0m\u001b[0;34m\u001b[0m\u001b[0m\n\u001b[1;32m    332\u001b[0m \u001b[0;34m\u001b[0m\u001b[0m\n",
            "\u001b[0;32m<ipython-input-20-2db4969f13ac>\u001b[0m in \u001b[0;36mtrain_epoch\u001b[0;34m(graphs, labels, epoch)\u001b[0m\n\u001b[1;32m    279\u001b[0m         \u001b[0mloss\u001b[0m\u001b[0;34m.\u001b[0m\u001b[0mbackward\u001b[0m\u001b[0;34m(\u001b[0m\u001b[0;34m)\u001b[0m\u001b[0;34m\u001b[0m\u001b[0;34m\u001b[0m\u001b[0m\n\u001b[1;32m    280\u001b[0m         \u001b[0mtorch\u001b[0m\u001b[0;34m.\u001b[0m\u001b[0mnn\u001b[0m\u001b[0;34m.\u001b[0m\u001b[0mutils\u001b[0m\u001b[0;34m.\u001b[0m\u001b[0mclip_grad_norm_\u001b[0m\u001b[0;34m(\u001b[0m\u001b[0mmodel_task\u001b[0m\u001b[0;34m.\u001b[0m\u001b[0mparameters\u001b[0m\u001b[0;34m(\u001b[0m\u001b[0;34m)\u001b[0m\u001b[0;34m,\u001b[0m \u001b[0mmax_norm\u001b[0m\u001b[0;34m=\u001b[0m\u001b[0;36m1.0\u001b[0m\u001b[0;34m)\u001b[0m\u001b[0;34m\u001b[0m\u001b[0;34m\u001b[0m\u001b[0m\n\u001b[0;32m--> 281\u001b[0;31m         \u001b[0moptimizer_final\u001b[0m\u001b[0;34m.\u001b[0m\u001b[0mstep\u001b[0m\u001b[0;34m(\u001b[0m\u001b[0;34m)\u001b[0m\u001b[0;34m\u001b[0m\u001b[0;34m\u001b[0m\u001b[0m\n\u001b[0m\u001b[1;32m    282\u001b[0m         \u001b[0mtotal_loss\u001b[0m \u001b[0;34m+=\u001b[0m \u001b[0mloss\u001b[0m\u001b[0;34m.\u001b[0m\u001b[0mitem\u001b[0m\u001b[0;34m(\u001b[0m\u001b[0;34m)\u001b[0m\u001b[0;34m\u001b[0m\u001b[0;34m\u001b[0m\u001b[0m\n\u001b[1;32m    283\u001b[0m         \u001b[0mvalid_graphs\u001b[0m \u001b[0;34m+=\u001b[0m \u001b[0;36m1\u001b[0m\u001b[0;34m\u001b[0m\u001b[0;34m\u001b[0m\u001b[0m\n",
            "\u001b[0;32m/usr/local/lib/python3.11/dist-packages/torch/optim/optimizer.py\u001b[0m in \u001b[0;36mwrapper\u001b[0;34m(*args, **kwargs)\u001b[0m\n\u001b[1;32m    491\u001b[0m                             )\n\u001b[1;32m    492\u001b[0m \u001b[0;34m\u001b[0m\u001b[0m\n\u001b[0;32m--> 493\u001b[0;31m                 \u001b[0mout\u001b[0m \u001b[0;34m=\u001b[0m \u001b[0mfunc\u001b[0m\u001b[0;34m(\u001b[0m\u001b[0;34m*\u001b[0m\u001b[0margs\u001b[0m\u001b[0;34m,\u001b[0m \u001b[0;34m**\u001b[0m\u001b[0mkwargs\u001b[0m\u001b[0;34m)\u001b[0m\u001b[0;34m\u001b[0m\u001b[0;34m\u001b[0m\u001b[0m\n\u001b[0m\u001b[1;32m    494\u001b[0m                 \u001b[0mself\u001b[0m\u001b[0;34m.\u001b[0m\u001b[0m_optimizer_step_code\u001b[0m\u001b[0;34m(\u001b[0m\u001b[0;34m)\u001b[0m\u001b[0;34m\u001b[0m\u001b[0;34m\u001b[0m\u001b[0m\n\u001b[1;32m    495\u001b[0m \u001b[0;34m\u001b[0m\u001b[0m\n",
            "\u001b[0;32m/usr/local/lib/python3.11/dist-packages/torch/optim/optimizer.py\u001b[0m in \u001b[0;36m_use_grad\u001b[0;34m(self, *args, **kwargs)\u001b[0m\n\u001b[1;32m     89\u001b[0m             \u001b[0mtorch\u001b[0m\u001b[0;34m.\u001b[0m\u001b[0mset_grad_enabled\u001b[0m\u001b[0;34m(\u001b[0m\u001b[0mself\u001b[0m\u001b[0;34m.\u001b[0m\u001b[0mdefaults\u001b[0m\u001b[0;34m[\u001b[0m\u001b[0;34m\"differentiable\"\u001b[0m\u001b[0;34m]\u001b[0m\u001b[0;34m)\u001b[0m\u001b[0;34m\u001b[0m\u001b[0;34m\u001b[0m\u001b[0m\n\u001b[1;32m     90\u001b[0m             \u001b[0mtorch\u001b[0m\u001b[0;34m.\u001b[0m\u001b[0m_dynamo\u001b[0m\u001b[0;34m.\u001b[0m\u001b[0mgraph_break\u001b[0m\u001b[0;34m(\u001b[0m\u001b[0;34m)\u001b[0m\u001b[0;34m\u001b[0m\u001b[0;34m\u001b[0m\u001b[0m\n\u001b[0;32m---> 91\u001b[0;31m             \u001b[0mret\u001b[0m \u001b[0;34m=\u001b[0m \u001b[0mfunc\u001b[0m\u001b[0;34m(\u001b[0m\u001b[0mself\u001b[0m\u001b[0;34m,\u001b[0m \u001b[0;34m*\u001b[0m\u001b[0margs\u001b[0m\u001b[0;34m,\u001b[0m \u001b[0;34m**\u001b[0m\u001b[0mkwargs\u001b[0m\u001b[0;34m)\u001b[0m\u001b[0;34m\u001b[0m\u001b[0;34m\u001b[0m\u001b[0m\n\u001b[0m\u001b[1;32m     92\u001b[0m         \u001b[0;32mfinally\u001b[0m\u001b[0;34m:\u001b[0m\u001b[0;34m\u001b[0m\u001b[0;34m\u001b[0m\u001b[0m\n\u001b[1;32m     93\u001b[0m             \u001b[0mtorch\u001b[0m\u001b[0;34m.\u001b[0m\u001b[0m_dynamo\u001b[0m\u001b[0;34m.\u001b[0m\u001b[0mgraph_break\u001b[0m\u001b[0;34m(\u001b[0m\u001b[0;34m)\u001b[0m\u001b[0;34m\u001b[0m\u001b[0;34m\u001b[0m\u001b[0m\n",
            "\u001b[0;32m/usr/local/lib/python3.11/dist-packages/torch/optim/adamw.py\u001b[0m in \u001b[0;36mstep\u001b[0;34m(self, closure)\u001b[0m\n\u001b[1;32m    213\u001b[0m                 \u001b[0;32mand\u001b[0m \u001b[0mreturns\u001b[0m \u001b[0mthe\u001b[0m \u001b[0mloss\u001b[0m\u001b[0;34m.\u001b[0m\u001b[0;34m\u001b[0m\u001b[0;34m\u001b[0m\u001b[0m\n\u001b[1;32m    214\u001b[0m         \"\"\"\n\u001b[0;32m--> 215\u001b[0;31m         \u001b[0mself\u001b[0m\u001b[0;34m.\u001b[0m\u001b[0m_cuda_graph_capture_health_check\u001b[0m\u001b[0;34m(\u001b[0m\u001b[0;34m)\u001b[0m\u001b[0;34m\u001b[0m\u001b[0;34m\u001b[0m\u001b[0m\n\u001b[0m\u001b[1;32m    216\u001b[0m \u001b[0;34m\u001b[0m\u001b[0m\n\u001b[1;32m    217\u001b[0m         \u001b[0mloss\u001b[0m \u001b[0;34m=\u001b[0m \u001b[0;32mNone\u001b[0m\u001b[0;34m\u001b[0m\u001b[0;34m\u001b[0m\u001b[0m\n",
            "\u001b[0;32m/usr/local/lib/python3.11/dist-packages/torch/optim/optimizer.py\u001b[0m in \u001b[0;36m_cuda_graph_capture_health_check\u001b[0;34m(self)\u001b[0m\n\u001b[1;32m    432\u001b[0m             \u001b[0;32mnot\u001b[0m \u001b[0mtorch\u001b[0m\u001b[0;34m.\u001b[0m\u001b[0mcompiler\u001b[0m\u001b[0;34m.\u001b[0m\u001b[0mis_compiling\u001b[0m\u001b[0;34m(\u001b[0m\u001b[0;34m)\u001b[0m\u001b[0;34m\u001b[0m\u001b[0;34m\u001b[0m\u001b[0m\n\u001b[1;32m    433\u001b[0m             \u001b[0;32mand\u001b[0m \u001b[0mtorch\u001b[0m\u001b[0;34m.\u001b[0m\u001b[0mbackends\u001b[0m\u001b[0;34m.\u001b[0m\u001b[0mcuda\u001b[0m\u001b[0;34m.\u001b[0m\u001b[0mis_built\u001b[0m\u001b[0;34m(\u001b[0m\u001b[0;34m)\u001b[0m\u001b[0;34m\u001b[0m\u001b[0;34m\u001b[0m\u001b[0m\n\u001b[0;32m--> 434\u001b[0;31m             \u001b[0;32mand\u001b[0m \u001b[0mtorch\u001b[0m\u001b[0;34m.\u001b[0m\u001b[0mcuda\u001b[0m\u001b[0;34m.\u001b[0m\u001b[0mis_available\u001b[0m\u001b[0;34m(\u001b[0m\u001b[0;34m)\u001b[0m\u001b[0;34m\u001b[0m\u001b[0;34m\u001b[0m\u001b[0m\n\u001b[0m\u001b[1;32m    435\u001b[0m         ):\n\u001b[1;32m    436\u001b[0m             \u001b[0mcapturing\u001b[0m \u001b[0;34m=\u001b[0m \u001b[0mtorch\u001b[0m\u001b[0;34m.\u001b[0m\u001b[0mcuda\u001b[0m\u001b[0;34m.\u001b[0m\u001b[0mis_current_stream_capturing\u001b[0m\u001b[0;34m(\u001b[0m\u001b[0;34m)\u001b[0m\u001b[0;34m\u001b[0m\u001b[0;34m\u001b[0m\u001b[0m\n",
            "\u001b[0;32m/usr/local/lib/python3.11/dist-packages/torch/cuda/__init__.py\u001b[0m in \u001b[0;36mis_available\u001b[0;34m()\u001b[0m\n\u001b[1;32m    118\u001b[0m     \u001b[0;32mif\u001b[0m \u001b[0;32mnot\u001b[0m \u001b[0m_is_compiled\u001b[0m\u001b[0;34m(\u001b[0m\u001b[0;34m)\u001b[0m\u001b[0;34m:\u001b[0m\u001b[0;34m\u001b[0m\u001b[0;34m\u001b[0m\u001b[0m\n\u001b[1;32m    119\u001b[0m         \u001b[0;32mreturn\u001b[0m \u001b[0;32mFalse\u001b[0m\u001b[0;34m\u001b[0m\u001b[0;34m\u001b[0m\u001b[0m\n\u001b[0;32m--> 120\u001b[0;31m     \u001b[0;32mif\u001b[0m \u001b[0m_nvml_based_avail\u001b[0m\u001b[0;34m(\u001b[0m\u001b[0;34m)\u001b[0m\u001b[0;34m:\u001b[0m\u001b[0;34m\u001b[0m\u001b[0;34m\u001b[0m\u001b[0m\n\u001b[0m\u001b[1;32m    121\u001b[0m         \u001b[0;31m# The user has set an env variable to request this availability check that attempts to avoid fork poisoning by\u001b[0m\u001b[0;34m\u001b[0m\u001b[0;34m\u001b[0m\u001b[0m\n\u001b[1;32m    122\u001b[0m         \u001b[0;31m# using NVML at the cost of a weaker CUDA availability assessment. Note that if NVML discovery/initialization\u001b[0m\u001b[0;34m\u001b[0m\u001b[0;34m\u001b[0m\u001b[0m\n",
            "\u001b[0;32m/usr/local/lib/python3.11/dist-packages/torch/cuda/__init__.py\u001b[0m in \u001b[0;36m_nvml_based_avail\u001b[0;34m()\u001b[0m\n\u001b[1;32m    111\u001b[0m \u001b[0;34m\u001b[0m\u001b[0m\n\u001b[1;32m    112\u001b[0m \u001b[0;32mdef\u001b[0m \u001b[0m_nvml_based_avail\u001b[0m\u001b[0;34m(\u001b[0m\u001b[0;34m)\u001b[0m \u001b[0;34m->\u001b[0m \u001b[0mbool\u001b[0m\u001b[0;34m:\u001b[0m\u001b[0;34m\u001b[0m\u001b[0;34m\u001b[0m\u001b[0m\n\u001b[0;32m--> 113\u001b[0;31m     \u001b[0;32mreturn\u001b[0m \u001b[0mos\u001b[0m\u001b[0;34m.\u001b[0m\u001b[0mgetenv\u001b[0m\u001b[0;34m(\u001b[0m\u001b[0;34m\"PYTORCH_NVML_BASED_CUDA_CHECK\"\u001b[0m\u001b[0;34m)\u001b[0m \u001b[0;34m==\u001b[0m \u001b[0;34m\"1\"\u001b[0m\u001b[0;34m\u001b[0m\u001b[0;34m\u001b[0m\u001b[0m\n\u001b[0m\u001b[1;32m    114\u001b[0m \u001b[0;34m\u001b[0m\u001b[0m\n\u001b[1;32m    115\u001b[0m \u001b[0;34m\u001b[0m\u001b[0m\n",
            "\u001b[0;32m/usr/lib/python3.11/os.py\u001b[0m in \u001b[0;36mgetenv\u001b[0;34m(key, default)\u001b[0m\n",
            "\u001b[0;31mKeyboardInterrupt\u001b[0m: "
          ]
        }
      ]
    }
  ],
  "metadata": {
    "colab": {
      "provenance": [],
      "authorship_tag": "ABX9TyMoWYqq/4ZZ/y5iPkl/ROGt",
      "include_colab_link": true
    },
    "kernelspec": {
      "display_name": "Python 3",
      "name": "python3"
    },
    "language_info": {
      "name": "python"
    }
  },
  "nbformat": 4,
  "nbformat_minor": 0
}